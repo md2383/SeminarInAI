{
  "cells": [
    {
      "cell_type": "markdown",
      "metadata": {
        "id": "VbCB4Dck226w"
      },
      "source": [
        "## Practice 1: Fun with Word Embeddings (2 points)\n",
        "\n",
        "Today we gonna play with word embeddings: train our own little embeddings, load one from gensim model zoo and use it to visualize text corpora.\n",
        "\n",
        "This whole thing is gonna happen on top of embedding dataset.\n",
        "\n",
        "__Requirements:__  `pip install --upgrade nltk gensim bokeh` , but only if you're running locally."
      ]
    },
    {
      "cell_type": "code",
      "execution_count": 1,
      "metadata": {
        "collapsed": true,
        "id": "xz-wBGtI226x",
        "outputId": "257e6bb2-3c39-4413-abcd-ba1799683ee3",
        "colab": {
          "base_uri": "https://localhost:8080/"
        }
      },
      "outputs": [
        {
          "output_type": "stream",
          "name": "stdout",
          "text": [
            "--2025-01-27 01:42:17--  https://www.dropbox.com/s/obaitrix9jyu84r/quora.txt?dl=1\n",
            "Resolving www.dropbox.com (www.dropbox.com)... 162.125.65.18, 2620:100:6022:18::a27d:4212\n",
            "Connecting to www.dropbox.com (www.dropbox.com)|162.125.65.18|:443... connected.\n",
            "HTTP request sent, awaiting response... 302 Found\n",
            "Location: https://www.dropbox.com/scl/fi/p0t2dw6oqs6oxpd6zz534/quora.txt?rlkey=bjupppwua4zmd4elz8octecy9&dl=1 [following]\n",
            "--2025-01-27 01:42:17--  https://www.dropbox.com/scl/fi/p0t2dw6oqs6oxpd6zz534/quora.txt?rlkey=bjupppwua4zmd4elz8octecy9&dl=1\n",
            "Reusing existing connection to www.dropbox.com:443.\n",
            "HTTP request sent, awaiting response... 302 Found\n",
            "Location: https://uc9a208147f46d2e86bb5f241c88.dl.dropboxusercontent.com/cd/0/inline/Ci9szSOCc5WwXEfl1plSH5q8147vOMn5K5UyxkmpIZjnPoFzUaS_Q0swAg3iWm9cy08z5Mvx-UYdXr6-ydzQ-EbMXu887vHr7fLVoeSFXfElVf1VAuXEEA9S4Vz7HuSTaIc/file?dl=1# [following]\n",
            "--2025-01-27 01:42:18--  https://uc9a208147f46d2e86bb5f241c88.dl.dropboxusercontent.com/cd/0/inline/Ci9szSOCc5WwXEfl1plSH5q8147vOMn5K5UyxkmpIZjnPoFzUaS_Q0swAg3iWm9cy08z5Mvx-UYdXr6-ydzQ-EbMXu887vHr7fLVoeSFXfElVf1VAuXEEA9S4Vz7HuSTaIc/file?dl=1\n",
            "Resolving uc9a208147f46d2e86bb5f241c88.dl.dropboxusercontent.com (uc9a208147f46d2e86bb5f241c88.dl.dropboxusercontent.com)... 162.125.65.15, 2620:100:6022:15::a27d:420f\n",
            "Connecting to uc9a208147f46d2e86bb5f241c88.dl.dropboxusercontent.com (uc9a208147f46d2e86bb5f241c88.dl.dropboxusercontent.com)|162.125.65.15|:443... connected.\n",
            "HTTP request sent, awaiting response... 200 OK\n",
            "Length: 33813903 (32M) [application/binary]\n",
            "Saving to: ‘./quora.txt’\n",
            "\n",
            "./quora.txt         100%[===================>]  32.25M  37.7MB/s    in 0.9s    \n",
            "\n",
            "2025-01-27 01:42:19 (37.7 MB/s) - ‘./quora.txt’ saved [33813903/33813903]\n",
            "\n"
          ]
        }
      ],
      "source": [
        "# download the data:\n",
        "!wget https://www.dropbox.com/s/obaitrix9jyu84r/quora.txt?dl=1 -O ./quora.txt\n",
        "# alternative download link: https://yadi.sk/i/BPQrUu1NaTduEw"
      ]
    },
    {
      "cell_type": "code",
      "execution_count": 2,
      "metadata": {
        "scrolled": false,
        "id": "_cSxVOdg226y",
        "outputId": "d987f07a-4609-4ccd-a6a4-d248693cb3e9",
        "colab": {
          "base_uri": "https://localhost:8080/",
          "height": 35
        }
      },
      "outputs": [
        {
          "output_type": "execute_result",
          "data": {
            "text/plain": [
              "\"What TV shows or books help you read people's body language?\\n\""
            ],
            "application/vnd.google.colaboratory.intrinsic+json": {
              "type": "string"
            }
          },
          "metadata": {},
          "execution_count": 2
        }
      ],
      "source": [
        "import numpy as np\n",
        "\n",
        "with open(\"./quora.txt\", encoding=\"utf-8\") as file:\n",
        "    data = list(file)\n",
        "\n",
        "data[50]"
      ]
    },
    {
      "cell_type": "markdown",
      "metadata": {
        "id": "Y_6I_Krl226y"
      },
      "source": [
        "__Tokenization:__ a typical first step for an NLP task is to split raw data into words.\n",
        "The text we're working with has punctuation and emoticons attached to some words, so a simple str.split won't work.\n",
        "\n",
        "Let's use __`nltk`__ - a library that handles many NLP tasks like tokenization, stemming or part-of-speech tagging."
      ]
    },
    {
      "cell_type": "code",
      "execution_count": 3,
      "metadata": {
        "id": "qyNJ2gZs226y",
        "outputId": "7a1bdb74-0501-410c-dc13-350acd61ab33",
        "colab": {
          "base_uri": "https://localhost:8080/"
        }
      },
      "outputs": [
        {
          "output_type": "stream",
          "name": "stdout",
          "text": [
            "['What', 'TV', 'shows', 'or', 'books', 'help', 'you', 'read', 'people', \"'\", 's', 'body', 'language', '?']\n"
          ]
        }
      ],
      "source": [
        "from nltk.tokenize import WordPunctTokenizer\n",
        "tokenizer = WordPunctTokenizer()\n",
        "\n",
        "print(tokenizer.tokenize(data[50]))"
      ]
    },
    {
      "cell_type": "code",
      "execution_count": 4,
      "metadata": {
        "collapsed": true,
        "id": "YzTsS2Yy226z"
      },
      "outputs": [],
      "source": [
        "# TASK: lowercase everything and extract tokens with tokenizer.\n",
        "# data_tok should be a list of lists of tokens for each line in data.\n",
        "\n",
        "data_tok = [tokenizer.tokenize(x.lower()) for x in data]"
      ]
    },
    {
      "cell_type": "code",
      "execution_count": 5,
      "metadata": {
        "collapsed": true,
        "id": "iveYXKIW226z"
      },
      "outputs": [],
      "source": [
        "assert all(isinstance(row, (list, tuple)) for row in data_tok), \"please convert each line into a list of tokens (strings)\"\n",
        "assert all(all(isinstance(tok, str) for tok in row) for row in data_tok), \"please convert each line into a list of tokens (strings)\"\n",
        "is_latin = lambda tok: all('a' <= x.lower() <= 'z' for x in tok)\n",
        "assert all(map(lambda l: not is_latin(l) or l.islower(), map(' '.join, data_tok))), \"please make sure to lowercase the data\""
      ]
    },
    {
      "cell_type": "code",
      "execution_count": 6,
      "metadata": {
        "id": "SewqnoBd226z",
        "outputId": "55d022f2-029f-40bc-bb62-1ae8b27a2490",
        "colab": {
          "base_uri": "https://localhost:8080/"
        }
      },
      "outputs": [
        {
          "output_type": "stream",
          "name": "stdout",
          "text": [
            "[\"can i get back with my ex even though she is pregnant with another guy ' s baby ?\", 'what are some ways to overcome a fast food addiction ?']\n"
          ]
        }
      ],
      "source": [
        "print([' '.join(row) for row in data_tok[:2]])"
      ]
    },
    {
      "cell_type": "markdown",
      "metadata": {
        "id": "ueu43HXO226z"
      },
      "source": [
        "__Word vectors:__ as the saying goes, there's more than one way to train word embeddings. There's Word2Vec and GloVe with different objective functions. Then there's fasttext that uses character-level models to train word embeddings.\n",
        "\n",
        "The choice is huge, so let's start with something small: __gensim__ is another nlp library that features many vector-based models incuding word2vec."
      ]
    },
    {
      "cell_type": "code",
      "execution_count": 7,
      "metadata": {
        "collapsed": true,
        "id": "uONU58ZH226z"
      },
      "outputs": [],
      "source": [
        "from gensim.models import Word2Vec\n",
        "model = Word2Vec(data_tok,\n",
        "                 vector_size=32,      # embedding vector size\n",
        "                 min_count=5,  # consider words that occured at least 5 times\n",
        "                 window=5).wv  # define context as a 5-word window around the target word\n",
        "\n",
        "# From gensim docs\n",
        "# vw: This object essentially contains the mapping between words and embeddings.\n",
        "# After training, it can be used directly to query those embeddings in various ways."
      ]
    },
    {
      "cell_type": "code",
      "execution_count": 8,
      "metadata": {
        "id": "zd274e17226z",
        "outputId": "0e18ee40-1f2b-4fca-be6c-9fdd5a7c8248",
        "colab": {
          "base_uri": "https://localhost:8080/"
        }
      },
      "outputs": [
        {
          "output_type": "execute_result",
          "data": {
            "text/plain": [
              "array([-1.7023323 ,  1.535848  ,  0.8845245 ,  2.8480258 ,  2.0455058 ,\n",
              "        1.5192555 ,  1.2735465 , -4.3736143 ,  2.3879948 ,  2.2735016 ,\n",
              "       -1.1454947 ,  2.5156279 ,  5.2334175 ,  0.5097768 ,  3.1425781 ,\n",
              "       -2.2711217 , -0.6874737 , -1.1053467 , -0.08562015, -2.2027571 ,\n",
              "       -1.0280389 , -0.16556957,  0.32416633,  0.12150322,  1.4105866 ,\n",
              "       -2.4053996 ,  1.2086504 , -0.02466163,  0.37646705,  2.715224  ,\n",
              "       -0.23912333,  0.7942944 ], dtype=float32)"
            ]
          },
          "metadata": {},
          "execution_count": 8
        }
      ],
      "source": [
        "# now you can get word vectors !\n",
        "model.get_vector('anything')"
      ]
    },
    {
      "cell_type": "code",
      "execution_count": 9,
      "metadata": {
        "id": "Bcdi_vUw2260",
        "outputId": "0947bdd7-2ca7-47cb-b42d-dc78ebbc7064",
        "colab": {
          "base_uri": "https://localhost:8080/"
        }
      },
      "outputs": [
        {
          "output_type": "execute_result",
          "data": {
            "text/plain": [
              "[('rice', 0.9595434665679932),\n",
              " ('sauce', 0.939132034778595),\n",
              " ('butter', 0.9371382594108582),\n",
              " ('pasta', 0.9361394047737122),\n",
              " ('cheese', 0.9320518970489502),\n",
              " ('fruit', 0.9304122924804688),\n",
              " ('beans', 0.9237769842147827),\n",
              " ('chicken', 0.9185516834259033),\n",
              " ('syrup', 0.9158793687820435),\n",
              " ('banana', 0.9074804782867432)]"
            ]
          },
          "metadata": {},
          "execution_count": 9
        }
      ],
      "source": [
        "# or query similar words directly. Go play with it!\n",
        "model.most_similar('bread')"
      ]
    },
    {
      "cell_type": "markdown",
      "metadata": {
        "id": "Zgwk4rUb2260"
      },
      "source": [
        "### Using pre-trained model\n",
        "\n",
        "Now, imagine training real life-sized (100~300D) word embeddings on gigabytes of text: wikipedia articles or twitter posts.\n",
        "\n",
        "Thankfully, nowadays you can get a pre-trained word embedding model in 2 lines of code (no sms required, promise).\n",
        "\n",
        "After being downloaded for the first time (or if you manually delete it), the model is saved in the `~/gensim_data` or `%USER_PATH%/gensim_data` directory. This can be checked seting the return_path parameter to True."
      ]
    },
    {
      "cell_type": "code",
      "execution_count": 10,
      "metadata": {
        "collapsed": true,
        "id": "MePXiL-o2260"
      },
      "outputs": [],
      "source": [
        "import gensim.downloader as api"
      ]
    },
    {
      "cell_type": "code",
      "source": [
        "api.info()"
      ],
      "metadata": {
        "id": "C7U5bQMS7Pj9",
        "outputId": "2e514bf0-b9ec-4d1c-f837-25fd44aee1f1",
        "colab": {
          "base_uri": "https://localhost:8080/"
        }
      },
      "execution_count": 11,
      "outputs": [
        {
          "output_type": "execute_result",
          "data": {
            "text/plain": [
              "{'corpora': {'semeval-2016-2017-task3-subtaskBC': {'num_records': -1,\n",
              "   'record_format': 'dict',\n",
              "   'file_size': 6344358,\n",
              "   'reader_code': 'https://github.com/RaRe-Technologies/gensim-data/releases/download/semeval-2016-2017-task3-subtaskB-eng/__init__.py',\n",
              "   'license': 'All files released for the task are free for general research use',\n",
              "   'fields': {'2016-train': ['...'],\n",
              "    '2016-dev': ['...'],\n",
              "    '2017-test': ['...'],\n",
              "    '2016-test': ['...']},\n",
              "   'description': 'SemEval 2016 / 2017 Task 3 Subtask B and C datasets contain train+development (317 original questions, 3,169 related questions, and 31,690 comments), and test datasets in English. The description of the tasks and the collected data is given in sections 3 and 4.1 of the task paper http://alt.qcri.org/semeval2016/task3/data/uploads/semeval2016-task3-report.pdf linked in section “Papers” of https://github.com/RaRe-Technologies/gensim-data/issues/18.',\n",
              "   'checksum': '701ea67acd82e75f95e1d8e62fb0ad29',\n",
              "   'file_name': 'semeval-2016-2017-task3-subtaskBC.gz',\n",
              "   'read_more': ['http://alt.qcri.org/semeval2017/task3/',\n",
              "    'http://alt.qcri.org/semeval2017/task3/data/uploads/semeval2017-task3.pdf',\n",
              "    'https://github.com/RaRe-Technologies/gensim-data/issues/18',\n",
              "    'https://github.com/Witiko/semeval-2016_2017-task3-subtaskB-english'],\n",
              "   'parts': 1},\n",
              "  'semeval-2016-2017-task3-subtaskA-unannotated': {'num_records': 189941,\n",
              "   'record_format': 'dict',\n",
              "   'file_size': 234373151,\n",
              "   'reader_code': 'https://github.com/RaRe-Technologies/gensim-data/releases/download/semeval-2016-2017-task3-subtaskA-unannotated-eng/__init__.py',\n",
              "   'license': 'These datasets are free for general research use.',\n",
              "   'fields': {'THREAD_SEQUENCE': '',\n",
              "    'RelQuestion': {'RELQ_CATEGORY': 'question category, according to the Qatar Living taxonomy',\n",
              "     'RELQ_DATE': 'date of posting',\n",
              "     'RELQ_ID': 'question indentifier',\n",
              "     'RELQ_USERID': 'identifier of the user asking the question',\n",
              "     'RELQ_USERNAME': 'name of the user asking the question',\n",
              "     'RelQBody': 'body of question',\n",
              "     'RelQSubject': 'subject of question'},\n",
              "    'RelComments': [{'RelCText': 'text of answer',\n",
              "      'RELC_USERID': 'identifier of the user posting the comment',\n",
              "      'RELC_ID': 'comment identifier',\n",
              "      'RELC_USERNAME': 'name of the user posting the comment',\n",
              "      'RELC_DATE': 'date of posting'}]},\n",
              "   'description': 'SemEval 2016 / 2017 Task 3 Subtask A unannotated dataset contains 189,941 questions and 1,894,456 comments in English collected from the Community Question Answering (CQA) web forum of Qatar Living. These can be used as a corpus for language modelling.',\n",
              "   'checksum': '2de0e2f2c4f91c66ae4fcf58d50ba816',\n",
              "   'file_name': 'semeval-2016-2017-task3-subtaskA-unannotated.gz',\n",
              "   'read_more': ['http://alt.qcri.org/semeval2016/task3/',\n",
              "    'http://alt.qcri.org/semeval2016/task3/data/uploads/semeval2016-task3-report.pdf',\n",
              "    'https://github.com/RaRe-Technologies/gensim-data/issues/18',\n",
              "    'https://github.com/Witiko/semeval-2016_2017-task3-subtaskA-unannotated-english'],\n",
              "   'parts': 1},\n",
              "  'patent-2017': {'num_records': 353197,\n",
              "   'record_format': 'dict',\n",
              "   'file_size': 3087262469,\n",
              "   'reader_code': 'https://github.com/RaRe-Technologies/gensim-data/releases/download/patent-2017/__init__.py',\n",
              "   'license': 'not found',\n",
              "   'description': \"Patent Grant Full Text. Contains the full text including tables, sequence data and 'in-line' mathematical expressions of each patent grant issued in 2017.\",\n",
              "   'checksum-0': '818501f0b9af62d3b88294d86d509f8f',\n",
              "   'checksum-1': '66c05635c1d3c7a19b4a335829d09ffa',\n",
              "   'file_name': 'patent-2017.gz',\n",
              "   'read_more': ['http://patents.reedtech.com/pgrbft.php'],\n",
              "   'parts': 2},\n",
              "  'quora-duplicate-questions': {'num_records': 404290,\n",
              "   'record_format': 'dict',\n",
              "   'file_size': 21684784,\n",
              "   'reader_code': 'https://github.com/RaRe-Technologies/gensim-data/releases/download/quora-duplicate-questions/__init__.py',\n",
              "   'license': 'probably https://www.quora.com/about/tos',\n",
              "   'fields': {'question1': 'the full text of each question',\n",
              "    'question2': 'the full text of each question',\n",
              "    'qid1': 'unique ids of each question',\n",
              "    'qid2': 'unique ids of each question',\n",
              "    'id': 'the id of a training set question pair',\n",
              "    'is_duplicate': 'the target variable, set to 1 if question1 and question2 have essentially the same meaning, and 0 otherwise'},\n",
              "   'description': 'Over 400,000 lines of potential question duplicate pairs. Each line contains IDs for each question in the pair, the full text for each question, and a binary value that indicates whether the line contains a duplicate pair or not.',\n",
              "   'checksum': 'd7cfa7fbc6e2ec71ab74c495586c6365',\n",
              "   'file_name': 'quora-duplicate-questions.gz',\n",
              "   'read_more': ['https://data.quora.com/First-Quora-Dataset-Release-Question-Pairs'],\n",
              "   'parts': 1},\n",
              "  'wiki-english-20171001': {'num_records': 4924894,\n",
              "   'record_format': 'dict',\n",
              "   'file_size': 6516051717,\n",
              "   'reader_code': 'https://github.com/RaRe-Technologies/gensim-data/releases/download/wiki-english-20171001/__init__.py',\n",
              "   'license': 'https://dumps.wikimedia.org/legal.html',\n",
              "   'fields': {'section_texts': 'list of body of sections',\n",
              "    'section_titles': 'list of titles of sections',\n",
              "    'title': 'Title of wiki article'},\n",
              "   'description': 'Extracted Wikipedia dump from October 2017. Produced by `python -m gensim.scripts.segment_wiki -f enwiki-20171001-pages-articles.xml.bz2 -o wiki-en.gz`',\n",
              "   'checksum-0': 'a7d7d7fd41ea7e2d7fa32ec1bb640d71',\n",
              "   'checksum-1': 'b2683e3356ffbca3b6c2dca6e9801f9f',\n",
              "   'checksum-2': 'c5cde2a9ae77b3c4ebce804f6df542c2',\n",
              "   'checksum-3': '00b71144ed5e3aeeb885de84f7452b81',\n",
              "   'file_name': 'wiki-english-20171001.gz',\n",
              "   'read_more': ['https://dumps.wikimedia.org/enwiki/20171001/'],\n",
              "   'parts': 4},\n",
              "  'text8': {'num_records': 1701,\n",
              "   'record_format': 'list of str (tokens)',\n",
              "   'file_size': 33182058,\n",
              "   'reader_code': 'https://github.com/RaRe-Technologies/gensim-data/releases/download/text8/__init__.py',\n",
              "   'license': 'not found',\n",
              "   'description': 'First 100,000,000 bytes of plain text from Wikipedia. Used for testing purposes; see wiki-english-* for proper full Wikipedia datasets.',\n",
              "   'checksum': '68799af40b6bda07dfa47a32612e5364',\n",
              "   'file_name': 'text8.gz',\n",
              "   'read_more': ['http://mattmahoney.net/dc/textdata.html'],\n",
              "   'parts': 1},\n",
              "  'fake-news': {'num_records': 12999,\n",
              "   'record_format': 'dict',\n",
              "   'file_size': 20102776,\n",
              "   'reader_code': 'https://github.com/RaRe-Technologies/gensim-data/releases/download/fake-news/__init__.py',\n",
              "   'license': 'https://creativecommons.org/publicdomain/zero/1.0/',\n",
              "   'fields': {'crawled': 'date the story was archived',\n",
              "    'ord_in_thread': '',\n",
              "    'published': 'date published',\n",
              "    'participants_count': 'number of participants',\n",
              "    'shares': 'number of Facebook shares',\n",
              "    'replies_count': 'number of replies',\n",
              "    'main_img_url': 'image from story',\n",
              "    'spam_score': 'data from webhose.io',\n",
              "    'uuid': 'unique identifier',\n",
              "    'language': 'data from webhose.io',\n",
              "    'title': 'title of story',\n",
              "    'country': 'data from webhose.io',\n",
              "    'domain_rank': 'data from webhose.io',\n",
              "    'author': 'author of story',\n",
              "    'comments': 'number of Facebook comments',\n",
              "    'site_url': 'site URL from BS detector',\n",
              "    'text': 'text of story',\n",
              "    'thread_title': '',\n",
              "    'type': 'type of website (label from BS detector)',\n",
              "    'likes': 'number of Facebook likes'},\n",
              "   'description': \"News dataset, contains text and metadata from 244 websites and represents 12,999 posts in total from a specific window of 30 days. The data was pulled using the webhose.io API, and because it's coming from their crawler, not all websites identified by their BS Detector are present in this dataset. Data sources that were missing a label were simply assigned a label of 'bs'. There are (ostensibly) no genuine, reliable, or trustworthy news sources represented in this dataset (so far), so don't trust anything you read.\",\n",
              "   'checksum': '5e64e942df13219465927f92dcefd5fe',\n",
              "   'file_name': 'fake-news.gz',\n",
              "   'read_more': ['https://www.kaggle.com/mrisdal/fake-news'],\n",
              "   'parts': 1},\n",
              "  '20-newsgroups': {'num_records': 18846,\n",
              "   'record_format': 'dict',\n",
              "   'file_size': 14483581,\n",
              "   'reader_code': 'https://github.com/RaRe-Technologies/gensim-data/releases/download/20-newsgroups/__init__.py',\n",
              "   'license': 'not found',\n",
              "   'fields': {'topic': 'name of topic (20 variant of possible values)',\n",
              "    'set': \"marker of original split (possible values 'train' and 'test')\",\n",
              "    'data': '',\n",
              "    'id': 'original id inferred from folder name'},\n",
              "   'description': 'The notorious collection of approximately 20,000 newsgroup posts, partitioned (nearly) evenly across 20 different newsgroups.',\n",
              "   'checksum': 'c92fd4f6640a86d5ba89eaad818a9891',\n",
              "   'file_name': '20-newsgroups.gz',\n",
              "   'read_more': ['http://qwone.com/~jason/20Newsgroups/'],\n",
              "   'parts': 1},\n",
              "  '__testing_matrix-synopsis': {'description': '[THIS IS ONLY FOR TESTING] Synopsis of the movie matrix.',\n",
              "   'checksum': '1767ac93a089b43899d54944b07d9dc5',\n",
              "   'file_name': '__testing_matrix-synopsis.gz',\n",
              "   'read_more': ['http://www.imdb.com/title/tt0133093/plotsummary?ref_=ttpl_pl_syn#synopsis'],\n",
              "   'parts': 1},\n",
              "  '__testing_multipart-matrix-synopsis': {'description': '[THIS IS ONLY FOR TESTING] Synopsis of the movie matrix.',\n",
              "   'checksum-0': 'c8b0c7d8cf562b1b632c262a173ac338',\n",
              "   'checksum-1': '5ff7fc6818e9a5d9bc1cf12c35ed8b96',\n",
              "   'checksum-2': '966db9d274d125beaac7987202076cba',\n",
              "   'file_name': '__testing_multipart-matrix-synopsis.gz',\n",
              "   'read_more': ['http://www.imdb.com/title/tt0133093/plotsummary?ref_=ttpl_pl_syn#synopsis'],\n",
              "   'parts': 3}},\n",
              " 'models': {'fasttext-wiki-news-subwords-300': {'num_records': 999999,\n",
              "   'file_size': 1005007116,\n",
              "   'base_dataset': 'Wikipedia 2017, UMBC webbase corpus and statmt.org news dataset (16B tokens)',\n",
              "   'reader_code': 'https://github.com/RaRe-Technologies/gensim-data/releases/download/fasttext-wiki-news-subwords-300/__init__.py',\n",
              "   'license': 'https://creativecommons.org/licenses/by-sa/3.0/',\n",
              "   'parameters': {'dimension': 300},\n",
              "   'description': '1 million word vectors trained on Wikipedia 2017, UMBC webbase corpus and statmt.org news dataset (16B tokens).',\n",
              "   'read_more': ['https://fasttext.cc/docs/en/english-vectors.html',\n",
              "    'https://arxiv.org/abs/1712.09405',\n",
              "    'https://arxiv.org/abs/1607.01759'],\n",
              "   'checksum': 'de2bb3a20c46ce65c9c131e1ad9a77af',\n",
              "   'file_name': 'fasttext-wiki-news-subwords-300.gz',\n",
              "   'parts': 1},\n",
              "  'conceptnet-numberbatch-17-06-300': {'num_records': 1917247,\n",
              "   'file_size': 1225497562,\n",
              "   'base_dataset': 'ConceptNet, word2vec, GloVe, and OpenSubtitles 2016',\n",
              "   'reader_code': 'https://github.com/RaRe-Technologies/gensim-data/releases/download/conceptnet-numberbatch-17-06-300/__init__.py',\n",
              "   'license': 'https://github.com/commonsense/conceptnet-numberbatch/blob/master/LICENSE.txt',\n",
              "   'parameters': {'dimension': 300},\n",
              "   'description': 'ConceptNet Numberbatch consists of state-of-the-art semantic vectors (also known as word embeddings) that can be used directly as a representation of word meanings or as a starting point for further machine learning. ConceptNet Numberbatch is part of the ConceptNet open data project. ConceptNet provides lots of ways to compute with word meanings, one of which is word embeddings. ConceptNet Numberbatch is a snapshot of just the word embeddings. It is built using an ensemble that combines data from ConceptNet, word2vec, GloVe, and OpenSubtitles 2016, using a variation on retrofitting.',\n",
              "   'read_more': ['http://aaai.org/ocs/index.php/AAAI/AAAI17/paper/view/14972',\n",
              "    'https://github.com/commonsense/conceptnet-numberbatch',\n",
              "    'http://conceptnet.io/'],\n",
              "   'checksum': 'fd642d457adcd0ea94da0cd21b150847',\n",
              "   'file_name': 'conceptnet-numberbatch-17-06-300.gz',\n",
              "   'parts': 1},\n",
              "  'word2vec-ruscorpora-300': {'num_records': 184973,\n",
              "   'file_size': 208427381,\n",
              "   'base_dataset': 'Russian National Corpus (about 250M words)',\n",
              "   'reader_code': 'https://github.com/RaRe-Technologies/gensim-data/releases/download/word2vec-ruscorpora-300/__init__.py',\n",
              "   'license': 'https://creativecommons.org/licenses/by/4.0/deed.en',\n",
              "   'parameters': {'dimension': 300, 'window_size': 10},\n",
              "   'description': 'Word2vec Continuous Skipgram vectors trained on full Russian National Corpus (about 250M words). The model contains 185K words.',\n",
              "   'preprocessing': 'The corpus was lemmatized and tagged with Universal PoS',\n",
              "   'read_more': ['https://www.academia.edu/24306935/WebVectors_a_Toolkit_for_Building_Web_Interfaces_for_Vector_Semantic_Models',\n",
              "    'http://rusvectores.org/en/',\n",
              "    'https://github.com/RaRe-Technologies/gensim-data/issues/3'],\n",
              "   'checksum': '9bdebdc8ae6d17d20839dd9b5af10bc4',\n",
              "   'file_name': 'word2vec-ruscorpora-300.gz',\n",
              "   'parts': 1},\n",
              "  'word2vec-google-news-300': {'num_records': 3000000,\n",
              "   'file_size': 1743563840,\n",
              "   'base_dataset': 'Google News (about 100 billion words)',\n",
              "   'reader_code': 'https://github.com/RaRe-Technologies/gensim-data/releases/download/word2vec-google-news-300/__init__.py',\n",
              "   'license': 'not found',\n",
              "   'parameters': {'dimension': 300},\n",
              "   'description': \"Pre-trained vectors trained on a part of the Google News dataset (about 100 billion words). The model contains 300-dimensional vectors for 3 million words and phrases. The phrases were obtained using a simple data-driven approach described in 'Distributed Representations of Words and Phrases and their Compositionality' (https://code.google.com/archive/p/word2vec/).\",\n",
              "   'read_more': ['https://code.google.com/archive/p/word2vec/',\n",
              "    'https://arxiv.org/abs/1301.3781',\n",
              "    'https://arxiv.org/abs/1310.4546',\n",
              "    'https://www.microsoft.com/en-us/research/publication/linguistic-regularities-in-continuous-space-word-representations/?from=http%3A%2F%2Fresearch.microsoft.com%2Fpubs%2F189726%2Frvecs.pdf'],\n",
              "   'checksum': 'a5e5354d40acb95f9ec66d5977d140ef',\n",
              "   'file_name': 'word2vec-google-news-300.gz',\n",
              "   'parts': 1},\n",
              "  'glove-wiki-gigaword-50': {'num_records': 400000,\n",
              "   'file_size': 69182535,\n",
              "   'base_dataset': 'Wikipedia 2014 + Gigaword 5 (6B tokens, uncased)',\n",
              "   'reader_code': 'https://github.com/RaRe-Technologies/gensim-data/releases/download/glove-wiki-gigaword-50/__init__.py',\n",
              "   'license': 'http://opendatacommons.org/licenses/pddl/',\n",
              "   'parameters': {'dimension': 50},\n",
              "   'description': 'Pre-trained vectors based on Wikipedia 2014 + Gigaword, 5.6B tokens, 400K vocab, uncased (https://nlp.stanford.edu/projects/glove/).',\n",
              "   'preprocessing': 'Converted to w2v format with `python -m gensim.scripts.glove2word2vec -i <fname> -o glove-wiki-gigaword-50.txt`.',\n",
              "   'read_more': ['https://nlp.stanford.edu/projects/glove/',\n",
              "    'https://nlp.stanford.edu/pubs/glove.pdf'],\n",
              "   'checksum': 'c289bc5d7f2f02c6dc9f2f9b67641813',\n",
              "   'file_name': 'glove-wiki-gigaword-50.gz',\n",
              "   'parts': 1},\n",
              "  'glove-wiki-gigaword-100': {'num_records': 400000,\n",
              "   'file_size': 134300434,\n",
              "   'base_dataset': 'Wikipedia 2014 + Gigaword 5 (6B tokens, uncased)',\n",
              "   'reader_code': 'https://github.com/RaRe-Technologies/gensim-data/releases/download/glove-wiki-gigaword-100/__init__.py',\n",
              "   'license': 'http://opendatacommons.org/licenses/pddl/',\n",
              "   'parameters': {'dimension': 100},\n",
              "   'description': 'Pre-trained vectors based on Wikipedia 2014 + Gigaword 5.6B tokens, 400K vocab, uncased (https://nlp.stanford.edu/projects/glove/).',\n",
              "   'preprocessing': 'Converted to w2v format with `python -m gensim.scripts.glove2word2vec -i <fname> -o glove-wiki-gigaword-100.txt`.',\n",
              "   'read_more': ['https://nlp.stanford.edu/projects/glove/',\n",
              "    'https://nlp.stanford.edu/pubs/glove.pdf'],\n",
              "   'checksum': '40ec481866001177b8cd4cb0df92924f',\n",
              "   'file_name': 'glove-wiki-gigaword-100.gz',\n",
              "   'parts': 1},\n",
              "  'glove-wiki-gigaword-200': {'num_records': 400000,\n",
              "   'file_size': 264336934,\n",
              "   'base_dataset': 'Wikipedia 2014 + Gigaword 5 (6B tokens, uncased)',\n",
              "   'reader_code': 'https://github.com/RaRe-Technologies/gensim-data/releases/download/glove-wiki-gigaword-200/__init__.py',\n",
              "   'license': 'http://opendatacommons.org/licenses/pddl/',\n",
              "   'parameters': {'dimension': 200},\n",
              "   'description': 'Pre-trained vectors based on Wikipedia 2014 + Gigaword, 5.6B tokens, 400K vocab, uncased (https://nlp.stanford.edu/projects/glove/).',\n",
              "   'preprocessing': 'Converted to w2v format with `python -m gensim.scripts.glove2word2vec -i <fname> -o glove-wiki-gigaword-200.txt`.',\n",
              "   'read_more': ['https://nlp.stanford.edu/projects/glove/',\n",
              "    'https://nlp.stanford.edu/pubs/glove.pdf'],\n",
              "   'checksum': '59652db361b7a87ee73834a6c391dfc1',\n",
              "   'file_name': 'glove-wiki-gigaword-200.gz',\n",
              "   'parts': 1},\n",
              "  'glove-wiki-gigaword-300': {'num_records': 400000,\n",
              "   'file_size': 394362229,\n",
              "   'base_dataset': 'Wikipedia 2014 + Gigaword 5 (6B tokens, uncased)',\n",
              "   'reader_code': 'https://github.com/RaRe-Technologies/gensim-data/releases/download/glove-wiki-gigaword-300/__init__.py',\n",
              "   'license': 'http://opendatacommons.org/licenses/pddl/',\n",
              "   'parameters': {'dimension': 300},\n",
              "   'description': 'Pre-trained vectors based on Wikipedia 2014 + Gigaword, 5.6B tokens, 400K vocab, uncased (https://nlp.stanford.edu/projects/glove/).',\n",
              "   'preprocessing': 'Converted to w2v format with `python -m gensim.scripts.glove2word2vec -i <fname> -o glove-wiki-gigaword-300.txt`.',\n",
              "   'read_more': ['https://nlp.stanford.edu/projects/glove/',\n",
              "    'https://nlp.stanford.edu/pubs/glove.pdf'],\n",
              "   'checksum': '29e9329ac2241937d55b852e8284e89b',\n",
              "   'file_name': 'glove-wiki-gigaword-300.gz',\n",
              "   'parts': 1},\n",
              "  'glove-twitter-25': {'num_records': 1193514,\n",
              "   'file_size': 109885004,\n",
              "   'base_dataset': 'Twitter (2B tweets, 27B tokens, 1.2M vocab, uncased)',\n",
              "   'reader_code': 'https://github.com/RaRe-Technologies/gensim-data/releases/download/glove-twitter-25/__init__.py',\n",
              "   'license': 'http://opendatacommons.org/licenses/pddl/',\n",
              "   'parameters': {'dimension': 25},\n",
              "   'description': 'Pre-trained vectors based on 2B tweets, 27B tokens, 1.2M vocab, uncased (https://nlp.stanford.edu/projects/glove/).',\n",
              "   'preprocessing': 'Converted to w2v format with `python -m gensim.scripts.glove2word2vec -i <fname> -o glove-twitter-25.txt`.',\n",
              "   'read_more': ['https://nlp.stanford.edu/projects/glove/',\n",
              "    'https://nlp.stanford.edu/pubs/glove.pdf'],\n",
              "   'checksum': '50db0211d7e7a2dcd362c6b774762793',\n",
              "   'file_name': 'glove-twitter-25.gz',\n",
              "   'parts': 1},\n",
              "  'glove-twitter-50': {'num_records': 1193514,\n",
              "   'file_size': 209216938,\n",
              "   'base_dataset': 'Twitter (2B tweets, 27B tokens, 1.2M vocab, uncased)',\n",
              "   'reader_code': 'https://github.com/RaRe-Technologies/gensim-data/releases/download/glove-twitter-50/__init__.py',\n",
              "   'license': 'http://opendatacommons.org/licenses/pddl/',\n",
              "   'parameters': {'dimension': 50},\n",
              "   'description': 'Pre-trained vectors based on 2B tweets, 27B tokens, 1.2M vocab, uncased (https://nlp.stanford.edu/projects/glove/)',\n",
              "   'preprocessing': 'Converted to w2v format with `python -m gensim.scripts.glove2word2vec -i <fname> -o glove-twitter-50.txt`.',\n",
              "   'read_more': ['https://nlp.stanford.edu/projects/glove/',\n",
              "    'https://nlp.stanford.edu/pubs/glove.pdf'],\n",
              "   'checksum': 'c168f18641f8c8a00fe30984c4799b2b',\n",
              "   'file_name': 'glove-twitter-50.gz',\n",
              "   'parts': 1},\n",
              "  'glove-twitter-100': {'num_records': 1193514,\n",
              "   'file_size': 405932991,\n",
              "   'base_dataset': 'Twitter (2B tweets, 27B tokens, 1.2M vocab, uncased)',\n",
              "   'reader_code': 'https://github.com/RaRe-Technologies/gensim-data/releases/download/glove-twitter-100/__init__.py',\n",
              "   'license': 'http://opendatacommons.org/licenses/pddl/',\n",
              "   'parameters': {'dimension': 100},\n",
              "   'description': 'Pre-trained vectors based on  2B tweets, 27B tokens, 1.2M vocab, uncased (https://nlp.stanford.edu/projects/glove/)',\n",
              "   'preprocessing': 'Converted to w2v format with `python -m gensim.scripts.glove2word2vec -i <fname> -o glove-twitter-100.txt`.',\n",
              "   'read_more': ['https://nlp.stanford.edu/projects/glove/',\n",
              "    'https://nlp.stanford.edu/pubs/glove.pdf'],\n",
              "   'checksum': 'b04f7bed38756d64cf55b58ce7e97b15',\n",
              "   'file_name': 'glove-twitter-100.gz',\n",
              "   'parts': 1},\n",
              "  'glove-twitter-200': {'num_records': 1193514,\n",
              "   'file_size': 795373100,\n",
              "   'base_dataset': 'Twitter (2B tweets, 27B tokens, 1.2M vocab, uncased)',\n",
              "   'reader_code': 'https://github.com/RaRe-Technologies/gensim-data/releases/download/glove-twitter-200/__init__.py',\n",
              "   'license': 'http://opendatacommons.org/licenses/pddl/',\n",
              "   'parameters': {'dimension': 200},\n",
              "   'description': 'Pre-trained vectors based on 2B tweets, 27B tokens, 1.2M vocab, uncased (https://nlp.stanford.edu/projects/glove/).',\n",
              "   'preprocessing': 'Converted to w2v format with `python -m gensim.scripts.glove2word2vec -i <fname> -o glove-twitter-200.txt`.',\n",
              "   'read_more': ['https://nlp.stanford.edu/projects/glove/',\n",
              "    'https://nlp.stanford.edu/pubs/glove.pdf'],\n",
              "   'checksum': 'e52e8392d1860b95d5308a525817d8f9',\n",
              "   'file_name': 'glove-twitter-200.gz',\n",
              "   'parts': 1},\n",
              "  '__testing_word2vec-matrix-synopsis': {'description': '[THIS IS ONLY FOR TESTING] Word vecrors of the movie matrix.',\n",
              "   'parameters': {'dimensions': 50},\n",
              "   'preprocessing': 'Converted to w2v using a preprocessed corpus. Converted to w2v format with `python3.5 -m gensim.models.word2vec -train <input_filename> -iter 50 -output <output_filename>`.',\n",
              "   'read_more': [],\n",
              "   'checksum': '534dcb8b56a360977a269b7bfc62d124',\n",
              "   'file_name': '__testing_word2vec-matrix-synopsis.gz',\n",
              "   'parts': 1}}}"
            ]
          },
          "metadata": {},
          "execution_count": 11
        }
      ]
    },
    {
      "cell_type": "code",
      "source": [
        "model = api.load('glove-twitter-100')"
      ],
      "metadata": {
        "id": "NQV4HZuR7VXh",
        "outputId": "d40a50ef-7230-47cc-f324-b1fc8fc43d0b",
        "colab": {
          "base_uri": "https://localhost:8080/"
        }
      },
      "execution_count": 12,
      "outputs": [
        {
          "output_type": "stream",
          "name": "stdout",
          "text": [
            "[==================================================] 100.0% 387.1/387.1MB downloaded\n"
          ]
        }
      ]
    },
    {
      "cell_type": "code",
      "execution_count": 13,
      "metadata": {
        "id": "Z1A5jfo92260",
        "outputId": "e76d9a3f-d710-4f63-ad9c-688a3e41f4a3",
        "colab": {
          "base_uri": "https://localhost:8080/"
        }
      },
      "outputs": [
        {
          "output_type": "execute_result",
          "data": {
            "text/plain": [
              "[('broker', 0.5820155739784241),\n",
              " ('bonuses', 0.5424473285675049),\n",
              " ('banker', 0.5385112762451172),\n",
              " ('designer', 0.5197198390960693),\n",
              " ('merchandising', 0.4964233338832855),\n",
              " ('treet', 0.4922019839286804),\n",
              " ('shopper', 0.4920562207698822),\n",
              " ('part-time', 0.4912828207015991),\n",
              " ('freelance', 0.4843311905860901),\n",
              " ('aupair', 0.4796452522277832)]"
            ]
          },
          "metadata": {},
          "execution_count": 13
        }
      ],
      "source": [
        "model.most_similar(positive=[\"coder\", \"money\"], negative=[\"brain\"])"
      ]
    },
    {
      "cell_type": "markdown",
      "metadata": {
        "id": "VIquSyBQ2260"
      },
      "source": [
        "### Visualizing word vectors\n",
        "\n",
        "One way to see if our vectors are good is to plot them. Those vectors are in 30D+ space, but we humans are used to 2D or 3D.\n",
        "\n",
        "Luckily, we machine learners know about __dimensionality reduction__ methods.\n",
        "\n",
        "Let's use that knowledge to plot 1000 most frequent words."
      ]
    },
    {
      "cell_type": "code",
      "execution_count": 14,
      "metadata": {
        "id": "5_iQE0JA2260",
        "outputId": "f8527133-815b-44d5-db64-f1f2140ffe49",
        "colab": {
          "base_uri": "https://localhost:8080/"
        }
      },
      "outputs": [
        {
          "output_type": "stream",
          "name": "stdout",
          "text": [
            "['<user>', '_', 'please', 'apa', 'justin', 'text', 'hari', 'playing', 'once', 'sei']\n"
          ]
        }
      ],
      "source": [
        "words = model.index_to_key[:1000]\n",
        "\n",
        "print(words[::100])"
      ]
    },
    {
      "cell_type": "code",
      "execution_count": 15,
      "metadata": {
        "id": "DfJeb3rv2260"
      },
      "outputs": [],
      "source": [
        "# for each word, compute it's vector with model\n",
        "word_vectors = np.array([model.get_vector(word) for word in words])"
      ]
    },
    {
      "cell_type": "code",
      "execution_count": 16,
      "metadata": {
        "collapsed": true,
        "id": "wNzioXxU2261"
      },
      "outputs": [],
      "source": [
        "assert isinstance(word_vectors, np.ndarray)\n",
        "assert word_vectors.shape == (len(words), 100)\n",
        "assert np.isfinite(word_vectors).all()"
      ]
    },
    {
      "cell_type": "markdown",
      "metadata": {
        "id": "NwMmhm_m2261"
      },
      "source": [
        "#### Linear projection: PCA\n",
        "\n",
        "The simplest linear dimensionality reduction method is **P**rincipial **C**omponent **A**nalysis.\n",
        "\n",
        "In geometric terms, PCA tries to find axes along which most of the variance occurs. The \"natural\" axes, if you wish.\n",
        "\n",
        "<img src=\"https://github.com/yandexdataschool/Practical_RL/raw/master/yet_another_week/_resource/pca_fish.png\" style=\"width:30%\">"
      ]
    },
    {
      "cell_type": "code",
      "execution_count": 17,
      "metadata": {
        "collapsed": true,
        "id": "O6nt6XSG2261"
      },
      "outputs": [],
      "source": [
        "from sklearn.decomposition import PCA\n",
        "\n",
        "# map word vectors onto 2d plane with PCA. Use good old sklearn api (fit, transform)\n",
        "# after that, normalize vectors to make sure they have zero mean and unit variance\n",
        "pca = PCA(n_components=2)\n",
        "word_vectors_pca =  pca.fit_transform(word_vectors)\n",
        "\n",
        "word_vectors_pca = (word_vectors_pca - word_vectors_pca.mean(axis=0)) / word_vectors_pca.std(axis=0)\n",
        "\n",
        "# and maybe MORE OF YOUR CODE here :)"
      ]
    },
    {
      "cell_type": "code",
      "execution_count": 18,
      "metadata": {
        "collapsed": true,
        "id": "Dpoh2J382261"
      },
      "outputs": [],
      "source": [
        "assert word_vectors_pca.shape == (len(word_vectors), 2), \"there must be a 2d vector for each word\"\n",
        "assert max(abs(word_vectors_pca.mean(0))) < 1e-5, \"points must be zero-centered\"\n",
        "assert max(abs(1.0 - word_vectors_pca.std(0))) < 1e-2, \"points must have unit variance\""
      ]
    },
    {
      "cell_type": "markdown",
      "metadata": {
        "id": "v35sQYLP2261"
      },
      "source": [
        "#### Let's draw it!"
      ]
    },
    {
      "cell_type": "code",
      "execution_count": 19,
      "metadata": {
        "id": "dy1BmXti2261"
      },
      "outputs": [],
      "source": [
        "import bokeh.models as bm, bokeh.plotting as pl\n",
        "from bokeh.io import output_notebook\n",
        "output_notebook()\n",
        "\n",
        "def draw_vectors(x, y, radius=10, alpha=0.25, color='blue',\n",
        "                 width=600, height=400, show=True, **kwargs):\n",
        "    \"\"\" draws an interactive plot for data points with auxilirary info on hover \"\"\"\n",
        "    if isinstance(color, str): color = [color] * len(x)\n",
        "    data_source = bm.ColumnDataSource({ 'x' : x, 'y' : y, 'color': color, **kwargs })\n",
        "\n",
        "    fig = pl.figure(active_scroll='wheel_zoom', width=width, height=height)\n",
        "    fig.scatter('x', 'y', size=radius, color='color', alpha=alpha, source=data_source)\n",
        "\n",
        "    fig.add_tools(bm.HoverTool(tooltips=[(key, \"@\" + key) for key in kwargs.keys()]))\n",
        "    if show: pl.show(fig)\n",
        "    return fig"
      ]
    },
    {
      "cell_type": "code",
      "execution_count": 20,
      "metadata": {
        "id": "6I2Bnivm2261",
        "outputId": "e44ee8b2-71a1-4db5-b587-90a521d243ef",
        "colab": {
          "base_uri": "https://localhost:8080/",
          "height": 434
        }
      },
      "outputs": [
        {
          "output_type": "display_data",
          "data": {
            "application/javascript": [
              "'use strict';\n",
              "(function(root) {\n",
              "  function now() {\n",
              "    return new Date();\n",
              "  }\n",
              "\n",
              "  const force = true;\n",
              "\n",
              "  if (typeof root._bokeh_onload_callbacks === \"undefined\" || force === true) {\n",
              "    root._bokeh_onload_callbacks = [];\n",
              "    root._bokeh_is_loading = undefined;\n",
              "  }\n",
              "\n",
              "const JS_MIME_TYPE = 'application/javascript';\n",
              "  const HTML_MIME_TYPE = 'text/html';\n",
              "  const EXEC_MIME_TYPE = 'application/vnd.bokehjs_exec.v0+json';\n",
              "  const CLASS_NAME = 'output_bokeh rendered_html';\n",
              "\n",
              "  /**\n",
              "   * Render data to the DOM node\n",
              "   */\n",
              "  function render(props, node) {\n",
              "    const script = document.createElement(\"script\");\n",
              "    node.appendChild(script);\n",
              "  }\n",
              "\n",
              "  /**\n",
              "   * Handle when an output is cleared or removed\n",
              "   */\n",
              "  function handleClearOutput(event, handle) {\n",
              "    function drop(id) {\n",
              "      const view = Bokeh.index.get_by_id(id)\n",
              "      if (view != null) {\n",
              "        view.model.document.clear()\n",
              "        Bokeh.index.delete(view)\n",
              "      }\n",
              "    }\n",
              "\n",
              "    const cell = handle.cell;\n",
              "\n",
              "    const id = cell.output_area._bokeh_element_id;\n",
              "    const server_id = cell.output_area._bokeh_server_id;\n",
              "\n",
              "    // Clean up Bokeh references\n",
              "    if (id != null) {\n",
              "      drop(id)\n",
              "    }\n",
              "\n",
              "    if (server_id !== undefined) {\n",
              "      // Clean up Bokeh references\n",
              "      const cmd_clean = \"from bokeh.io.state import curstate; print(curstate().uuid_to_server['\" + server_id + \"'].get_sessions()[0].document.roots[0]._id)\";\n",
              "      cell.notebook.kernel.execute(cmd_clean, {\n",
              "        iopub: {\n",
              "          output: function(msg) {\n",
              "            const id = msg.content.text.trim()\n",
              "            drop(id)\n",
              "          }\n",
              "        }\n",
              "      });\n",
              "      // Destroy server and session\n",
              "      const cmd_destroy = \"import bokeh.io.notebook as ion; ion.destroy_server('\" + server_id + \"')\";\n",
              "      cell.notebook.kernel.execute(cmd_destroy);\n",
              "    }\n",
              "  }\n",
              "\n",
              "  /**\n",
              "   * Handle when a new output is added\n",
              "   */\n",
              "  function handleAddOutput(event, handle) {\n",
              "    const output_area = handle.output_area;\n",
              "    const output = handle.output;\n",
              "\n",
              "    // limit handleAddOutput to display_data with EXEC_MIME_TYPE content only\n",
              "    if ((output.output_type != \"display_data\") || (!Object.prototype.hasOwnProperty.call(output.data, EXEC_MIME_TYPE))) {\n",
              "      return\n",
              "    }\n",
              "\n",
              "    const toinsert = output_area.element.find(\".\" + CLASS_NAME.split(' ')[0]);\n",
              "\n",
              "    if (output.metadata[EXEC_MIME_TYPE][\"id\"] !== undefined) {\n",
              "      toinsert[toinsert.length - 1].firstChild.textContent = output.data[JS_MIME_TYPE];\n",
              "      // store reference to embed id on output_area\n",
              "      output_area._bokeh_element_id = output.metadata[EXEC_MIME_TYPE][\"id\"];\n",
              "    }\n",
              "    if (output.metadata[EXEC_MIME_TYPE][\"server_id\"] !== undefined) {\n",
              "      const bk_div = document.createElement(\"div\");\n",
              "      bk_div.innerHTML = output.data[HTML_MIME_TYPE];\n",
              "      const script_attrs = bk_div.children[0].attributes;\n",
              "      for (let i = 0; i < script_attrs.length; i++) {\n",
              "        toinsert[toinsert.length - 1].firstChild.setAttribute(script_attrs[i].name, script_attrs[i].value);\n",
              "        toinsert[toinsert.length - 1].firstChild.textContent = bk_div.children[0].textContent\n",
              "      }\n",
              "      // store reference to server id on output_area\n",
              "      output_area._bokeh_server_id = output.metadata[EXEC_MIME_TYPE][\"server_id\"];\n",
              "    }\n",
              "  }\n",
              "\n",
              "  function register_renderer(events, OutputArea) {\n",
              "\n",
              "    function append_mime(data, metadata, element) {\n",
              "      // create a DOM node to render to\n",
              "      const toinsert = this.create_output_subarea(\n",
              "        metadata,\n",
              "        CLASS_NAME,\n",
              "        EXEC_MIME_TYPE\n",
              "      );\n",
              "      this.keyboard_manager.register_events(toinsert);\n",
              "      // Render to node\n",
              "      const props = {data: data, metadata: metadata[EXEC_MIME_TYPE]};\n",
              "      render(props, toinsert[toinsert.length - 1]);\n",
              "      element.append(toinsert);\n",
              "      return toinsert\n",
              "    }\n",
              "\n",
              "    /* Handle when an output is cleared or removed */\n",
              "    events.on('clear_output.CodeCell', handleClearOutput);\n",
              "    events.on('delete.Cell', handleClearOutput);\n",
              "\n",
              "    /* Handle when a new output is added */\n",
              "    events.on('output_added.OutputArea', handleAddOutput);\n",
              "\n",
              "    /**\n",
              "     * Register the mime type and append_mime function with output_area\n",
              "     */\n",
              "    OutputArea.prototype.register_mime_type(EXEC_MIME_TYPE, append_mime, {\n",
              "      /* Is output safe? */\n",
              "      safe: true,\n",
              "      /* Index of renderer in `output_area.display_order` */\n",
              "      index: 0\n",
              "    });\n",
              "  }\n",
              "\n",
              "  // register the mime type if in Jupyter Notebook environment and previously unregistered\n",
              "  if (root.Jupyter !== undefined) {\n",
              "    const events = require('base/js/events');\n",
              "    const OutputArea = require('notebook/js/outputarea').OutputArea;\n",
              "\n",
              "    if (OutputArea.prototype.mime_types().indexOf(EXEC_MIME_TYPE) == -1) {\n",
              "      register_renderer(events, OutputArea);\n",
              "    }\n",
              "  }\n",
              "  if (typeof (root._bokeh_timeout) === \"undefined\" || force === true) {\n",
              "    root._bokeh_timeout = Date.now() + 5000;\n",
              "    root._bokeh_failed_load = false;\n",
              "  }\n",
              "\n",
              "  const NB_LOAD_WARNING = {'data': {'text/html':\n",
              "     \"<div style='background-color: #fdd'>\\n\"+\n",
              "     \"<p>\\n\"+\n",
              "     \"BokehJS does not appear to have successfully loaded. If loading BokehJS from CDN, this \\n\"+\n",
              "     \"may be due to a slow or bad network connection. Possible fixes:\\n\"+\n",
              "     \"</p>\\n\"+\n",
              "     \"<ul>\\n\"+\n",
              "     \"<li>re-rerun `output_notebook()` to attempt to load from CDN again, or</li>\\n\"+\n",
              "     \"<li>use INLINE resources instead, as so:</li>\\n\"+\n",
              "     \"</ul>\\n\"+\n",
              "     \"<code>\\n\"+\n",
              "     \"from bokeh.resources import INLINE\\n\"+\n",
              "     \"output_notebook(resources=INLINE)\\n\"+\n",
              "     \"</code>\\n\"+\n",
              "     \"</div>\"}};\n",
              "\n",
              "  function display_loaded(error = null) {\n",
              "    const el = document.getElementById(null);\n",
              "    if (el != null) {\n",
              "      const html = (() => {\n",
              "        if (typeof root.Bokeh === \"undefined\") {\n",
              "          if (error == null) {\n",
              "            return \"BokehJS is loading ...\";\n",
              "          } else {\n",
              "            return \"BokehJS failed to load.\";\n",
              "          }\n",
              "        } else {\n",
              "          const prefix = `BokehJS ${root.Bokeh.version}`;\n",
              "          if (error == null) {\n",
              "            return `${prefix} successfully loaded.`;\n",
              "          } else {\n",
              "            return `${prefix} <b>encountered errors</b> while loading and may not function as expected.`;\n",
              "          }\n",
              "        }\n",
              "      })();\n",
              "      el.innerHTML = html;\n",
              "\n",
              "      if (error != null) {\n",
              "        const wrapper = document.createElement(\"div\");\n",
              "        wrapper.style.overflow = \"auto\";\n",
              "        wrapper.style.height = \"5em\";\n",
              "        wrapper.style.resize = \"vertical\";\n",
              "        const content = document.createElement(\"div\");\n",
              "        content.style.fontFamily = \"monospace\";\n",
              "        content.style.whiteSpace = \"pre-wrap\";\n",
              "        content.style.backgroundColor = \"rgb(255, 221, 221)\";\n",
              "        content.textContent = error.stack ?? error.toString();\n",
              "        wrapper.append(content);\n",
              "        el.append(wrapper);\n",
              "      }\n",
              "    } else if (Date.now() < root._bokeh_timeout) {\n",
              "      setTimeout(() => display_loaded(error), 100);\n",
              "    }\n",
              "  }\n",
              "\n",
              "  function run_callbacks() {\n",
              "    try {\n",
              "      root._bokeh_onload_callbacks.forEach(function(callback) {\n",
              "        if (callback != null)\n",
              "          callback();\n",
              "      });\n",
              "    } finally {\n",
              "      delete root._bokeh_onload_callbacks\n",
              "    }\n",
              "    console.debug(\"Bokeh: all callbacks have finished\");\n",
              "  }\n",
              "\n",
              "  function load_libs(css_urls, js_urls, callback) {\n",
              "    if (css_urls == null) css_urls = [];\n",
              "    if (js_urls == null) js_urls = [];\n",
              "\n",
              "    root._bokeh_onload_callbacks.push(callback);\n",
              "    if (root._bokeh_is_loading > 0) {\n",
              "      console.debug(\"Bokeh: BokehJS is being loaded, scheduling callback at\", now());\n",
              "      return null;\n",
              "    }\n",
              "    if (js_urls == null || js_urls.length === 0) {\n",
              "      run_callbacks();\n",
              "      return null;\n",
              "    }\n",
              "    console.debug(\"Bokeh: BokehJS not loaded, scheduling load and callback at\", now());\n",
              "    root._bokeh_is_loading = css_urls.length + js_urls.length;\n",
              "\n",
              "    function on_load() {\n",
              "      root._bokeh_is_loading--;\n",
              "      if (root._bokeh_is_loading === 0) {\n",
              "        console.debug(\"Bokeh: all BokehJS libraries/stylesheets loaded\");\n",
              "        run_callbacks()\n",
              "      }\n",
              "    }\n",
              "\n",
              "    function on_error(url) {\n",
              "      console.error(\"failed to load \" + url);\n",
              "    }\n",
              "\n",
              "    for (let i = 0; i < css_urls.length; i++) {\n",
              "      const url = css_urls[i];\n",
              "      const element = document.createElement(\"link\");\n",
              "      element.onload = on_load;\n",
              "      element.onerror = on_error.bind(null, url);\n",
              "      element.rel = \"stylesheet\";\n",
              "      element.type = \"text/css\";\n",
              "      element.href = url;\n",
              "      console.debug(\"Bokeh: injecting link tag for BokehJS stylesheet: \", url);\n",
              "      document.body.appendChild(element);\n",
              "    }\n",
              "\n",
              "    for (let i = 0; i < js_urls.length; i++) {\n",
              "      const url = js_urls[i];\n",
              "      const element = document.createElement('script');\n",
              "      element.onload = on_load;\n",
              "      element.onerror = on_error.bind(null, url);\n",
              "      element.async = false;\n",
              "      element.src = url;\n",
              "      console.debug(\"Bokeh: injecting script tag for BokehJS library: \", url);\n",
              "      document.head.appendChild(element);\n",
              "    }\n",
              "  };\n",
              "\n",
              "  function inject_raw_css(css) {\n",
              "    const element = document.createElement(\"style\");\n",
              "    element.appendChild(document.createTextNode(css));\n",
              "    document.body.appendChild(element);\n",
              "  }\n",
              "\n",
              "  const js_urls = [\"https://cdn.bokeh.org/bokeh/release/bokeh-3.6.2.min.js\", \"https://cdn.bokeh.org/bokeh/release/bokeh-gl-3.6.2.min.js\", \"https://cdn.bokeh.org/bokeh/release/bokeh-widgets-3.6.2.min.js\", \"https://cdn.bokeh.org/bokeh/release/bokeh-tables-3.6.2.min.js\", \"https://cdn.bokeh.org/bokeh/release/bokeh-mathjax-3.6.2.min.js\"];\n",
              "  const css_urls = [];\n",
              "\n",
              "  const inline_js = [    function(Bokeh) {\n",
              "      Bokeh.set_log_level(\"info\");\n",
              "    },\n",
              "function(Bokeh) {\n",
              "    }\n",
              "  ];\n",
              "\n",
              "  function run_inline_js() {\n",
              "    if (root.Bokeh !== undefined || force === true) {\n",
              "      try {\n",
              "            for (let i = 0; i < inline_js.length; i++) {\n",
              "      inline_js[i].call(root, root.Bokeh);\n",
              "    }\n",
              "\n",
              "      } catch (error) {throw error;\n",
              "      }} else if (Date.now() < root._bokeh_timeout) {\n",
              "      setTimeout(run_inline_js, 100);\n",
              "    } else if (!root._bokeh_failed_load) {\n",
              "      console.log(\"Bokeh: BokehJS failed to load within specified timeout.\");\n",
              "      root._bokeh_failed_load = true;\n",
              "    } else if (force !== true) {\n",
              "      const cell = $(document.getElementById(null)).parents('.cell').data().cell;\n",
              "      cell.output_area.append_execute_result(NB_LOAD_WARNING)\n",
              "    }\n",
              "  }\n",
              "\n",
              "  if (root._bokeh_is_loading === 0) {\n",
              "    console.debug(\"Bokeh: BokehJS loaded, going straight to plotting\");\n",
              "    run_inline_js();\n",
              "  } else {\n",
              "    load_libs(css_urls, js_urls, function() {\n",
              "      console.debug(\"Bokeh: BokehJS plotting callback run at\", now());\n",
              "      run_inline_js();\n",
              "    });\n",
              "  }\n",
              "}(window));"
            ],
            "application/vnd.bokehjs_load.v0+json": "'use strict';\n(function(root) {\n  function now() {\n    return new Date();\n  }\n\n  const force = true;\n\n  if (typeof root._bokeh_onload_callbacks === \"undefined\" || force === true) {\n    root._bokeh_onload_callbacks = [];\n    root._bokeh_is_loading = undefined;\n  }\n\n\n  if (typeof (root._bokeh_timeout) === \"undefined\" || force === true) {\n    root._bokeh_timeout = Date.now() + 5000;\n    root._bokeh_failed_load = false;\n  }\n\n  const NB_LOAD_WARNING = {'data': {'text/html':\n     \"<div style='background-color: #fdd'>\\n\"+\n     \"<p>\\n\"+\n     \"BokehJS does not appear to have successfully loaded. If loading BokehJS from CDN, this \\n\"+\n     \"may be due to a slow or bad network connection. Possible fixes:\\n\"+\n     \"</p>\\n\"+\n     \"<ul>\\n\"+\n     \"<li>re-rerun `output_notebook()` to attempt to load from CDN again, or</li>\\n\"+\n     \"<li>use INLINE resources instead, as so:</li>\\n\"+\n     \"</ul>\\n\"+\n     \"<code>\\n\"+\n     \"from bokeh.resources import INLINE\\n\"+\n     \"output_notebook(resources=INLINE)\\n\"+\n     \"</code>\\n\"+\n     \"</div>\"}};\n\n  function display_loaded(error = null) {\n    const el = document.getElementById(null);\n    if (el != null) {\n      const html = (() => {\n        if (typeof root.Bokeh === \"undefined\") {\n          if (error == null) {\n            return \"BokehJS is loading ...\";\n          } else {\n            return \"BokehJS failed to load.\";\n          }\n        } else {\n          const prefix = `BokehJS ${root.Bokeh.version}`;\n          if (error == null) {\n            return `${prefix} successfully loaded.`;\n          } else {\n            return `${prefix} <b>encountered errors</b> while loading and may not function as expected.`;\n          }\n        }\n      })();\n      el.innerHTML = html;\n\n      if (error != null) {\n        const wrapper = document.createElement(\"div\");\n        wrapper.style.overflow = \"auto\";\n        wrapper.style.height = \"5em\";\n        wrapper.style.resize = \"vertical\";\n        const content = document.createElement(\"div\");\n        content.style.fontFamily = \"monospace\";\n        content.style.whiteSpace = \"pre-wrap\";\n        content.style.backgroundColor = \"rgb(255, 221, 221)\";\n        content.textContent = error.stack ?? error.toString();\n        wrapper.append(content);\n        el.append(wrapper);\n      }\n    } else if (Date.now() < root._bokeh_timeout) {\n      setTimeout(() => display_loaded(error), 100);\n    }\n  }\n\n  function run_callbacks() {\n    try {\n      root._bokeh_onload_callbacks.forEach(function(callback) {\n        if (callback != null)\n          callback();\n      });\n    } finally {\n      delete root._bokeh_onload_callbacks\n    }\n    console.debug(\"Bokeh: all callbacks have finished\");\n  }\n\n  function load_libs(css_urls, js_urls, callback) {\n    if (css_urls == null) css_urls = [];\n    if (js_urls == null) js_urls = [];\n\n    root._bokeh_onload_callbacks.push(callback);\n    if (root._bokeh_is_loading > 0) {\n      console.debug(\"Bokeh: BokehJS is being loaded, scheduling callback at\", now());\n      return null;\n    }\n    if (js_urls == null || js_urls.length === 0) {\n      run_callbacks();\n      return null;\n    }\n    console.debug(\"Bokeh: BokehJS not loaded, scheduling load and callback at\", now());\n    root._bokeh_is_loading = css_urls.length + js_urls.length;\n\n    function on_load() {\n      root._bokeh_is_loading--;\n      if (root._bokeh_is_loading === 0) {\n        console.debug(\"Bokeh: all BokehJS libraries/stylesheets loaded\");\n        run_callbacks()\n      }\n    }\n\n    function on_error(url) {\n      console.error(\"failed to load \" + url);\n    }\n\n    for (let i = 0; i < css_urls.length; i++) {\n      const url = css_urls[i];\n      const element = document.createElement(\"link\");\n      element.onload = on_load;\n      element.onerror = on_error.bind(null, url);\n      element.rel = \"stylesheet\";\n      element.type = \"text/css\";\n      element.href = url;\n      console.debug(\"Bokeh: injecting link tag for BokehJS stylesheet: \", url);\n      document.body.appendChild(element);\n    }\n\n    for (let i = 0; i < js_urls.length; i++) {\n      const url = js_urls[i];\n      const element = document.createElement('script');\n      element.onload = on_load;\n      element.onerror = on_error.bind(null, url);\n      element.async = false;\n      element.src = url;\n      console.debug(\"Bokeh: injecting script tag for BokehJS library: \", url);\n      document.head.appendChild(element);\n    }\n  };\n\n  function inject_raw_css(css) {\n    const element = document.createElement(\"style\");\n    element.appendChild(document.createTextNode(css));\n    document.body.appendChild(element);\n  }\n\n  const js_urls = [\"https://cdn.bokeh.org/bokeh/release/bokeh-3.6.2.min.js\", \"https://cdn.bokeh.org/bokeh/release/bokeh-gl-3.6.2.min.js\", \"https://cdn.bokeh.org/bokeh/release/bokeh-widgets-3.6.2.min.js\", \"https://cdn.bokeh.org/bokeh/release/bokeh-tables-3.6.2.min.js\", \"https://cdn.bokeh.org/bokeh/release/bokeh-mathjax-3.6.2.min.js\"];\n  const css_urls = [];\n\n  const inline_js = [    function(Bokeh) {\n      Bokeh.set_log_level(\"info\");\n    },\nfunction(Bokeh) {\n    }\n  ];\n\n  function run_inline_js() {\n    if (root.Bokeh !== undefined || force === true) {\n      try {\n            for (let i = 0; i < inline_js.length; i++) {\n      inline_js[i].call(root, root.Bokeh);\n    }\n\n      } catch (error) {throw error;\n      }} else if (Date.now() < root._bokeh_timeout) {\n      setTimeout(run_inline_js, 100);\n    } else if (!root._bokeh_failed_load) {\n      console.log(\"Bokeh: BokehJS failed to load within specified timeout.\");\n      root._bokeh_failed_load = true;\n    } else if (force !== true) {\n      const cell = $(document.getElementById(null)).parents('.cell').data().cell;\n      cell.output_area.append_execute_result(NB_LOAD_WARNING)\n    }\n  }\n\n  if (root._bokeh_is_loading === 0) {\n    console.debug(\"Bokeh: BokehJS loaded, going straight to plotting\");\n    run_inline_js();\n  } else {\n    load_libs(css_urls, js_urls, function() {\n      console.debug(\"Bokeh: BokehJS plotting callback run at\", now());\n      run_inline_js();\n    });\n  }\n}(window));"
          },
          "metadata": {}
        },
        {
          "output_type": "display_data",
          "data": {
            "text/html": [
              "\n",
              "  <div id=\"fd01c166-94fd-4a58-af34-9e06d5b05e1e\" data-root-id=\"p1004\" style=\"display: contents;\"></div>\n"
            ]
          },
          "metadata": {}
        },
        {
          "output_type": "display_data",
          "data": {
            "application/javascript": [
              "(function(root) {\n",
              "  function embed_document(root) {\n",
              "  const docs_json = {\"5e8a6b77-b050-403b-9c70-ef59d107ca4a\":{\"version\":\"3.6.2\",\"title\":\"Bokeh Application\",\"roots\":[{\"type\":\"object\",\"name\":\"Figure\",\"id\":\"p1004\",\"attributes\":{\"height\":400,\"x_range\":{\"type\":\"object\",\"name\":\"DataRange1d\",\"id\":\"p1005\"},\"y_range\":{\"type\":\"object\",\"name\":\"DataRange1d\",\"id\":\"p1006\"},\"x_scale\":{\"type\":\"object\",\"name\":\"LinearScale\",\"id\":\"p1013\"},\"y_scale\":{\"type\":\"object\",\"name\":\"LinearScale\",\"id\":\"p1014\"},\"title\":{\"type\":\"object\",\"name\":\"Title\",\"id\":\"p1011\"},\"renderers\":[{\"type\":\"object\",\"name\":\"GlyphRenderer\",\"id\":\"p1044\",\"attributes\":{\"data_source\":{\"type\":\"object\",\"name\":\"ColumnDataSource\",\"id\":\"p1001\",\"attributes\":{\"selected\":{\"type\":\"object\",\"name\":\"Selection\",\"id\":\"p1002\",\"attributes\":{\"indices\":[],\"line_indices\":[]}},\"selection_policy\":{\"type\":\"object\",\"name\":\"UnionRenderers\",\"id\":\"p1003\"},\"data\":{\"type\":\"map\",\"entries\":[[\"x\",{\"type\":\"ndarray\",\"array\":{\"type\":\"bytes\",\"data\":\"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\"},\"shape\":[1000],\"dtype\":\"float32\",\"order\":\"little\"}],[\"y\",{\"type\":\"ndarray\",\"array\":{\"type\":\"bytes\",\"data\":\"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\"},\"shape\":[1000],\"dtype\":\"float32\",\"order\":\"little\"}],[\"color\",[\"blue\",\"blue\",\"blue\",\"blue\",\"blue\",\"blue\",\"blue\",\"blue\",\"blue\",\"blue\",\"blue\",\"blue\",\"blue\",\"blue\",\"blue\",\"blue\",\"blue\",\"blue\",\"blue\",\"blue\",\"blue\",\"blue\",\"blue\",\"blue\",\"blue\",\"blue\",\"blue\",\"blue\",\"blue\",\"blue\",\"blue\",\"blue\",\"blue\",\"blue\",\"blue\",\"blue\",\"blue\",\"blue\",\"blue\",\"blue\",\"blue\",\"blue\",\"blue\",\"blue\",\"blue\",\"blue\",\"blue\",\"blue\",\"blue\",\"blue\",\"blue\",\"blue\",\"blue\",\"blue\",\"blue\",\"blue\",\"blue\",\"blue\",\"blue\",\"blue\",\"blue\",\"blue\",\"blue\",\"blue\",\"blue\",\"blue\",\"blue\",\"blue\",\"blue\",\"blue\",\"blue\",\"blue\",\"blue\",\"blue\",\"blue\",\"blue\",\"blue\",\"blue\",\"blue\",\"blue\",\"blue\",\"blue\",\"blue\",\"blue\",\"blue\",\"blue\",\"blue\",\"blue\",\"blue\",\"blue\",\"blue\",\"blue\",\"blue\",\"blue\",\"blue\",\"blue\",\"blue\",\"blue\",\"blue\",\"blue\",\"blue\",\"blue\",\"blue\",\"blue\",\"blue\",\"blue\",\"blue\",\"blue\",\"blue\",\"blue\",\"blue\",\"blue\",\"blue\",\"blue\",\"blue\",\"blue\",\"blue\",\"blue\",\"blue\",\"blue\",\"blue\",\"blue\",\"blue\",\"blue\",\"blue\",\"blue\",\"blue\",\"blue\",\"blue\",\"blue\",\"blue\",\"blue\",\"blue\",\"blue\",\"blue\",\"blue\",\"blue\",\"blue\",\"blue\",\"blue\",\"blue\",\"blue\",\"blue\",\"blue\",\"blue\",\"blue\",\"blue\",\"blue\",\"blue\",\"blue\",\"blue\",\"blue\",\"blue\",\"blue\",\"blue\",\"blue\",\"blue\",\"blue\",\"blue\",\"blue\",\"blue\",\"blue\",\"blue\",\"blue\",\"blue\",\"blue\",\"blue\",\"blue\",\"blue\",\"blue\",\"blue\",\"blue\",\"blue\",\"blue\",\"blue\",\"blue\",\"blue\",\"blue\",\"blue\",\"blue\",\"blue\",\"blue\",\"blue\",\"blue\",\"blue\",\"blue\",\"blue\",\"blue\",\"blue\",\"blue\",\"blue\",\"blue\",\"blue\",\"blue\",\"blue\",\"blue\",\"blue\",\"blue\",\"blue\",\"blue\",\"blue\",\"blue\",\"blue\",\"blue\",\"blue\",\"blue\",\"blue\",\"blue\",\"blue\",\"blue\",\"blue\",\"blue\",\"blue\",\"blue\",\"blue\",\"blue\",\"blue\",\"blue\",\"blue\",\"blue\",\"blue\",\"blue\",\"blue\",\"blue\",\"blue\",\"blue\",\"blue\",\"blue\",\"blue\",\"blue\",\"blue\",\"blue\",\"blue\",\"blue\",\"blue\",\"blue\",\"blue\",\"blue\",\"blue\",\"blue\",\"blue\",\"blue\",\"blue\",\"blue\",\"blue\",\"blue\",\"blue\",\"blue\",\"blue\",\"blue\",\"blue\",\"blue\",\"blue\",\"blue\",\"blue\",\"blue\",\"blue\",\"blue\",\"blue\",\"blue\",\"blue\",\"blue\",\"blue\",\"blue\",\"blue\",\"blue\",\"blue\",\"blue\",\"blue\",\"blue\",\"blue\",\"blue\",\"blue\",\"blue\",\"blue\",\"blue\",\"blue\",\"blue\",\"blue\",\"blue\",\"blue\",\"blue\",\"blue\",\"blue\",\"blue\",\"blue\",\"blue\",\"blue\",\"blue\",\"blue\",\"blue\",\"blue\",\"blue\",\"blue\",\"blue\",\"blue\",\"blue\",\"blue\",\"blue\",\"blue\",\"blue\",\"blue\",\"blue\",\"blue\",\"blue\",\"blue\",\"blue\",\"blue\",\"blue\",\"blue\",\"blue\",\"blue\",\"blue\",\"blue\",\"blue\",\"blue\",\"blue\",\"blue\",\"blue\",\"blue\",\"blue\",\"blue\",\"blue\",\"blue\",\"blue\",\"blue\",\"blue\",\"blue\",\"blue\",\"blue\",\"blue\",\"blue\",\"blue\",\"blue\",\"blue\",\"blue\",\"blue\",\"blue\",\"blue\",\"blue\",\"blue\",\"blue\",\"blue\",\"blue\",\"blue\",\"blue\",\"blue\",\"blue\",\"blue\",\"blue\",\"blue\",\"blue\",\"blue\",\"blue\",\"blue\",\"blue\",\"blue\",\"blue\",\"blue\",\"blue\",\"blue\",\"blue\",\"blue\",\"blue\",\"blue\",\"blue\",\"blue\",\"blue\",\"blue\",\"blue\",\"blue\",\"blue\",\"blue\",\"blue\",\"blue\",\"blue\",\"blue\",\"blue\",\"blue\",\"blue\",\"blue\",\"blue\",\"blue\",\"blue\",\"blue\",\"blue\",\"blue\",\"blue\",\"blue\",\"blue\",\"blue\",\"blue\",\"blue\",\"blue\",\"blue\",\"blue\",\"blue\",\"blue\",\"blue\",\"blue\",\"blue\",\"blue\",\"blue\",\"blue\",\"blue\",\"blue\",\"blue\",\"blue\",\"blue\",\"blue\",\"blue\",\"blue\",\"blue\",\"blue\",\"blue\",\"blue\",\"blue\",\"blue\",\"blue\",\"blue\",\"blue\",\"blue\",\"blue\",\"blue\",\"blue\",\"blue\",\"blue\",\"blue\",\"blue\",\"blue\",\"blue\",\"blue\",\"blue\",\"blue\",\"blue\",\"blue\",\"blue\",\"blue\",\"blue\",\"blue\",\"blue\",\"blue\",\"blue\",\"blue\",\"blue\",\"blue\",\"blue\",\"blue\",\"blue\",\"blue\",\"blue\",\"blue\",\"blue\",\"blue\",\"blue\",\"blue\",\"blue\",\"blue\",\"blue\",\"blue\",\"blue\",\"blue\",\"blue\",\"blue\",\"blue\",\"blue\",\"blue\",\"blue\",\"blue\",\"blue\",\"blue\",\"blue\",\"blue\",\"blue\",\"blue\",\"blue\",\"blue\",\"blue\",\"blue\",\"blue\",\"blue\",\"blue\",\"blue\",\"blue\",\"blue\",\"blue\",\"blue\",\"blue\",\"blue\",\"blue\",\"blue\",\"blue\",\"blue\",\"blue\",\"blue\",\"blue\",\"blue\",\"blue\",\"blue\",\"blue\",\"blue\",\"blue\",\"blue\",\"blue\",\"blue\",\"blue\",\"blue\",\"blue\",\"blue\",\"blue\",\"blue\",\"blue\",\"blue\",\"blue\",\"blue\",\"blue\",\"blue\",\"blue\",\"blue\",\"blue\",\"blue\",\"blue\",\"blue\",\"blue\",\"blue\",\"blue\",\"blue\",\"blue\",\"blue\",\"blue\",\"blue\",\"blue\",\"blue\",\"blue\",\"blue\",\"blue\",\"blue\",\"blue\",\"blue\",\"blue\",\"blue\",\"blue\",\"blue\",\"blue\",\"blue\",\"blue\",\"blue\",\"blue\",\"blue\",\"blue\",\"blue\",\"blue\",\"blue\",\"blue\",\"blue\",\"blue\",\"blue\",\"blue\",\"blue\",\"blue\",\"blue\",\"blue\",\"blue\",\"blue\",\"blue\",\"blue\",\"blue\",\"blue\",\"blue\",\"blue\",\"blue\",\"blue\",\"blue\",\"blue\",\"blue\",\"blue\",\"blue\",\"blue\",\"blue\",\"blue\",\"blue\",\"blue\",\"blue\",\"blue\",\"blue\",\"blue\",\"blue\",\"blue\",\"blue\",\"blue\",\"blue\",\"blue\",\"blue\",\"blue\",\"blue\",\"blue\",\"blue\",\"blue\",\"blue\",\"blue\",\"blue\",\"blue\",\"blue\",\"blue\",\"blue\",\"blue\",\"blue\",\"blue\",\"blue\",\"blue\",\"blue\",\"blue\",\"blue\",\"blue\",\"blue\",\"blue\",\"blue\",\"blue\",\"blue\",\"blue\",\"blue\",\"blue\",\"blue\",\"blue\",\"blue\",\"blue\",\"blue\",\"blue\",\"blue\",\"blue\",\"blue\",\"blue\",\"blue\",\"blue\",\"blue\",\"blue\",\"blue\",\"blue\",\"blue\",\"blue\",\"blue\",\"blue\",\"blue\",\"blue\",\"blue\",\"blue\",\"blue\",\"blue\",\"blue\",\"blue\",\"blue\",\"blue\",\"blue\",\"blue\",\"blue\",\"blue\",\"blue\",\"blue\",\"blue\",\"blue\",\"blue\",\"blue\",\"blue\",\"blue\",\"blue\",\"blue\",\"blue\",\"blue\",\"blue\",\"blue\",\"blue\",\"blue\",\"blue\",\"blue\",\"blue\",\"blue\",\"blue\",\"blue\",\"blue\",\"blue\",\"blue\",\"blue\",\"blue\",\"blue\",\"blue\",\"blue\",\"blue\",\"blue\",\"blue\",\"blue\",\"blue\",\"blue\",\"blue\",\"blue\",\"blue\",\"blue\",\"blue\",\"blue\",\"blue\",\"blue\",\"blue\",\"blue\",\"blue\",\"blue\",\"blue\",\"blue\",\"blue\",\"blue\",\"blue\",\"blue\",\"blue\",\"blue\",\"blue\",\"blue\",\"blue\",\"blue\",\"blue\",\"blue\",\"blue\",\"blue\",\"blue\",\"blue\",\"blue\",\"blue\",\"blue\",\"blue\",\"blue\",\"blue\",\"blue\",\"blue\",\"blue\",\"blue\",\"blue\",\"blue\",\"blue\",\"blue\",\"blue\",\"blue\",\"blue\",\"blue\",\"blue\",\"blue\",\"blue\",\"blue\",\"blue\",\"blue\",\"blue\",\"blue\",\"blue\",\"blue\",\"blue\",\"blue\",\"blue\",\"blue\",\"blue\",\"blue\",\"blue\",\"blue\",\"blue\",\"blue\",\"blue\",\"blue\",\"blue\",\"blue\",\"blue\",\"blue\",\"blue\",\"blue\",\"blue\",\"blue\",\"blue\",\"blue\",\"blue\",\"blue\",\"blue\",\"blue\",\"blue\",\"blue\",\"blue\",\"blue\",\"blue\",\"blue\",\"blue\",\"blue\",\"blue\",\"blue\",\"blue\",\"blue\",\"blue\",\"blue\",\"blue\",\"blue\",\"blue\",\"blue\",\"blue\",\"blue\",\"blue\",\"blue\",\"blue\",\"blue\",\"blue\",\"blue\",\"blue\",\"blue\",\"blue\",\"blue\",\"blue\",\"blue\",\"blue\",\"blue\",\"blue\",\"blue\",\"blue\",\"blue\",\"blue\",\"blue\",\"blue\",\"blue\",\"blue\",\"blue\",\"blue\",\"blue\",\"blue\",\"blue\",\"blue\",\"blue\",\"blue\",\"blue\",\"blue\",\"blue\",\"blue\",\"blue\",\"blue\",\"blue\",\"blue\",\"blue\",\"blue\",\"blue\",\"blue\",\"blue\",\"blue\",\"blue\",\"blue\",\"blue\",\"blue\",\"blue\",\"blue\",\"blue\",\"blue\",\"blue\",\"blue\",\"blue\",\"blue\",\"blue\",\"blue\",\"blue\",\"blue\",\"blue\",\"blue\",\"blue\",\"blue\",\"blue\",\"blue\",\"blue\",\"blue\",\"blue\",\"blue\",\"blue\",\"blue\",\"blue\",\"blue\",\"blue\",\"blue\",\"blue\",\"blue\",\"blue\",\"blue\",\"blue\",\"blue\",\"blue\",\"blue\",\"blue\",\"blue\",\"blue\",\"blue\",\"blue\",\"blue\",\"blue\",\"blue\",\"blue\",\"blue\",\"blue\",\"blue\",\"blue\",\"blue\",\"blue\",\"blue\",\"blue\",\"blue\",\"blue\",\"blue\",\"blue\",\"blue\",\"blue\",\"blue\",\"blue\",\"blue\",\"blue\",\"blue\",\"blue\",\"blue\",\"blue\",\"blue\",\"blue\",\"blue\",\"blue\",\"blue\",\"blue\",\"blue\",\"blue\",\"blue\",\"blue\",\"blue\",\"blue\",\"blue\",\"blue\",\"blue\",\"blue\",\"blue\",\"blue\",\"blue\",\"blue\",\"blue\",\"blue\",\"blue\",\"blue\",\"blue\",\"blue\",\"blue\",\"blue\",\"blue\",\"blue\",\"blue\",\"blue\",\"blue\",\"blue\",\"blue\",\"blue\",\"blue\",\"blue\",\"blue\",\"blue\",\"blue\",\"blue\",\"blue\",\"blue\",\"blue\",\"blue\",\"blue\",\"blue\",\"blue\",\"blue\",\"blue\",\"blue\",\"blue\",\"blue\",\"blue\",\"blue\",\"blue\",\"blue\",\"blue\",\"blue\",\"blue\",\"blue\",\"blue\",\"blue\",\"blue\",\"blue\",\"blue\",\"blue\",\"blue\",\"blue\",\"blue\",\"blue\",\"blue\",\"blue\",\"blue\",\"blue\",\"blue\",\"blue\",\"blue\",\"blue\",\"blue\",\"blue\",\"blue\",\"blue\",\"blue\",\"blue\",\"blue\",\"blue\"]],[\"token\",[\"<user>\",\".\",\":\",\"rt\",\",\",\"<repeat>\",\"<hashtag>\",\"<number>\",\"<url>\",\"!\",\"i\",\"a\",\"\\\"\",\"the\",\"?\",\"you\",\"to\",\"(\",\"<allcaps>\",\"<elong>\",\")\",\"me\",\"de\",\"<smile>\",\"\\uff01\",\"que\",\"and\",\"\\u3002\",\"-\",\"my\",\"no\",\"\\u3001\",\"is\",\"it\",\"\\u2026\",\"in\",\"n\",\"for\",\"/\",\"of\",\"la\",\"'s\",\"*\",\"do\",\"n't\",\"that\",\"on\",\"y\",\"'\",\"e\",\"o\",\"u\",\"en\",\"this\",\"el\",\"so\",\"be\",\"'m\",\"with\",\"just\",\">\",\"your\",\"^\",\"like\",\"have\",\"te\",\"at\",\"\\uff1f\",\"love\",\"se\",\"are\",\"<\",\"m\",\"r\",\"if\",\"all\",\"b\",\"\\u30fb\",\"not\",\"but\",\"we\",\"es\",\"ya\",\"&\",\"follow\",\"up\",\"what\",\"get\",\"lol\",\"un\",\"\\u2665\",\"lo\",\"when\",\"was\",\"\\u201c\",\"\\u201d\",\"one\",\"por\",\"si\",\"out\",\"_\",\"mi\",\"can\",\"<sadface>\",\"\\u0645\\u0646\",\"\\u2661\",\"\\u00b4\",\"he\",\"con\",\"they\",\"now\",\"go\",\"\\u060c\",\"para\",\"los\",\"know\",\"haha\",\"good\",\"tu\",\"back\",\"~\",\"about\",\"new\",\";\",\"as\",\"day\",\"how\",\"who\",\"will\",\"want\",\"people\",\"yo\",\"eu\",\"from\",\"di\",\"time\",\"<heart>\",\"s\",\"aku\",\"da\",\"'re\",\"<lolface>\",\"una\",\"got\",\"las\",\"more\",\"x\",\"she\",\"today\",\"\\uff08\",\">>\",\"k\",\"by\",\"or\",\"\\u0641\\u064a\",\"\\uff65\",\"too\",\"le\",\"\\u00e9\",\"|\",\"[\",\"\\uff09\",\"]\",\"see\",\"why\",\"yg\",\"ca\",\"como\",\"her\",\"\\u2014\",\"q\",\"need\",\"an\",\"na\",\"\\u7b11\",\"there\",\"\\u03c9\",\"happy\",\"im\",\"mas\",\"je\",\"life\",\"really\",\"make\",\"yang\",\"shit\",\"think\",\"t\",\"\\u2764\",\"n\\u00e3o\",\"never\",\"some\",\"\\uff5e\",\"oh\",\"\\u2605\",\"did\",\"would\",\"del\",\"`\",\"d\",\"please\",\"via\",\"much\",\"fuck\",\"al\",\"dia\",\"$\",\"\\u0648\",\"right\",\"best\",\"c\",\"going\",\"\\u0627\\u0644\\u0644\\u0647\",\"pero\",\"only\",\"has\",\"\\u266a\",\"'ll\",\"twitter\",\"=\",\"hahaha\",\"its\",\"nn\",\"\\uff40\",\"\\u00bf\",\"am\",\"say\",\"<neutralface>\",\"them\",\"here\",\"\\u0644\\u0627\",\"off\",\"still\",\"dan\",\"+\",\"night\",\"w\",\"ada\",\"someone\",\"even\",\"then\",\"\\u2606\",\"ni\",\"come\",\"com\",\"always\",\"man\",\"'ve\",\"been\",\"his\",\"itu\",\"\\u0639\\u0644\\u0649\",\"-_-\",\"\\u263a\",\"over\",\"um\",\"\\u0645\\u0627\",\"hate\",\"girl\",\"ai\",\"had\",\"pra\",\"todo\",\"mais\",\"feel\",\"let\",\"ini\",\"because\",\"\\uff9f\",\"thanks\",\"ah\",\"way\",\"ever\",\"look\",\"tweet\",\"followers\",\"should\",\"our\",\"xd\",\"aja\",\"esta\",\"school\",\"him\",\"ser\",\"take\",\"than\",\"video\",\"em\",\"last\",\"wanna\",\"does\",\"us\",\"miss\",\"l\",\"ga\",\"better\",\"well\",\"could\",\"\\u25bd\",\"%\",\"apa\",\"cuando\",\"team\",\"\\u2714\",\"@\",\"ok\",\"\\u061f\",\"\\u2022\",\"vida\",\"quiero\",\"les\",\"being\",\"real\",\"down\",\"kamu\",\"everyone\",\"gonna\",\"live\",\"tonight\",\"yes\",\"work\",\"ass\",\"retweet\",\"nada\",\"sama\",\"first\",\"<<\",\"photo\",\"tomorrow\",\"where\",\"god\",\"son\",\"ke\",\"ta\",\"f\",\"home\",\"lagi\",\"thank\",\"birthday\",\"\\u2588\",\"ha\",\"great\",\"lmao\",\"omg\",\"morning\",\"m\\u00e1s\",\"mau\",\"baby\",\"dont\",\"\\uff61\",\"their\",\"p\",\"things\",\"game\",\"pas\",\"bad\",\"year\",\"yeah\",\"su\",\"bitch\",\"\\u0432\",\"stop\",\"hoy\",\"something\",\"meu\",\"tak\",\"gak\",\"world\",\"amor\",\"h\",\"\\\\\",\"ver\",\"\\uff1b\",\"porque\",\"give\",\"these\",\"\\u0627\\u0644\\u0644\\u0647\\u0645\",\"were\",\"hay\",\"sleep\",\"gue\",\"every\",\"friends\",\"uma\",\"tell\",\"amo\",\"vou\",\"bien\",\"\\u00a1\",\"again\",\"\\uff3e\",\"\\uff0f\",\"done\",\"after\",\"todos\",\"girls\",\"guys\",\"getting\",\"big\",\"wait\",\"justin\",\"eh\",\"\\u2192\",\"kan\",\"kita\",\"jajaja\",\"wish\",\"said\",\"fucking\",\"show\",\"thing\",\"next\",\"voc\\u00ea\",\"nos\",\"little\",\"tengo\",\"keep\",\"person\",\"''\",\"\\u2200\",\"hope\",\"\\u0643\\u0644\",\"hey\",\"bisa\",\"free\",\"made\",\"foto\",\"va\",\"everything\",\"iya\",\"nigga\",\"eso\",\"et\",\"watch\",\"music\",\"week\",\"talk\",\"ne\",\"solo\",\"gente\",\"udah\",\"\\uff1a\",\"--\",\"\\uff3c\",\"mejor\",\"facebook\",\"ma\",\"v\",\"phone\",\"most\",\"same\",\"okay\",\"ik\",\"before\",\"minha\",\"days\",\"g\",\"ti\",\"damn\",\"nice\",\"voy\",\"vai\",\"call\",\"long\",\"tapi\",\"http\",\"sin\",\"nunca\",\"doing\",\"other\",\"find\",\"il\",\"sa\",\"sorry\",\"nya\",\"orang\",\"\\u00b0\",\"hard\",\"mean\",\"die\",\"\\u0627\\u0644\\u0644\\u064a\",\"tem\",\"soy\",\"este\",\"kalo\",\"s\\u00f3\",\"th\",\"win\",\"nothing\",\"into\",\"face\",\"cute\",\"'d\",\"gracias\",\"lah\",\"\\u0438\",\"any\",\"play\",\"\\u2190\",\"ko\",\"text\",\"\\u2323\",\"estoy\",\"tau\",\"ur\",\"buat\",\"#\",\"cause\",\"\\u044f\",\"put\",\"kau\",\"siempre\",\"juga\",\"casa\",\"\\u0623\\u0646\",\"help\",\"start\",\"feliz\",\"old\",\"ir\",\"very\",\"care\",\"bir\",\"makes\",\"song\",\"check\",\"watching\",\"ahora\",\"jadi\",\"os\",\"may\",\"friend\",\"beautiful\",\"heart\",\"ka\",\"vc\",\"mundo\",\"\\u043d\\u0430\",\"sure\",\"tan\",\"pretty\",\"aqui\",\"\\u043d\\u0435\",\"house\",\"\\u0631\\u062a\\u0648\\u064a\\u062a\",\"\\u064a\\u0627\",\"ja\",\"true\",\"muy\",\"away\",\"already\",\"actually\",\"believe\",\"try\",\"many\",\"ma\\u00f1ana\",\"mis\",\"lu\",\"those\",\"hot\",\"qu\\u00e9\",\"mal\",\"\\u0639\\u0646\",\"though\",\"ask\",\"amazing\",\"bed\",\"}\",\"two\",\"mom\",\"d\\u00eda\",\"ve\",\"dari\",\"gameinsight\",\"stay\",\"fun\",\"around\",\"van\",\"cont\",\"ready\",\"money\",\"bu\",\"funny\",\"cool\",\"hair\",\"\\u00e0\",\"tho\",\"{\",\"wo\",\"hi\",\"name\",\"tiene\",\"hahahaha\",\"pa\",\"algo\",\"gotta\",\"\\u0648\\u0644\\u0627\",\"boy\",\"another\",\"c'est\",\"hari\",\"jajajaja\",\"having\",\"cara\",\"jaja\",\"dm\",\"looking\",\"top\",\"android\",\"dah\",\"wow\",\"\\u2591\",\"eres\",\"ben\",\"must\",\"news\",\"met\",\"est\\u00e1\",\"nih\",\"family\",\"black\",\"thought\",\"nak\",\"super\",\"end\",\"hace\",\"remember\",\"ama\",\"party\",\"cant\",\"vamos\",\"anything\",\"anyone\",\"\\u0641\\u0648\\u0644\\u0648\",\"perfect\",\"guy\",\"vez\",\"christmas\",\"dos\",\"bueno\",\"nao\",\"years\",\"vote\",\"dormir\",\"bro\",\"else\",\"quien\",\"untuk\",\"jangan\",\"myself\",\"head\",\"mind\",\"gua\",\"talking\",\"while\",\"dat\",\"food\",\"\\u0434\",\"coming\",\"wkwk\",\"trying\",\"saya\",\"mucho\",\"without\",\"wrong\",\"\\u2019s\",\"baru\",\"__\",\"hehe\",\"hacer\",\"lot\",\"followed\",\"crazy\",\"hell\",\"feeling\",\"des\",\"kok\",\"j\",\"stats\",\"j'\",\"\\u0627\\u0646\",\"tweets\",\"non\",\"cosas\",\"era\",\"high\",\"niggas\",\"change\",\"movie\",\"xx\",\"mad\",\"sih\",\"sometimes\",\"deh\",\"allah\",\"through\",\"pour\",\"ela\",\"soon\",\"gone\",\"playing\",\"smile\",\"bukan\",\"tv\",\"fans\",\"hasta\",\"akan\",\"y'\",\"looks\",\"isso\",\"\\u270c\",\"tired\",\"boys\",\"might\",\"dong\",\"lg\",\"use\",\"maybe\",\"until\",\"menos\",\"own\",\"dengan\",\"eat\",\"ou\",\"weekend\",\"\\u02d8\",\"class\",\"ele\",\"harry\",\"iphone\",\"friday\",\"single\",\"ff\",\"awesome\",\"bout\",\"muito\",\"hoje\",\"\\u00ac\",\"dios\",\"such\",\"estar\",\"j\\u00e1\",\"quando\",\"esa\",\"making\",\"\\u2501\",\"times\",\"lmfao\",\"gw\",\"moment\",\"yet\",\"aw\",\"smh\",\"banget\",\"masih\",\"qui\",\"quem\",\"\\u2013\",\"leave\",\"du\",\"une\",\"guess\",\"hit\",\"\\u0441\",\"pm\",\"since\",\"pues\",\"est\",\"job\",\"\\uff89\",\"mana\",\"bom\",\"siapa\",\"suka\",\"bieber\",\"mention\",\"lebih\",\"favorite\",\"bitches\",\"forever\",\"\\u0644\\u064a\",\"final\",\"read\",\"alguien\",\"open\",\"yourself\",\"ese\",\"che\",\"sex\",\"yaa\",\"car\",\"direction\",\"tidak\",\"seu\",\"gets\",\"left\",\"re\",\"jam\",\"enough\",\"\\u0625\\u0644\\u0627\",\"once\",\"\\u2019\",\"part\",\"cada\",\"\\u5b9a\\u671f\",\"\\u0644\\u0643\",\"een\",\"seen\",\"kak\",\"as\\u00ed\",\"nem\",\"\\u0639\\u0645\\u0644\",\"white\",\"told\",\"says\",\"esto\",\"sad\",\"mo\",\"fue\",\"yah\",\"summer\",\"\\u0647\",\"\\u2b55\",\"\\u00bb\",\"thats\",\"\\u0645\\u0639\",\"posted\",\"wants\",\"agora\",\"together\",\"fan\",\"men\",\"hear\",\"full\",\"\\u2600\",\"sigo\",\"pq\",\"dulu\",\"plus\",\"foi\",\"tudo\",\"\\u0647\\u0648\",\"ill\",\"\\u3042\",\"thinking\",\"wtf\",\"pagi\",\"mama\",\"kalau\",\"hati\",\"sexy\",\"sayang\",\"baik\",\"semua\",\"hola\",\"went\",\"vos\",\"tanto\",\"finally\",\"fb\",\"sea\",\"stupid\",\"tus\",\"seriously\",\"hora\",\"min\",\"pic\",\"estas\",\"turn\",\"hours\",\"excited\",\"nah\",\"buy\",\"saying\",\"mah\",\"break\",\"needs\",\"ce\",\"room\",\"choice\",\"far\",\"dead\",\"quero\",\"saw\",\"kids\",\"lil\",\"whole\",\"puede\",\"fall\",\"sus\",\"lost\",\"asi\",\"word\",\"\\u2639\",\"also\",\"\\u0631\\u064a\\u062a\\u0648\\u064a\\u062a\",\"probably\",\"everybody\",\"tarde\",\"run\",\"sei\",\"follback\",\"forget\",\"sweet\",\"welcome\",\"selamat\",\"\\uff3f\",\"sur\",\"place\",\"gusta\",\"sabe\",\"androidgames\",\"tp\",\"tiempo\",\"\\u0628\\u0633\",\"sou\",\"tuh\",\"vs\",\"eyes\",\"\\u0627\\u0646\\u0627\",\"picture\",\"das\",\"meet\",\"anak\",\"persona\",\"essa\",\"bored\",\"following\",\"nadie\",\"nobody\",\"dice\",\"alone\",\"sick\",\"red\",\"city\",\"cinta\",\"\\u6708\",\"linda\",\"dream\",\"story\",\"km\",\"het\",\"waiting\",\"^_^\",\"mine\",\"\\u0447\\u0442\\u043e\",\"reason\",\"kk\",\"\\u0644\\u0648\",\"online\",\"fast\",\"udh\",\"wanted\",\"op\",\"others\",\"gay\",\"n\\u2019t\",\"used\",\"sem\",\"understand\",\"moi\",\"sm\",\"aint\",\"donde\",\"bem\",\"which\",\"ng\",\"followback\",\"punya\",\"late\",\"anda\",\"tidur\",\"puedo\",\"early\",\"nd\",\"personas\",\"banyak\",\"\\u2705\",\"\\u278a\",\"trust\",\"noche\",\"tl\",\"\\uff1e\",\"\\u00ab\",\"af\",\"move\",\"pro\",\"bring\",\"ku\",\"called\",\"relationship\",\"idk\",\"hurt\",\"st\",\"pernah\",\"pessoas\",\"hello\",\"uno\",\"unfollowers\",\"cry\"]]]}}},\"view\":{\"type\":\"object\",\"name\":\"CDSView\",\"id\":\"p1045\",\"attributes\":{\"filter\":{\"type\":\"object\",\"name\":\"AllIndices\",\"id\":\"p1046\"}}},\"glyph\":{\"type\":\"object\",\"name\":\"Scatter\",\"id\":\"p1041\",\"attributes\":{\"x\":{\"type\":\"field\",\"field\":\"x\"},\"y\":{\"type\":\"field\",\"field\":\"y\"},\"size\":{\"type\":\"value\",\"value\":10},\"line_color\":{\"type\":\"field\",\"field\":\"color\"},\"line_alpha\":{\"type\":\"value\",\"value\":0.25},\"fill_color\":{\"type\":\"field\",\"field\":\"color\"},\"fill_alpha\":{\"type\":\"value\",\"value\":0.25},\"hatch_color\":{\"type\":\"field\",\"field\":\"color\"},\"hatch_alpha\":{\"type\":\"value\",\"value\":0.25}}},\"nonselection_glyph\":{\"type\":\"object\",\"name\":\"Scatter\",\"id\":\"p1042\",\"attributes\":{\"x\":{\"type\":\"field\",\"field\":\"x\"},\"y\":{\"type\":\"field\",\"field\":\"y\"},\"size\":{\"type\":\"value\",\"value\":10},\"line_color\":{\"type\":\"field\",\"field\":\"color\"},\"line_alpha\":{\"type\":\"value\",\"value\":0.1},\"fill_color\":{\"type\":\"field\",\"field\":\"color\"},\"fill_alpha\":{\"type\":\"value\",\"value\":0.1},\"hatch_color\":{\"type\":\"field\",\"field\":\"color\"},\"hatch_alpha\":{\"type\":\"value\",\"value\":0.1}}},\"muted_glyph\":{\"type\":\"object\",\"name\":\"Scatter\",\"id\":\"p1043\",\"attributes\":{\"x\":{\"type\":\"field\",\"field\":\"x\"},\"y\":{\"type\":\"field\",\"field\":\"y\"},\"size\":{\"type\":\"value\",\"value\":10},\"line_color\":{\"type\":\"field\",\"field\":\"color\"},\"line_alpha\":{\"type\":\"value\",\"value\":0.2},\"fill_color\":{\"type\":\"field\",\"field\":\"color\"},\"fill_alpha\":{\"type\":\"value\",\"value\":0.2},\"hatch_color\":{\"type\":\"field\",\"field\":\"color\"},\"hatch_alpha\":{\"type\":\"value\",\"value\":0.2}}}}}],\"toolbar\":{\"type\":\"object\",\"name\":\"Toolbar\",\"id\":\"p1012\",\"attributes\":{\"tools\":[{\"type\":\"object\",\"name\":\"PanTool\",\"id\":\"p1025\"},{\"type\":\"object\",\"name\":\"WheelZoomTool\",\"id\":\"p1026\",\"attributes\":{\"renderers\":\"auto\"}},{\"type\":\"object\",\"name\":\"BoxZoomTool\",\"id\":\"p1027\",\"attributes\":{\"overlay\":{\"type\":\"object\",\"name\":\"BoxAnnotation\",\"id\":\"p1028\",\"attributes\":{\"syncable\":false,\"line_color\":\"black\",\"line_alpha\":1.0,\"line_width\":2,\"line_dash\":[4,4],\"fill_color\":\"lightgrey\",\"fill_alpha\":0.5,\"level\":\"overlay\",\"visible\":false,\"left\":{\"type\":\"number\",\"value\":\"nan\"},\"right\":{\"type\":\"number\",\"value\":\"nan\"},\"top\":{\"type\":\"number\",\"value\":\"nan\"},\"bottom\":{\"type\":\"number\",\"value\":\"nan\"},\"left_units\":\"canvas\",\"right_units\":\"canvas\",\"top_units\":\"canvas\",\"bottom_units\":\"canvas\",\"handles\":{\"type\":\"object\",\"name\":\"BoxInteractionHandles\",\"id\":\"p1034\",\"attributes\":{\"all\":{\"type\":\"object\",\"name\":\"AreaVisuals\",\"id\":\"p1033\",\"attributes\":{\"fill_color\":\"white\",\"hover_fill_color\":\"lightgray\"}}}}}}}},{\"type\":\"object\",\"name\":\"SaveTool\",\"id\":\"p1035\"},{\"type\":\"object\",\"name\":\"ResetTool\",\"id\":\"p1036\"},{\"type\":\"object\",\"name\":\"HelpTool\",\"id\":\"p1037\"},{\"type\":\"object\",\"name\":\"HoverTool\",\"id\":\"p1047\",\"attributes\":{\"renderers\":\"auto\",\"tooltips\":[[\"token\",\"@token\"]]}}],\"active_scroll\":{\"id\":\"p1026\"}}},\"left\":[{\"type\":\"object\",\"name\":\"LinearAxis\",\"id\":\"p1020\",\"attributes\":{\"ticker\":{\"type\":\"object\",\"name\":\"BasicTicker\",\"id\":\"p1021\",\"attributes\":{\"mantissas\":[1,2,5]}},\"formatter\":{\"type\":\"object\",\"name\":\"BasicTickFormatter\",\"id\":\"p1022\"},\"major_label_policy\":{\"type\":\"object\",\"name\":\"AllLabels\",\"id\":\"p1023\"}}}],\"below\":[{\"type\":\"object\",\"name\":\"LinearAxis\",\"id\":\"p1015\",\"attributes\":{\"ticker\":{\"type\":\"object\",\"name\":\"BasicTicker\",\"id\":\"p1016\",\"attributes\":{\"mantissas\":[1,2,5]}},\"formatter\":{\"type\":\"object\",\"name\":\"BasicTickFormatter\",\"id\":\"p1017\"},\"major_label_policy\":{\"type\":\"object\",\"name\":\"AllLabels\",\"id\":\"p1018\"}}}],\"center\":[{\"type\":\"object\",\"name\":\"Grid\",\"id\":\"p1019\",\"attributes\":{\"axis\":{\"id\":\"p1015\"}}},{\"type\":\"object\",\"name\":\"Grid\",\"id\":\"p1024\",\"attributes\":{\"dimension\":1,\"axis\":{\"id\":\"p1020\"}}}]}}]}};\n",
              "  const render_items = [{\"docid\":\"5e8a6b77-b050-403b-9c70-ef59d107ca4a\",\"roots\":{\"p1004\":\"fd01c166-94fd-4a58-af34-9e06d5b05e1e\"},\"root_ids\":[\"p1004\"]}];\n",
              "  void root.Bokeh.embed.embed_items_notebook(docs_json, render_items);\n",
              "  }\n",
              "  if (root.Bokeh !== undefined) {\n",
              "    embed_document(root);\n",
              "  } else {\n",
              "    let attempts = 0;\n",
              "    const timer = setInterval(function(root) {\n",
              "      if (root.Bokeh !== undefined) {\n",
              "        clearInterval(timer);\n",
              "        embed_document(root);\n",
              "      } else {\n",
              "        attempts++;\n",
              "        if (attempts > 100) {\n",
              "          clearInterval(timer);\n",
              "          console.log(\"Bokeh: ERROR: Unable to run BokehJS code because BokehJS library is missing\");\n",
              "        }\n",
              "      }\n",
              "    }, 10, root)\n",
              "  }\n",
              "})(window);"
            ],
            "application/vnd.bokehjs_exec.v0+json": ""
          },
          "metadata": {
            "application/vnd.bokehjs_exec.v0+json": {
              "id": "p1004"
            }
          }
        },
        {
          "output_type": "execute_result",
          "data": {
            "text/plain": [
              "figure(id='p1004', ...)"
            ],
            "text/html": [
              "<div style=\"display: table;\"><div style=\"display: table-row;\"><div style=\"display: table-cell;\"><b title=\"bokeh.plotting._figure.figure\">figure</b>(</div><div style=\"display: table-cell;\">id&nbsp;=&nbsp;'p1004', <span id=\"p1051\" style=\"cursor: pointer;\">&hellip;)</span></div></div><div class=\"p1050\" style=\"display: none;\"><div style=\"display: table-cell;\"></div><div style=\"display: table-cell;\">above&nbsp;=&nbsp;[],</div></div><div class=\"p1050\" style=\"display: none;\"><div style=\"display: table-cell;\"></div><div style=\"display: table-cell;\">align&nbsp;=&nbsp;'auto',</div></div><div class=\"p1050\" style=\"display: none;\"><div style=\"display: table-cell;\"></div><div style=\"display: table-cell;\">aspect_ratio&nbsp;=&nbsp;None,</div></div><div class=\"p1050\" style=\"display: none;\"><div style=\"display: table-cell;\"></div><div style=\"display: table-cell;\">aspect_scale&nbsp;=&nbsp;1,</div></div><div class=\"p1050\" style=\"display: none;\"><div style=\"display: table-cell;\"></div><div style=\"display: table-cell;\">attribution&nbsp;=&nbsp;[],</div></div><div class=\"p1050\" style=\"display: none;\"><div style=\"display: table-cell;\"></div><div style=\"display: table-cell;\">background_fill_alpha&nbsp;=&nbsp;1.0,</div></div><div class=\"p1050\" style=\"display: none;\"><div style=\"display: table-cell;\"></div><div style=\"display: table-cell;\">background_fill_color&nbsp;=&nbsp;'#ffffff',</div></div><div class=\"p1050\" style=\"display: none;\"><div style=\"display: table-cell;\"></div><div style=\"display: table-cell;\">below&nbsp;=&nbsp;[LinearAxis(id='p1015', ...)],</div></div><div class=\"p1050\" style=\"display: none;\"><div style=\"display: table-cell;\"></div><div style=\"display: table-cell;\">border_fill_alpha&nbsp;=&nbsp;1.0,</div></div><div class=\"p1050\" style=\"display: none;\"><div style=\"display: table-cell;\"></div><div style=\"display: table-cell;\">border_fill_color&nbsp;=&nbsp;'#ffffff',</div></div><div class=\"p1050\" style=\"display: none;\"><div style=\"display: table-cell;\"></div><div style=\"display: table-cell;\">center&nbsp;=&nbsp;[Grid(id='p1019', ...), Grid(id='p1024', ...)],</div></div><div class=\"p1050\" style=\"display: none;\"><div style=\"display: table-cell;\"></div><div style=\"display: table-cell;\">context_menu&nbsp;=&nbsp;None,</div></div><div class=\"p1050\" style=\"display: none;\"><div style=\"display: table-cell;\"></div><div style=\"display: table-cell;\">css_classes&nbsp;=&nbsp;[],</div></div><div class=\"p1050\" style=\"display: none;\"><div style=\"display: table-cell;\"></div><div style=\"display: table-cell;\">css_variables&nbsp;=&nbsp;{},</div></div><div class=\"p1050\" style=\"display: none;\"><div style=\"display: table-cell;\"></div><div style=\"display: table-cell;\">disabled&nbsp;=&nbsp;False,</div></div><div class=\"p1050\" style=\"display: none;\"><div style=\"display: table-cell;\"></div><div style=\"display: table-cell;\">elements&nbsp;=&nbsp;[],</div></div><div class=\"p1050\" style=\"display: none;\"><div style=\"display: table-cell;\"></div><div style=\"display: table-cell;\">extra_x_ranges&nbsp;=&nbsp;{},</div></div><div class=\"p1050\" style=\"display: none;\"><div style=\"display: table-cell;\"></div><div style=\"display: table-cell;\">extra_x_scales&nbsp;=&nbsp;{},</div></div><div class=\"p1050\" style=\"display: none;\"><div style=\"display: table-cell;\"></div><div style=\"display: table-cell;\">extra_y_ranges&nbsp;=&nbsp;{},</div></div><div class=\"p1050\" style=\"display: none;\"><div style=\"display: table-cell;\"></div><div style=\"display: table-cell;\">extra_y_scales&nbsp;=&nbsp;{},</div></div><div class=\"p1050\" style=\"display: none;\"><div style=\"display: table-cell;\"></div><div style=\"display: table-cell;\">flow_mode&nbsp;=&nbsp;'block',</div></div><div class=\"p1050\" style=\"display: none;\"><div style=\"display: table-cell;\"></div><div style=\"display: table-cell;\">frame_align&nbsp;=&nbsp;True,</div></div><div class=\"p1050\" style=\"display: none;\"><div style=\"display: table-cell;\"></div><div style=\"display: table-cell;\">frame_height&nbsp;=&nbsp;None,</div></div><div class=\"p1050\" style=\"display: none;\"><div style=\"display: table-cell;\"></div><div style=\"display: table-cell;\">frame_width&nbsp;=&nbsp;None,</div></div><div class=\"p1050\" style=\"display: none;\"><div style=\"display: table-cell;\"></div><div style=\"display: table-cell;\">height&nbsp;=&nbsp;400,</div></div><div class=\"p1050\" style=\"display: none;\"><div style=\"display: table-cell;\"></div><div style=\"display: table-cell;\">height_policy&nbsp;=&nbsp;'auto',</div></div><div class=\"p1050\" style=\"display: none;\"><div style=\"display: table-cell;\"></div><div style=\"display: table-cell;\">hidpi&nbsp;=&nbsp;True,</div></div><div class=\"p1050\" style=\"display: none;\"><div style=\"display: table-cell;\"></div><div style=\"display: table-cell;\">hold_render&nbsp;=&nbsp;False,</div></div><div class=\"p1050\" style=\"display: none;\"><div style=\"display: table-cell;\"></div><div style=\"display: table-cell;\">js_event_callbacks&nbsp;=&nbsp;{},</div></div><div class=\"p1050\" style=\"display: none;\"><div style=\"display: table-cell;\"></div><div style=\"display: table-cell;\">js_property_callbacks&nbsp;=&nbsp;{},</div></div><div class=\"p1050\" style=\"display: none;\"><div style=\"display: table-cell;\"></div><div style=\"display: table-cell;\">left&nbsp;=&nbsp;[LinearAxis(id='p1020', ...)],</div></div><div class=\"p1050\" style=\"display: none;\"><div style=\"display: table-cell;\"></div><div style=\"display: table-cell;\">lod_factor&nbsp;=&nbsp;10,</div></div><div class=\"p1050\" style=\"display: none;\"><div style=\"display: table-cell;\"></div><div style=\"display: table-cell;\">lod_interval&nbsp;=&nbsp;300,</div></div><div class=\"p1050\" style=\"display: none;\"><div style=\"display: table-cell;\"></div><div style=\"display: table-cell;\">lod_threshold&nbsp;=&nbsp;2000,</div></div><div class=\"p1050\" style=\"display: none;\"><div style=\"display: table-cell;\"></div><div style=\"display: table-cell;\">lod_timeout&nbsp;=&nbsp;500,</div></div><div class=\"p1050\" style=\"display: none;\"><div style=\"display: table-cell;\"></div><div style=\"display: table-cell;\">margin&nbsp;=&nbsp;None,</div></div><div class=\"p1050\" style=\"display: none;\"><div style=\"display: table-cell;\"></div><div style=\"display: table-cell;\">match_aspect&nbsp;=&nbsp;False,</div></div><div class=\"p1050\" style=\"display: none;\"><div style=\"display: table-cell;\"></div><div style=\"display: table-cell;\">max_height&nbsp;=&nbsp;None,</div></div><div class=\"p1050\" style=\"display: none;\"><div style=\"display: table-cell;\"></div><div style=\"display: table-cell;\">max_width&nbsp;=&nbsp;None,</div></div><div class=\"p1050\" style=\"display: none;\"><div style=\"display: table-cell;\"></div><div style=\"display: table-cell;\">min_border&nbsp;=&nbsp;5,</div></div><div class=\"p1050\" style=\"display: none;\"><div style=\"display: table-cell;\"></div><div style=\"display: table-cell;\">min_border_bottom&nbsp;=&nbsp;None,</div></div><div class=\"p1050\" style=\"display: none;\"><div style=\"display: table-cell;\"></div><div style=\"display: table-cell;\">min_border_left&nbsp;=&nbsp;None,</div></div><div class=\"p1050\" style=\"display: none;\"><div style=\"display: table-cell;\"></div><div style=\"display: table-cell;\">min_border_right&nbsp;=&nbsp;None,</div></div><div class=\"p1050\" style=\"display: none;\"><div style=\"display: table-cell;\"></div><div style=\"display: table-cell;\">min_border_top&nbsp;=&nbsp;None,</div></div><div class=\"p1050\" style=\"display: none;\"><div style=\"display: table-cell;\"></div><div style=\"display: table-cell;\">min_height&nbsp;=&nbsp;None,</div></div><div class=\"p1050\" style=\"display: none;\"><div style=\"display: table-cell;\"></div><div style=\"display: table-cell;\">min_width&nbsp;=&nbsp;None,</div></div><div class=\"p1050\" style=\"display: none;\"><div style=\"display: table-cell;\"></div><div style=\"display: table-cell;\">name&nbsp;=&nbsp;None,</div></div><div class=\"p1050\" style=\"display: none;\"><div style=\"display: table-cell;\"></div><div style=\"display: table-cell;\">outline_line_alpha&nbsp;=&nbsp;1.0,</div></div><div class=\"p1050\" style=\"display: none;\"><div style=\"display: table-cell;\"></div><div style=\"display: table-cell;\">outline_line_cap&nbsp;=&nbsp;'butt',</div></div><div class=\"p1050\" style=\"display: none;\"><div style=\"display: table-cell;\"></div><div style=\"display: table-cell;\">outline_line_color&nbsp;=&nbsp;'#e5e5e5',</div></div><div class=\"p1050\" style=\"display: none;\"><div style=\"display: table-cell;\"></div><div style=\"display: table-cell;\">outline_line_dash&nbsp;=&nbsp;[],</div></div><div class=\"p1050\" style=\"display: none;\"><div style=\"display: table-cell;\"></div><div style=\"display: table-cell;\">outline_line_dash_offset&nbsp;=&nbsp;0,</div></div><div class=\"p1050\" style=\"display: none;\"><div style=\"display: table-cell;\"></div><div style=\"display: table-cell;\">outline_line_join&nbsp;=&nbsp;'bevel',</div></div><div class=\"p1050\" style=\"display: none;\"><div style=\"display: table-cell;\"></div><div style=\"display: table-cell;\">outline_line_width&nbsp;=&nbsp;1,</div></div><div class=\"p1050\" style=\"display: none;\"><div style=\"display: table-cell;\"></div><div style=\"display: table-cell;\">output_backend&nbsp;=&nbsp;'canvas',</div></div><div class=\"p1050\" style=\"display: none;\"><div style=\"display: table-cell;\"></div><div style=\"display: table-cell;\">renderers&nbsp;=&nbsp;[GlyphRenderer(id='p1044', ...)],</div></div><div class=\"p1050\" style=\"display: none;\"><div style=\"display: table-cell;\"></div><div style=\"display: table-cell;\">reset_policy&nbsp;=&nbsp;'standard',</div></div><div class=\"p1050\" style=\"display: none;\"><div style=\"display: table-cell;\"></div><div style=\"display: table-cell;\">resizable&nbsp;=&nbsp;False,</div></div><div class=\"p1050\" style=\"display: none;\"><div style=\"display: table-cell;\"></div><div style=\"display: table-cell;\">right&nbsp;=&nbsp;[],</div></div><div class=\"p1050\" style=\"display: none;\"><div style=\"display: table-cell;\"></div><div style=\"display: table-cell;\">sizing_mode&nbsp;=&nbsp;None,</div></div><div class=\"p1050\" style=\"display: none;\"><div style=\"display: table-cell;\"></div><div style=\"display: table-cell;\">styles&nbsp;=&nbsp;{},</div></div><div class=\"p1050\" style=\"display: none;\"><div style=\"display: table-cell;\"></div><div style=\"display: table-cell;\">stylesheets&nbsp;=&nbsp;[],</div></div><div class=\"p1050\" style=\"display: none;\"><div style=\"display: table-cell;\"></div><div style=\"display: table-cell;\">subscribed_events&nbsp;=&nbsp;PropertyValueSet(),</div></div><div class=\"p1050\" style=\"display: none;\"><div style=\"display: table-cell;\"></div><div style=\"display: table-cell;\">syncable&nbsp;=&nbsp;True,</div></div><div class=\"p1050\" style=\"display: none;\"><div style=\"display: table-cell;\"></div><div style=\"display: table-cell;\">tags&nbsp;=&nbsp;[],</div></div><div class=\"p1050\" style=\"display: none;\"><div style=\"display: table-cell;\"></div><div style=\"display: table-cell;\">title&nbsp;=&nbsp;Title(id='p1011', ...),</div></div><div class=\"p1050\" style=\"display: none;\"><div style=\"display: table-cell;\"></div><div style=\"display: table-cell;\">title_location&nbsp;=&nbsp;'above',</div></div><div class=\"p1050\" style=\"display: none;\"><div style=\"display: table-cell;\"></div><div style=\"display: table-cell;\">toolbar&nbsp;=&nbsp;Toolbar(id='p1012', ...),</div></div><div class=\"p1050\" style=\"display: none;\"><div style=\"display: table-cell;\"></div><div style=\"display: table-cell;\">toolbar_inner&nbsp;=&nbsp;False,</div></div><div class=\"p1050\" style=\"display: none;\"><div style=\"display: table-cell;\"></div><div style=\"display: table-cell;\">toolbar_location&nbsp;=&nbsp;'right',</div></div><div class=\"p1050\" style=\"display: none;\"><div style=\"display: table-cell;\"></div><div style=\"display: table-cell;\">toolbar_sticky&nbsp;=&nbsp;True,</div></div><div class=\"p1050\" style=\"display: none;\"><div style=\"display: table-cell;\"></div><div style=\"display: table-cell;\">visible&nbsp;=&nbsp;True,</div></div><div class=\"p1050\" style=\"display: none;\"><div style=\"display: table-cell;\"></div><div style=\"display: table-cell;\">width&nbsp;=&nbsp;600,</div></div><div class=\"p1050\" style=\"display: none;\"><div style=\"display: table-cell;\"></div><div style=\"display: table-cell;\">width_policy&nbsp;=&nbsp;'auto',</div></div><div class=\"p1050\" style=\"display: none;\"><div style=\"display: table-cell;\"></div><div style=\"display: table-cell;\">x_range&nbsp;=&nbsp;DataRange1d(id='p1005', ...),</div></div><div class=\"p1050\" style=\"display: none;\"><div style=\"display: table-cell;\"></div><div style=\"display: table-cell;\">x_scale&nbsp;=&nbsp;LinearScale(id='p1013', ...),</div></div><div class=\"p1050\" style=\"display: none;\"><div style=\"display: table-cell;\"></div><div style=\"display: table-cell;\">y_range&nbsp;=&nbsp;DataRange1d(id='p1006', ...),</div></div><div class=\"p1050\" style=\"display: none;\"><div style=\"display: table-cell;\"></div><div style=\"display: table-cell;\">y_scale&nbsp;=&nbsp;LinearScale(id='p1014', ...))</div></div></div>\n",
              "<script>\n",
              "(function() {\n",
              "  let expanded = false;\n",
              "  const ellipsis = document.getElementById(\"p1051\");\n",
              "  ellipsis.addEventListener(\"click\", function() {\n",
              "    const rows = document.getElementsByClassName(\"p1050\");\n",
              "    for (let i = 0; i < rows.length; i++) {\n",
              "      const el = rows[i];\n",
              "      el.style.display = expanded ? \"none\" : \"table-row\";\n",
              "    }\n",
              "    ellipsis.innerHTML = expanded ? \"&hellip;)\" : \"&lsaquo;&lsaquo;&lsaquo;\";\n",
              "    expanded = !expanded;\n",
              "  });\n",
              "})();\n",
              "</script>\n"
            ]
          },
          "metadata": {},
          "execution_count": 20
        }
      ],
      "source": [
        "draw_vectors(word_vectors_pca[:, 0], word_vectors_pca[:, 1], token=words)\n",
        "\n",
        "# hover a mouse over there and see if you can identify the clusters"
      ]
    },
    {
      "cell_type": "markdown",
      "metadata": {
        "id": "O8eD22FV2261"
      },
      "source": [
        "### Visualizing neighbors with t-SNE\n",
        "PCA is nice but it's strictly linear and thus only able to capture coarse high-level structure of the data.\n",
        "\n",
        "If we instead want to focus on keeping neighboring points near, we could use TSNE, which is itself an embedding method. Here you can play __[with TSNE](https://projector.tensorflow.org/)__."
      ]
    },
    {
      "cell_type": "code",
      "execution_count": 21,
      "metadata": {
        "id": "ijtSeFIV2261",
        "outputId": "ff647584-6deb-46cf-fe8f-5c2988503944",
        "colab": {
          "base_uri": "https://localhost:8080/"
        }
      },
      "outputs": [
        {
          "output_type": "stream",
          "name": "stderr",
          "text": [
            "/usr/local/lib/python3.11/dist-packages/sklearn/manifold/_t_sne.py:1164: FutureWarning: 'n_iter' was renamed to 'max_iter' in version 1.5 and will be removed in 1.7.\n",
            "  warnings.warn(\n"
          ]
        }
      ],
      "source": [
        "from sklearn.manifold import TSNE\n",
        "\n",
        "# map word vectors onto 2d plane with TSNE. hint: don't panic it may take a minute or two to fit.\n",
        "# normalize them as just lke with pca\n",
        "\n",
        "tsne = TSNE(n_components=2, perplexity=30, n_iter=1000, random_state=42)\n",
        "word_tsne = tsne.fit_transform(word_vectors)"
      ]
    },
    {
      "cell_type": "code",
      "execution_count": 22,
      "metadata": {
        "collapsed": true,
        "scrolled": false,
        "id": "HGpzfK5U2262",
        "outputId": "bec7033b-c210-47a2-9980-8e391caf1e48",
        "colab": {
          "base_uri": "https://localhost:8080/",
          "height": 434
        }
      },
      "outputs": [
        {
          "output_type": "display_data",
          "data": {
            "application/javascript": [
              "'use strict';\n",
              "(function(root) {\n",
              "  function now() {\n",
              "    return new Date();\n",
              "  }\n",
              "\n",
              "  const force = true;\n",
              "\n",
              "  if (typeof root._bokeh_onload_callbacks === \"undefined\" || force === true) {\n",
              "    root._bokeh_onload_callbacks = [];\n",
              "    root._bokeh_is_loading = undefined;\n",
              "  }\n",
              "\n",
              "const JS_MIME_TYPE = 'application/javascript';\n",
              "  const HTML_MIME_TYPE = 'text/html';\n",
              "  const EXEC_MIME_TYPE = 'application/vnd.bokehjs_exec.v0+json';\n",
              "  const CLASS_NAME = 'output_bokeh rendered_html';\n",
              "\n",
              "  /**\n",
              "   * Render data to the DOM node\n",
              "   */\n",
              "  function render(props, node) {\n",
              "    const script = document.createElement(\"script\");\n",
              "    node.appendChild(script);\n",
              "  }\n",
              "\n",
              "  /**\n",
              "   * Handle when an output is cleared or removed\n",
              "   */\n",
              "  function handleClearOutput(event, handle) {\n",
              "    function drop(id) {\n",
              "      const view = Bokeh.index.get_by_id(id)\n",
              "      if (view != null) {\n",
              "        view.model.document.clear()\n",
              "        Bokeh.index.delete(view)\n",
              "      }\n",
              "    }\n",
              "\n",
              "    const cell = handle.cell;\n",
              "\n",
              "    const id = cell.output_area._bokeh_element_id;\n",
              "    const server_id = cell.output_area._bokeh_server_id;\n",
              "\n",
              "    // Clean up Bokeh references\n",
              "    if (id != null) {\n",
              "      drop(id)\n",
              "    }\n",
              "\n",
              "    if (server_id !== undefined) {\n",
              "      // Clean up Bokeh references\n",
              "      const cmd_clean = \"from bokeh.io.state import curstate; print(curstate().uuid_to_server['\" + server_id + \"'].get_sessions()[0].document.roots[0]._id)\";\n",
              "      cell.notebook.kernel.execute(cmd_clean, {\n",
              "        iopub: {\n",
              "          output: function(msg) {\n",
              "            const id = msg.content.text.trim()\n",
              "            drop(id)\n",
              "          }\n",
              "        }\n",
              "      });\n",
              "      // Destroy server and session\n",
              "      const cmd_destroy = \"import bokeh.io.notebook as ion; ion.destroy_server('\" + server_id + \"')\";\n",
              "      cell.notebook.kernel.execute(cmd_destroy);\n",
              "    }\n",
              "  }\n",
              "\n",
              "  /**\n",
              "   * Handle when a new output is added\n",
              "   */\n",
              "  function handleAddOutput(event, handle) {\n",
              "    const output_area = handle.output_area;\n",
              "    const output = handle.output;\n",
              "\n",
              "    // limit handleAddOutput to display_data with EXEC_MIME_TYPE content only\n",
              "    if ((output.output_type != \"display_data\") || (!Object.prototype.hasOwnProperty.call(output.data, EXEC_MIME_TYPE))) {\n",
              "      return\n",
              "    }\n",
              "\n",
              "    const toinsert = output_area.element.find(\".\" + CLASS_NAME.split(' ')[0]);\n",
              "\n",
              "    if (output.metadata[EXEC_MIME_TYPE][\"id\"] !== undefined) {\n",
              "      toinsert[toinsert.length - 1].firstChild.textContent = output.data[JS_MIME_TYPE];\n",
              "      // store reference to embed id on output_area\n",
              "      output_area._bokeh_element_id = output.metadata[EXEC_MIME_TYPE][\"id\"];\n",
              "    }\n",
              "    if (output.metadata[EXEC_MIME_TYPE][\"server_id\"] !== undefined) {\n",
              "      const bk_div = document.createElement(\"div\");\n",
              "      bk_div.innerHTML = output.data[HTML_MIME_TYPE];\n",
              "      const script_attrs = bk_div.children[0].attributes;\n",
              "      for (let i = 0; i < script_attrs.length; i++) {\n",
              "        toinsert[toinsert.length - 1].firstChild.setAttribute(script_attrs[i].name, script_attrs[i].value);\n",
              "        toinsert[toinsert.length - 1].firstChild.textContent = bk_div.children[0].textContent\n",
              "      }\n",
              "      // store reference to server id on output_area\n",
              "      output_area._bokeh_server_id = output.metadata[EXEC_MIME_TYPE][\"server_id\"];\n",
              "    }\n",
              "  }\n",
              "\n",
              "  function register_renderer(events, OutputArea) {\n",
              "\n",
              "    function append_mime(data, metadata, element) {\n",
              "      // create a DOM node to render to\n",
              "      const toinsert = this.create_output_subarea(\n",
              "        metadata,\n",
              "        CLASS_NAME,\n",
              "        EXEC_MIME_TYPE\n",
              "      );\n",
              "      this.keyboard_manager.register_events(toinsert);\n",
              "      // Render to node\n",
              "      const props = {data: data, metadata: metadata[EXEC_MIME_TYPE]};\n",
              "      render(props, toinsert[toinsert.length - 1]);\n",
              "      element.append(toinsert);\n",
              "      return toinsert\n",
              "    }\n",
              "\n",
              "    /* Handle when an output is cleared or removed */\n",
              "    events.on('clear_output.CodeCell', handleClearOutput);\n",
              "    events.on('delete.Cell', handleClearOutput);\n",
              "\n",
              "    /* Handle when a new output is added */\n",
              "    events.on('output_added.OutputArea', handleAddOutput);\n",
              "\n",
              "    /**\n",
              "     * Register the mime type and append_mime function with output_area\n",
              "     */\n",
              "    OutputArea.prototype.register_mime_type(EXEC_MIME_TYPE, append_mime, {\n",
              "      /* Is output safe? */\n",
              "      safe: true,\n",
              "      /* Index of renderer in `output_area.display_order` */\n",
              "      index: 0\n",
              "    });\n",
              "  }\n",
              "\n",
              "  // register the mime type if in Jupyter Notebook environment and previously unregistered\n",
              "  if (root.Jupyter !== undefined) {\n",
              "    const events = require('base/js/events');\n",
              "    const OutputArea = require('notebook/js/outputarea').OutputArea;\n",
              "\n",
              "    if (OutputArea.prototype.mime_types().indexOf(EXEC_MIME_TYPE) == -1) {\n",
              "      register_renderer(events, OutputArea);\n",
              "    }\n",
              "  }\n",
              "  if (typeof (root._bokeh_timeout) === \"undefined\" || force === true) {\n",
              "    root._bokeh_timeout = Date.now() + 5000;\n",
              "    root._bokeh_failed_load = false;\n",
              "  }\n",
              "\n",
              "  const NB_LOAD_WARNING = {'data': {'text/html':\n",
              "     \"<div style='background-color: #fdd'>\\n\"+\n",
              "     \"<p>\\n\"+\n",
              "     \"BokehJS does not appear to have successfully loaded. If loading BokehJS from CDN, this \\n\"+\n",
              "     \"may be due to a slow or bad network connection. Possible fixes:\\n\"+\n",
              "     \"</p>\\n\"+\n",
              "     \"<ul>\\n\"+\n",
              "     \"<li>re-rerun `output_notebook()` to attempt to load from CDN again, or</li>\\n\"+\n",
              "     \"<li>use INLINE resources instead, as so:</li>\\n\"+\n",
              "     \"</ul>\\n\"+\n",
              "     \"<code>\\n\"+\n",
              "     \"from bokeh.resources import INLINE\\n\"+\n",
              "     \"output_notebook(resources=INLINE)\\n\"+\n",
              "     \"</code>\\n\"+\n",
              "     \"</div>\"}};\n",
              "\n",
              "  function display_loaded(error = null) {\n",
              "    const el = document.getElementById(null);\n",
              "    if (el != null) {\n",
              "      const html = (() => {\n",
              "        if (typeof root.Bokeh === \"undefined\") {\n",
              "          if (error == null) {\n",
              "            return \"BokehJS is loading ...\";\n",
              "          } else {\n",
              "            return \"BokehJS failed to load.\";\n",
              "          }\n",
              "        } else {\n",
              "          const prefix = `BokehJS ${root.Bokeh.version}`;\n",
              "          if (error == null) {\n",
              "            return `${prefix} successfully loaded.`;\n",
              "          } else {\n",
              "            return `${prefix} <b>encountered errors</b> while loading and may not function as expected.`;\n",
              "          }\n",
              "        }\n",
              "      })();\n",
              "      el.innerHTML = html;\n",
              "\n",
              "      if (error != null) {\n",
              "        const wrapper = document.createElement(\"div\");\n",
              "        wrapper.style.overflow = \"auto\";\n",
              "        wrapper.style.height = \"5em\";\n",
              "        wrapper.style.resize = \"vertical\";\n",
              "        const content = document.createElement(\"div\");\n",
              "        content.style.fontFamily = \"monospace\";\n",
              "        content.style.whiteSpace = \"pre-wrap\";\n",
              "        content.style.backgroundColor = \"rgb(255, 221, 221)\";\n",
              "        content.textContent = error.stack ?? error.toString();\n",
              "        wrapper.append(content);\n",
              "        el.append(wrapper);\n",
              "      }\n",
              "    } else if (Date.now() < root._bokeh_timeout) {\n",
              "      setTimeout(() => display_loaded(error), 100);\n",
              "    }\n",
              "  }\n",
              "\n",
              "  function run_callbacks() {\n",
              "    try {\n",
              "      root._bokeh_onload_callbacks.forEach(function(callback) {\n",
              "        if (callback != null)\n",
              "          callback();\n",
              "      });\n",
              "    } finally {\n",
              "      delete root._bokeh_onload_callbacks\n",
              "    }\n",
              "    console.debug(\"Bokeh: all callbacks have finished\");\n",
              "  }\n",
              "\n",
              "  function load_libs(css_urls, js_urls, callback) {\n",
              "    if (css_urls == null) css_urls = [];\n",
              "    if (js_urls == null) js_urls = [];\n",
              "\n",
              "    root._bokeh_onload_callbacks.push(callback);\n",
              "    if (root._bokeh_is_loading > 0) {\n",
              "      console.debug(\"Bokeh: BokehJS is being loaded, scheduling callback at\", now());\n",
              "      return null;\n",
              "    }\n",
              "    if (js_urls == null || js_urls.length === 0) {\n",
              "      run_callbacks();\n",
              "      return null;\n",
              "    }\n",
              "    console.debug(\"Bokeh: BokehJS not loaded, scheduling load and callback at\", now());\n",
              "    root._bokeh_is_loading = css_urls.length + js_urls.length;\n",
              "\n",
              "    function on_load() {\n",
              "      root._bokeh_is_loading--;\n",
              "      if (root._bokeh_is_loading === 0) {\n",
              "        console.debug(\"Bokeh: all BokehJS libraries/stylesheets loaded\");\n",
              "        run_callbacks()\n",
              "      }\n",
              "    }\n",
              "\n",
              "    function on_error(url) {\n",
              "      console.error(\"failed to load \" + url);\n",
              "    }\n",
              "\n",
              "    for (let i = 0; i < css_urls.length; i++) {\n",
              "      const url = css_urls[i];\n",
              "      const element = document.createElement(\"link\");\n",
              "      element.onload = on_load;\n",
              "      element.onerror = on_error.bind(null, url);\n",
              "      element.rel = \"stylesheet\";\n",
              "      element.type = \"text/css\";\n",
              "      element.href = url;\n",
              "      console.debug(\"Bokeh: injecting link tag for BokehJS stylesheet: \", url);\n",
              "      document.body.appendChild(element);\n",
              "    }\n",
              "\n",
              "    for (let i = 0; i < js_urls.length; i++) {\n",
              "      const url = js_urls[i];\n",
              "      const element = document.createElement('script');\n",
              "      element.onload = on_load;\n",
              "      element.onerror = on_error.bind(null, url);\n",
              "      element.async = false;\n",
              "      element.src = url;\n",
              "      console.debug(\"Bokeh: injecting script tag for BokehJS library: \", url);\n",
              "      document.head.appendChild(element);\n",
              "    }\n",
              "  };\n",
              "\n",
              "  function inject_raw_css(css) {\n",
              "    const element = document.createElement(\"style\");\n",
              "    element.appendChild(document.createTextNode(css));\n",
              "    document.body.appendChild(element);\n",
              "  }\n",
              "\n",
              "  const js_urls = [\"https://cdn.bokeh.org/bokeh/release/bokeh-3.6.2.min.js\", \"https://cdn.bokeh.org/bokeh/release/bokeh-gl-3.6.2.min.js\", \"https://cdn.bokeh.org/bokeh/release/bokeh-widgets-3.6.2.min.js\", \"https://cdn.bokeh.org/bokeh/release/bokeh-tables-3.6.2.min.js\", \"https://cdn.bokeh.org/bokeh/release/bokeh-mathjax-3.6.2.min.js\"];\n",
              "  const css_urls = [];\n",
              "\n",
              "  const inline_js = [    function(Bokeh) {\n",
              "      Bokeh.set_log_level(\"info\");\n",
              "    },\n",
              "function(Bokeh) {\n",
              "    }\n",
              "  ];\n",
              "\n",
              "  function run_inline_js() {\n",
              "    if (root.Bokeh !== undefined || force === true) {\n",
              "      try {\n",
              "            for (let i = 0; i < inline_js.length; i++) {\n",
              "      inline_js[i].call(root, root.Bokeh);\n",
              "    }\n",
              "\n",
              "      } catch (error) {throw error;\n",
              "      }} else if (Date.now() < root._bokeh_timeout) {\n",
              "      setTimeout(run_inline_js, 100);\n",
              "    } else if (!root._bokeh_failed_load) {\n",
              "      console.log(\"Bokeh: BokehJS failed to load within specified timeout.\");\n",
              "      root._bokeh_failed_load = true;\n",
              "    } else if (force !== true) {\n",
              "      const cell = $(document.getElementById(null)).parents('.cell').data().cell;\n",
              "      cell.output_area.append_execute_result(NB_LOAD_WARNING)\n",
              "    }\n",
              "  }\n",
              "\n",
              "  if (root._bokeh_is_loading === 0) {\n",
              "    console.debug(\"Bokeh: BokehJS loaded, going straight to plotting\");\n",
              "    run_inline_js();\n",
              "  } else {\n",
              "    load_libs(css_urls, js_urls, function() {\n",
              "      console.debug(\"Bokeh: BokehJS plotting callback run at\", now());\n",
              "      run_inline_js();\n",
              "    });\n",
              "  }\n",
              "}(window));"
            ],
            "application/vnd.bokehjs_load.v0+json": "'use strict';\n(function(root) {\n  function now() {\n    return new Date();\n  }\n\n  const force = true;\n\n  if (typeof root._bokeh_onload_callbacks === \"undefined\" || force === true) {\n    root._bokeh_onload_callbacks = [];\n    root._bokeh_is_loading = undefined;\n  }\n\n\n  if (typeof (root._bokeh_timeout) === \"undefined\" || force === true) {\n    root._bokeh_timeout = Date.now() + 5000;\n    root._bokeh_failed_load = false;\n  }\n\n  const NB_LOAD_WARNING = {'data': {'text/html':\n     \"<div style='background-color: #fdd'>\\n\"+\n     \"<p>\\n\"+\n     \"BokehJS does not appear to have successfully loaded. If loading BokehJS from CDN, this \\n\"+\n     \"may be due to a slow or bad network connection. Possible fixes:\\n\"+\n     \"</p>\\n\"+\n     \"<ul>\\n\"+\n     \"<li>re-rerun `output_notebook()` to attempt to load from CDN again, or</li>\\n\"+\n     \"<li>use INLINE resources instead, as so:</li>\\n\"+\n     \"</ul>\\n\"+\n     \"<code>\\n\"+\n     \"from bokeh.resources import INLINE\\n\"+\n     \"output_notebook(resources=INLINE)\\n\"+\n     \"</code>\\n\"+\n     \"</div>\"}};\n\n  function display_loaded(error = null) {\n    const el = document.getElementById(null);\n    if (el != null) {\n      const html = (() => {\n        if (typeof root.Bokeh === \"undefined\") {\n          if (error == null) {\n            return \"BokehJS is loading ...\";\n          } else {\n            return \"BokehJS failed to load.\";\n          }\n        } else {\n          const prefix = `BokehJS ${root.Bokeh.version}`;\n          if (error == null) {\n            return `${prefix} successfully loaded.`;\n          } else {\n            return `${prefix} <b>encountered errors</b> while loading and may not function as expected.`;\n          }\n        }\n      })();\n      el.innerHTML = html;\n\n      if (error != null) {\n        const wrapper = document.createElement(\"div\");\n        wrapper.style.overflow = \"auto\";\n        wrapper.style.height = \"5em\";\n        wrapper.style.resize = \"vertical\";\n        const content = document.createElement(\"div\");\n        content.style.fontFamily = \"monospace\";\n        content.style.whiteSpace = \"pre-wrap\";\n        content.style.backgroundColor = \"rgb(255, 221, 221)\";\n        content.textContent = error.stack ?? error.toString();\n        wrapper.append(content);\n        el.append(wrapper);\n      }\n    } else if (Date.now() < root._bokeh_timeout) {\n      setTimeout(() => display_loaded(error), 100);\n    }\n  }\n\n  function run_callbacks() {\n    try {\n      root._bokeh_onload_callbacks.forEach(function(callback) {\n        if (callback != null)\n          callback();\n      });\n    } finally {\n      delete root._bokeh_onload_callbacks\n    }\n    console.debug(\"Bokeh: all callbacks have finished\");\n  }\n\n  function load_libs(css_urls, js_urls, callback) {\n    if (css_urls == null) css_urls = [];\n    if (js_urls == null) js_urls = [];\n\n    root._bokeh_onload_callbacks.push(callback);\n    if (root._bokeh_is_loading > 0) {\n      console.debug(\"Bokeh: BokehJS is being loaded, scheduling callback at\", now());\n      return null;\n    }\n    if (js_urls == null || js_urls.length === 0) {\n      run_callbacks();\n      return null;\n    }\n    console.debug(\"Bokeh: BokehJS not loaded, scheduling load and callback at\", now());\n    root._bokeh_is_loading = css_urls.length + js_urls.length;\n\n    function on_load() {\n      root._bokeh_is_loading--;\n      if (root._bokeh_is_loading === 0) {\n        console.debug(\"Bokeh: all BokehJS libraries/stylesheets loaded\");\n        run_callbacks()\n      }\n    }\n\n    function on_error(url) {\n      console.error(\"failed to load \" + url);\n    }\n\n    for (let i = 0; i < css_urls.length; i++) {\n      const url = css_urls[i];\n      const element = document.createElement(\"link\");\n      element.onload = on_load;\n      element.onerror = on_error.bind(null, url);\n      element.rel = \"stylesheet\";\n      element.type = \"text/css\";\n      element.href = url;\n      console.debug(\"Bokeh: injecting link tag for BokehJS stylesheet: \", url);\n      document.body.appendChild(element);\n    }\n\n    for (let i = 0; i < js_urls.length; i++) {\n      const url = js_urls[i];\n      const element = document.createElement('script');\n      element.onload = on_load;\n      element.onerror = on_error.bind(null, url);\n      element.async = false;\n      element.src = url;\n      console.debug(\"Bokeh: injecting script tag for BokehJS library: \", url);\n      document.head.appendChild(element);\n    }\n  };\n\n  function inject_raw_css(css) {\n    const element = document.createElement(\"style\");\n    element.appendChild(document.createTextNode(css));\n    document.body.appendChild(element);\n  }\n\n  const js_urls = [\"https://cdn.bokeh.org/bokeh/release/bokeh-3.6.2.min.js\", \"https://cdn.bokeh.org/bokeh/release/bokeh-gl-3.6.2.min.js\", \"https://cdn.bokeh.org/bokeh/release/bokeh-widgets-3.6.2.min.js\", \"https://cdn.bokeh.org/bokeh/release/bokeh-tables-3.6.2.min.js\", \"https://cdn.bokeh.org/bokeh/release/bokeh-mathjax-3.6.2.min.js\"];\n  const css_urls = [];\n\n  const inline_js = [    function(Bokeh) {\n      Bokeh.set_log_level(\"info\");\n    },\nfunction(Bokeh) {\n    }\n  ];\n\n  function run_inline_js() {\n    if (root.Bokeh !== undefined || force === true) {\n      try {\n            for (let i = 0; i < inline_js.length; i++) {\n      inline_js[i].call(root, root.Bokeh);\n    }\n\n      } catch (error) {throw error;\n      }} else if (Date.now() < root._bokeh_timeout) {\n      setTimeout(run_inline_js, 100);\n    } else if (!root._bokeh_failed_load) {\n      console.log(\"Bokeh: BokehJS failed to load within specified timeout.\");\n      root._bokeh_failed_load = true;\n    } else if (force !== true) {\n      const cell = $(document.getElementById(null)).parents('.cell').data().cell;\n      cell.output_area.append_execute_result(NB_LOAD_WARNING)\n    }\n  }\n\n  if (root._bokeh_is_loading === 0) {\n    console.debug(\"Bokeh: BokehJS loaded, going straight to plotting\");\n    run_inline_js();\n  } else {\n    load_libs(css_urls, js_urls, function() {\n      console.debug(\"Bokeh: BokehJS plotting callback run at\", now());\n      run_inline_js();\n    });\n  }\n}(window));"
          },
          "metadata": {}
        },
        {
          "output_type": "display_data",
          "data": {
            "text/html": [
              "\n",
              "  <div id=\"fab516b4-efb2-4763-8b0e-0f26a310cd01\" data-root-id=\"p1055\" style=\"display: contents;\"></div>\n"
            ]
          },
          "metadata": {}
        },
        {
          "output_type": "display_data",
          "data": {
            "application/javascript": [
              "(function(root) {\n",
              "  function embed_document(root) {\n",
              "  const docs_json = {\"1f65d54a-9d19-4aed-b538-d48c75a0970a\":{\"version\":\"3.6.2\",\"title\":\"Bokeh Application\",\"roots\":[{\"type\":\"object\",\"name\":\"Figure\",\"id\":\"p1055\",\"attributes\":{\"height\":400,\"x_range\":{\"type\":\"object\",\"name\":\"DataRange1d\",\"id\":\"p1056\"},\"y_range\":{\"type\":\"object\",\"name\":\"DataRange1d\",\"id\":\"p1057\"},\"x_scale\":{\"type\":\"object\",\"name\":\"LinearScale\",\"id\":\"p1064\"},\"y_scale\":{\"type\":\"object\",\"name\":\"LinearScale\",\"id\":\"p1065\"},\"title\":{\"type\":\"object\",\"name\":\"Title\",\"id\":\"p1062\"},\"renderers\":[{\"type\":\"object\",\"name\":\"GlyphRenderer\",\"id\":\"p1095\",\"attributes\":{\"data_source\":{\"type\":\"object\",\"name\":\"ColumnDataSource\",\"id\":\"p1052\",\"attributes\":{\"selected\":{\"type\":\"object\",\"name\":\"Selection\",\"id\":\"p1053\",\"attributes\":{\"indices\":[],\"line_indices\":[]}},\"selection_policy\":{\"type\":\"object\",\"name\":\"UnionRenderers\",\"id\":\"p1054\"},\"data\":{\"type\":\"map\",\"entries\":[[\"x\",{\"type\":\"ndarray\",\"array\":{\"type\":\"bytes\",\"data\":\"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\"},\"shape\":[1000],\"dtype\":\"float32\",\"order\":\"little\"}],[\"y\",{\"type\":\"ndarray\",\"array\":{\"type\":\"bytes\",\"data\":\"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\"},\"shape\":[1000],\"dtype\":\"float32\",\"order\":\"little\"}],[\"color\",[\"green\",\"green\",\"green\",\"green\",\"green\",\"green\",\"green\",\"green\",\"green\",\"green\",\"green\",\"green\",\"green\",\"green\",\"green\",\"green\",\"green\",\"green\",\"green\",\"green\",\"green\",\"green\",\"green\",\"green\",\"green\",\"green\",\"green\",\"green\",\"green\",\"green\",\"green\",\"green\",\"green\",\"green\",\"green\",\"green\",\"green\",\"green\",\"green\",\"green\",\"green\",\"green\",\"green\",\"green\",\"green\",\"green\",\"green\",\"green\",\"green\",\"green\",\"green\",\"green\",\"green\",\"green\",\"green\",\"green\",\"green\",\"green\",\"green\",\"green\",\"green\",\"green\",\"green\",\"green\",\"green\",\"green\",\"green\",\"green\",\"green\",\"green\",\"green\",\"green\",\"green\",\"green\",\"green\",\"green\",\"green\",\"green\",\"green\",\"green\",\"green\",\"green\",\"green\",\"green\",\"green\",\"green\",\"green\",\"green\",\"green\",\"green\",\"green\",\"green\",\"green\",\"green\",\"green\",\"green\",\"green\",\"green\",\"green\",\"green\",\"green\",\"green\",\"green\",\"green\",\"green\",\"green\",\"green\",\"green\",\"green\",\"green\",\"green\",\"green\",\"green\",\"green\",\"green\",\"green\",\"green\",\"green\",\"green\",\"green\",\"green\",\"green\",\"green\",\"green\",\"green\",\"green\",\"green\",\"green\",\"green\",\"green\",\"green\",\"green\",\"green\",\"green\",\"green\",\"green\",\"green\",\"green\",\"green\",\"green\",\"green\",\"green\",\"green\",\"green\",\"green\",\"green\",\"green\",\"green\",\"green\",\"green\",\"green\",\"green\",\"green\",\"green\",\"green\",\"green\",\"green\",\"green\",\"green\",\"green\",\"green\",\"green\",\"green\",\"green\",\"green\",\"green\",\"green\",\"green\",\"green\",\"green\",\"green\",\"green\",\"green\",\"green\",\"green\",\"green\",\"green\",\"green\",\"green\",\"green\",\"green\",\"green\",\"green\",\"green\",\"green\",\"green\",\"green\",\"green\",\"green\",\"green\",\"green\",\"green\",\"green\",\"green\",\"green\",\"green\",\"green\",\"green\",\"green\",\"green\",\"green\",\"green\",\"green\",\"green\",\"green\",\"green\",\"green\",\"green\",\"green\",\"green\",\"green\",\"green\",\"green\",\"green\",\"green\",\"green\",\"green\",\"green\",\"green\",\"green\",\"green\",\"green\",\"green\",\"green\",\"green\",\"green\",\"green\",\"green\",\"green\",\"green\",\"green\",\"green\",\"green\",\"green\",\"green\",\"green\",\"green\",\"green\",\"green\",\"green\",\"green\",\"green\",\"green\",\"green\",\"green\",\"green\",\"green\",\"green\",\"green\",\"green\",\"green\",\"green\",\"green\",\"green\",\"green\",\"green\",\"green\",\"green\",\"green\",\"green\",\"green\",\"green\",\"green\",\"green\",\"green\",\"green\",\"green\",\"green\",\"green\",\"green\",\"green\",\"green\",\"green\",\"green\",\"green\",\"green\",\"green\",\"green\",\"green\",\"green\",\"green\",\"green\",\"green\",\"green\",\"green\",\"green\",\"green\",\"green\",\"green\",\"green\",\"green\",\"green\",\"green\",\"green\",\"green\",\"green\",\"green\",\"green\",\"green\",\"green\",\"green\",\"green\",\"green\",\"green\",\"green\",\"green\",\"green\",\"green\",\"green\",\"green\",\"green\",\"green\",\"green\",\"green\",\"green\",\"green\",\"green\",\"green\",\"green\",\"green\",\"green\",\"green\",\"green\",\"green\",\"green\",\"green\",\"green\",\"green\",\"green\",\"green\",\"green\",\"green\",\"green\",\"green\",\"green\",\"green\",\"green\",\"green\",\"green\",\"green\",\"green\",\"green\",\"green\",\"green\",\"green\",\"green\",\"green\",\"green\",\"green\",\"green\",\"green\",\"green\",\"green\",\"green\",\"green\",\"green\",\"green\",\"green\",\"green\",\"green\",\"green\",\"green\",\"green\",\"green\",\"green\",\"green\",\"green\",\"green\",\"green\",\"green\",\"green\",\"green\",\"green\",\"green\",\"green\",\"green\",\"green\",\"green\",\"green\",\"green\",\"green\",\"green\",\"green\",\"green\",\"green\",\"green\",\"green\",\"green\",\"green\",\"green\",\"green\",\"green\",\"green\",\"green\",\"green\",\"green\",\"green\",\"green\",\"green\",\"green\",\"green\",\"green\",\"green\",\"green\",\"green\",\"green\",\"green\",\"green\",\"green\",\"green\",\"green\",\"green\",\"green\",\"green\",\"green\",\"green\",\"green\",\"green\",\"green\",\"green\",\"green\",\"green\",\"green\",\"green\",\"green\",\"green\",\"green\",\"green\",\"green\",\"green\",\"green\",\"green\",\"green\",\"green\",\"green\",\"green\",\"green\",\"green\",\"green\",\"green\",\"green\",\"green\",\"green\",\"green\",\"green\",\"green\",\"green\",\"green\",\"green\",\"green\",\"green\",\"green\",\"green\",\"green\",\"green\",\"green\",\"green\",\"green\",\"green\",\"green\",\"green\",\"green\",\"green\",\"green\",\"green\",\"green\",\"green\",\"green\",\"green\",\"green\",\"green\",\"green\",\"green\",\"green\",\"green\",\"green\",\"green\",\"green\",\"green\",\"green\",\"green\",\"green\",\"green\",\"green\",\"green\",\"green\",\"green\",\"green\",\"green\",\"green\",\"green\",\"green\",\"green\",\"green\",\"green\",\"green\",\"green\",\"green\",\"green\",\"green\",\"green\",\"green\",\"green\",\"green\",\"green\",\"green\",\"green\",\"green\",\"green\",\"green\",\"green\",\"green\",\"green\",\"green\",\"green\",\"green\",\"green\",\"green\",\"green\",\"green\",\"green\",\"green\",\"green\",\"green\",\"green\",\"green\",\"green\",\"green\",\"green\",\"green\",\"green\",\"green\",\"green\",\"green\",\"green\",\"green\",\"green\",\"green\",\"green\",\"green\",\"green\",\"green\",\"green\",\"green\",\"green\",\"green\",\"green\",\"green\",\"green\",\"green\",\"green\",\"green\",\"green\",\"green\",\"green\",\"green\",\"green\",\"green\",\"green\",\"green\",\"green\",\"green\",\"green\",\"green\",\"green\",\"green\",\"green\",\"green\",\"green\",\"green\",\"green\",\"green\",\"green\",\"green\",\"green\",\"green\",\"green\",\"green\",\"green\",\"green\",\"green\",\"green\",\"green\",\"green\",\"green\",\"green\",\"green\",\"green\",\"green\",\"green\",\"green\",\"green\",\"green\",\"green\",\"green\",\"green\",\"green\",\"green\",\"green\",\"green\",\"green\",\"green\",\"green\",\"green\",\"green\",\"green\",\"green\",\"green\",\"green\",\"green\",\"green\",\"green\",\"green\",\"green\",\"green\",\"green\",\"green\",\"green\",\"green\",\"green\",\"green\",\"green\",\"green\",\"green\",\"green\",\"green\",\"green\",\"green\",\"green\",\"green\",\"green\",\"green\",\"green\",\"green\",\"green\",\"green\",\"green\",\"green\",\"green\",\"green\",\"green\",\"green\",\"green\",\"green\",\"green\",\"green\",\"green\",\"green\",\"green\",\"green\",\"green\",\"green\",\"green\",\"green\",\"green\",\"green\",\"green\",\"green\",\"green\",\"green\",\"green\",\"green\",\"green\",\"green\",\"green\",\"green\",\"green\",\"green\",\"green\",\"green\",\"green\",\"green\",\"green\",\"green\",\"green\",\"green\",\"green\",\"green\",\"green\",\"green\",\"green\",\"green\",\"green\",\"green\",\"green\",\"green\",\"green\",\"green\",\"green\",\"green\",\"green\",\"green\",\"green\",\"green\",\"green\",\"green\",\"green\",\"green\",\"green\",\"green\",\"green\",\"green\",\"green\",\"green\",\"green\",\"green\",\"green\",\"green\",\"green\",\"green\",\"green\",\"green\",\"green\",\"green\",\"green\",\"green\",\"green\",\"green\",\"green\",\"green\",\"green\",\"green\",\"green\",\"green\",\"green\",\"green\",\"green\",\"green\",\"green\",\"green\",\"green\",\"green\",\"green\",\"green\",\"green\",\"green\",\"green\",\"green\",\"green\",\"green\",\"green\",\"green\",\"green\",\"green\",\"green\",\"green\",\"green\",\"green\",\"green\",\"green\",\"green\",\"green\",\"green\",\"green\",\"green\",\"green\",\"green\",\"green\",\"green\",\"green\",\"green\",\"green\",\"green\",\"green\",\"green\",\"green\",\"green\",\"green\",\"green\",\"green\",\"green\",\"green\",\"green\",\"green\",\"green\",\"green\",\"green\",\"green\",\"green\",\"green\",\"green\",\"green\",\"green\",\"green\",\"green\",\"green\",\"green\",\"green\",\"green\",\"green\",\"green\",\"green\",\"green\",\"green\",\"green\",\"green\",\"green\",\"green\",\"green\",\"green\",\"green\",\"green\",\"green\",\"green\",\"green\",\"green\",\"green\",\"green\",\"green\",\"green\",\"green\",\"green\",\"green\",\"green\",\"green\",\"green\",\"green\",\"green\",\"green\",\"green\",\"green\",\"green\",\"green\",\"green\",\"green\",\"green\",\"green\",\"green\",\"green\",\"green\",\"green\",\"green\",\"green\",\"green\",\"green\",\"green\",\"green\",\"green\",\"green\",\"green\",\"green\",\"green\",\"green\",\"green\",\"green\",\"green\",\"green\",\"green\",\"green\",\"green\",\"green\",\"green\",\"green\",\"green\",\"green\",\"green\",\"green\",\"green\",\"green\",\"green\",\"green\",\"green\",\"green\",\"green\",\"green\",\"green\",\"green\",\"green\",\"green\",\"green\",\"green\",\"green\",\"green\",\"green\",\"green\",\"green\",\"green\",\"green\",\"green\",\"green\",\"green\",\"green\",\"green\",\"green\",\"green\",\"green\",\"green\",\"green\",\"green\",\"green\",\"green\",\"green\",\"green\",\"green\",\"green\",\"green\",\"green\",\"green\",\"green\",\"green\",\"green\",\"green\",\"green\",\"green\",\"green\",\"green\",\"green\",\"green\",\"green\",\"green\",\"green\",\"green\",\"green\",\"green\",\"green\",\"green\",\"green\",\"green\",\"green\",\"green\",\"green\",\"green\",\"green\",\"green\",\"green\",\"green\",\"green\",\"green\",\"green\",\"green\",\"green\",\"green\",\"green\",\"green\",\"green\",\"green\",\"green\",\"green\",\"green\",\"green\",\"green\",\"green\",\"green\",\"green\",\"green\",\"green\",\"green\",\"green\",\"green\",\"green\",\"green\",\"green\",\"green\",\"green\",\"green\",\"green\",\"green\",\"green\",\"green\",\"green\",\"green\",\"green\",\"green\",\"green\",\"green\",\"green\",\"green\",\"green\",\"green\",\"green\",\"green\",\"green\",\"green\",\"green\",\"green\",\"green\",\"green\",\"green\",\"green\",\"green\",\"green\",\"green\",\"green\",\"green\",\"green\",\"green\",\"green\",\"green\",\"green\",\"green\",\"green\",\"green\",\"green\",\"green\",\"green\",\"green\",\"green\",\"green\",\"green\",\"green\"]],[\"token\",[\"<user>\",\".\",\":\",\"rt\",\",\",\"<repeat>\",\"<hashtag>\",\"<number>\",\"<url>\",\"!\",\"i\",\"a\",\"\\\"\",\"the\",\"?\",\"you\",\"to\",\"(\",\"<allcaps>\",\"<elong>\",\")\",\"me\",\"de\",\"<smile>\",\"\\uff01\",\"que\",\"and\",\"\\u3002\",\"-\",\"my\",\"no\",\"\\u3001\",\"is\",\"it\",\"\\u2026\",\"in\",\"n\",\"for\",\"/\",\"of\",\"la\",\"'s\",\"*\",\"do\",\"n't\",\"that\",\"on\",\"y\",\"'\",\"e\",\"o\",\"u\",\"en\",\"this\",\"el\",\"so\",\"be\",\"'m\",\"with\",\"just\",\">\",\"your\",\"^\",\"like\",\"have\",\"te\",\"at\",\"\\uff1f\",\"love\",\"se\",\"are\",\"<\",\"m\",\"r\",\"if\",\"all\",\"b\",\"\\u30fb\",\"not\",\"but\",\"we\",\"es\",\"ya\",\"&\",\"follow\",\"up\",\"what\",\"get\",\"lol\",\"un\",\"\\u2665\",\"lo\",\"when\",\"was\",\"\\u201c\",\"\\u201d\",\"one\",\"por\",\"si\",\"out\",\"_\",\"mi\",\"can\",\"<sadface>\",\"\\u0645\\u0646\",\"\\u2661\",\"\\u00b4\",\"he\",\"con\",\"they\",\"now\",\"go\",\"\\u060c\",\"para\",\"los\",\"know\",\"haha\",\"good\",\"tu\",\"back\",\"~\",\"about\",\"new\",\";\",\"as\",\"day\",\"how\",\"who\",\"will\",\"want\",\"people\",\"yo\",\"eu\",\"from\",\"di\",\"time\",\"<heart>\",\"s\",\"aku\",\"da\",\"'re\",\"<lolface>\",\"una\",\"got\",\"las\",\"more\",\"x\",\"she\",\"today\",\"\\uff08\",\">>\",\"k\",\"by\",\"or\",\"\\u0641\\u064a\",\"\\uff65\",\"too\",\"le\",\"\\u00e9\",\"|\",\"[\",\"\\uff09\",\"]\",\"see\",\"why\",\"yg\",\"ca\",\"como\",\"her\",\"\\u2014\",\"q\",\"need\",\"an\",\"na\",\"\\u7b11\",\"there\",\"\\u03c9\",\"happy\",\"im\",\"mas\",\"je\",\"life\",\"really\",\"make\",\"yang\",\"shit\",\"think\",\"t\",\"\\u2764\",\"n\\u00e3o\",\"never\",\"some\",\"\\uff5e\",\"oh\",\"\\u2605\",\"did\",\"would\",\"del\",\"`\",\"d\",\"please\",\"via\",\"much\",\"fuck\",\"al\",\"dia\",\"$\",\"\\u0648\",\"right\",\"best\",\"c\",\"going\",\"\\u0627\\u0644\\u0644\\u0647\",\"pero\",\"only\",\"has\",\"\\u266a\",\"'ll\",\"twitter\",\"=\",\"hahaha\",\"its\",\"nn\",\"\\uff40\",\"\\u00bf\",\"am\",\"say\",\"<neutralface>\",\"them\",\"here\",\"\\u0644\\u0627\",\"off\",\"still\",\"dan\",\"+\",\"night\",\"w\",\"ada\",\"someone\",\"even\",\"then\",\"\\u2606\",\"ni\",\"come\",\"com\",\"always\",\"man\",\"'ve\",\"been\",\"his\",\"itu\",\"\\u0639\\u0644\\u0649\",\"-_-\",\"\\u263a\",\"over\",\"um\",\"\\u0645\\u0627\",\"hate\",\"girl\",\"ai\",\"had\",\"pra\",\"todo\",\"mais\",\"feel\",\"let\",\"ini\",\"because\",\"\\uff9f\",\"thanks\",\"ah\",\"way\",\"ever\",\"look\",\"tweet\",\"followers\",\"should\",\"our\",\"xd\",\"aja\",\"esta\",\"school\",\"him\",\"ser\",\"take\",\"than\",\"video\",\"em\",\"last\",\"wanna\",\"does\",\"us\",\"miss\",\"l\",\"ga\",\"better\",\"well\",\"could\",\"\\u25bd\",\"%\",\"apa\",\"cuando\",\"team\",\"\\u2714\",\"@\",\"ok\",\"\\u061f\",\"\\u2022\",\"vida\",\"quiero\",\"les\",\"being\",\"real\",\"down\",\"kamu\",\"everyone\",\"gonna\",\"live\",\"tonight\",\"yes\",\"work\",\"ass\",\"retweet\",\"nada\",\"sama\",\"first\",\"<<\",\"photo\",\"tomorrow\",\"where\",\"god\",\"son\",\"ke\",\"ta\",\"f\",\"home\",\"lagi\",\"thank\",\"birthday\",\"\\u2588\",\"ha\",\"great\",\"lmao\",\"omg\",\"morning\",\"m\\u00e1s\",\"mau\",\"baby\",\"dont\",\"\\uff61\",\"their\",\"p\",\"things\",\"game\",\"pas\",\"bad\",\"year\",\"yeah\",\"su\",\"bitch\",\"\\u0432\",\"stop\",\"hoy\",\"something\",\"meu\",\"tak\",\"gak\",\"world\",\"amor\",\"h\",\"\\\\\",\"ver\",\"\\uff1b\",\"porque\",\"give\",\"these\",\"\\u0627\\u0644\\u0644\\u0647\\u0645\",\"were\",\"hay\",\"sleep\",\"gue\",\"every\",\"friends\",\"uma\",\"tell\",\"amo\",\"vou\",\"bien\",\"\\u00a1\",\"again\",\"\\uff3e\",\"\\uff0f\",\"done\",\"after\",\"todos\",\"girls\",\"guys\",\"getting\",\"big\",\"wait\",\"justin\",\"eh\",\"\\u2192\",\"kan\",\"kita\",\"jajaja\",\"wish\",\"said\",\"fucking\",\"show\",\"thing\",\"next\",\"voc\\u00ea\",\"nos\",\"little\",\"tengo\",\"keep\",\"person\",\"''\",\"\\u2200\",\"hope\",\"\\u0643\\u0644\",\"hey\",\"bisa\",\"free\",\"made\",\"foto\",\"va\",\"everything\",\"iya\",\"nigga\",\"eso\",\"et\",\"watch\",\"music\",\"week\",\"talk\",\"ne\",\"solo\",\"gente\",\"udah\",\"\\uff1a\",\"--\",\"\\uff3c\",\"mejor\",\"facebook\",\"ma\",\"v\",\"phone\",\"most\",\"same\",\"okay\",\"ik\",\"before\",\"minha\",\"days\",\"g\",\"ti\",\"damn\",\"nice\",\"voy\",\"vai\",\"call\",\"long\",\"tapi\",\"http\",\"sin\",\"nunca\",\"doing\",\"other\",\"find\",\"il\",\"sa\",\"sorry\",\"nya\",\"orang\",\"\\u00b0\",\"hard\",\"mean\",\"die\",\"\\u0627\\u0644\\u0644\\u064a\",\"tem\",\"soy\",\"este\",\"kalo\",\"s\\u00f3\",\"th\",\"win\",\"nothing\",\"into\",\"face\",\"cute\",\"'d\",\"gracias\",\"lah\",\"\\u0438\",\"any\",\"play\",\"\\u2190\",\"ko\",\"text\",\"\\u2323\",\"estoy\",\"tau\",\"ur\",\"buat\",\"#\",\"cause\",\"\\u044f\",\"put\",\"kau\",\"siempre\",\"juga\",\"casa\",\"\\u0623\\u0646\",\"help\",\"start\",\"feliz\",\"old\",\"ir\",\"very\",\"care\",\"bir\",\"makes\",\"song\",\"check\",\"watching\",\"ahora\",\"jadi\",\"os\",\"may\",\"friend\",\"beautiful\",\"heart\",\"ka\",\"vc\",\"mundo\",\"\\u043d\\u0430\",\"sure\",\"tan\",\"pretty\",\"aqui\",\"\\u043d\\u0435\",\"house\",\"\\u0631\\u062a\\u0648\\u064a\\u062a\",\"\\u064a\\u0627\",\"ja\",\"true\",\"muy\",\"away\",\"already\",\"actually\",\"believe\",\"try\",\"many\",\"ma\\u00f1ana\",\"mis\",\"lu\",\"those\",\"hot\",\"qu\\u00e9\",\"mal\",\"\\u0639\\u0646\",\"though\",\"ask\",\"amazing\",\"bed\",\"}\",\"two\",\"mom\",\"d\\u00eda\",\"ve\",\"dari\",\"gameinsight\",\"stay\",\"fun\",\"around\",\"van\",\"cont\",\"ready\",\"money\",\"bu\",\"funny\",\"cool\",\"hair\",\"\\u00e0\",\"tho\",\"{\",\"wo\",\"hi\",\"name\",\"tiene\",\"hahahaha\",\"pa\",\"algo\",\"gotta\",\"\\u0648\\u0644\\u0627\",\"boy\",\"another\",\"c'est\",\"hari\",\"jajajaja\",\"having\",\"cara\",\"jaja\",\"dm\",\"looking\",\"top\",\"android\",\"dah\",\"wow\",\"\\u2591\",\"eres\",\"ben\",\"must\",\"news\",\"met\",\"est\\u00e1\",\"nih\",\"family\",\"black\",\"thought\",\"nak\",\"super\",\"end\",\"hace\",\"remember\",\"ama\",\"party\",\"cant\",\"vamos\",\"anything\",\"anyone\",\"\\u0641\\u0648\\u0644\\u0648\",\"perfect\",\"guy\",\"vez\",\"christmas\",\"dos\",\"bueno\",\"nao\",\"years\",\"vote\",\"dormir\",\"bro\",\"else\",\"quien\",\"untuk\",\"jangan\",\"myself\",\"head\",\"mind\",\"gua\",\"talking\",\"while\",\"dat\",\"food\",\"\\u0434\",\"coming\",\"wkwk\",\"trying\",\"saya\",\"mucho\",\"without\",\"wrong\",\"\\u2019s\",\"baru\",\"__\",\"hehe\",\"hacer\",\"lot\",\"followed\",\"crazy\",\"hell\",\"feeling\",\"des\",\"kok\",\"j\",\"stats\",\"j'\",\"\\u0627\\u0646\",\"tweets\",\"non\",\"cosas\",\"era\",\"high\",\"niggas\",\"change\",\"movie\",\"xx\",\"mad\",\"sih\",\"sometimes\",\"deh\",\"allah\",\"through\",\"pour\",\"ela\",\"soon\",\"gone\",\"playing\",\"smile\",\"bukan\",\"tv\",\"fans\",\"hasta\",\"akan\",\"y'\",\"looks\",\"isso\",\"\\u270c\",\"tired\",\"boys\",\"might\",\"dong\",\"lg\",\"use\",\"maybe\",\"until\",\"menos\",\"own\",\"dengan\",\"eat\",\"ou\",\"weekend\",\"\\u02d8\",\"class\",\"ele\",\"harry\",\"iphone\",\"friday\",\"single\",\"ff\",\"awesome\",\"bout\",\"muito\",\"hoje\",\"\\u00ac\",\"dios\",\"such\",\"estar\",\"j\\u00e1\",\"quando\",\"esa\",\"making\",\"\\u2501\",\"times\",\"lmfao\",\"gw\",\"moment\",\"yet\",\"aw\",\"smh\",\"banget\",\"masih\",\"qui\",\"quem\",\"\\u2013\",\"leave\",\"du\",\"une\",\"guess\",\"hit\",\"\\u0441\",\"pm\",\"since\",\"pues\",\"est\",\"job\",\"\\uff89\",\"mana\",\"bom\",\"siapa\",\"suka\",\"bieber\",\"mention\",\"lebih\",\"favorite\",\"bitches\",\"forever\",\"\\u0644\\u064a\",\"final\",\"read\",\"alguien\",\"open\",\"yourself\",\"ese\",\"che\",\"sex\",\"yaa\",\"car\",\"direction\",\"tidak\",\"seu\",\"gets\",\"left\",\"re\",\"jam\",\"enough\",\"\\u0625\\u0644\\u0627\",\"once\",\"\\u2019\",\"part\",\"cada\",\"\\u5b9a\\u671f\",\"\\u0644\\u0643\",\"een\",\"seen\",\"kak\",\"as\\u00ed\",\"nem\",\"\\u0639\\u0645\\u0644\",\"white\",\"told\",\"says\",\"esto\",\"sad\",\"mo\",\"fue\",\"yah\",\"summer\",\"\\u0647\",\"\\u2b55\",\"\\u00bb\",\"thats\",\"\\u0645\\u0639\",\"posted\",\"wants\",\"agora\",\"together\",\"fan\",\"men\",\"hear\",\"full\",\"\\u2600\",\"sigo\",\"pq\",\"dulu\",\"plus\",\"foi\",\"tudo\",\"\\u0647\\u0648\",\"ill\",\"\\u3042\",\"thinking\",\"wtf\",\"pagi\",\"mama\",\"kalau\",\"hati\",\"sexy\",\"sayang\",\"baik\",\"semua\",\"hola\",\"went\",\"vos\",\"tanto\",\"finally\",\"fb\",\"sea\",\"stupid\",\"tus\",\"seriously\",\"hora\",\"min\",\"pic\",\"estas\",\"turn\",\"hours\",\"excited\",\"nah\",\"buy\",\"saying\",\"mah\",\"break\",\"needs\",\"ce\",\"room\",\"choice\",\"far\",\"dead\",\"quero\",\"saw\",\"kids\",\"lil\",\"whole\",\"puede\",\"fall\",\"sus\",\"lost\",\"asi\",\"word\",\"\\u2639\",\"also\",\"\\u0631\\u064a\\u062a\\u0648\\u064a\\u062a\",\"probably\",\"everybody\",\"tarde\",\"run\",\"sei\",\"follback\",\"forget\",\"sweet\",\"welcome\",\"selamat\",\"\\uff3f\",\"sur\",\"place\",\"gusta\",\"sabe\",\"androidgames\",\"tp\",\"tiempo\",\"\\u0628\\u0633\",\"sou\",\"tuh\",\"vs\",\"eyes\",\"\\u0627\\u0646\\u0627\",\"picture\",\"das\",\"meet\",\"anak\",\"persona\",\"essa\",\"bored\",\"following\",\"nadie\",\"nobody\",\"dice\",\"alone\",\"sick\",\"red\",\"city\",\"cinta\",\"\\u6708\",\"linda\",\"dream\",\"story\",\"km\",\"het\",\"waiting\",\"^_^\",\"mine\",\"\\u0447\\u0442\\u043e\",\"reason\",\"kk\",\"\\u0644\\u0648\",\"online\",\"fast\",\"udh\",\"wanted\",\"op\",\"others\",\"gay\",\"n\\u2019t\",\"used\",\"sem\",\"understand\",\"moi\",\"sm\",\"aint\",\"donde\",\"bem\",\"which\",\"ng\",\"followback\",\"punya\",\"late\",\"anda\",\"tidur\",\"puedo\",\"early\",\"nd\",\"personas\",\"banyak\",\"\\u2705\",\"\\u278a\",\"trust\",\"noche\",\"tl\",\"\\uff1e\",\"\\u00ab\",\"af\",\"move\",\"pro\",\"bring\",\"ku\",\"called\",\"relationship\",\"idk\",\"hurt\",\"st\",\"pernah\",\"pessoas\",\"hello\",\"uno\",\"unfollowers\",\"cry\"]]]}}},\"view\":{\"type\":\"object\",\"name\":\"CDSView\",\"id\":\"p1096\",\"attributes\":{\"filter\":{\"type\":\"object\",\"name\":\"AllIndices\",\"id\":\"p1097\"}}},\"glyph\":{\"type\":\"object\",\"name\":\"Scatter\",\"id\":\"p1092\",\"attributes\":{\"x\":{\"type\":\"field\",\"field\":\"x\"},\"y\":{\"type\":\"field\",\"field\":\"y\"},\"size\":{\"type\":\"value\",\"value\":10},\"line_color\":{\"type\":\"field\",\"field\":\"color\"},\"line_alpha\":{\"type\":\"value\",\"value\":0.25},\"fill_color\":{\"type\":\"field\",\"field\":\"color\"},\"fill_alpha\":{\"type\":\"value\",\"value\":0.25},\"hatch_color\":{\"type\":\"field\",\"field\":\"color\"},\"hatch_alpha\":{\"type\":\"value\",\"value\":0.25}}},\"nonselection_glyph\":{\"type\":\"object\",\"name\":\"Scatter\",\"id\":\"p1093\",\"attributes\":{\"x\":{\"type\":\"field\",\"field\":\"x\"},\"y\":{\"type\":\"field\",\"field\":\"y\"},\"size\":{\"type\":\"value\",\"value\":10},\"line_color\":{\"type\":\"field\",\"field\":\"color\"},\"line_alpha\":{\"type\":\"value\",\"value\":0.1},\"fill_color\":{\"type\":\"field\",\"field\":\"color\"},\"fill_alpha\":{\"type\":\"value\",\"value\":0.1},\"hatch_color\":{\"type\":\"field\",\"field\":\"color\"},\"hatch_alpha\":{\"type\":\"value\",\"value\":0.1}}},\"muted_glyph\":{\"type\":\"object\",\"name\":\"Scatter\",\"id\":\"p1094\",\"attributes\":{\"x\":{\"type\":\"field\",\"field\":\"x\"},\"y\":{\"type\":\"field\",\"field\":\"y\"},\"size\":{\"type\":\"value\",\"value\":10},\"line_color\":{\"type\":\"field\",\"field\":\"color\"},\"line_alpha\":{\"type\":\"value\",\"value\":0.2},\"fill_color\":{\"type\":\"field\",\"field\":\"color\"},\"fill_alpha\":{\"type\":\"value\",\"value\":0.2},\"hatch_color\":{\"type\":\"field\",\"field\":\"color\"},\"hatch_alpha\":{\"type\":\"value\",\"value\":0.2}}}}}],\"toolbar\":{\"type\":\"object\",\"name\":\"Toolbar\",\"id\":\"p1063\",\"attributes\":{\"tools\":[{\"type\":\"object\",\"name\":\"PanTool\",\"id\":\"p1076\"},{\"type\":\"object\",\"name\":\"WheelZoomTool\",\"id\":\"p1077\",\"attributes\":{\"renderers\":\"auto\"}},{\"type\":\"object\",\"name\":\"BoxZoomTool\",\"id\":\"p1078\",\"attributes\":{\"overlay\":{\"type\":\"object\",\"name\":\"BoxAnnotation\",\"id\":\"p1079\",\"attributes\":{\"syncable\":false,\"line_color\":\"black\",\"line_alpha\":1.0,\"line_width\":2,\"line_dash\":[4,4],\"fill_color\":\"lightgrey\",\"fill_alpha\":0.5,\"level\":\"overlay\",\"visible\":false,\"left\":{\"type\":\"number\",\"value\":\"nan\"},\"right\":{\"type\":\"number\",\"value\":\"nan\"},\"top\":{\"type\":\"number\",\"value\":\"nan\"},\"bottom\":{\"type\":\"number\",\"value\":\"nan\"},\"left_units\":\"canvas\",\"right_units\":\"canvas\",\"top_units\":\"canvas\",\"bottom_units\":\"canvas\",\"handles\":{\"type\":\"object\",\"name\":\"BoxInteractionHandles\",\"id\":\"p1085\",\"attributes\":{\"all\":{\"type\":\"object\",\"name\":\"AreaVisuals\",\"id\":\"p1084\",\"attributes\":{\"fill_color\":\"white\",\"hover_fill_color\":\"lightgray\"}}}}}}}},{\"type\":\"object\",\"name\":\"SaveTool\",\"id\":\"p1086\"},{\"type\":\"object\",\"name\":\"ResetTool\",\"id\":\"p1087\"},{\"type\":\"object\",\"name\":\"HelpTool\",\"id\":\"p1088\"},{\"type\":\"object\",\"name\":\"HoverTool\",\"id\":\"p1098\",\"attributes\":{\"renderers\":\"auto\",\"tooltips\":[[\"token\",\"@token\"]]}}],\"active_scroll\":{\"id\":\"p1077\"}}},\"left\":[{\"type\":\"object\",\"name\":\"LinearAxis\",\"id\":\"p1071\",\"attributes\":{\"ticker\":{\"type\":\"object\",\"name\":\"BasicTicker\",\"id\":\"p1072\",\"attributes\":{\"mantissas\":[1,2,5]}},\"formatter\":{\"type\":\"object\",\"name\":\"BasicTickFormatter\",\"id\":\"p1073\"},\"major_label_policy\":{\"type\":\"object\",\"name\":\"AllLabels\",\"id\":\"p1074\"}}}],\"below\":[{\"type\":\"object\",\"name\":\"LinearAxis\",\"id\":\"p1066\",\"attributes\":{\"ticker\":{\"type\":\"object\",\"name\":\"BasicTicker\",\"id\":\"p1067\",\"attributes\":{\"mantissas\":[1,2,5]}},\"formatter\":{\"type\":\"object\",\"name\":\"BasicTickFormatter\",\"id\":\"p1068\"},\"major_label_policy\":{\"type\":\"object\",\"name\":\"AllLabels\",\"id\":\"p1069\"}}}],\"center\":[{\"type\":\"object\",\"name\":\"Grid\",\"id\":\"p1070\",\"attributes\":{\"axis\":{\"id\":\"p1066\"}}},{\"type\":\"object\",\"name\":\"Grid\",\"id\":\"p1075\",\"attributes\":{\"dimension\":1,\"axis\":{\"id\":\"p1071\"}}}]}}]}};\n",
              "  const render_items = [{\"docid\":\"1f65d54a-9d19-4aed-b538-d48c75a0970a\",\"roots\":{\"p1055\":\"fab516b4-efb2-4763-8b0e-0f26a310cd01\"},\"root_ids\":[\"p1055\"]}];\n",
              "  void root.Bokeh.embed.embed_items_notebook(docs_json, render_items);\n",
              "  }\n",
              "  if (root.Bokeh !== undefined) {\n",
              "    embed_document(root);\n",
              "  } else {\n",
              "    let attempts = 0;\n",
              "    const timer = setInterval(function(root) {\n",
              "      if (root.Bokeh !== undefined) {\n",
              "        clearInterval(timer);\n",
              "        embed_document(root);\n",
              "      } else {\n",
              "        attempts++;\n",
              "        if (attempts > 100) {\n",
              "          clearInterval(timer);\n",
              "          console.log(\"Bokeh: ERROR: Unable to run BokehJS code because BokehJS library is missing\");\n",
              "        }\n",
              "      }\n",
              "    }, 10, root)\n",
              "  }\n",
              "})(window);"
            ],
            "application/vnd.bokehjs_exec.v0+json": ""
          },
          "metadata": {
            "application/vnd.bokehjs_exec.v0+json": {
              "id": "p1055"
            }
          }
        },
        {
          "output_type": "execute_result",
          "data": {
            "text/plain": [
              "figure(id='p1055', ...)"
            ],
            "text/html": [
              "<div style=\"display: table;\"><div style=\"display: table-row;\"><div style=\"display: table-cell;\"><b title=\"bokeh.plotting._figure.figure\">figure</b>(</div><div style=\"display: table-cell;\">id&nbsp;=&nbsp;'p1055', <span id=\"p1102\" style=\"cursor: pointer;\">&hellip;)</span></div></div><div class=\"p1101\" style=\"display: none;\"><div style=\"display: table-cell;\"></div><div style=\"display: table-cell;\">above&nbsp;=&nbsp;[],</div></div><div class=\"p1101\" style=\"display: none;\"><div style=\"display: table-cell;\"></div><div style=\"display: table-cell;\">align&nbsp;=&nbsp;'auto',</div></div><div class=\"p1101\" style=\"display: none;\"><div style=\"display: table-cell;\"></div><div style=\"display: table-cell;\">aspect_ratio&nbsp;=&nbsp;None,</div></div><div class=\"p1101\" style=\"display: none;\"><div style=\"display: table-cell;\"></div><div style=\"display: table-cell;\">aspect_scale&nbsp;=&nbsp;1,</div></div><div class=\"p1101\" style=\"display: none;\"><div style=\"display: table-cell;\"></div><div style=\"display: table-cell;\">attribution&nbsp;=&nbsp;[],</div></div><div class=\"p1101\" style=\"display: none;\"><div style=\"display: table-cell;\"></div><div style=\"display: table-cell;\">background_fill_alpha&nbsp;=&nbsp;1.0,</div></div><div class=\"p1101\" style=\"display: none;\"><div style=\"display: table-cell;\"></div><div style=\"display: table-cell;\">background_fill_color&nbsp;=&nbsp;'#ffffff',</div></div><div class=\"p1101\" style=\"display: none;\"><div style=\"display: table-cell;\"></div><div style=\"display: table-cell;\">below&nbsp;=&nbsp;[LinearAxis(id='p1066', ...)],</div></div><div class=\"p1101\" style=\"display: none;\"><div style=\"display: table-cell;\"></div><div style=\"display: table-cell;\">border_fill_alpha&nbsp;=&nbsp;1.0,</div></div><div class=\"p1101\" style=\"display: none;\"><div style=\"display: table-cell;\"></div><div style=\"display: table-cell;\">border_fill_color&nbsp;=&nbsp;'#ffffff',</div></div><div class=\"p1101\" style=\"display: none;\"><div style=\"display: table-cell;\"></div><div style=\"display: table-cell;\">center&nbsp;=&nbsp;[Grid(id='p1070', ...), Grid(id='p1075', ...)],</div></div><div class=\"p1101\" style=\"display: none;\"><div style=\"display: table-cell;\"></div><div style=\"display: table-cell;\">context_menu&nbsp;=&nbsp;None,</div></div><div class=\"p1101\" style=\"display: none;\"><div style=\"display: table-cell;\"></div><div style=\"display: table-cell;\">css_classes&nbsp;=&nbsp;[],</div></div><div class=\"p1101\" style=\"display: none;\"><div style=\"display: table-cell;\"></div><div style=\"display: table-cell;\">css_variables&nbsp;=&nbsp;{},</div></div><div class=\"p1101\" style=\"display: none;\"><div style=\"display: table-cell;\"></div><div style=\"display: table-cell;\">disabled&nbsp;=&nbsp;False,</div></div><div class=\"p1101\" style=\"display: none;\"><div style=\"display: table-cell;\"></div><div style=\"display: table-cell;\">elements&nbsp;=&nbsp;[],</div></div><div class=\"p1101\" style=\"display: none;\"><div style=\"display: table-cell;\"></div><div style=\"display: table-cell;\">extra_x_ranges&nbsp;=&nbsp;{},</div></div><div class=\"p1101\" style=\"display: none;\"><div style=\"display: table-cell;\"></div><div style=\"display: table-cell;\">extra_x_scales&nbsp;=&nbsp;{},</div></div><div class=\"p1101\" style=\"display: none;\"><div style=\"display: table-cell;\"></div><div style=\"display: table-cell;\">extra_y_ranges&nbsp;=&nbsp;{},</div></div><div class=\"p1101\" style=\"display: none;\"><div style=\"display: table-cell;\"></div><div style=\"display: table-cell;\">extra_y_scales&nbsp;=&nbsp;{},</div></div><div class=\"p1101\" style=\"display: none;\"><div style=\"display: table-cell;\"></div><div style=\"display: table-cell;\">flow_mode&nbsp;=&nbsp;'block',</div></div><div class=\"p1101\" style=\"display: none;\"><div style=\"display: table-cell;\"></div><div style=\"display: table-cell;\">frame_align&nbsp;=&nbsp;True,</div></div><div class=\"p1101\" style=\"display: none;\"><div style=\"display: table-cell;\"></div><div style=\"display: table-cell;\">frame_height&nbsp;=&nbsp;None,</div></div><div class=\"p1101\" style=\"display: none;\"><div style=\"display: table-cell;\"></div><div style=\"display: table-cell;\">frame_width&nbsp;=&nbsp;None,</div></div><div class=\"p1101\" style=\"display: none;\"><div style=\"display: table-cell;\"></div><div style=\"display: table-cell;\">height&nbsp;=&nbsp;400,</div></div><div class=\"p1101\" style=\"display: none;\"><div style=\"display: table-cell;\"></div><div style=\"display: table-cell;\">height_policy&nbsp;=&nbsp;'auto',</div></div><div class=\"p1101\" style=\"display: none;\"><div style=\"display: table-cell;\"></div><div style=\"display: table-cell;\">hidpi&nbsp;=&nbsp;True,</div></div><div class=\"p1101\" style=\"display: none;\"><div style=\"display: table-cell;\"></div><div style=\"display: table-cell;\">hold_render&nbsp;=&nbsp;False,</div></div><div class=\"p1101\" style=\"display: none;\"><div style=\"display: table-cell;\"></div><div style=\"display: table-cell;\">js_event_callbacks&nbsp;=&nbsp;{},</div></div><div class=\"p1101\" style=\"display: none;\"><div style=\"display: table-cell;\"></div><div style=\"display: table-cell;\">js_property_callbacks&nbsp;=&nbsp;{},</div></div><div class=\"p1101\" style=\"display: none;\"><div style=\"display: table-cell;\"></div><div style=\"display: table-cell;\">left&nbsp;=&nbsp;[LinearAxis(id='p1071', ...)],</div></div><div class=\"p1101\" style=\"display: none;\"><div style=\"display: table-cell;\"></div><div style=\"display: table-cell;\">lod_factor&nbsp;=&nbsp;10,</div></div><div class=\"p1101\" style=\"display: none;\"><div style=\"display: table-cell;\"></div><div style=\"display: table-cell;\">lod_interval&nbsp;=&nbsp;300,</div></div><div class=\"p1101\" style=\"display: none;\"><div style=\"display: table-cell;\"></div><div style=\"display: table-cell;\">lod_threshold&nbsp;=&nbsp;2000,</div></div><div class=\"p1101\" style=\"display: none;\"><div style=\"display: table-cell;\"></div><div style=\"display: table-cell;\">lod_timeout&nbsp;=&nbsp;500,</div></div><div class=\"p1101\" style=\"display: none;\"><div style=\"display: table-cell;\"></div><div style=\"display: table-cell;\">margin&nbsp;=&nbsp;None,</div></div><div class=\"p1101\" style=\"display: none;\"><div style=\"display: table-cell;\"></div><div style=\"display: table-cell;\">match_aspect&nbsp;=&nbsp;False,</div></div><div class=\"p1101\" style=\"display: none;\"><div style=\"display: table-cell;\"></div><div style=\"display: table-cell;\">max_height&nbsp;=&nbsp;None,</div></div><div class=\"p1101\" style=\"display: none;\"><div style=\"display: table-cell;\"></div><div style=\"display: table-cell;\">max_width&nbsp;=&nbsp;None,</div></div><div class=\"p1101\" style=\"display: none;\"><div style=\"display: table-cell;\"></div><div style=\"display: table-cell;\">min_border&nbsp;=&nbsp;5,</div></div><div class=\"p1101\" style=\"display: none;\"><div style=\"display: table-cell;\"></div><div style=\"display: table-cell;\">min_border_bottom&nbsp;=&nbsp;None,</div></div><div class=\"p1101\" style=\"display: none;\"><div style=\"display: table-cell;\"></div><div style=\"display: table-cell;\">min_border_left&nbsp;=&nbsp;None,</div></div><div class=\"p1101\" style=\"display: none;\"><div style=\"display: table-cell;\"></div><div style=\"display: table-cell;\">min_border_right&nbsp;=&nbsp;None,</div></div><div class=\"p1101\" style=\"display: none;\"><div style=\"display: table-cell;\"></div><div style=\"display: table-cell;\">min_border_top&nbsp;=&nbsp;None,</div></div><div class=\"p1101\" style=\"display: none;\"><div style=\"display: table-cell;\"></div><div style=\"display: table-cell;\">min_height&nbsp;=&nbsp;None,</div></div><div class=\"p1101\" style=\"display: none;\"><div style=\"display: table-cell;\"></div><div style=\"display: table-cell;\">min_width&nbsp;=&nbsp;None,</div></div><div class=\"p1101\" style=\"display: none;\"><div style=\"display: table-cell;\"></div><div style=\"display: table-cell;\">name&nbsp;=&nbsp;None,</div></div><div class=\"p1101\" style=\"display: none;\"><div style=\"display: table-cell;\"></div><div style=\"display: table-cell;\">outline_line_alpha&nbsp;=&nbsp;1.0,</div></div><div class=\"p1101\" style=\"display: none;\"><div style=\"display: table-cell;\"></div><div style=\"display: table-cell;\">outline_line_cap&nbsp;=&nbsp;'butt',</div></div><div class=\"p1101\" style=\"display: none;\"><div style=\"display: table-cell;\"></div><div style=\"display: table-cell;\">outline_line_color&nbsp;=&nbsp;'#e5e5e5',</div></div><div class=\"p1101\" style=\"display: none;\"><div style=\"display: table-cell;\"></div><div style=\"display: table-cell;\">outline_line_dash&nbsp;=&nbsp;[],</div></div><div class=\"p1101\" style=\"display: none;\"><div style=\"display: table-cell;\"></div><div style=\"display: table-cell;\">outline_line_dash_offset&nbsp;=&nbsp;0,</div></div><div class=\"p1101\" style=\"display: none;\"><div style=\"display: table-cell;\"></div><div style=\"display: table-cell;\">outline_line_join&nbsp;=&nbsp;'bevel',</div></div><div class=\"p1101\" style=\"display: none;\"><div style=\"display: table-cell;\"></div><div style=\"display: table-cell;\">outline_line_width&nbsp;=&nbsp;1,</div></div><div class=\"p1101\" style=\"display: none;\"><div style=\"display: table-cell;\"></div><div style=\"display: table-cell;\">output_backend&nbsp;=&nbsp;'canvas',</div></div><div class=\"p1101\" style=\"display: none;\"><div style=\"display: table-cell;\"></div><div style=\"display: table-cell;\">renderers&nbsp;=&nbsp;[GlyphRenderer(id='p1095', ...)],</div></div><div class=\"p1101\" style=\"display: none;\"><div style=\"display: table-cell;\"></div><div style=\"display: table-cell;\">reset_policy&nbsp;=&nbsp;'standard',</div></div><div class=\"p1101\" style=\"display: none;\"><div style=\"display: table-cell;\"></div><div style=\"display: table-cell;\">resizable&nbsp;=&nbsp;False,</div></div><div class=\"p1101\" style=\"display: none;\"><div style=\"display: table-cell;\"></div><div style=\"display: table-cell;\">right&nbsp;=&nbsp;[],</div></div><div class=\"p1101\" style=\"display: none;\"><div style=\"display: table-cell;\"></div><div style=\"display: table-cell;\">sizing_mode&nbsp;=&nbsp;None,</div></div><div class=\"p1101\" style=\"display: none;\"><div style=\"display: table-cell;\"></div><div style=\"display: table-cell;\">styles&nbsp;=&nbsp;{},</div></div><div class=\"p1101\" style=\"display: none;\"><div style=\"display: table-cell;\"></div><div style=\"display: table-cell;\">stylesheets&nbsp;=&nbsp;[],</div></div><div class=\"p1101\" style=\"display: none;\"><div style=\"display: table-cell;\"></div><div style=\"display: table-cell;\">subscribed_events&nbsp;=&nbsp;PropertyValueSet(),</div></div><div class=\"p1101\" style=\"display: none;\"><div style=\"display: table-cell;\"></div><div style=\"display: table-cell;\">syncable&nbsp;=&nbsp;True,</div></div><div class=\"p1101\" style=\"display: none;\"><div style=\"display: table-cell;\"></div><div style=\"display: table-cell;\">tags&nbsp;=&nbsp;[],</div></div><div class=\"p1101\" style=\"display: none;\"><div style=\"display: table-cell;\"></div><div style=\"display: table-cell;\">title&nbsp;=&nbsp;Title(id='p1062', ...),</div></div><div class=\"p1101\" style=\"display: none;\"><div style=\"display: table-cell;\"></div><div style=\"display: table-cell;\">title_location&nbsp;=&nbsp;'above',</div></div><div class=\"p1101\" style=\"display: none;\"><div style=\"display: table-cell;\"></div><div style=\"display: table-cell;\">toolbar&nbsp;=&nbsp;Toolbar(id='p1063', ...),</div></div><div class=\"p1101\" style=\"display: none;\"><div style=\"display: table-cell;\"></div><div style=\"display: table-cell;\">toolbar_inner&nbsp;=&nbsp;False,</div></div><div class=\"p1101\" style=\"display: none;\"><div style=\"display: table-cell;\"></div><div style=\"display: table-cell;\">toolbar_location&nbsp;=&nbsp;'right',</div></div><div class=\"p1101\" style=\"display: none;\"><div style=\"display: table-cell;\"></div><div style=\"display: table-cell;\">toolbar_sticky&nbsp;=&nbsp;True,</div></div><div class=\"p1101\" style=\"display: none;\"><div style=\"display: table-cell;\"></div><div style=\"display: table-cell;\">visible&nbsp;=&nbsp;True,</div></div><div class=\"p1101\" style=\"display: none;\"><div style=\"display: table-cell;\"></div><div style=\"display: table-cell;\">width&nbsp;=&nbsp;600,</div></div><div class=\"p1101\" style=\"display: none;\"><div style=\"display: table-cell;\"></div><div style=\"display: table-cell;\">width_policy&nbsp;=&nbsp;'auto',</div></div><div class=\"p1101\" style=\"display: none;\"><div style=\"display: table-cell;\"></div><div style=\"display: table-cell;\">x_range&nbsp;=&nbsp;DataRange1d(id='p1056', ...),</div></div><div class=\"p1101\" style=\"display: none;\"><div style=\"display: table-cell;\"></div><div style=\"display: table-cell;\">x_scale&nbsp;=&nbsp;LinearScale(id='p1064', ...),</div></div><div class=\"p1101\" style=\"display: none;\"><div style=\"display: table-cell;\"></div><div style=\"display: table-cell;\">y_range&nbsp;=&nbsp;DataRange1d(id='p1057', ...),</div></div><div class=\"p1101\" style=\"display: none;\"><div style=\"display: table-cell;\"></div><div style=\"display: table-cell;\">y_scale&nbsp;=&nbsp;LinearScale(id='p1065', ...))</div></div></div>\n",
              "<script>\n",
              "(function() {\n",
              "  let expanded = false;\n",
              "  const ellipsis = document.getElementById(\"p1102\");\n",
              "  ellipsis.addEventListener(\"click\", function() {\n",
              "    const rows = document.getElementsByClassName(\"p1101\");\n",
              "    for (let i = 0; i < rows.length; i++) {\n",
              "      const el = rows[i];\n",
              "      el.style.display = expanded ? \"none\" : \"table-row\";\n",
              "    }\n",
              "    ellipsis.innerHTML = expanded ? \"&hellip;)\" : \"&lsaquo;&lsaquo;&lsaquo;\";\n",
              "    expanded = !expanded;\n",
              "  });\n",
              "})();\n",
              "</script>\n"
            ]
          },
          "metadata": {},
          "execution_count": 22
        }
      ],
      "source": [
        "draw_vectors(word_tsne[:, 0], word_tsne[:, 1], color='green', token=words)"
      ]
    },
    {
      "cell_type": "markdown",
      "metadata": {
        "id": "78zv78i92262"
      },
      "source": [
        "### Visualizing phrases\n",
        "\n",
        "Word embeddings can also be used to represent short phrases. The simplest way is to take __an average__ of vectors for all tokens in the phrase with some weights.\n",
        "\n",
        "This trick is useful to identify what data are you working with: find if there are any outliers, clusters or other artefacts.\n",
        "\n",
        "Let's try this new hammer on our data!\n"
      ]
    },
    {
      "cell_type": "code",
      "execution_count": 27,
      "metadata": {
        "collapsed": true,
        "id": "eJ6uyhwP2262"
      },
      "outputs": [],
      "source": [
        "def get_phrase_embedding(phrase):\n",
        "    \"\"\"\n",
        "    Convert phrase to a vector by aggregating it's word embeddings. See description above.\n",
        "    \"\"\"\n",
        "    # 1. lowercase phrase\n",
        "    # 2. tokenize phrase\n",
        "    # 3. average word vectors for all words in tokenized phrase\n",
        "    # skip words that are not in model's vocabulary\n",
        "    # if all words are missing from vocabulary, return zeros\n",
        "\n",
        "    vector = np.zeros([model.vector_size], dtype='float32')\n",
        "\n",
        "    # YOUR CODE\n",
        "\n",
        "    phrase = phrase.lower()\n",
        "    tokens = tokenizer.tokenize(phrase)\n",
        "    vectors = []\n",
        "\n",
        "    for word in tokens:\n",
        "        if word in model:\n",
        "          vectors.append(model.get_vector(word))\n",
        "\n",
        "    if not vectors:\n",
        "      return np.zeros([model.vector_size], dtype='float32')\n",
        "\n",
        "    vector = np.mean(vectors, axis=0)\n",
        "\n",
        "    return vector"
      ]
    },
    {
      "cell_type": "code",
      "execution_count": 28,
      "metadata": {
        "collapsed": true,
        "id": "59WUh_Cw2262"
      },
      "outputs": [],
      "source": [
        "vector = get_phrase_embedding(\"I'm very sure. This never happened to me before...\")\n",
        "\n",
        "assert np.allclose(vector[::10],\n",
        "                   np.array([ 0.31807372, -0.02558171,  0.0933293 , -0.1002182 , -1.0278689 ,\n",
        "                             -0.16621883,  0.05083408,  0.17989802,  1.3701859 ,  0.08655966],\n",
        "                              dtype=np.float32))\n",
        "assert np.array_equal(get_phrase_embedding(\"thisisgibberish\"), np.zeros([model.vector_size], dtype='float32')), \"corner case for all missing words should be handled as described in the function comments\""
      ]
    },
    {
      "cell_type": "code",
      "execution_count": 31,
      "metadata": {
        "collapsed": true,
        "id": "RMr-1ta92262"
      },
      "outputs": [],
      "source": [
        "# let's only consider ~5k phrases for a first run.\n",
        "chosen_phrases = data[::len(data) // 1000]\n",
        "\n",
        "# compute vectors for chosen phrases\n",
        "phrase_vectors = np.array([get_phrase_embedding(phrase) for phrase in chosen_phrases])"
      ]
    },
    {
      "cell_type": "code",
      "source": [],
      "metadata": {
        "id": "FVkWcNDgGa2O"
      },
      "execution_count": null,
      "outputs": []
    },
    {
      "cell_type": "code",
      "execution_count": 32,
      "metadata": {
        "collapsed": true,
        "id": "UNHaP-v52262"
      },
      "outputs": [],
      "source": [
        "assert isinstance(phrase_vectors, np.ndarray) and np.isfinite(phrase_vectors).all()\n",
        "assert phrase_vectors.shape == (len(chosen_phrases), model.vector_size)"
      ]
    },
    {
      "cell_type": "code",
      "execution_count": 33,
      "metadata": {
        "collapsed": true,
        "id": "ItSVb-5K2262",
        "colab": {
          "base_uri": "https://localhost:8080/"
        },
        "outputId": "cccc3276-2b39-48a9-ed1d-54e3e70eb890"
      },
      "outputs": [
        {
          "output_type": "stream",
          "name": "stderr",
          "text": [
            "/usr/local/lib/python3.11/dist-packages/sklearn/manifold/_t_sne.py:1164: FutureWarning: 'n_iter' was renamed to 'max_iter' in version 1.5 and will be removed in 1.7.\n",
            "  warnings.warn(\n"
          ]
        }
      ],
      "source": [
        "# map vectors into 2d space with pca, tsne or your other method of choice\n",
        "# don't forget to normalize\n",
        "\n",
        "phrase_vectors_pca = (phrase_vectors - phrase_vectors.mean(axis=0)) / phrase_vectors.std(axis=0)\n",
        "\n",
        "phrase_vectors_tsne = tsne.fit_transform(phrase_vectors)\n"
      ]
    },
    {
      "cell_type": "markdown",
      "metadata": {
        "id": "BkyLe0dM2263"
      },
      "source": [
        "Finally, let's build a simple \"similar question\" engine with phrase embeddings we've built."
      ]
    },
    {
      "cell_type": "code",
      "execution_count": 34,
      "metadata": {
        "collapsed": true,
        "id": "hMKXlIO82263"
      },
      "outputs": [],
      "source": [
        "# compute vector embedding for all lines in data\n",
        "data_vectors = np.array([get_phrase_embedding(line) for line in data])"
      ]
    },
    {
      "cell_type": "code",
      "execution_count": 45,
      "metadata": {
        "collapsed": true,
        "id": "CwND5OfL2263"
      },
      "outputs": [],
      "source": [
        "from scipy.spatial.distance import cdist\n",
        "\n",
        "def find_nearest(query, k=10):\n",
        "    \"\"\"\n",
        "    given text line (query), return k most similar lines from data, sorted from most to least similar\n",
        "    similarity should be measured as cosine between query and line embedding vectors\n",
        "    hint: it's okay to use global variables: data and data_vectors. see also: np.argpartition, np.argsort\n",
        "    \"\"\"\n",
        "    # YOUR CODE\n",
        "\n",
        "    query_vector = get_phrase_embedding(query)\n",
        "\n",
        "    #cos similarity\n",
        "    dot_products = np.dot(data_vectors, query_vector)\n",
        "    query_norm = np.linalg.norm(query_vector)\n",
        "    data_norms = np.linalg.norm(data_vectors, axis=1)\n",
        "    valid_norms = data_norms > 0\n",
        "    cosine_similarities = np.zeros_like(dot_products)\n",
        "    cosine_similarities[valid_norms] = dot_products[valid_norms] / (query_norm * data_norms[valid_norms])\n",
        "\n",
        "    top_k_indices = np.argsort(cosine_similarities)[-k:][::-1]\n",
        "    nearest_lines = [data[i] for i in top_k_indices]\n",
        "\n",
        "    return nearest_lines"
      ]
    },
    {
      "cell_type": "code",
      "execution_count": 46,
      "metadata": {
        "collapsed": true,
        "id": "VyFO2CY62263",
        "outputId": "a6648d48-876c-43a0-bcc2-b23d6f9f9f60",
        "colab": {
          "base_uri": "https://localhost:8080/"
        }
      },
      "outputs": [
        {
          "output_type": "stream",
          "name": "stdout",
          "text": [
            "How do I get to the dark web?\n",
            "What should I do to enter hollywood?\n",
            "How do I use the Greenify app?\n",
            "What can I do to save the world?\n",
            "How do I win this?\n",
            "How do I think out of the box? How do I learn to think out of the box?\n",
            "How do I find the 5th dimension?\n",
            "How do I use the pad in MMA?\n",
            "How do I estimate the competition?\n",
            "What do I do to enter the line of event management?\n",
            "\n"
          ]
        }
      ],
      "source": [
        "results = find_nearest(query=\"How do i enter the matrix?\", k=10)\n",
        "\n",
        "print(''.join(results))\n",
        "\n",
        "assert len(results) == 10 and isinstance(results[0], str)\n",
        "assert results[0] == 'How do I get to the dark web?\\n'\n",
        "assert results[3] == 'What can I do to save the world?\\n'"
      ]
    },
    {
      "cell_type": "code",
      "execution_count": 47,
      "metadata": {
        "collapsed": true,
        "id": "gOsDY-ue2267",
        "outputId": "89b70dd8-e401-40c5-a115-4815d7f4011d",
        "colab": {
          "base_uri": "https://localhost:8080/"
        }
      },
      "outputs": [
        {
          "output_type": "execute_result",
          "data": {
            "text/plain": [
              "['What does Donald Trump think about Israel?\\n',\n",
              " 'What books does Donald Trump like?\\n',\n",
              " 'What does Donald Trump think of India?\\n',\n",
              " 'What does India think of Donald Trump?\\n',\n",
              " 'What does Donald Trump think of China?\\n',\n",
              " 'What does Donald Trump think about Pakistan?\\n',\n",
              " 'What companies does Donald Trump own?\\n',\n",
              " 'What does Dushka Zapata think about Donald Trump?\\n',\n",
              " 'How does it feel to date Ivanka Trump?\\n',\n",
              " 'What does salesforce mean?\\n']"
            ]
          },
          "metadata": {},
          "execution_count": 47
        }
      ],
      "source": [
        "find_nearest(query=\"How does Trump?\", k=10)"
      ]
    },
    {
      "cell_type": "code",
      "execution_count": 48,
      "metadata": {
        "collapsed": true,
        "id": "S2WarUzw2268",
        "outputId": "bed4ee09-acab-4823-8bab-40b3113eef5b",
        "colab": {
          "base_uri": "https://localhost:8080/"
        }
      },
      "outputs": [
        {
          "output_type": "execute_result",
          "data": {
            "text/plain": [
              "[\"Why don't I get a date?\\n\",\n",
              " \"Why do you always answer a question with a question? I don't, or do I?\\n\",\n",
              " \"Why can't I ask a question anonymously?\\n\",\n",
              " \"Why don't I get a girlfriend?\\n\",\n",
              " \"Why don't I have a boyfriend?\\n\",\n",
              " \"I don't have no question?\\n\",\n",
              " \"Why can't I take a joke?\\n\",\n",
              " \"Why don't I ever get a girl?\\n\",\n",
              " \"Can I ask a girl out that I don't know?\\n\",\n",
              " \"Why don't I have a girlfriend?\\n\"]"
            ]
          },
          "metadata": {},
          "execution_count": 48
        }
      ],
      "source": [
        "find_nearest(query=\"Why don't i ask a question myself?\", k=10)"
      ]
    },
    {
      "cell_type": "markdown",
      "metadata": {
        "collapsed": true,
        "id": "OvIr6AOd2268"
      },
      "source": [
        "__Now what?__\n",
        "* Try running TSNE on all data, not just 1000 phrases\n",
        "* See what other embeddings are there in the model zoo: `gensim.downloader.info()`\n",
        "* Take a look at [FastText](https://github.com/facebookresearch/fastText) embeddings\n",
        "* Optimize `find_nearest` with locality-sensitive hashing: use [nearpy](https://github.com/pixelogik/NearPy) or `sklearn.neighbors`."
      ]
    }
  ],
  "metadata": {
    "kernelspec": {
      "display_name": "Python 3",
      "language": "python",
      "name": "python3"
    },
    "language_info": {
      "codemirror_mode": {
        "name": "ipython",
        "version": 3
      },
      "file_extension": ".py",
      "mimetype": "text/x-python",
      "name": "python",
      "nbconvert_exporter": "python",
      "pygments_lexer": "ipython3",
      "version": "3.10.9"
    },
    "colab": {
      "provenance": []
    }
  },
  "nbformat": 4,
  "nbformat_minor": 0
}