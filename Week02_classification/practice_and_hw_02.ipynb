{
  "cells": [
    {
      "cell_type": "markdown",
      "metadata": {
        "id": "ZQow7ijBYmfj"
      },
      "source": [
        "# Large scale text analysis with deep learning\n",
        "# Practice (2 points)"
      ]
    },
    {
      "cell_type": "markdown",
      "metadata": {
        "id": "DAdneWSSYmfj"
      },
      "source": [
        "In this assignment, you will develop a deep learning model that predicts salaries based on resumes (credits to to [Oleg Vasilev](https://github.com/Omrigan/) and [Yandex Data School](https://github.com/yandexdataschool/nlp_course/tree/2024/week02_classification)). We will begin this project during our class, but it will require additional effort from you to finalize and submit it as the homework.\n",
        "\n",
        "To secure full grade for this assignment, ensure a consistent training process with an MSE loss falling below 0.10. If necessary, feel free to experiment with different parameters and model architectures. You are asked to implement at least two different architectures that reach this MSE."
      ]
    },
    {
      "cell_type": "code",
      "execution_count": 1,
      "metadata": {
        "id": "udAO40ZtYmfk"
      },
      "outputs": [],
      "source": [
        "import numpy as np\n",
        "import pandas as pd\n",
        "import matplotlib.pyplot as plt\n",
        "#%matplotlib inline"
      ]
    },
    {
      "cell_type": "markdown",
      "metadata": {
        "id": "q-NRE0FoYmfk"
      },
      "source": [
        "### Data from Adzuna challenge\n",
        "For starters, let's download the data from\n",
        "1)  [google drive](https://drive.google.com/file/d/1c41JVi3so_GSQ0tPCIsmXsq_dUTSb5iZ/view?usp=sharing), or\n",
        "2) the Kaggle ompetition [page](https://www.kaggle.com/c/job-salary-prediction/data) (pick `Train_rev1.*`).\n",
        "\n",
        "Source: Adzuna, Andrew Hunter, Ben Hamner, Fabio, and XiaoJenna. Job Salary Prediction. https://kaggle.com/competitions/job-salary-prediction, 2013. Kaggle.\n",
        "\n",
        "_You can read more [in the official description](https://www.kaggle.com/c/job-salary-prediction#description)._"
      ]
    },
    {
      "cell_type": "code",
      "source": [
        "import gdown\n",
        "gdown.download(f\"https://drive.google.com/uc?id=1c41JVi3so_GSQ0tPCIsmXsq_dUTSb5iZ\", \"Train_rev1.zip\", quiet=False)"
      ],
      "metadata": {
        "id": "zRieJERDt1WL",
        "colab": {
          "base_uri": "https://localhost:8080/",
          "height": 122
        },
        "outputId": "6693f8f2-eb52-4e16-c09e-44c5eb49c67d"
      },
      "execution_count": 2,
      "outputs": [
        {
          "output_type": "stream",
          "name": "stderr",
          "text": [
            "Downloading...\n",
            "From (original): https://drive.google.com/uc?id=1c41JVi3so_GSQ0tPCIsmXsq_dUTSb5iZ\n",
            "From (redirected): https://drive.google.com/uc?id=1c41JVi3so_GSQ0tPCIsmXsq_dUTSb5iZ&confirm=t&uuid=07d92883-8cf1-4cce-9223-6c1eb2ddd98f\n",
            "To: /content/Train_rev1.zip\n",
            "100%|██████████| 128M/128M [00:01<00:00, 100MB/s]\n"
          ]
        },
        {
          "output_type": "execute_result",
          "data": {
            "text/plain": [
              "'Train_rev1.zip'"
            ],
            "application/vnd.google.colaboratory.intrinsic+json": {
              "type": "string"
            }
          },
          "metadata": {},
          "execution_count": 2
        }
      ]
    },
    {
      "cell_type": "code",
      "execution_count": 3,
      "metadata": {
        "id": "SooghvocYmfk",
        "outputId": "9183d527-325f-4866-8fbf-cad4e7c987ef",
        "colab": {
          "base_uri": "https://localhost:8080/"
        }
      },
      "outputs": [
        {
          "output_type": "execute_result",
          "data": {
            "text/plain": [
              "(244768, 12)"
            ]
          },
          "metadata": {},
          "execution_count": 3
        }
      ],
      "source": [
        "data = pd.read_csv(\"./Train_rev1.zip\", compression='zip', index_col=None)\n",
        "data.shape"
      ]
    },
    {
      "cell_type": "code",
      "execution_count": 4,
      "metadata": {
        "id": "k5n_PGGvYmfk",
        "outputId": "7b0a0dd7-c1d3-49dc-98b4-6dc1df3e8272",
        "colab": {
          "base_uri": "https://localhost:8080/",
          "height": 504
        }
      },
      "outputs": [
        {
          "output_type": "execute_result",
          "data": {
            "text/plain": [
              "         Id                                              Title  \\\n",
              "0  12612628                        Engineering Systems Analyst   \n",
              "1  12612830                            Stress Engineer Glasgow   \n",
              "2  12612844                   Modelling and simulation analyst   \n",
              "3  12613049  Engineering Systems Analyst / Mathematical Mod...   \n",
              "4  12613647         Pioneer, Miser Engineering Systems Analyst   \n",
              "\n",
              "                                     FullDescription  \\\n",
              "0  Engineering Systems Analyst Dorking Surrey Sal...   \n",
              "1  Stress Engineer Glasgow Salary **** to **** We...   \n",
              "2  Mathematical Modeller / Simulation Analyst / O...   \n",
              "3  Engineering Systems Analyst / Mathematical Mod...   \n",
              "4  Pioneer, Miser  Engineering Systems Analyst Do...   \n",
              "\n",
              "                         LocationRaw LocationNormalized ContractType  \\\n",
              "0            Dorking, Surrey, Surrey            Dorking          NaN   \n",
              "1        Glasgow, Scotland, Scotland            Glasgow          NaN   \n",
              "2  Hampshire, South East, South East          Hampshire          NaN   \n",
              "3     Surrey, South East, South East             Surrey          NaN   \n",
              "4     Surrey, South East, South East             Surrey          NaN   \n",
              "\n",
              "  ContractTime                       Company          Category  \\\n",
              "0    permanent  Gregory Martin International  Engineering Jobs   \n",
              "1    permanent  Gregory Martin International  Engineering Jobs   \n",
              "2    permanent  Gregory Martin International  Engineering Jobs   \n",
              "3    permanent  Gregory Martin International  Engineering Jobs   \n",
              "4    permanent  Gregory Martin International  Engineering Jobs   \n",
              "\n",
              "                                SalaryRaw  SalaryNormalized        SourceName  \n",
              "0              20000 - 30000/annum 20-30K             25000  cv-library.co.uk  \n",
              "1              25000 - 35000/annum 25-35K             30000  cv-library.co.uk  \n",
              "2              20000 - 40000/annum 20-40K             30000  cv-library.co.uk  \n",
              "3  25000 - 30000/annum 25K-30K negotiable             27500  cv-library.co.uk  \n",
              "4              20000 - 30000/annum 20-30K             25000  cv-library.co.uk  "
            ],
            "text/html": [
              "\n",
              "  <div id=\"df-b69a1383-15f5-45aa-8379-4f9ddefc4994\" class=\"colab-df-container\">\n",
              "    <div>\n",
              "<style scoped>\n",
              "    .dataframe tbody tr th:only-of-type {\n",
              "        vertical-align: middle;\n",
              "    }\n",
              "\n",
              "    .dataframe tbody tr th {\n",
              "        vertical-align: top;\n",
              "    }\n",
              "\n",
              "    .dataframe thead th {\n",
              "        text-align: right;\n",
              "    }\n",
              "</style>\n",
              "<table border=\"1\" class=\"dataframe\">\n",
              "  <thead>\n",
              "    <tr style=\"text-align: right;\">\n",
              "      <th></th>\n",
              "      <th>Id</th>\n",
              "      <th>Title</th>\n",
              "      <th>FullDescription</th>\n",
              "      <th>LocationRaw</th>\n",
              "      <th>LocationNormalized</th>\n",
              "      <th>ContractType</th>\n",
              "      <th>ContractTime</th>\n",
              "      <th>Company</th>\n",
              "      <th>Category</th>\n",
              "      <th>SalaryRaw</th>\n",
              "      <th>SalaryNormalized</th>\n",
              "      <th>SourceName</th>\n",
              "    </tr>\n",
              "  </thead>\n",
              "  <tbody>\n",
              "    <tr>\n",
              "      <th>0</th>\n",
              "      <td>12612628</td>\n",
              "      <td>Engineering Systems Analyst</td>\n",
              "      <td>Engineering Systems Analyst Dorking Surrey Sal...</td>\n",
              "      <td>Dorking, Surrey, Surrey</td>\n",
              "      <td>Dorking</td>\n",
              "      <td>NaN</td>\n",
              "      <td>permanent</td>\n",
              "      <td>Gregory Martin International</td>\n",
              "      <td>Engineering Jobs</td>\n",
              "      <td>20000 - 30000/annum 20-30K</td>\n",
              "      <td>25000</td>\n",
              "      <td>cv-library.co.uk</td>\n",
              "    </tr>\n",
              "    <tr>\n",
              "      <th>1</th>\n",
              "      <td>12612830</td>\n",
              "      <td>Stress Engineer Glasgow</td>\n",
              "      <td>Stress Engineer Glasgow Salary **** to **** We...</td>\n",
              "      <td>Glasgow, Scotland, Scotland</td>\n",
              "      <td>Glasgow</td>\n",
              "      <td>NaN</td>\n",
              "      <td>permanent</td>\n",
              "      <td>Gregory Martin International</td>\n",
              "      <td>Engineering Jobs</td>\n",
              "      <td>25000 - 35000/annum 25-35K</td>\n",
              "      <td>30000</td>\n",
              "      <td>cv-library.co.uk</td>\n",
              "    </tr>\n",
              "    <tr>\n",
              "      <th>2</th>\n",
              "      <td>12612844</td>\n",
              "      <td>Modelling and simulation analyst</td>\n",
              "      <td>Mathematical Modeller / Simulation Analyst / O...</td>\n",
              "      <td>Hampshire, South East, South East</td>\n",
              "      <td>Hampshire</td>\n",
              "      <td>NaN</td>\n",
              "      <td>permanent</td>\n",
              "      <td>Gregory Martin International</td>\n",
              "      <td>Engineering Jobs</td>\n",
              "      <td>20000 - 40000/annum 20-40K</td>\n",
              "      <td>30000</td>\n",
              "      <td>cv-library.co.uk</td>\n",
              "    </tr>\n",
              "    <tr>\n",
              "      <th>3</th>\n",
              "      <td>12613049</td>\n",
              "      <td>Engineering Systems Analyst / Mathematical Mod...</td>\n",
              "      <td>Engineering Systems Analyst / Mathematical Mod...</td>\n",
              "      <td>Surrey, South East, South East</td>\n",
              "      <td>Surrey</td>\n",
              "      <td>NaN</td>\n",
              "      <td>permanent</td>\n",
              "      <td>Gregory Martin International</td>\n",
              "      <td>Engineering Jobs</td>\n",
              "      <td>25000 - 30000/annum 25K-30K negotiable</td>\n",
              "      <td>27500</td>\n",
              "      <td>cv-library.co.uk</td>\n",
              "    </tr>\n",
              "    <tr>\n",
              "      <th>4</th>\n",
              "      <td>12613647</td>\n",
              "      <td>Pioneer, Miser Engineering Systems Analyst</td>\n",
              "      <td>Pioneer, Miser  Engineering Systems Analyst Do...</td>\n",
              "      <td>Surrey, South East, South East</td>\n",
              "      <td>Surrey</td>\n",
              "      <td>NaN</td>\n",
              "      <td>permanent</td>\n",
              "      <td>Gregory Martin International</td>\n",
              "      <td>Engineering Jobs</td>\n",
              "      <td>20000 - 30000/annum 20-30K</td>\n",
              "      <td>25000</td>\n",
              "      <td>cv-library.co.uk</td>\n",
              "    </tr>\n",
              "  </tbody>\n",
              "</table>\n",
              "</div>\n",
              "    <div class=\"colab-df-buttons\">\n",
              "\n",
              "  <div class=\"colab-df-container\">\n",
              "    <button class=\"colab-df-convert\" onclick=\"convertToInteractive('df-b69a1383-15f5-45aa-8379-4f9ddefc4994')\"\n",
              "            title=\"Convert this dataframe to an interactive table.\"\n",
              "            style=\"display:none;\">\n",
              "\n",
              "  <svg xmlns=\"http://www.w3.org/2000/svg\" height=\"24px\" viewBox=\"0 -960 960 960\">\n",
              "    <path d=\"M120-120v-720h720v720H120Zm60-500h600v-160H180v160Zm220 220h160v-160H400v160Zm0 220h160v-160H400v160ZM180-400h160v-160H180v160Zm440 0h160v-160H620v160ZM180-180h160v-160H180v160Zm440 0h160v-160H620v160Z\"/>\n",
              "  </svg>\n",
              "    </button>\n",
              "\n",
              "  <style>\n",
              "    .colab-df-container {\n",
              "      display:flex;\n",
              "      gap: 12px;\n",
              "    }\n",
              "\n",
              "    .colab-df-convert {\n",
              "      background-color: #E8F0FE;\n",
              "      border: none;\n",
              "      border-radius: 50%;\n",
              "      cursor: pointer;\n",
              "      display: none;\n",
              "      fill: #1967D2;\n",
              "      height: 32px;\n",
              "      padding: 0 0 0 0;\n",
              "      width: 32px;\n",
              "    }\n",
              "\n",
              "    .colab-df-convert:hover {\n",
              "      background-color: #E2EBFA;\n",
              "      box-shadow: 0px 1px 2px rgba(60, 64, 67, 0.3), 0px 1px 3px 1px rgba(60, 64, 67, 0.15);\n",
              "      fill: #174EA6;\n",
              "    }\n",
              "\n",
              "    .colab-df-buttons div {\n",
              "      margin-bottom: 4px;\n",
              "    }\n",
              "\n",
              "    [theme=dark] .colab-df-convert {\n",
              "      background-color: #3B4455;\n",
              "      fill: #D2E3FC;\n",
              "    }\n",
              "\n",
              "    [theme=dark] .colab-df-convert:hover {\n",
              "      background-color: #434B5C;\n",
              "      box-shadow: 0px 1px 3px 1px rgba(0, 0, 0, 0.15);\n",
              "      filter: drop-shadow(0px 1px 2px rgba(0, 0, 0, 0.3));\n",
              "      fill: #FFFFFF;\n",
              "    }\n",
              "  </style>\n",
              "\n",
              "    <script>\n",
              "      const buttonEl =\n",
              "        document.querySelector('#df-b69a1383-15f5-45aa-8379-4f9ddefc4994 button.colab-df-convert');\n",
              "      buttonEl.style.display =\n",
              "        google.colab.kernel.accessAllowed ? 'block' : 'none';\n",
              "\n",
              "      async function convertToInteractive(key) {\n",
              "        const element = document.querySelector('#df-b69a1383-15f5-45aa-8379-4f9ddefc4994');\n",
              "        const dataTable =\n",
              "          await google.colab.kernel.invokeFunction('convertToInteractive',\n",
              "                                                    [key], {});\n",
              "        if (!dataTable) return;\n",
              "\n",
              "        const docLinkHtml = 'Like what you see? Visit the ' +\n",
              "          '<a target=\"_blank\" href=https://colab.research.google.com/notebooks/data_table.ipynb>data table notebook</a>'\n",
              "          + ' to learn more about interactive tables.';\n",
              "        element.innerHTML = '';\n",
              "        dataTable['output_type'] = 'display_data';\n",
              "        await google.colab.output.renderOutput(dataTable, element);\n",
              "        const docLink = document.createElement('div');\n",
              "        docLink.innerHTML = docLinkHtml;\n",
              "        element.appendChild(docLink);\n",
              "      }\n",
              "    </script>\n",
              "  </div>\n",
              "\n",
              "\n",
              "<div id=\"df-2890a688-a17e-4ef8-bd1d-e566d9986e99\">\n",
              "  <button class=\"colab-df-quickchart\" onclick=\"quickchart('df-2890a688-a17e-4ef8-bd1d-e566d9986e99')\"\n",
              "            title=\"Suggest charts\"\n",
              "            style=\"display:none;\">\n",
              "\n",
              "<svg xmlns=\"http://www.w3.org/2000/svg\" height=\"24px\"viewBox=\"0 0 24 24\"\n",
              "     width=\"24px\">\n",
              "    <g>\n",
              "        <path d=\"M19 3H5c-1.1 0-2 .9-2 2v14c0 1.1.9 2 2 2h14c1.1 0 2-.9 2-2V5c0-1.1-.9-2-2-2zM9 17H7v-7h2v7zm4 0h-2V7h2v10zm4 0h-2v-4h2v4z\"/>\n",
              "    </g>\n",
              "</svg>\n",
              "  </button>\n",
              "\n",
              "<style>\n",
              "  .colab-df-quickchart {\n",
              "      --bg-color: #E8F0FE;\n",
              "      --fill-color: #1967D2;\n",
              "      --hover-bg-color: #E2EBFA;\n",
              "      --hover-fill-color: #174EA6;\n",
              "      --disabled-fill-color: #AAA;\n",
              "      --disabled-bg-color: #DDD;\n",
              "  }\n",
              "\n",
              "  [theme=dark] .colab-df-quickchart {\n",
              "      --bg-color: #3B4455;\n",
              "      --fill-color: #D2E3FC;\n",
              "      --hover-bg-color: #434B5C;\n",
              "      --hover-fill-color: #FFFFFF;\n",
              "      --disabled-bg-color: #3B4455;\n",
              "      --disabled-fill-color: #666;\n",
              "  }\n",
              "\n",
              "  .colab-df-quickchart {\n",
              "    background-color: var(--bg-color);\n",
              "    border: none;\n",
              "    border-radius: 50%;\n",
              "    cursor: pointer;\n",
              "    display: none;\n",
              "    fill: var(--fill-color);\n",
              "    height: 32px;\n",
              "    padding: 0;\n",
              "    width: 32px;\n",
              "  }\n",
              "\n",
              "  .colab-df-quickchart:hover {\n",
              "    background-color: var(--hover-bg-color);\n",
              "    box-shadow: 0 1px 2px rgba(60, 64, 67, 0.3), 0 1px 3px 1px rgba(60, 64, 67, 0.15);\n",
              "    fill: var(--button-hover-fill-color);\n",
              "  }\n",
              "\n",
              "  .colab-df-quickchart-complete:disabled,\n",
              "  .colab-df-quickchart-complete:disabled:hover {\n",
              "    background-color: var(--disabled-bg-color);\n",
              "    fill: var(--disabled-fill-color);\n",
              "    box-shadow: none;\n",
              "  }\n",
              "\n",
              "  .colab-df-spinner {\n",
              "    border: 2px solid var(--fill-color);\n",
              "    border-color: transparent;\n",
              "    border-bottom-color: var(--fill-color);\n",
              "    animation:\n",
              "      spin 1s steps(1) infinite;\n",
              "  }\n",
              "\n",
              "  @keyframes spin {\n",
              "    0% {\n",
              "      border-color: transparent;\n",
              "      border-bottom-color: var(--fill-color);\n",
              "      border-left-color: var(--fill-color);\n",
              "    }\n",
              "    20% {\n",
              "      border-color: transparent;\n",
              "      border-left-color: var(--fill-color);\n",
              "      border-top-color: var(--fill-color);\n",
              "    }\n",
              "    30% {\n",
              "      border-color: transparent;\n",
              "      border-left-color: var(--fill-color);\n",
              "      border-top-color: var(--fill-color);\n",
              "      border-right-color: var(--fill-color);\n",
              "    }\n",
              "    40% {\n",
              "      border-color: transparent;\n",
              "      border-right-color: var(--fill-color);\n",
              "      border-top-color: var(--fill-color);\n",
              "    }\n",
              "    60% {\n",
              "      border-color: transparent;\n",
              "      border-right-color: var(--fill-color);\n",
              "    }\n",
              "    80% {\n",
              "      border-color: transparent;\n",
              "      border-right-color: var(--fill-color);\n",
              "      border-bottom-color: var(--fill-color);\n",
              "    }\n",
              "    90% {\n",
              "      border-color: transparent;\n",
              "      border-bottom-color: var(--fill-color);\n",
              "    }\n",
              "  }\n",
              "</style>\n",
              "\n",
              "  <script>\n",
              "    async function quickchart(key) {\n",
              "      const quickchartButtonEl =\n",
              "        document.querySelector('#' + key + ' button');\n",
              "      quickchartButtonEl.disabled = true;  // To prevent multiple clicks.\n",
              "      quickchartButtonEl.classList.add('colab-df-spinner');\n",
              "      try {\n",
              "        const charts = await google.colab.kernel.invokeFunction(\n",
              "            'suggestCharts', [key], {});\n",
              "      } catch (error) {\n",
              "        console.error('Error during call to suggestCharts:', error);\n",
              "      }\n",
              "      quickchartButtonEl.classList.remove('colab-df-spinner');\n",
              "      quickchartButtonEl.classList.add('colab-df-quickchart-complete');\n",
              "    }\n",
              "    (() => {\n",
              "      let quickchartButtonEl =\n",
              "        document.querySelector('#df-2890a688-a17e-4ef8-bd1d-e566d9986e99 button');\n",
              "      quickchartButtonEl.style.display =\n",
              "        google.colab.kernel.accessAllowed ? 'block' : 'none';\n",
              "    })();\n",
              "  </script>\n",
              "</div>\n",
              "\n",
              "    </div>\n",
              "  </div>\n"
            ],
            "application/vnd.google.colaboratory.intrinsic+json": {
              "type": "dataframe",
              "variable_name": "data"
            }
          },
          "metadata": {},
          "execution_count": 4
        }
      ],
      "source": [
        "data.head()"
      ]
    },
    {
      "cell_type": "markdown",
      "metadata": {
        "id": "eLG-WbFDYmfk"
      },
      "source": [
        "One challenge with salary prediction is its uneven distribution: while many individuals earn standard salaries, a few receive exceptionally high incomes. This results in a right-skewed, heavy-tailed distribution, which poses challenges for minimizing Mean Squared Error (MSE).\n",
        "\n",
        "Several techniques can address this issue, such as using a different loss function, predicting the logarithm of the target instead of the raw target, or replacing the targets with their percentiles within the salary distribution of the training set. For now, we will use the logarithmic transformation."
      ]
    },
    {
      "cell_type": "code",
      "execution_count": 5,
      "metadata": {
        "id": "gZn1qjucYmfl",
        "outputId": "e5330564-658d-480e-a479-febf8495a051",
        "colab": {
          "base_uri": "https://localhost:8080/",
          "height": 368
        }
      },
      "outputs": [
        {
          "output_type": "display_data",
          "data": {
            "text/plain": [
              "<Figure size 800x400 with 2 Axes>"
            ],
            "image/png": "[encoded data removed]"
          },
          "metadata": {}
        }
      ],
      "source": [
        "data['Log1pSalary'] = np.log1p(data['SalaryNormalized']).astype('float32')\n",
        "\n",
        "plt.figure(figsize=[8, 4])\n",
        "plt.subplot(1, 2, 1)\n",
        "plt.hist(data[\"SalaryNormalized\"], bins=20);\n",
        "\n",
        "plt.subplot(1, 2, 2)\n",
        "plt.hist(data['Log1pSalary'], bins=20);"
      ]
    },
    {
      "cell_type": "markdown",
      "metadata": {
        "id": "tcrNCRjaYmfl"
      },
      "source": [
        "Our task is to predict one number, __Log1pSalary__.\n",
        "\n",
        "To do so, our model can access a number of features:\n",
        "* Free text: __`Title`__ and  __`FullDescription`__\n",
        "* Categorical: __`Category`__, __`Company`__, __`LocationNormalized`__, __`ContractType`__, and __`ContractTime`__."
      ]
    },
    {
      "cell_type": "code",
      "execution_count": 6,
      "metadata": {
        "id": "5AlwDyvoYmfl",
        "outputId": "06e829a6-e21f-42d8-86bf-f01cc60b7bb5",
        "colab": {
          "base_uri": "https://localhost:8080/",
          "height": 406
        }
      },
      "outputs": [
        {
          "output_type": "execute_result",
          "data": {
            "text/plain": [
              "              Id                                              Title  \\\n",
              "7171    64573396         Home Manager, Stroud, Elderly Nursing Home   \n",
              "129576  70147577  Property Administrator /Secretary  Essex Estat...   \n",
              "58744   68688969     Building Maintenance Administrator needed ASAP   \n",
              "\n",
              "                                          FullDescription  \\\n",
              "7171    Home Manager is required in Stroud to work in ...   \n",
              "129576  Property Administrator /Secretary EssexEstate ...   \n",
              "58744   My client, a successful and vastly growing bui...   \n",
              "\n",
              "                                     LocationRaw LocationNormalized  \\\n",
              "7171                     Stroud, Gloucestershire             Stroud   \n",
              "129576  Loughton, England, Greater London, Essex             London   \n",
              "58744       Wallington, Surrey Surrey South East                 UK   \n",
              "\n",
              "       ContractType ContractTime                              Company  \\\n",
              "7171            NaN          NaN                                  NaN   \n",
              "129576          NaN          NaN                   Curtis and Mayfair   \n",
              "58744           NaN     contract  FACILITY ASSOCIATES RECRUITMENT LTD   \n",
              "\n",
              "                         Category  \\\n",
              "7171    Healthcare & Nursing Jobs   \n",
              "129576              Property Jobs   \n",
              "58744                  Admin Jobs   \n",
              "\n",
              "                                           SalaryRaw  SalaryNormalized  \\\n",
              "7171                         38000 to 45000 per year             41500   \n",
              "129576                               18000 per annum             18000   \n",
              "58744   From 18,000 to 23,000 per annum Temp to Perm             20500   \n",
              "\n",
              "                SourceName  Log1pSalary  \n",
              "7171        careworx.co.uk    10.633472  \n",
              "129576  propertyjobs.co.uk     9.798182  \n",
              "58744        totaljobs.com     9.928229  "
            ],
            "text/html": [
              "\n",
              "  <div id=\"df-2379ac86-b395-4476-9da9-8c9a1f79bce4\" class=\"colab-df-container\">\n",
              "    <div>\n",
              "<style scoped>\n",
              "    .dataframe tbody tr th:only-of-type {\n",
              "        vertical-align: middle;\n",
              "    }\n",
              "\n",
              "    .dataframe tbody tr th {\n",
              "        vertical-align: top;\n",
              "    }\n",
              "\n",
              "    .dataframe thead th {\n",
              "        text-align: right;\n",
              "    }\n",
              "</style>\n",
              "<table border=\"1\" class=\"dataframe\">\n",
              "  <thead>\n",
              "    <tr style=\"text-align: right;\">\n",
              "      <th></th>\n",
              "      <th>Id</th>\n",
              "      <th>Title</th>\n",
              "      <th>FullDescription</th>\n",
              "      <th>LocationRaw</th>\n",
              "      <th>LocationNormalized</th>\n",
              "      <th>ContractType</th>\n",
              "      <th>ContractTime</th>\n",
              "      <th>Company</th>\n",
              "      <th>Category</th>\n",
              "      <th>SalaryRaw</th>\n",
              "      <th>SalaryNormalized</th>\n",
              "      <th>SourceName</th>\n",
              "      <th>Log1pSalary</th>\n",
              "    </tr>\n",
              "  </thead>\n",
              "  <tbody>\n",
              "    <tr>\n",
              "      <th>7171</th>\n",
              "      <td>64573396</td>\n",
              "      <td>Home Manager, Stroud, Elderly Nursing Home</td>\n",
              "      <td>Home Manager is required in Stroud to work in ...</td>\n",
              "      <td>Stroud, Gloucestershire</td>\n",
              "      <td>Stroud</td>\n",
              "      <td>NaN</td>\n",
              "      <td>NaN</td>\n",
              "      <td>NaN</td>\n",
              "      <td>Healthcare &amp; Nursing Jobs</td>\n",
              "      <td>38000 to 45000 per year</td>\n",
              "      <td>41500</td>\n",
              "      <td>careworx.co.uk</td>\n",
              "      <td>10.633472</td>\n",
              "    </tr>\n",
              "    <tr>\n",
              "      <th>129576</th>\n",
              "      <td>70147577</td>\n",
              "      <td>Property Administrator /Secretary  Essex Estat...</td>\n",
              "      <td>Property Administrator /Secretary EssexEstate ...</td>\n",
              "      <td>Loughton, England, Greater London, Essex</td>\n",
              "      <td>London</td>\n",
              "      <td>NaN</td>\n",
              "      <td>NaN</td>\n",
              "      <td>Curtis and Mayfair</td>\n",
              "      <td>Property Jobs</td>\n",
              "      <td>18000 per annum</td>\n",
              "      <td>18000</td>\n",
              "      <td>propertyjobs.co.uk</td>\n",
              "      <td>9.798182</td>\n",
              "    </tr>\n",
              "    <tr>\n",
              "      <th>58744</th>\n",
              "      <td>68688969</td>\n",
              "      <td>Building Maintenance Administrator needed ASAP</td>\n",
              "      <td>My client, a successful and vastly growing bui...</td>\n",
              "      <td>Wallington, Surrey Surrey South East</td>\n",
              "      <td>UK</td>\n",
              "      <td>NaN</td>\n",
              "      <td>contract</td>\n",
              "      <td>FACILITY ASSOCIATES RECRUITMENT LTD</td>\n",
              "      <td>Admin Jobs</td>\n",
              "      <td>From 18,000 to 23,000 per annum Temp to Perm</td>\n",
              "      <td>20500</td>\n",
              "      <td>totaljobs.com</td>\n",
              "      <td>9.928229</td>\n",
              "    </tr>\n",
              "  </tbody>\n",
              "</table>\n",
              "</div>\n",
              "    <div class=\"colab-df-buttons\">\n",
              "\n",
              "  <div class=\"colab-df-container\">\n",
              "    <button class=\"colab-df-convert\" onclick=\"convertToInteractive('df-2379ac86-b395-4476-9da9-8c9a1f79bce4')\"\n",
              "            title=\"Convert this dataframe to an interactive table.\"\n",
              "            style=\"display:none;\">\n",
              "\n",
              "  <svg xmlns=\"http://www.w3.org/2000/svg\" height=\"24px\" viewBox=\"0 -960 960 960\">\n",
              "    <path d=\"M120-120v-720h720v720H120Zm60-500h600v-160H180v160Zm220 220h160v-160H400v160Zm0 220h160v-160H400v160ZM180-400h160v-160H180v160Zm440 0h160v-160H620v160ZM180-180h160v-160H180v160Zm440 0h160v-160H620v160Z\"/>\n",
              "  </svg>\n",
              "    </button>\n",
              "\n",
              "  <style>\n",
              "    .colab-df-container {\n",
              "      display:flex;\n",
              "      gap: 12px;\n",
              "    }\n",
              "\n",
              "    .colab-df-convert {\n",
              "      background-color: #E8F0FE;\n",
              "      border: none;\n",
              "      border-radius: 50%;\n",
              "      cursor: pointer;\n",
              "      display: none;\n",
              "      fill: #1967D2;\n",
              "      height: 32px;\n",
              "      padding: 0 0 0 0;\n",
              "      width: 32px;\n",
              "    }\n",
              "\n",
              "    .colab-df-convert:hover {\n",
              "      background-color: #E2EBFA;\n",
              "      box-shadow: 0px 1px 2px rgba(60, 64, 67, 0.3), 0px 1px 3px 1px rgba(60, 64, 67, 0.15);\n",
              "      fill: #174EA6;\n",
              "    }\n",
              "\n",
              "    .colab-df-buttons div {\n",
              "      margin-bottom: 4px;\n",
              "    }\n",
              "\n",
              "    [theme=dark] .colab-df-convert {\n",
              "      background-color: #3B4455;\n",
              "      fill: #D2E3FC;\n",
              "    }\n",
              "\n",
              "    [theme=dark] .colab-df-convert:hover {\n",
              "      background-color: #434B5C;\n",
              "      box-shadow: 0px 1px 3px 1px rgba(0, 0, 0, 0.15);\n",
              "      filter: drop-shadow(0px 1px 2px rgba(0, 0, 0, 0.3));\n",
              "      fill: #FFFFFF;\n",
              "    }\n",
              "  </style>\n",
              "\n",
              "    <script>\n",
              "      const buttonEl =\n",
              "        document.querySelector('#df-2379ac86-b395-4476-9da9-8c9a1f79bce4 button.colab-df-convert');\n",
              "      buttonEl.style.display =\n",
              "        google.colab.kernel.accessAllowed ? 'block' : 'none';\n",
              "\n",
              "      async function convertToInteractive(key) {\n",
              "        const element = document.querySelector('#df-2379ac86-b395-4476-9da9-8c9a1f79bce4');\n",
              "        const dataTable =\n",
              "          await google.colab.kernel.invokeFunction('convertToInteractive',\n",
              "                                                    [key], {});\n",
              "        if (!dataTable) return;\n",
              "\n",
              "        const docLinkHtml = 'Like what you see? Visit the ' +\n",
              "          '<a target=\"_blank\" href=https://colab.research.google.com/notebooks/data_table.ipynb>data table notebook</a>'\n",
              "          + ' to learn more about interactive tables.';\n",
              "        element.innerHTML = '';\n",
              "        dataTable['output_type'] = 'display_data';\n",
              "        await google.colab.output.renderOutput(dataTable, element);\n",
              "        const docLink = document.createElement('div');\n",
              "        docLink.innerHTML = docLinkHtml;\n",
              "        element.appendChild(docLink);\n",
              "      }\n",
              "    </script>\n",
              "  </div>\n",
              "\n",
              "\n",
              "<div id=\"df-b1a59d11-b301-4cc4-9f0b-81c638c7701a\">\n",
              "  <button class=\"colab-df-quickchart\" onclick=\"quickchart('df-b1a59d11-b301-4cc4-9f0b-81c638c7701a')\"\n",
              "            title=\"Suggest charts\"\n",
              "            style=\"display:none;\">\n",
              "\n",
              "<svg xmlns=\"http://www.w3.org/2000/svg\" height=\"24px\"viewBox=\"0 0 24 24\"\n",
              "     width=\"24px\">\n",
              "    <g>\n",
              "        <path d=\"M19 3H5c-1.1 0-2 .9-2 2v14c0 1.1.9 2 2 2h14c1.1 0 2-.9 2-2V5c0-1.1-.9-2-2-2zM9 17H7v-7h2v7zm4 0h-2V7h2v10zm4 0h-2v-4h2v4z\"/>\n",
              "    </g>\n",
              "</svg>\n",
              "  </button>\n",
              "\n",
              "<style>\n",
              "  .colab-df-quickchart {\n",
              "      --bg-color: #E8F0FE;\n",
              "      --fill-color: #1967D2;\n",
              "      --hover-bg-color: #E2EBFA;\n",
              "      --hover-fill-color: #174EA6;\n",
              "      --disabled-fill-color: #AAA;\n",
              "      --disabled-bg-color: #DDD;\n",
              "  }\n",
              "\n",
              "  [theme=dark] .colab-df-quickchart {\n",
              "      --bg-color: #3B4455;\n",
              "      --fill-color: #D2E3FC;\n",
              "      --hover-bg-color: #434B5C;\n",
              "      --hover-fill-color: #FFFFFF;\n",
              "      --disabled-bg-color: #3B4455;\n",
              "      --disabled-fill-color: #666;\n",
              "  }\n",
              "\n",
              "  .colab-df-quickchart {\n",
              "    background-color: var(--bg-color);\n",
              "    border: none;\n",
              "    border-radius: 50%;\n",
              "    cursor: pointer;\n",
              "    display: none;\n",
              "    fill: var(--fill-color);\n",
              "    height: 32px;\n",
              "    padding: 0;\n",
              "    width: 32px;\n",
              "  }\n",
              "\n",
              "  .colab-df-quickchart:hover {\n",
              "    background-color: var(--hover-bg-color);\n",
              "    box-shadow: 0 1px 2px rgba(60, 64, 67, 0.3), 0 1px 3px 1px rgba(60, 64, 67, 0.15);\n",
              "    fill: var(--button-hover-fill-color);\n",
              "  }\n",
              "\n",
              "  .colab-df-quickchart-complete:disabled,\n",
              "  .colab-df-quickchart-complete:disabled:hover {\n",
              "    background-color: var(--disabled-bg-color);\n",
              "    fill: var(--disabled-fill-color);\n",
              "    box-shadow: none;\n",
              "  }\n",
              "\n",
              "  .colab-df-spinner {\n",
              "    border: 2px solid var(--fill-color);\n",
              "    border-color: transparent;\n",
              "    border-bottom-color: var(--fill-color);\n",
              "    animation:\n",
              "      spin 1s steps(1) infinite;\n",
              "  }\n",
              "\n",
              "  @keyframes spin {\n",
              "    0% {\n",
              "      border-color: transparent;\n",
              "      border-bottom-color: var(--fill-color);\n",
              "      border-left-color: var(--fill-color);\n",
              "    }\n",
              "    20% {\n",
              "      border-color: transparent;\n",
              "      border-left-color: var(--fill-color);\n",
              "      border-top-color: var(--fill-color);\n",
              "    }\n",
              "    30% {\n",
              "      border-color: transparent;\n",
              "      border-left-color: var(--fill-color);\n",
              "      border-top-color: var(--fill-color);\n",
              "      border-right-color: var(--fill-color);\n",
              "    }\n",
              "    40% {\n",
              "      border-color: transparent;\n",
              "      border-right-color: var(--fill-color);\n",
              "      border-top-color: var(--fill-color);\n",
              "    }\n",
              "    60% {\n",
              "      border-color: transparent;\n",
              "      border-right-color: var(--fill-color);\n",
              "    }\n",
              "    80% {\n",
              "      border-color: transparent;\n",
              "      border-right-color: var(--fill-color);\n",
              "      border-bottom-color: var(--fill-color);\n",
              "    }\n",
              "    90% {\n",
              "      border-color: transparent;\n",
              "      border-bottom-color: var(--fill-color);\n",
              "    }\n",
              "  }\n",
              "</style>\n",
              "\n",
              "  <script>\n",
              "    async function quickchart(key) {\n",
              "      const quickchartButtonEl =\n",
              "        document.querySelector('#' + key + ' button');\n",
              "      quickchartButtonEl.disabled = true;  // To prevent multiple clicks.\n",
              "      quickchartButtonEl.classList.add('colab-df-spinner');\n",
              "      try {\n",
              "        const charts = await google.colab.kernel.invokeFunction(\n",
              "            'suggestCharts', [key], {});\n",
              "      } catch (error) {\n",
              "        console.error('Error during call to suggestCharts:', error);\n",
              "      }\n",
              "      quickchartButtonEl.classList.remove('colab-df-spinner');\n",
              "      quickchartButtonEl.classList.add('colab-df-quickchart-complete');\n",
              "    }\n",
              "    (() => {\n",
              "      let quickchartButtonEl =\n",
              "        document.querySelector('#df-b1a59d11-b301-4cc4-9f0b-81c638c7701a button');\n",
              "      quickchartButtonEl.style.display =\n",
              "        google.colab.kernel.accessAllowed ? 'block' : 'none';\n",
              "    })();\n",
              "  </script>\n",
              "</div>\n",
              "\n",
              "    </div>\n",
              "  </div>\n"
            ],
            "application/vnd.google.colaboratory.intrinsic+json": {
              "type": "dataframe",
              "repr_error": "0"
            }
          },
          "metadata": {},
          "execution_count": 6
        }
      ],
      "source": [
        "text_columns = [\"Title\", \"FullDescription\"]\n",
        "categorical_columns = [\"Category\", \"Company\", \"LocationNormalized\", \"ContractType\", \"ContractTime\"]\n",
        "TARGET_COLUMN = \"Log1pSalary\"\n",
        "\n",
        "data[categorical_columns] = data[categorical_columns].fillna('NaN') # cast missing values to string \"NaN\"\n",
        "\n",
        "data.sample(3)"
      ]
    },
    {
      "cell_type": "markdown",
      "metadata": {
        "id": "W8QGTxpZYmfl"
      },
      "source": [
        "### Preprocessing text data\n",
        "\n",
        "We begins with tokenization: splitting raw text into sequences of tokens (words, punctuation, etc).\n",
        "\n",
        "__Your task__ is to lowercase and tokenize all `Title` and `FullDescription` columns. Store the tokenized data as a __space-separated__ string of tokens for future processing.\n",
        "\n",
        "It's okay to use nltk tokenizers. Assertions were designed for WordPunctTokenizer, slight deviations are okay."
      ]
    },
    {
      "cell_type": "code",
      "execution_count": 7,
      "metadata": {
        "scrolled": true,
        "id": "tL-JsrLEYmfl",
        "outputId": "2a7f3975-6a0d-4796-ba25-2f8f8a3aaad2",
        "colab": {
          "base_uri": "https://localhost:8080/"
        }
      },
      "outputs": [
        {
          "output_type": "stream",
          "name": "stdout",
          "text": [
            "Raw text:\n",
            "2         Mathematical Modeller / Simulation Analyst / O...\n",
            "100002    A successful and high achieving specialist sch...\n",
            "200002    Web Designer  HTML, CSS, JavaScript, Photoshop...\n",
            "Name: FullDescription, dtype: object\n"
          ]
        }
      ],
      "source": [
        "print(\"Raw text:\")\n",
        "print(data[\"FullDescription\"][2::100000])"
      ]
    },
    {
      "cell_type": "code",
      "execution_count": 8,
      "metadata": {
        "id": "ZlsdYbbSYmfl"
      },
      "outputs": [],
      "source": [
        "import nltk\n",
        "from nltk.tokenize import WordPunctTokenizer\n",
        "\n",
        "tknizer = WordPunctTokenizer()\n",
        "\n",
        "def tokenize(txt):\n",
        "  if isinstance(txt, str):\n",
        "    tokens = tknizer.tokenize(txt.lower())\n",
        "    return \" \".join(tokens)\n",
        "  else:\n",
        "    return \"\"\n",
        "\n",
        "data[\"Title\"] = data[\"Title\"].apply(tokenize)\n",
        "data[\"FullDescription\"] = data[\"FullDescription\"].apply(tokenize)"
      ]
    },
    {
      "cell_type": "markdown",
      "metadata": {
        "id": "3nDdt15kYmfl"
      },
      "source": [
        "Now we can assume that our text is a space-separated list of tokens:"
      ]
    },
    {
      "cell_type": "code",
      "execution_count": 9,
      "metadata": {
        "id": "3EnqrsZlYmfl",
        "outputId": "f9da4de0-f3d6-4ef8-fedd-94de314d9b36",
        "colab": {
          "base_uri": "https://localhost:8080/"
        }
      },
      "outputs": [
        {
          "output_type": "stream",
          "name": "stdout",
          "text": [
            "Tokenized:\n",
            "2         mathematical modeller / simulation analyst / o...\n",
            "100002    a successful and high achieving specialist sch...\n",
            "200002    web designer html , css , javascript , photosh...\n",
            "Name: FullDescription, dtype: object\n"
          ]
        }
      ],
      "source": [
        "print(\"Tokenized:\")\n",
        "print(data[\"FullDescription\"][2::100000])\n",
        "assert data[\"FullDescription\"][2][:50] == 'mathematical modeller / simulation analyst / opera'\n",
        "assert data[\"Title\"][54321] == 'international digital account manager ( german )'"
      ]
    },
    {
      "cell_type": "markdown",
      "metadata": {
        "id": "ZeVfzYKnYmfl"
      },
      "source": [
        "Not all words are equally useful. Some may be typos or rare words that appear only a few times.\n",
        "\n",
        "To address this, we will count the occurrences of each word in the data to create a \"whitelist\" of known words."
      ]
    },
    {
      "cell_type": "code",
      "source": [
        "data['Title'].values[0]"
      ],
      "metadata": {
        "id": "qpRd_5Nj8iS9",
        "colab": {
          "base_uri": "https://localhost:8080/",
          "height": 35
        },
        "outputId": "47e0af8d-3a6f-415e-84dd-80bad4bb9526"
      },
      "execution_count": 10,
      "outputs": [
        {
          "output_type": "execute_result",
          "data": {
            "text/plain": [
              "'engineering systems analyst'"
            ],
            "application/vnd.google.colaboratory.intrinsic+json": {
              "type": "string"
            }
          },
          "metadata": {},
          "execution_count": 10
        }
      ]
    },
    {
      "cell_type": "code",
      "execution_count": 11,
      "metadata": {
        "id": "h52xhiw8Ymfl"
      },
      "outputs": [],
      "source": [
        "from collections import Counter\n",
        "token_counts = Counter()\n",
        "\n",
        "# Count how many times does each token occur in both \"Title\" and \"FullDescription\" in total\n",
        "#TODO <YOUR CODE>\n",
        "alltxt = \" \".join(data[\"Title\"]) + \" \" + \" \".join(data[\"FullDescription\"])\n",
        "token_counts.update(alltxt.split())"
      ]
    },
    {
      "cell_type": "code",
      "execution_count": 12,
      "metadata": {
        "id": "WHAqK8OvYmfl",
        "colab": {
          "base_uri": "https://localhost:8080/"
        },
        "outputId": "e0638b3e-e841-4867-aaaf-54cdab7f8724"
      },
      "outputs": [
        {
          "output_type": "stream",
          "name": "stdout",
          "text": [
            "Total unique tokens : 202704\n",
            "('and', 2657388)\n",
            "('.', 2523216)\n",
            "(',', 2318606)\n",
            "('the', 2080994)\n",
            "('to', 2019884)\n",
            "...\n",
            "('stephanietraveltraderecruitmnt', 1)\n",
            "('ruabon', 1)\n",
            "('lowehays', 1)\n",
            "Correct!\n"
          ]
        }
      ],
      "source": [
        "print(\"Total unique tokens :\", len(token_counts))\n",
        "print('\\n'.join(map(str, token_counts.most_common(n=5))))\n",
        "print('...')\n",
        "print('\\n'.join(map(str, token_counts.most_common()[-3:])))\n",
        "\n",
        "assert token_counts.most_common(1)[0][1] in  range(2600000, 2700000)\n",
        "assert len(token_counts) in range(200000, 210000)\n",
        "print('Correct!')"
      ]
    },
    {
      "cell_type": "markdown",
      "source": [
        "The word distribution fallows so called [Zipf's law](https://en.wikipedia.org/wiki/Zipf%27s_law)"
      ],
      "metadata": {
        "id": "4H8lNPLt_V61"
      }
    },
    {
      "cell_type": "code",
      "source": [
        "token_counts.most_common(100)"
      ],
      "metadata": {
        "id": "bHUB4RK1-FxP",
        "colab": {
          "base_uri": "https://localhost:8080/"
        },
        "outputId": "cec0a388-9a03-4d95-854b-0cb1a50af963"
      },
      "execution_count": 13,
      "outputs": [
        {
          "output_type": "execute_result",
          "data": {
            "text/plain": [
              "[('and', 2657388),\n",
              " ('.', 2523216),\n",
              " (',', 2318606),\n",
              " ('the', 2080994),\n",
              " ('to', 2019884),\n",
              " ('a', 1521925),\n",
              " ('of', 1426213),\n",
              " ('in', 1035792),\n",
              " ('for', 867233),\n",
              " ('with', 728884),\n",
              " ('you', 694177),\n",
              " ('****', 681869),\n",
              " ('will', 652403),\n",
              " ('be', 625163),\n",
              " ('is', 599665),\n",
              " ('/', 554003),\n",
              " ('this', 497002),\n",
              " ('as', 472859),\n",
              " ('an', 442713),\n",
              " ('experience', 429019),\n",
              " ('are', 428534),\n",
              " (':', 415648),\n",
              " ('on', 394777),\n",
              " ('have', 361514),\n",
              " ('or', 329512),\n",
              " ('role', 292680),\n",
              " ('work', 280280),\n",
              " ('business', 275975),\n",
              " ('your', 275371),\n",
              " ('team', 271843),\n",
              " ('we', 238825),\n",
              " ('skills', 236248),\n",
              " ('manager', 235225),\n",
              " ('(', 234419),\n",
              " ('sales', 229086),\n",
              " ('our', 223441),\n",
              " ('working', 222783),\n",
              " ('within', 217418),\n",
              " ('all', 216046),\n",
              " ('that', 200655),\n",
              " ('client', 198691),\n",
              " ('management', 190344),\n",
              " (')', 185958),\n",
              " ('their', 185011),\n",
              " ('company', 177583),\n",
              " ('at', 171875),\n",
              " ('please', 171870),\n",
              " ('development', 168938),\n",
              " ('uk', 163958),\n",
              " ('from', 162263),\n",
              " ('support', 161650),\n",
              " ('job', 156315),\n",
              " ('looking', 155766),\n",
              " ('s', 151120),\n",
              " ('service', 145467),\n",
              " ('excellent', 144946),\n",
              " ('required', 137902),\n",
              " ('opportunity', 131569),\n",
              " ('new', 129924),\n",
              " ('if', 127675),\n",
              " ('must', 125095),\n",
              " (\"'\", 123716),\n",
              " ('recruitment', 123310),\n",
              " ('who', 117642),\n",
              " ('it', 117555),\n",
              " ('successful', 116666),\n",
              " ('by', 116464),\n",
              " ('customer', 115173),\n",
              " ('knowledge', 113417),\n",
              " ('apply', 113066),\n",
              " ('based', 108473),\n",
              " ('services', 108393),\n",
              " ('ability', 103776),\n",
              " ('they', 103373),\n",
              " ('project', 102963),\n",
              " ('strong', 100515),\n",
              " (';', 99508),\n",
              " ('ensure', 97374),\n",
              " ('candidate', 96280),\n",
              " ('design', 96089),\n",
              " ('high', 95158),\n",
              " ('engineer', 94623),\n",
              " ('care', 94612),\n",
              " ('join', 94014),\n",
              " ('salary', 93465),\n",
              " ('environment', 92623),\n",
              " ('training', 92149),\n",
              " ('technical', 91480),\n",
              " ('leading', 90732),\n",
              " ('good', 90594),\n",
              " ('has', 90339),\n",
              " ('including', 90178),\n",
              " ('not', 89962),\n",
              " ('clients', 89241),\n",
              " ('able', 88710),\n",
              " ('also', 88122),\n",
              " ('com', 87759),\n",
              " ('www', 87603),\n",
              " ('senior', 87513),\n",
              " ('cv', 87495)]"
            ]
          },
          "metadata": {},
          "execution_count": 13
        }
      ]
    },
    {
      "cell_type": "code",
      "execution_count": 14,
      "metadata": {
        "id": "psRR4ugVYmfl",
        "colab": {
          "base_uri": "https://localhost:8080/",
          "height": 449
        },
        "outputId": "74604e22-5b3f-4e8d-963b-6be59ca8ca4e"
      },
      "outputs": [
        {
          "output_type": "display_data",
          "data": {
            "text/plain": [
              "<Figure size 640x480 with 1 Axes>"
            ],
            "image/png": "[encoded data removed]"
          },
          "metadata": {}
        }
      ],
      "source": [
        "# Let's see how many words are there for each count\n",
        "plt.hist(list(token_counts.values()), range=[0, 10**4], bins=50, log=True)\n",
        "plt.xlabel(\"Word counts\");"
      ]
    },
    {
      "cell_type": "code",
      "source": [
        "len([token for token, count in token_counts.items() if count > 100])"
      ],
      "metadata": {
        "id": "3Xf4Bxgq_et1",
        "colab": {
          "base_uri": "https://localhost:8080/"
        },
        "outputId": "9d8ff0e9-adaf-49a4-fbcc-34a1b5dd17e0"
      },
      "execution_count": 15,
      "outputs": [
        {
          "output_type": "execute_result",
          "data": {
            "text/plain": [
              "11494"
            ]
          },
          "metadata": {},
          "execution_count": 15
        }
      ]
    },
    {
      "cell_type": "markdown",
      "metadata": {
        "id": "sKLpdPIfYmfl"
      },
      "source": [
        "__Task 1.1__ Get a list of all tokens that occur at least 10 times."
      ]
    },
    {
      "cell_type": "code",
      "execution_count": 17,
      "metadata": {
        "id": "0NVuyjGYYmfm"
      },
      "outputs": [],
      "source": [
        "min_count = 10\n",
        "\n",
        "# tokens from token_counts keys that had at least min_count occurrences throughout the dataset\n",
        "tokens = [token for token, count in token_counts.items() if count >= min_count]\n",
        "\n",
        "# Add a special tokens for unknown and empty words\n",
        "UNK, PAD = \"UNK\", \"PAD\"\n",
        "tokens = [UNK, PAD] + tokens"
      ]
    },
    {
      "cell_type": "code",
      "execution_count": 18,
      "metadata": {
        "id": "kkTuCrDGYmfm",
        "colab": {
          "base_uri": "https://localhost:8080/"
        },
        "outputId": "20f4ba5e-10a0-429c-8c8b-fc632ac67457"
      },
      "outputs": [
        {
          "output_type": "stream",
          "name": "stdout",
          "text": [
            "Vocabulary size: 34158\n",
            "Correct!\n"
          ]
        }
      ],
      "source": [
        "print(\"Vocabulary size:\", len(tokens))\n",
        "assert type(tokens) == list\n",
        "assert len(tokens) in range(32000, 35000)\n",
        "assert 'me' in tokens\n",
        "assert UNK in tokens\n",
        "print(\"Correct!\")"
      ]
    },
    {
      "cell_type": "markdown",
      "metadata": {
        "id": "u92jzpXvYmfm"
      },
      "source": [
        "__Task 1.2__ Build the inverse token index: a dictionary from token(string) to it's index in `tokens` (int)"
      ]
    },
    {
      "cell_type": "code",
      "execution_count": 19,
      "metadata": {
        "id": "ONJz25HNYmfm"
      },
      "outputs": [],
      "source": [
        "token_to_id =  {token: index for index, token in enumerate(tokens)}"
      ]
    },
    {
      "cell_type": "code",
      "execution_count": 20,
      "metadata": {
        "id": "JXwarpLoYmfm",
        "colab": {
          "base_uri": "https://localhost:8080/"
        },
        "outputId": "63d887ed-6931-43c8-90a1-22e13c8ce85f"
      },
      "outputs": [
        {
          "output_type": "stream",
          "name": "stdout",
          "text": [
            "Correct!\n"
          ]
        }
      ],
      "source": [
        "assert isinstance(token_to_id, dict)\n",
        "assert len(token_to_id) == len(tokens)\n",
        "for tok in tokens:\n",
        "    assert tokens[token_to_id[tok]] == tok\n",
        "\n",
        "print(\"Correct!\")"
      ]
    },
    {
      "cell_type": "markdown",
      "metadata": {
        "id": "VDoPFQ3KYmfm"
      },
      "source": [
        "And finally, let's use the vocabulary you've built to map text lines into neural network-digestible matrices."
      ]
    },
    {
      "cell_type": "code",
      "execution_count": 21,
      "metadata": {
        "id": "3Ky5dsQ2Ymfm"
      },
      "outputs": [],
      "source": [
        "UNK_IX, PAD_IX = map(token_to_id.get, [UNK, PAD])\n",
        "\n",
        "def as_matrix(sequences, max_len=None):\n",
        "    \"\"\" Convert a list of tokens into a matrix with padding \"\"\"\n",
        "    if isinstance(sequences[0], str):\n",
        "        sequences = list(map(str.split, sequences))\n",
        "\n",
        "    max_len = min(max(map(len, sequences)), max_len or float('inf'))\n",
        "\n",
        "    matrix = np.full((len(sequences), max_len), np.int32(PAD_IX))\n",
        "    for i,seq in enumerate(sequences):\n",
        "        row_ix = [token_to_id.get(word, UNK_IX) for word in seq[:max_len]]\n",
        "        matrix[i, :len(row_ix)] = row_ix\n",
        "\n",
        "    return matrix"
      ]
    },
    {
      "cell_type": "code",
      "execution_count": 22,
      "metadata": {
        "id": "OKn9kGS3Ymfm",
        "colab": {
          "base_uri": "https://localhost:8080/"
        },
        "outputId": "cd542481-b84f-495a-96d8-4f36c1094889"
      },
      "outputs": [
        {
          "output_type": "stream",
          "name": "stdout",
          "text": [
            "Lines:\n",
            "engineering systems analyst\n",
            "hr assistant\n",
            "senior ec & i engineer\n",
            "\n",
            "Matrix:\n",
            "[[   2    3    4    1    1]\n",
            " [ 998  176    1    1    1]\n",
            " [  18 3471  242   59    6]]\n"
          ]
        }
      ],
      "source": [
        "print(\"Lines:\")\n",
        "print('\\n'.join(data[\"Title\"][::100000].values), end='\\n\\n')\n",
        "print(\"Matrix:\")\n",
        "print(as_matrix(data[\"Title\"][::100000]))"
      ]
    },
    {
      "cell_type": "markdown",
      "metadata": {
        "id": "9DQ16SCyYmfm"
      },
      "source": [
        "Now, let's  encode the categirical data we have.\n",
        "\n",
        "As usual, we shall use one-hot encoding for simplicity. Kudos if you implement more advanced encodings."
      ]
    },
    {
      "cell_type": "code",
      "execution_count": 23,
      "metadata": {
        "id": "zwPztIb-Ymfm",
        "colab": {
          "base_uri": "https://localhost:8080/",
          "height": 80
        },
        "outputId": "43612227-6d14-4254-b71a-ab3fbc9ff9c2"
      },
      "outputs": [
        {
          "output_type": "execute_result",
          "data": {
            "text/plain": [
              "DictVectorizer(dtype=<class 'numpy.float32'>, sparse=False)"
            ],
            "text/html": [
              "<style>#sk-container-id-1 {\n",
              "  /* Definition of color scheme common for light and dark mode */\n",
              "  --sklearn-color-text: #000;\n",
              "  --sklearn-color-text-muted: #666;\n",
              "  --sklearn-color-line: gray;\n",
              "  /* Definition of color scheme for unfitted estimators */\n",
              "  --sklearn-color-unfitted-level-0: #fff5e6;\n",
              "  --sklearn-color-unfitted-level-1: #f6e4d2;\n",
              "  --sklearn-color-unfitted-level-2: #ffe0b3;\n",
              "  --sklearn-color-unfitted-level-3: chocolate;\n",
              "  /* Definition of color scheme for fitted estimators */\n",
              "  --sklearn-color-fitted-level-0: #f0f8ff;\n",
              "  --sklearn-color-fitted-level-1: #d4ebff;\n",
              "  --sklearn-color-fitted-level-2: #b3dbfd;\n",
              "  --sklearn-color-fitted-level-3: cornflowerblue;\n",
              "\n",
              "  /* Specific color for light theme */\n",
              "  --sklearn-color-text-on-default-background: var(--sg-text-color, var(--theme-code-foreground, var(--jp-content-font-color1, black)));\n",
              "  --sklearn-color-background: var(--sg-background-color, var(--theme-background, var(--jp-layout-color0, white)));\n",
              "  --sklearn-color-border-box: var(--sg-text-color, var(--theme-code-foreground, var(--jp-content-font-color1, black)));\n",
              "  --sklearn-color-icon: #696969;\n",
              "\n",
              "  @media (prefers-color-scheme: dark) {\n",
              "    /* Redefinition of color scheme for dark theme */\n",
              "    --sklearn-color-text-on-default-background: var(--sg-text-color, var(--theme-code-foreground, var(--jp-content-font-color1, white)));\n",
              "    --sklearn-color-background: var(--sg-background-color, var(--theme-background, var(--jp-layout-color0, #111)));\n",
              "    --sklearn-color-border-box: var(--sg-text-color, var(--theme-code-foreground, var(--jp-content-font-color1, white)));\n",
              "    --sklearn-color-icon: #878787;\n",
              "  }\n",
              "}\n",
              "\n",
              "#sk-container-id-1 {\n",
              "  color: var(--sklearn-color-text);\n",
              "}\n",
              "\n",
              "#sk-container-id-1 pre {\n",
              "  padding: 0;\n",
              "}\n",
              "\n",
              "#sk-container-id-1 input.sk-hidden--visually {\n",
              "  border: 0;\n",
              "  clip: rect(1px 1px 1px 1px);\n",
              "  clip: rect(1px, 1px, 1px, 1px);\n",
              "  height: 1px;\n",
              "  margin: -1px;\n",
              "  overflow: hidden;\n",
              "  padding: 0;\n",
              "  position: absolute;\n",
              "  width: 1px;\n",
              "}\n",
              "\n",
              "#sk-container-id-1 div.sk-dashed-wrapped {\n",
              "  border: 1px dashed var(--sklearn-color-line);\n",
              "  margin: 0 0.4em 0.5em 0.4em;\n",
              "  box-sizing: border-box;\n",
              "  padding-bottom: 0.4em;\n",
              "  background-color: var(--sklearn-color-background);\n",
              "}\n",
              "\n",
              "#sk-container-id-1 div.sk-container {\n",
              "  /* jupyter's `normalize.less` sets `[hidden] { display: none; }`\n",
              "     but bootstrap.min.css set `[hidden] { display: none !important; }`\n",
              "     so we also need the `!important` here to be able to override the\n",
              "     default hidden behavior on the sphinx rendered scikit-learn.org.\n",
              "     See: https://github.com/scikit-learn/scikit-learn/issues/21755 */\n",
              "  display: inline-block !important;\n",
              "  position: relative;\n",
              "}\n",
              "\n",
              "#sk-container-id-1 div.sk-text-repr-fallback {\n",
              "  display: none;\n",
              "}\n",
              "\n",
              "div.sk-parallel-item,\n",
              "div.sk-serial,\n",
              "div.sk-item {\n",
              "  /* draw centered vertical line to link estimators */\n",
              "  background-image: linear-gradient(var(--sklearn-color-text-on-default-background), var(--sklearn-color-text-on-default-background));\n",
              "  background-size: 2px 100%;\n",
              "  background-repeat: no-repeat;\n",
              "  background-position: center center;\n",
              "}\n",
              "\n",
              "/* Parallel-specific style estimator block */\n",
              "\n",
              "#sk-container-id-1 div.sk-parallel-item::after {\n",
              "  content: \"\";\n",
              "  width: 100%;\n",
              "  border-bottom: 2px solid var(--sklearn-color-text-on-default-background);\n",
              "  flex-grow: 1;\n",
              "}\n",
              "\n",
              "#sk-container-id-1 div.sk-parallel {\n",
              "  display: flex;\n",
              "  align-items: stretch;\n",
              "  justify-content: center;\n",
              "  background-color: var(--sklearn-color-background);\n",
              "  position: relative;\n",
              "}\n",
              "\n",
              "#sk-container-id-1 div.sk-parallel-item {\n",
              "  display: flex;\n",
              "  flex-direction: column;\n",
              "}\n",
              "\n",
              "#sk-container-id-1 div.sk-parallel-item:first-child::after {\n",
              "  align-self: flex-end;\n",
              "  width: 50%;\n",
              "}\n",
              "\n",
              "#sk-container-id-1 div.sk-parallel-item:last-child::after {\n",
              "  align-self: flex-start;\n",
              "  width: 50%;\n",
              "}\n",
              "\n",
              "#sk-container-id-1 div.sk-parallel-item:only-child::after {\n",
              "  width: 0;\n",
              "}\n",
              "\n",
              "/* Serial-specific style estimator block */\n",
              "\n",
              "#sk-container-id-1 div.sk-serial {\n",
              "  display: flex;\n",
              "  flex-direction: column;\n",
              "  align-items: center;\n",
              "  background-color: var(--sklearn-color-background);\n",
              "  padding-right: 1em;\n",
              "  padding-left: 1em;\n",
              "}\n",
              "\n",
              "\n",
              "/* Toggleable style: style used for estimator/Pipeline/ColumnTransformer box that is\n",
              "clickable and can be expanded/collapsed.\n",
              "- Pipeline and ColumnTransformer use this feature and define the default style\n",
              "- Estimators will overwrite some part of the style using the `sk-estimator` class\n",
              "*/\n",
              "\n",
              "/* Pipeline and ColumnTransformer style (default) */\n",
              "\n",
              "#sk-container-id-1 div.sk-toggleable {\n",
              "  /* Default theme specific background. It is overwritten whether we have a\n",
              "  specific estimator or a Pipeline/ColumnTransformer */\n",
              "  background-color: var(--sklearn-color-background);\n",
              "}\n",
              "\n",
              "/* Toggleable label */\n",
              "#sk-container-id-1 label.sk-toggleable__label {\n",
              "  cursor: pointer;\n",
              "  display: flex;\n",
              "  width: 100%;\n",
              "  margin-bottom: 0;\n",
              "  padding: 0.5em;\n",
              "  box-sizing: border-box;\n",
              "  text-align: center;\n",
              "  align-items: start;\n",
              "  justify-content: space-between;\n",
              "  gap: 0.5em;\n",
              "}\n",
              "\n",
              "#sk-container-id-1 label.sk-toggleable__label .caption {\n",
              "  font-size: 0.6rem;\n",
              "  font-weight: lighter;\n",
              "  color: var(--sklearn-color-text-muted);\n",
              "}\n",
              "\n",
              "#sk-container-id-1 label.sk-toggleable__label-arrow:before {\n",
              "  /* Arrow on the left of the label */\n",
              "  content: \"▸\";\n",
              "  float: left;\n",
              "  margin-right: 0.25em;\n",
              "  color: var(--sklearn-color-icon);\n",
              "}\n",
              "\n",
              "#sk-container-id-1 label.sk-toggleable__label-arrow:hover:before {\n",
              "  color: var(--sklearn-color-text);\n",
              "}\n",
              "\n",
              "/* Toggleable content - dropdown */\n",
              "\n",
              "#sk-container-id-1 div.sk-toggleable__content {\n",
              "  max-height: 0;\n",
              "  max-width: 0;\n",
              "  overflow: hidden;\n",
              "  text-align: left;\n",
              "  /* unfitted */\n",
              "  background-color: var(--sklearn-color-unfitted-level-0);\n",
              "}\n",
              "\n",
              "#sk-container-id-1 div.sk-toggleable__content.fitted {\n",
              "  /* fitted */\n",
              "  background-color: var(--sklearn-color-fitted-level-0);\n",
              "}\n",
              "\n",
              "#sk-container-id-1 div.sk-toggleable__content pre {\n",
              "  margin: 0.2em;\n",
              "  border-radius: 0.25em;\n",
              "  color: var(--sklearn-color-text);\n",
              "  /* unfitted */\n",
              "  background-color: var(--sklearn-color-unfitted-level-0);\n",
              "}\n",
              "\n",
              "#sk-container-id-1 div.sk-toggleable__content.fitted pre {\n",
              "  /* unfitted */\n",
              "  background-color: var(--sklearn-color-fitted-level-0);\n",
              "}\n",
              "\n",
              "#sk-container-id-1 input.sk-toggleable__control:checked~div.sk-toggleable__content {\n",
              "  /* Expand drop-down */\n",
              "  max-height: 200px;\n",
              "  max-width: 100%;\n",
              "  overflow: auto;\n",
              "}\n",
              "\n",
              "#sk-container-id-1 input.sk-toggleable__control:checked~label.sk-toggleable__label-arrow:before {\n",
              "  content: \"▾\";\n",
              "}\n",
              "\n",
              "/* Pipeline/ColumnTransformer-specific style */\n",
              "\n",
              "#sk-container-id-1 div.sk-label input.sk-toggleable__control:checked~label.sk-toggleable__label {\n",
              "  color: var(--sklearn-color-text);\n",
              "  background-color: var(--sklearn-color-unfitted-level-2);\n",
              "}\n",
              "\n",
              "#sk-container-id-1 div.sk-label.fitted input.sk-toggleable__control:checked~label.sk-toggleable__label {\n",
              "  background-color: var(--sklearn-color-fitted-level-2);\n",
              "}\n",
              "\n",
              "/* Estimator-specific style */\n",
              "\n",
              "/* Colorize estimator box */\n",
              "#sk-container-id-1 div.sk-estimator input.sk-toggleable__control:checked~label.sk-toggleable__label {\n",
              "  /* unfitted */\n",
              "  background-color: var(--sklearn-color-unfitted-level-2);\n",
              "}\n",
              "\n",
              "#sk-container-id-1 div.sk-estimator.fitted input.sk-toggleable__control:checked~label.sk-toggleable__label {\n",
              "  /* fitted */\n",
              "  background-color: var(--sklearn-color-fitted-level-2);\n",
              "}\n",
              "\n",
              "#sk-container-id-1 div.sk-label label.sk-toggleable__label,\n",
              "#sk-container-id-1 div.sk-label label {\n",
              "  /* The background is the default theme color */\n",
              "  color: var(--sklearn-color-text-on-default-background);\n",
              "}\n",
              "\n",
              "/* On hover, darken the color of the background */\n",
              "#sk-container-id-1 div.sk-label:hover label.sk-toggleable__label {\n",
              "  color: var(--sklearn-color-text);\n",
              "  background-color: var(--sklearn-color-unfitted-level-2);\n",
              "}\n",
              "\n",
              "/* Label box, darken color on hover, fitted */\n",
              "#sk-container-id-1 div.sk-label.fitted:hover label.sk-toggleable__label.fitted {\n",
              "  color: var(--sklearn-color-text);\n",
              "  background-color: var(--sklearn-color-fitted-level-2);\n",
              "}\n",
              "\n",
              "/* Estimator label */\n",
              "\n",
              "#sk-container-id-1 div.sk-label label {\n",
              "  font-family: monospace;\n",
              "  font-weight: bold;\n",
              "  display: inline-block;\n",
              "  line-height: 1.2em;\n",
              "}\n",
              "\n",
              "#sk-container-id-1 div.sk-label-container {\n",
              "  text-align: center;\n",
              "}\n",
              "\n",
              "/* Estimator-specific */\n",
              "#sk-container-id-1 div.sk-estimator {\n",
              "  font-family: monospace;\n",
              "  border: 1px dotted var(--sklearn-color-border-box);\n",
              "  border-radius: 0.25em;\n",
              "  box-sizing: border-box;\n",
              "  margin-bottom: 0.5em;\n",
              "  /* unfitted */\n",
              "  background-color: var(--sklearn-color-unfitted-level-0);\n",
              "}\n",
              "\n",
              "#sk-container-id-1 div.sk-estimator.fitted {\n",
              "  /* fitted */\n",
              "  background-color: var(--sklearn-color-fitted-level-0);\n",
              "}\n",
              "\n",
              "/* on hover */\n",
              "#sk-container-id-1 div.sk-estimator:hover {\n",
              "  /* unfitted */\n",
              "  background-color: var(--sklearn-color-unfitted-level-2);\n",
              "}\n",
              "\n",
              "#sk-container-id-1 div.sk-estimator.fitted:hover {\n",
              "  /* fitted */\n",
              "  background-color: var(--sklearn-color-fitted-level-2);\n",
              "}\n",
              "\n",
              "/* Specification for estimator info (e.g. \"i\" and \"?\") */\n",
              "\n",
              "/* Common style for \"i\" and \"?\" */\n",
              "\n",
              ".sk-estimator-doc-link,\n",
              "a:link.sk-estimator-doc-link,\n",
              "a:visited.sk-estimator-doc-link {\n",
              "  float: right;\n",
              "  font-size: smaller;\n",
              "  line-height: 1em;\n",
              "  font-family: monospace;\n",
              "  background-color: var(--sklearn-color-background);\n",
              "  border-radius: 1em;\n",
              "  height: 1em;\n",
              "  width: 1em;\n",
              "  text-decoration: none !important;\n",
              "  margin-left: 0.5em;\n",
              "  text-align: center;\n",
              "  /* unfitted */\n",
              "  border: var(--sklearn-color-unfitted-level-1) 1pt solid;\n",
              "  color: var(--sklearn-color-unfitted-level-1);\n",
              "}\n",
              "\n",
              ".sk-estimator-doc-link.fitted,\n",
              "a:link.sk-estimator-doc-link.fitted,\n",
              "a:visited.sk-estimator-doc-link.fitted {\n",
              "  /* fitted */\n",
              "  border: var(--sklearn-color-fitted-level-1) 1pt solid;\n",
              "  color: var(--sklearn-color-fitted-level-1);\n",
              "}\n",
              "\n",
              "/* On hover */\n",
              "div.sk-estimator:hover .sk-estimator-doc-link:hover,\n",
              ".sk-estimator-doc-link:hover,\n",
              "div.sk-label-container:hover .sk-estimator-doc-link:hover,\n",
              ".sk-estimator-doc-link:hover {\n",
              "  /* unfitted */\n",
              "  background-color: var(--sklearn-color-unfitted-level-3);\n",
              "  color: var(--sklearn-color-background);\n",
              "  text-decoration: none;\n",
              "}\n",
              "\n",
              "div.sk-estimator.fitted:hover .sk-estimator-doc-link.fitted:hover,\n",
              ".sk-estimator-doc-link.fitted:hover,\n",
              "div.sk-label-container:hover .sk-estimator-doc-link.fitted:hover,\n",
              ".sk-estimator-doc-link.fitted:hover {\n",
              "  /* fitted */\n",
              "  background-color: var(--sklearn-color-fitted-level-3);\n",
              "  color: var(--sklearn-color-background);\n",
              "  text-decoration: none;\n",
              "}\n",
              "\n",
              "/* Span, style for the box shown on hovering the info icon */\n",
              ".sk-estimator-doc-link span {\n",
              "  display: none;\n",
              "  z-index: 9999;\n",
              "  position: relative;\n",
              "  font-weight: normal;\n",
              "  right: .2ex;\n",
              "  padding: .5ex;\n",
              "  margin: .5ex;\n",
              "  width: min-content;\n",
              "  min-width: 20ex;\n",
              "  max-width: 50ex;\n",
              "  color: var(--sklearn-color-text);\n",
              "  box-shadow: 2pt 2pt 4pt #999;\n",
              "  /* unfitted */\n",
              "  background: var(--sklearn-color-unfitted-level-0);\n",
              "  border: .5pt solid var(--sklearn-color-unfitted-level-3);\n",
              "}\n",
              "\n",
              ".sk-estimator-doc-link.fitted span {\n",
              "  /* fitted */\n",
              "  background: var(--sklearn-color-fitted-level-0);\n",
              "  border: var(--sklearn-color-fitted-level-3);\n",
              "}\n",
              "\n",
              ".sk-estimator-doc-link:hover span {\n",
              "  display: block;\n",
              "}\n",
              "\n",
              "/* \"?\"-specific style due to the `<a>` HTML tag */\n",
              "\n",
              "#sk-container-id-1 a.estimator_doc_link {\n",
              "  float: right;\n",
              "  font-size: 1rem;\n",
              "  line-height: 1em;\n",
              "  font-family: monospace;\n",
              "  background-color: var(--sklearn-color-background);\n",
              "  border-radius: 1rem;\n",
              "  height: 1rem;\n",
              "  width: 1rem;\n",
              "  text-decoration: none;\n",
              "  /* unfitted */\n",
              "  color: var(--sklearn-color-unfitted-level-1);\n",
              "  border: var(--sklearn-color-unfitted-level-1) 1pt solid;\n",
              "}\n",
              "\n",
              "#sk-container-id-1 a.estimator_doc_link.fitted {\n",
              "  /* fitted */\n",
              "  border: var(--sklearn-color-fitted-level-1) 1pt solid;\n",
              "  color: var(--sklearn-color-fitted-level-1);\n",
              "}\n",
              "\n",
              "/* On hover */\n",
              "#sk-container-id-1 a.estimator_doc_link:hover {\n",
              "  /* unfitted */\n",
              "  background-color: var(--sklearn-color-unfitted-level-3);\n",
              "  color: var(--sklearn-color-background);\n",
              "  text-decoration: none;\n",
              "}\n",
              "\n",
              "#sk-container-id-1 a.estimator_doc_link.fitted:hover {\n",
              "  /* fitted */\n",
              "  background-color: var(--sklearn-color-fitted-level-3);\n",
              "}\n",
              "</style><div id=\"sk-container-id-1\" class=\"sk-top-container\"><div class=\"sk-text-repr-fallback\"><pre>DictVectorizer(dtype=&lt;class &#x27;numpy.float32&#x27;&gt;, sparse=False)</pre><b>In a Jupyter environment, please rerun this cell to show the HTML representation or trust the notebook. <br />On GitHub, the HTML representation is unable to render, please try loading this page with nbviewer.org.</b></div><div class=\"sk-container\" hidden><div class=\"sk-item\"><div class=\"sk-estimator fitted sk-toggleable\"><input class=\"sk-toggleable__control sk-hidden--visually\" id=\"sk-estimator-id-1\" type=\"checkbox\" checked><label for=\"sk-estimator-id-1\" class=\"sk-toggleable__label fitted sk-toggleable__label-arrow\"><div><div>DictVectorizer</div></div><div><a class=\"sk-estimator-doc-link fitted\" rel=\"noreferrer\" target=\"_blank\" href=\"https://scikit-learn.org/1.6/modules/generated/sklearn.feature_extraction.DictVectorizer.html\">?<span>Documentation for DictVectorizer</span></a><span class=\"sk-estimator-doc-link fitted\">i<span>Fitted</span></span></div></label><div class=\"sk-toggleable__content fitted\"><pre>DictVectorizer(dtype=&lt;class &#x27;numpy.float32&#x27;&gt;, sparse=False)</pre></div> </div></div></div></div>"
            ]
          },
          "metadata": {},
          "execution_count": 23
        }
      ],
      "source": [
        "from sklearn.feature_extraction import DictVectorizer\n",
        "\n",
        "# we only consider top-1k most frequent companies to minimize memory usage\n",
        "top_companies, top_counts = zip(*Counter(data['Company']).most_common(1000))\n",
        "recognized_companies = set(top_companies)\n",
        "data[\"Company\"] = data[\"Company\"].apply(lambda comp: comp if comp in recognized_companies else \"Other\")\n",
        "\n",
        "categorical_vectorizer = DictVectorizer(dtype=np.float32, sparse=False)\n",
        "categorical_vectorizer.fit(data[categorical_columns].apply(dict, axis=1))"
      ]
    },
    {
      "cell_type": "markdown",
      "metadata": {
        "id": "jmI8noCuYmfm"
      },
      "source": [
        "### The deep learning part\n",
        "\n",
        "Once we've learned to cast our data into numbers, we can design a machine learning experiment.\n",
        "\n",
        "We won't focus too much on validation, opting for a simple train-test split.\n",
        "\n",
        "__To be completely rigorous,__ we've comitted a small crime here: we used the whole data for tokenization and building the vocabulary. A more strict way would be to do that on training set only."
      ]
    },
    {
      "cell_type": "code",
      "execution_count": 24,
      "metadata": {
        "id": "5jLQedLVYmfm",
        "colab": {
          "base_uri": "https://localhost:8080/"
        },
        "outputId": "e284a0a7-803f-4917-cf71-3db80f30c59f"
      },
      "outputs": [
        {
          "output_type": "stream",
          "name": "stdout",
          "text": [
            "Train size =  195814\n",
            "Validation size =  48954\n"
          ]
        }
      ],
      "source": [
        "from sklearn.model_selection import train_test_split\n",
        "\n",
        "data_train, data_val = train_test_split(data, test_size=0.2, random_state=42)\n",
        "data_train.index = range(len(data_train))\n",
        "data_val.index = range(len(data_val))\n",
        "\n",
        "print(\"Train size = \", len(data_train))\n",
        "print(\"Validation size = \", len(data_val))"
      ]
    },
    {
      "cell_type": "code",
      "execution_count": 25,
      "metadata": {
        "id": "1bjEgojNYmfm"
      },
      "outputs": [],
      "source": [
        "import torch\n",
        "import torch.nn as nn\n",
        "import torch.nn.functional as F\n",
        "\n",
        "\n",
        "device = 'cuda' if torch.cuda.is_available() else 'cpu'\n",
        "\n",
        "\n",
        "def to_tensors(batch, device):\n",
        "    batch_tensors = dict()\n",
        "    for key, arr in batch.items():\n",
        "        if key in [\"FullDescription\", \"Title\"]:\n",
        "            batch_tensors[key] = torch.tensor(arr, device=device, dtype=torch.int64)\n",
        "        else:\n",
        "            batch_tensors[key] = torch.tensor(arr, device=device)\n",
        "    return batch_tensors\n",
        "\n",
        "\n",
        "def make_batch(data, max_len=None, word_dropout=0, device=device):\n",
        "    \"\"\"\n",
        "    Creates a torch-friendly dict from the batch data.\n",
        "    :param word_dropout: replaces token index with UNK_IX with this probability\n",
        "    :returns: a dict with {'title' : int64[batch, title_max_len]\n",
        "    \"\"\"\n",
        "    batch = {}\n",
        "    batch[\"Title\"] = as_matrix(data[\"Title\"].values, max_len)\n",
        "    batch[\"FullDescription\"] = as_matrix(data[\"FullDescription\"].values, max_len)\n",
        "    batch['Categorical'] = categorical_vectorizer.transform(data[categorical_columns].apply(dict, axis=1)) #.sum(axis=1) #.argmax(axis=1)\n",
        "    batch[TARGET_COLUMN] = data[TARGET_COLUMN].values\n",
        "\n",
        "    if word_dropout != 0:\n",
        "        batch[\"Title\"] = apply_word_dropout(batch[\"Title\"], 1. - word_dropout)\n",
        "\n",
        "    if word_dropout != 0:\n",
        "        batch[\"FullDescription\"] = apply_word_dropout(batch[\"FullDescription\"], 1. - word_dropout)\n",
        "\n",
        "    if TARGET_COLUMN in data.columns:\n",
        "        batch[TARGET_COLUMN] = data[TARGET_COLUMN].values\n",
        "\n",
        "    return to_tensors(batch, device)\n",
        "\n",
        "def apply_word_dropout(matrix, keep_prop, replace_with=UNK_IX, pad_ix=PAD_IX,):\n",
        "    dropout_mask = np.random.choice(2, np.shape(matrix), p=[keep_prop, 1 - keep_prop])\n",
        "    dropout_mask &= matrix != pad_ix\n",
        "    return np.choose(dropout_mask, [matrix, np.full_like(matrix, replace_with)])"
      ]
    },
    {
      "cell_type": "code",
      "execution_count": 26,
      "metadata": {
        "scrolled": true,
        "id": "rLfI8RvkYmfm",
        "outputId": "40ae3643-38eb-4b39-9d74-da1d6e737517",
        "colab": {
          "base_uri": "https://localhost:8080/"
        }
      },
      "outputs": [
        {
          "output_type": "execute_result",
          "data": {
            "text/plain": [
              "{'Title': tensor([[   18,   287,   359,     1,     1,     1,     1],\n",
              "         [ 2862,    11,    12,    13,    55,    37, 12108],\n",
              "         [ 2832,   618,   858,    63,  7103,  7104,    64]]),\n",
              " 'FullDescription': tensor([[   18,   287,   359,  1407,   561,    18,   287,   359,  1463,  1407],\n",
              "         [ 2862,    11,    12,    13,    55,    37, 12108,  1766,  1165,    74],\n",
              "         [  142,  1616,  8829,  1313,  1463,   559,   560,   561,   618,   858]]),\n",
              " 'Categorical': tensor([[0., 0., 0.,  ..., 0., 0., 0.],\n",
              "         [0., 0., 0.,  ..., 0., 0., 0.],\n",
              "         [0., 0., 0.,  ..., 0., 0., 0.]]),\n",
              " 'Log1pSalary': tensor([ 9.7115, 10.4631, 10.7144])}"
            ]
          },
          "metadata": {},
          "execution_count": 26
        }
      ],
      "source": [
        "make_batch(data_train[:3], max_len=10)"
      ]
    },
    {
      "cell_type": "markdown",
      "metadata": {
        "id": "0rd5jCiGYmfm"
      },
      "source": [
        "#### Architecture\n",
        "\n",
        "Our basic model consists of three branches:\n",
        "* Title encoder\n",
        "* Description encoder\n",
        "* Categorical features encoder\n",
        "\n",
        "We will then feed all 3 branches into one common network that predicts salary.\n",
        "\n",
        "![scheme](https://github.com/yandexdataschool/nlp_course/raw/master/resources/w2_conv_arch.png)"
      ]
    },
    {
      "cell_type": "code",
      "execution_count": 62,
      "metadata": {
        "id": "UJx1SGQzYmfm"
      },
      "outputs": [],
      "source": [
        "class SalaryPredictor(nn.Module):\n",
        "    def __init__(self, n_tokens=len(tokens), n_cat_features=len(categorical_vectorizer.vocabulary_), hid_size=100):\n",
        "        super().__init__()\n",
        "        #  YOUR CODE HERE\n",
        "        emb_size = hid_size//2\n",
        "\n",
        "        self.token_embeddings = nn.Embedding(num_embeddings=n_tokens, embedding_dim=emb_size)\n",
        "        self.cat_embeddings = nn.Embedding(num_embeddings=n_cat_features, embedding_dim=emb_size)\n",
        "\n",
        "        self.fc1 = nn.Linear(in_features=emb_size*3, out_features=hid_size)\n",
        "        self.fc2 = nn.Linear(in_features=hid_size, out_features=1)\n",
        "\n",
        "    def forward(self, batch):\n",
        "        # YOUR CODE HERE\n",
        "        title_emb = self.token_embeddings(batch[\"Title\"]).mean(dim=1)\n",
        "        desc_emb = self.token_embeddings(batch[\"FullDescription\"]).mean(dim=1)\n",
        "        cat_emb = self.cat_embeddings(batch[\"Categorical\"].long()).mean(dim=1)\n",
        "\n",
        "        features = torch.cat([title_emb, desc_emb, cat_emb], dim=1)\n",
        "        hid = F.relu(self.fc1(features))\n",
        "        return self.fc2(hid).squeeze()\n"
      ]
    },
    {
      "cell_type": "code",
      "execution_count": 63,
      "metadata": {
        "id": "e07rYiBXYmfm"
      },
      "outputs": [],
      "source": [
        "model = SalaryPredictor()"
      ]
    },
    {
      "cell_type": "code",
      "execution_count": 64,
      "metadata": {
        "id": "ZEAOQ1jHYmfm"
      },
      "outputs": [],
      "source": [
        "model = SalaryPredictor().to(device)\n",
        "batch = make_batch(data_train[:100], device=device)\n",
        "criterion = nn.MSELoss()\n",
        "\n",
        "dummy_pred = model(batch)\n",
        "dummy_loss = criterion(dummy_pred, batch[TARGET_COLUMN])\n",
        "assert dummy_pred.shape == torch.Size([100])\n",
        "assert len(torch.unique(dummy_pred)) > 20, \"model returns suspiciously few unique outputs. Check your initialization\"\n",
        "assert dummy_loss.ndim == 0 and 0. <= dummy_loss <= 250., \"make sure you minimize MSE\""
      ]
    },
    {
      "cell_type": "markdown",
      "metadata": {
        "id": "xIHN3eLsYmfm"
      },
      "source": [
        "#### Training and evaluation\n",
        "\n",
        "As usual, we gonna feed our monster with random minibatches of data.\n",
        "\n",
        "As we train, we want to monitor not only loss function, which is computed in log-space, but also the actual error measured in dollars."
      ]
    },
    {
      "cell_type": "code",
      "execution_count": 65,
      "metadata": {
        "id": "_JpQ4gQYYmfn"
      },
      "outputs": [],
      "source": [
        "def iterate_minibatches(data, batch_size=256, shuffle=True, cycle=False, device=device, **kwargs):\n",
        "    \"\"\" iterates minibatches of data in random order \"\"\"\n",
        "    while True:\n",
        "        indices = np.arange(len(data))\n",
        "        if shuffle:\n",
        "            indices = np.random.permutation(indices)\n",
        "\n",
        "        for start in range(0, len(indices), batch_size):\n",
        "            batch = make_batch(data.iloc[indices[start : start + batch_size]], device=device, **kwargs)\n",
        "            yield batch\n",
        "\n",
        "        if not cycle: break"
      ]
    },
    {
      "cell_type": "markdown",
      "metadata": {
        "id": "mlGBvUOSYmfn"
      },
      "source": [
        "### Model training\n",
        "\n",
        "We can now fit our model the usual minibatch way. The interesting part is that we train on an infinite stream of minibatches, produced by `iterate_minibatches` function."
      ]
    },
    {
      "cell_type": "code",
      "execution_count": 66,
      "metadata": {
        "id": "99MLd9AsYmfn"
      },
      "outputs": [],
      "source": [
        "from tqdm.auto import tqdm\n",
        "\n",
        "BATCH_SIZE = 16\n",
        "EPOCHS = 5"
      ]
    },
    {
      "cell_type": "code",
      "execution_count": 67,
      "metadata": {
        "id": "K5jxfWuZYmfn"
      },
      "outputs": [],
      "source": [
        "def print_metrics(model, data, batch_size=BATCH_SIZE, name=\"\", device=torch.device('cpu'), **kw):\n",
        "    squared_error = abs_error = num_samples = 0.0\n",
        "    model.eval()\n",
        "    with torch.no_grad():\n",
        "        for batch in iterate_minibatches(data, batch_size=batch_size, shuffle=False, device=device, **kw):\n",
        "            batch_pred = model(batch)\n",
        "            squared_error += torch.sum(torch.square(batch_pred - batch[TARGET_COLUMN]))\n",
        "            abs_error += torch.sum(torch.abs(batch_pred - batch[TARGET_COLUMN]))\n",
        "            num_samples += len(batch_pred)\n",
        "    mse = squared_error.detach().cpu().numpy() / num_samples\n",
        "    mae = abs_error.detach().cpu().numpy() / num_samples\n",
        "    print(\"%s results:\" % (name or \"\"))\n",
        "    print(\"Mean square error: %.5f\" % mse)\n",
        "    print(\"Mean absolute error: %.5f\" % mae)\n",
        "    return mse, mae\n"
      ]
    },
    {
      "cell_type": "code",
      "execution_count": 68,
      "metadata": {
        "id": "5rlU4DvkYmfn",
        "outputId": "56502d4b-5be9-46b4-c83d-d986941f8b23",
        "colab": {
          "base_uri": "https://localhost:8080/",
          "height": 524,
          "referenced_widgets": [
            "d1af3a1334e542db90224109dbea4ee8",
            "ec45cdae3d8c49a58896fd91215279c7",
            "8bd2375d2092486fb77ec153153f0aa0",
            "eb96e06479484e45b51a554cc871253e",
            "130a70a6653847258fa7c34860347036",
            "1a56204c66534acbb651618c01efd902",
            "c82ce6c5cc7240298faebe4566e99dbe",
            "d7e16845ee364203b159d4a28ed54a17",
            "7ddba6c3bd6a42588ee33c7657077579",
            "cc69c48d7d134ed6b9563a193d3b9a9c",
            "87fe7f94219048218c586c9cd2158f0c",
            "552701208cee462283946f7761b47789",
            "f7779859070f4879b5f6376b73d8ee1f",
            "45cfb48bb9694ea5b7bcf729410241a9",
            "b25ca0d73a8a4f69ad37ee3a29b7bcda",
            "d4a45841b24a472a827a04b614dcbecc",
            "280467a928734c5eafac229acb7fb965",
            "67902509d1134c6caf626f8f2ef47770",
            "482fff399d394a9c907be55f4423b035",
            "25be6fc63fb2493fbb584bfbaa10798e",
            "3ebde65a23e84e7fbad7726c1b8ad28a",
            "3804bcbbc8bf4434bef621219add3325",
            "761b06ca82084389afb11167076ab5a9",
            "35787bb078a9427a8ecabb8abee4220f",
            "f811e073ac894b2c997df7fe7b888945",
            "cb1157a5c50240f6832684856b6da827",
            "d701878864ed43f9bd0a786df097f8a8",
            "89b48da718af45fcbeab00f867217c80",
            "69b31ffc967343cc9ef0902216f4df01",
            "e13f7a272d724c0c8a96e230304f815d",
            "661ebe537c2643f197dedf98cb8cef76",
            "8ca560f912a84f63a71f77f66020d97f",
            "d27b6a0ea6164b739524f9b30e0f6cf7",
            "c60468d030a04071ac54b227c64c2bb9",
            "f2fe81df6d194117a254fe22f2804b24",
            "c89883217a8c462984965b3964ca5286",
            "6a9e2ea6afbe45a1b0e5880f0a28d8a2",
            "a6f70bcb4885489f9f12377111557363",
            "63dbcf861cc6430bafa41db954859500",
            "5750ede29d60416b80fbec2384857e80",
            "1b64b87769254bba96364e7ae81ed23d",
            "b93e4c7409d4448393543c51db26e94b",
            "f4c44766c66f431d99107325c9156874",
            "3fa887a512fe4208a05e18b5288d73e5",
            "5790ac00154341429e83aeae904cf5f6",
            "b82881b9d72640d18ad3ede4596ae21a",
            "e5919d46d616427b8c0aaa7568564bb9",
            "872589b95a294f6a93324a06d02bc658",
            "4ce7030d94a34df095d710f2adff74a4",
            "628665e1e5e34cd992b4f4b0d3559846",
            "cd3ec67198c04118b51b8e686c398b6c",
            "979c4049c36a4c7db0fbbc6751aafdfd",
            "43e410cb5e084f98986e6f6eee29745f",
            "639559c0252544c69b1a7693c97c5e90",
            "0b557b79dc304b4588438e1cb8582bfc"
          ]
        }
      },
      "outputs": [
        {
          "output_type": "stream",
          "name": "stdout",
          "text": [
            "epoch: 0\n"
          ]
        },
        {
          "output_type": "display_data",
          "data": {
            "text/plain": [
              "  0%|          | 0/12238 [00:00<?, ?it/s]"
            ],
            "application/vnd.jupyter.widget-view+json": {
              "version_major": 2,
              "version_minor": 0,
              "model_id": "d1af3a1334e542db90224109dbea4ee8"
            }
          },
          "metadata": {}
        },
        {
          "output_type": "stream",
          "name": "stdout",
          "text": [
            " results:\n",
            "Mean square error: 0.19978\n",
            "Mean absolute error: 0.35100\n",
            "epoch: 1\n"
          ]
        },
        {
          "output_type": "display_data",
          "data": {
            "text/plain": [
              "  0%|          | 0/12238 [00:00<?, ?it/s]"
            ],
            "application/vnd.jupyter.widget-view+json": {
              "version_major": 2,
              "version_minor": 0,
              "model_id": "552701208cee462283946f7761b47789"
            }
          },
          "metadata": {}
        },
        {
          "output_type": "stream",
          "name": "stdout",
          "text": [
            " results:\n",
            "Mean square error: 0.21832\n",
            "Mean absolute error: 0.37564\n",
            "epoch: 2\n"
          ]
        },
        {
          "output_type": "display_data",
          "data": {
            "text/plain": [
              "  0%|          | 0/12238 [00:00<?, ?it/s]"
            ],
            "application/vnd.jupyter.widget-view+json": {
              "version_major": 2,
              "version_minor": 0,
              "model_id": "761b06ca82084389afb11167076ab5a9"
            }
          },
          "metadata": {}
        },
        {
          "output_type": "stream",
          "name": "stdout",
          "text": [
            " results:\n",
            "Mean square error: 0.20331\n",
            "Mean absolute error: 0.35061\n",
            "epoch: 3\n"
          ]
        },
        {
          "output_type": "display_data",
          "data": {
            "text/plain": [
              "  0%|          | 0/12238 [00:00<?, ?it/s]"
            ],
            "application/vnd.jupyter.widget-view+json": {
              "version_major": 2,
              "version_minor": 0,
              "model_id": "c60468d030a04071ac54b227c64c2bb9"
            }
          },
          "metadata": {}
        },
        {
          "output_type": "stream",
          "name": "stdout",
          "text": [
            " results:\n",
            "Mean square error: 0.19295\n",
            "Mean absolute error: 0.34877\n",
            "epoch: 4\n"
          ]
        },
        {
          "output_type": "display_data",
          "data": {
            "text/plain": [
              "  0%|          | 0/12238 [00:00<?, ?it/s]"
            ],
            "application/vnd.jupyter.widget-view+json": {
              "version_major": 2,
              "version_minor": 0,
              "model_id": "5790ac00154341429e83aeae904cf5f6"
            }
          },
          "metadata": {}
        },
        {
          "output_type": "stream",
          "name": "stdout",
          "text": [
            " results:\n",
            "Mean square error: 0.19117\n",
            "Mean absolute error: 0.34757\n"
          ]
        }
      ],
      "source": [
        "model = SalaryPredictor().to(device)\n",
        "criterion = nn.MSELoss(reduction='sum')\n",
        "optimizer = torch.optim.SGD(model.parameters(), lr=1e-4)\n",
        "\n",
        "for epoch in range(EPOCHS):\n",
        "    print(f\"epoch: {epoch}\")\n",
        "    model.train()\n",
        "    for i, batch in tqdm(enumerate(\n",
        "            iterate_minibatches(data_train, batch_size=BATCH_SIZE, device=device)),\n",
        "            total=len(data_train) // BATCH_SIZE\n",
        "        ):\n",
        "        pred = model(batch)\n",
        "        loss = criterion(pred, batch[TARGET_COLUMN])\n",
        "        optimizer.zero_grad()\n",
        "        loss.backward()\n",
        "        optimizer.step()\n",
        "\n",
        "    print_metrics(model, data_val, device=device)\n",
        "\n"
      ]
    },
    {
      "cell_type": "markdown",
      "source": [
        "# Homework (8 points)\n",
        "\n",
        "Your main task is to use some of the tricks you've learned about NN and analyze if you can improve __validation MAE__. Try __at least 2 options__ from the list below for a passing grade. Write a short report about what you have tried. More ideas = more bonus points."
      ],
      "metadata": {
        "id": "UpWt2n8gpXWm"
      }
    },
    {
      "cell_type": "markdown",
      "source": [
        "## Recommended options\n",
        "\n",
        "#### A) CNN architecture\n",
        "\n",
        "All the tricks you know about dense and convolutional neural networks apply here as well.\n",
        "* Dropout. Nuff said.\n",
        "* Batch Norm. This time it's `nn.BatchNorm*`/`L.BatchNormalization`\n",
        "* Parallel convolution layers. The idea is that you apply several nn.Conv1d to the same embeddings and concatenate output channels.\n",
        "* More layers, more neurons, ya know...\n",
        "\n",
        "\n",
        "#### B) Play with pooling\n",
        "\n",
        "There's more than one way to perform pooling:\n",
        "* Max over time (independently for each feature)\n",
        "* Average over time (excluding PAD)\n",
        "* Softmax-pooling:\n",
        "$$ out_{i, t} = \\sum_t {h_{i,t} \\cdot {{e ^ {h_{i, t}}} \\over \\sum_\\tau e ^ {h_{j, \\tau}} } }$$\n",
        "\n",
        "* Attentive pooling\n",
        "$$ out_{i, t} = \\sum_t {h_{i,t} \\cdot Attn(h_t)},$$\n",
        "where $$ Attn(h_t) = {{e ^ {NN_{attn}(h_t)}} \\over \\sum_\\tau e ^ {NN_{attn}(h_\\tau)}}  $$\n",
        "and $NN_{attn}$ is a dense layer.\n",
        "\n",
        "The optimal score is usually achieved by concatenating several different poolings, including several attentive pooling with different $NN_{attn}$ (aka multi-headed attention).\n",
        "\n",
        "The catch is that keras layers do not inlude those toys. You will have to [write your own keras layer](https://keras.io/layers/writing-your-own-keras-layers/). Or use pure tensorflow, it might even be easier :)\n",
        "\n",
        "#### C) Fun with words\n",
        "\n",
        "It's not always a good idea to train embeddings from scratch. Here's a few tricks:\n",
        "\n",
        "* Use a pre-trained embeddings from `gensim.downloader.load`. See last lecture.\n",
        "* Start with pre-trained embeddings, then fine-tune them with gradient descent. You may or may not download pre-trained embeddings from [here](http://nlp.stanford.edu/data/glove.6B.zip) and follow this [manual](https://keras.io/examples/nlp/pretrained_word_embeddings/) to initialize your Keras embedding layer with downloaded weights.\n",
        "* Use the same embedding matrix in title and desc vectorizer\n",
        "\n",
        "\n",
        "#### D) Going recurrent\n",
        "\n",
        "We've already learned that recurrent networks can do cool stuff in sequence modelling. Turns out, they're not useless for classification as well. With some tricks of course..\n",
        "\n",
        "* Like convolutional layers, LSTM should be pooled into a fixed-size vector with some of the poolings.\n",
        "* Since you know all the text in advance, use bidirectional RNN\n",
        "  * Run one LSTM from left to right\n",
        "  * Run another in parallel from right to left\n",
        "  * Concatenate their output sequences along unit axis (dim=-1)\n",
        "\n",
        "* It might be good idea to mix convolutions and recurrent layers differently for title and description\n",
        "\n",
        "\n",
        "#### E) Optimizing seriously\n",
        "\n",
        "* You don't necessarily need 100 epochs. Use early stopping.\n",
        "* Maintain the best-on-validation snapshot via `model.save(file_name)`\n",
        "* Plotting learning curves is usually a good idea\n",
        "  \n",
        "Good luck! And may the force be with you!"
      ],
      "metadata": {
        "id": "gfRaEFpcqUrR"
      }
    },
    {
      "cell_type": "markdown",
      "source": [
        "### A short report\n",
        "\n",
        "Please tell us what you did and how did it work.\n",
        "\n",
        "`<YOUR_TEXT_HERE>`, i guess..."
      ],
      "metadata": {
        "id": "NgND2_E5qPPc"
      }
    },
    {
      "cell_type": "markdown",
      "metadata": {
        "id": "1uYKrVlEYmfn"
      },
      "source": [
        "### Bonus part: explaining model predictions\n",
        "\n",
        "It's usually a good idea to understand how your model works before you let it make actual decisions. It's simple for linear models: just see which words learned positive or negative weights. However, its much harder for neural networks that learn complex nonlinear dependencies.\n",
        "\n",
        "There are, however, some ways to look inside the black box:\n",
        "* Seeing how model responds to input perturbations\n",
        "* Finding inputs that maximize/minimize activation of some chosen neurons (_read more [on distill.pub](https://distill.pub/2018/building-blocks/)_)\n",
        "* Building local linear approximations to your neural network: [article](https://arxiv.org/abs/1602.04938), [eli5 library](https://github.com/TeamHG-Memex/eli5/tree/master/eli5/formatters)\n",
        "\n",
        "Today we gonna try the first method just because it's the simplest one."
      ]
    },
    {
      "cell_type": "code",
      "execution_count": 69,
      "metadata": {
        "id": "y0jjzoDZYmfn"
      },
      "outputs": [],
      "source": [
        "def explain(model, sample, col_name='Title'):\n",
        "    \"\"\" Computes the effect each word had on model predictions \"\"\"\n",
        "    sample = dict(sample)\n",
        "    sample_col_tokens = [tokens[token_to_id.get(tok, 0)] for tok in sample[col_name].split()]\n",
        "    data_drop_one_token = pd.DataFrame([sample] * (len(sample_col_tokens) + 1))\n",
        "\n",
        "    for drop_i in range(len(sample_col_tokens)):\n",
        "        data_drop_one_token.loc[drop_i, col_name] = ' '.join(UNK if i == drop_i else tok\n",
        "                                                   for i, tok in enumerate(sample_col_tokens))\n",
        "\n",
        "    *predictions_drop_one_token, baseline_pred = model(make_batch(data_drop_one_token, device=device)).detach().cpu()\n",
        "    diffs = baseline_pred - torch.Tensor(predictions_drop_one_token)\n",
        "    return list(zip(sample_col_tokens, diffs))"
      ]
    },
    {
      "cell_type": "code",
      "execution_count": 70,
      "metadata": {
        "id": "FgGBYzDeYmfo"
      },
      "outputs": [],
      "source": [
        "from IPython.display import HTML, display_html\n",
        "\n",
        "\n",
        "def draw_html(tokens_and_weights, cmap=plt.get_cmap(\"bwr\"), display=True,\n",
        "              token_template=\"\"\"<span style=\"background-color: {color_hex}\">{token}</span>\"\"\",\n",
        "              font_style=\"font-size:14px;\"\n",
        "             ):\n",
        "\n",
        "    def get_color_hex(weight):\n",
        "        rgba = cmap(1. / (1 + np.exp(float(weight))), bytes=True)\n",
        "        return '#%02X%02X%02X' % rgba[:3]\n",
        "\n",
        "    tokens_html = [\n",
        "        token_template.format(token=token, color_hex=get_color_hex(weight))\n",
        "        for token, weight in tokens_and_weights\n",
        "    ]\n",
        "\n",
        "\n",
        "    raw_html = \"\"\"<p style=\"{}\">{}</p>\"\"\".format(font_style, ' '.join(tokens_html))\n",
        "    if display:\n",
        "        display_html(HTML(raw_html))\n",
        "\n",
        "    return raw_html\n"
      ]
    },
    {
      "cell_type": "code",
      "execution_count": 71,
      "metadata": {
        "id": "AXn_Gs2MYmfo",
        "colab": {
          "base_uri": "https://localhost:8080/",
          "height": 268
        },
        "outputId": "72248800-6722-4e95-ba1a-fede8a39f6c3"
      },
      "outputs": [
        {
          "output_type": "display_data",
          "data": {
            "text/html": [
              "<p style=\"font-size:20px;\"><span style=\"background-color: #FFE6E6\">sales</span> <span style=\"background-color: #F3F3FF\">specialist</span> <span style=\"background-color: #FFFCFC\">iv</span> <span style=\"background-color: #FFD8D8\">access</span> <span style=\"background-color: #D0D0FF\">and</span> <span style=\"background-color: #C8C8FF\">infusion</span></p>"
            ]
          },
          "metadata": {}
        },
        {
          "output_type": "display_data",
          "data": {
            "text/html": [
              "<p style=\"font-size:14px;\"><span style=\"background-color: #FEFEFF\">sales</span> <span style=\"background-color: #FFFEFE\">representative</span> <span style=\"background-color: #FFFAFA\">medical</span> <span style=\"background-color: #FEFEFF\">sales</span> <span style=\"background-color: #FFF8F8\">iv</span> <span style=\"background-color: #FFFCFC\">access</span> <span style=\"background-color: #FFFAFA\">and</span> <span style=\"background-color: #FFFCFC\">infusion</span> <span style=\"background-color: #FFF8F8\">an</span> <span style=\"background-color: #FFFCFC\">opportunity</span> <span style=\"background-color: #FFECEC\">to</span> <span style=\"background-color: #FFF2F2\">work</span> <span style=\"background-color: #FEFEFF\">for</span> <span style=\"background-color: #FEFEFF\">the</span> <span style=\"background-color: #FFFEFE\">industry</span> <span style=\"background-color: #FCFCFF\">leading</span> <span style=\"background-color: #FFF8F8\">manufacturer</span> <span style=\"background-color: #FFFCFC\">of</span> <span style=\"background-color: #FFF8F8\">iv</span> <span style=\"background-color: #FFFCFC\">access</span> <span style=\"background-color: #FFFAFA\">and</span> <span style=\"background-color: #FFFCFC\">infusion</span> <span style=\"background-color: #FFFCFC\">solutions</span> <span style=\"background-color: #FFF2F2\">.</span> <span style=\"background-color: #FFF8F8\">formally</span> <span style=\"background-color: #FEFEFF\">recognised</span> <span style=\"background-color: #FFF2F2\">as</span> <span style=\"background-color: #FEFEFF\">the</span> <span style=\"background-color: #FFFCFC\">number</span> <span style=\"background-color: #FFF0F0\">****</span> <span style=\"background-color: #FFFCFC\">company</span> <span style=\"background-color: #FFF8F8\">in</span> <span style=\"background-color: #FFF8F8\">this</span> <span style=\"background-color: #FEFEFF\">market</span> <span style=\"background-color: #FFFAFA\">space</span> <span style=\"background-color: #FFFAFA\">,</span> <span style=\"background-color: #FFF4F4\">our</span> <span style=\"background-color: #FFF4F4\">client</span> <span style=\"background-color: #FFFEFE\">are</span> <span style=\"background-color: #FFF8F8\">an</span> <span style=\"background-color: #FFF6F6\">ethical</span> <span style=\"background-color: #FFFAFA\">and</span> <span style=\"background-color: #FFF0F0\">dynamic</span> <span style=\"background-color: #FFFAFA\">organisation</span> <span style=\"background-color: #FFFEFE\">absolutely</span> <span style=\"background-color: #FFFAFA\">committed</span> <span style=\"background-color: #FFECEC\">to</span> <span style=\"background-color: #FEFEFF\">the</span> <span style=\"background-color: #FFF2F2\">advancement</span> <span style=\"background-color: #FFFCFC\">of</span> <span style=\"background-color: #FFF0F0\">innovative</span> <span style=\"background-color: #FFF8F8\">technologies</span> <span style=\"background-color: #FFF2F2\">.</span> <span style=\"background-color: #FFF8F8\">job</span> <span style=\"background-color: #FFFCFC\">title</span> <span style=\"background-color: #FFF4F4\">:</span> <span style=\"background-color: #FEFEFF\">sales</span> <span style=\"background-color: #FFF8F8\">specialist</span> <span style=\"background-color: #FFF8F8\">iv</span> <span style=\"background-color: #FFFCFC\">access</span> <span style=\"background-color: #FFFAFA\">and</span> <span style=\"background-color: #FFFCFC\">infusion</span> <span style=\"background-color: #FFF8F8\">selling</span> <span style=\"background-color: #FFF4F4\">:</span> <span style=\"background-color: #FFFEFE\">medication</span> <span style=\"background-color: #FFFAFA\">delivery</span> <span style=\"background-color: #FFFCFC\">solutions</span> <span style=\"background-color: #FFF8F8\">selling</span> <span style=\"background-color: #FFECEC\">to</span> <span style=\"background-color: #FFF4F4\">:</span> <span style=\"background-color: #FFF8F8\">iv</span> <span style=\"background-color: #FFFEFE\">teams</span> <span style=\"background-color: #FFFAFA\">,</span> <span style=\"background-color: #FFFAFA\">infection</span> <span style=\"background-color: #FFFEFE\">control</span> <span style=\"background-color: #FFFAFA\">,</span> <span style=\"background-color: #FFFAFA\">lead</span> <span style=\"background-color: #FFF4F4\">intensive</span> <span style=\"background-color: #FFF8F8\">care</span> <span style=\"background-color: #FFFEFE\">nurse</span> <span style=\"background-color: #FFF0F0\">specialists</span> <span style=\"background-color: #FFFAFA\">,</span> <span style=\"background-color: #FFF6F6\">ward</span> <span style=\"background-color: #FFF8F8\">managers</span> <span style=\"background-color: #FFF4F4\">territory</span> <span style=\"background-color: #FFF4F4\">:</span> <span style=\"background-color: #FFFAFA\">east</span> <span style=\"background-color: #FFF6F6\">midlands</span> <span style=\"background-color: #FFFCFC\">location</span> <span style=\"background-color: #FFF4F4\">:</span> <span style=\"background-color: #FFFAFA\">east</span> <span style=\"background-color: #FFF6F6\">midlands</span> <span style=\"background-color: #FFF8F8\">package</span> <span style=\"background-color: #FFF4F4\">:</span> <span style=\"background-color: #FFF4F4\">basic</span> <span style=\"background-color: #FFF4F4\">:</span> <span style=\"background-color: #FFF0F0\">****</span> <span style=\"background-color: #FEFEFF\">k</span> <span style=\"background-color: #FFF0F0\">****</span> <span style=\"background-color: #FEFEFF\">k</span> <span style=\"background-color: #FFFAFA\">,</span> <span style=\"background-color: #FFF6F6\">uncapped</span> <span style=\"background-color: #FFF2F2\">bonus</span> <span style=\"background-color: #FFF8F8\">in</span> <span style=\"background-color: #FFF8F8\">addition</span> <span style=\"background-color: #FFFAFA\">,</span> <span style=\"background-color: #FFF4F4\">full</span> <span style=\"background-color: #FEFEFF\">corporate</span> <span style=\"background-color: #FFF4F4\">benefits</span> <span style=\"background-color: #FFFCFC\">company</span> <span style=\"background-color: #FFF4F4\">information</span> <span style=\"background-color: #FFFEFE\">hugely</span> <span style=\"background-color: #FFF6F6\">ethical</span> <span style=\"background-color: #FFFAFA\">and</span> <span style=\"background-color: #FFFAFA\">professional</span> <span style=\"background-color: #FFFEFE\">global</span> <span style=\"background-color: #FFFAFA\">organisation</span> <span style=\"background-color: #FFF6F6\">extremely</span> <span style=\"background-color: #FFFCFC\">well</span> <span style=\"background-color: #FFECEC\">established</span> <span style=\"background-color: #FFF8F8\">in</span> <span style=\"background-color: #FEFEFF\">the</span> <span style=\"background-color: #FFEEEE\">uk</span> <span style=\"background-color: #FEFEFF\">the</span> <span style=\"background-color: #FEFEFF\">market</span> <span style=\"background-color: #FFFCFC\">leader</span> <span style=\"background-color: #FFF8F8\">across</span> <span style=\"background-color: #FFF8F8\">all</span> <span style=\"background-color: #FFFCFC\">of</span> <span style=\"background-color: #FFF8F8\">their</span> <span style=\"background-color: #FFF6F6\">core</span> <span style=\"background-color: #FFFAFA\">business</span> <span style=\"background-color: #FFFCFC\">areas</span> <span style=\"background-color: #FFF0F0\">focus</span> <span style=\"background-color: #FFF4F4\">on</span> <span style=\"background-color: #FFEEEE\">providing</span> <span style=\"background-color: #FFF8F8\">cutting</span> <span style=\"background-color: #FFF8F8\">edge</span> <span style=\"background-color: #FFFCFC\">solutions</span> <span style=\"background-color: #FFF4F4\">along</span> <span style=\"background-color: #FFF6F6\">with</span> <span style=\"background-color: #FFF6F6\">outstanding</span> <span style=\"background-color: #FFF4F4\">service</span> <span style=\"background-color: #FFFAFA\">and</span> <span style=\"background-color: #FFF6F6\">support</span> <span style=\"background-color: #FFF8F8\">a</span> <span style=\"background-color: #FFFAFA\">business</span> <span style=\"background-color: #FFF6F6\">that</span> <span style=\"background-color: #F6F6FF\">retain</span> <span style=\"background-color: #FFF8F8\">talented</span> <span style=\"background-color: #FFFCFC\">personnel</span> <span style=\"background-color: #FFECEC\">by</span> <span style=\"background-color: #FFF6F6\">offering</span> <span style=\"background-color: #FFF8F8\">a</span> <span style=\"background-color: #FFFEFE\">strong</span> <span style=\"background-color: #FFFEFE\">platform</span> <span style=\"background-color: #FEFEFF\">for</span> <span style=\"background-color: #FFF0F0\">career</span> <span style=\"background-color: #F8F8FF\">development</span> <span style=\"background-color: #FEFEFF\">sales</span> <span style=\"background-color: #FFF8F8\">specialist</span> <span style=\"background-color: #FFF8F8\">iv</span> <span style=\"background-color: #FFFCFC\">access</span> <span style=\"background-color: #FFFAFA\">and</span> <span style=\"background-color: #FFFCFC\">infusion</span> <span style=\"background-color: #FFF4F4\">you</span> <span style=\"background-color: #FFFAFA\">must</span> <span style=\"background-color: #FFF2F2\">have</span> <span style=\"background-color: #FFFAFA\">/</span> <span style=\"background-color: #FFF6F6\">be</span> <span style=\"background-color: #FEFEFF\">the</span> <span style=\"background-color: #FFFEFE\">following</span> <span style=\"background-color: #FEFEFF\">at</span> <span style=\"background-color: #FFF8F8\">least</span> <span style=\"background-color: #FFF4F4\">2</span> <span style=\"background-color: #FFF0F0\">years</span> <span style=\"background-color: #FFFAFA\">medical</span> <span style=\"background-color: #FFFCFC\">device</span> <span style=\"background-color: #FEFEFF\">sales</span> <span style=\"background-color: #FFF6F6\">experience</span> <span style=\"background-color: #FFF2F2\">.</span> <span style=\"background-color: #FFF8F8\">candidates</span> <span style=\"background-color: #FFE8E8\">who</span> <span style=\"background-color: #FFF2F2\">have</span> <span style=\"background-color: #FFF6F6\">sold</span> <span style=\"background-color: #FFFAFA\">disposables</span> <span style=\"background-color: #FFFAFA\">/</span> <span style=\"background-color: #FFF2F2\">consumables</span> <span style=\"background-color: #FFF8F8\">or</span> <span style=\"background-color: #FFF2F2\">similar</span> <span style=\"background-color: #FFF2F2\">into</span> <span style=\"background-color: #FEFEFF\">hospitals</span> <span style=\"background-color: #FFF6F6\">would</span> <span style=\"background-color: #FFF6F6\">be</span> <span style=\"background-color: #FFFCFC\">of</span> <span style=\"background-color: #FFF6F6\">particular</span> <span style=\"background-color: #FFF2F2\">interest</span> <span style=\"background-color: #FFF2F2\">.</span> <span style=\"background-color: #FFF8F8\">candidates</span> <span style=\"background-color: #FFFAFA\">must</span> <span style=\"background-color: #FFF2F2\">have</span> <span style=\"background-color: #FFF6F6\">sold</span> <span style=\"background-color: #FFF2F2\">into</span> <span style=\"background-color: #FEFEFF\">hospitals</span> <span style=\"background-color: #FFF4F4\">demonstrable</span> <span style=\"background-color: #FFF2F2\">performance</span> <span style=\"background-color: #FFFAFA\">and</span> <span style=\"background-color: #FFF8F8\">achievements</span> <span style=\"background-color: #FFEEEE\">so</span> <span style=\"background-color: #FFF6F6\">far</span> <span style=\"background-color: #FFFAFA\">personable</span> <span style=\"background-color: #FFFAFA\">,</span> <span style=\"background-color: #FFFAFA\">adaptable</span> <span style=\"background-color: #FFFAFA\">and</span> <span style=\"background-color: #FFFAFA\">willing</span> <span style=\"background-color: #FFECEC\">to</span> <span style=\"background-color: #FCFCFF\">learn</span> <span style=\"background-color: #FFFCFC\">keen</span> <span style=\"background-color: #FFFAFA\">and</span> <span style=\"background-color: #FFF8F8\">eager</span> <span style=\"background-color: #FFECEC\">to</span> <span style=\"background-color: #FFF6F6\">be</span> <span style=\"background-color: #FFF8F8\">a</span> <span style=\"background-color: #FFF4F4\">success</span> <span style=\"background-color: #FFF8F8\">candidates</span> <span style=\"background-color: #FFFAFA\">must</span> <span style=\"background-color: #FFF2F2\">have</span> <span style=\"background-color: #FFF8F8\">a</span> <span style=\"background-color: #FFF8F8\">degree</span> <span style=\"background-color: #FFF8F8\">or</span> <span style=\"background-color: #FEFEFF\">at</span> <span style=\"background-color: #FFF8F8\">least</span> <span style=\"background-color: #FFF6F6\">be</span> <span style=\"background-color: #FFF6F6\">able</span> <span style=\"background-color: #FFECEC\">to</span> <span style=\"background-color: #FFF0F0\">show</span> <span style=\"background-color: #FFF8F8\">a</span> <span style=\"background-color: #FFFEFE\">strong</span> <span style=\"background-color: #FFF0F0\">ability</span> <span style=\"background-color: #FFECEC\">to</span> <span style=\"background-color: #FCFCFF\">learn</span> <span style=\"background-color: #FFF4F4\">role</span> <span style=\"background-color: #FFF4F4\">information</span> <span style=\"background-color: #FFFAFA\">managing</span> <span style=\"background-color: #FEFEFF\">the</span> <span style=\"background-color: #FFFAFA\">east</span> <span style=\"background-color: #FFF6F6\">midlands</span> <span style=\"background-color: #FFF6F6\">region</span> <span style=\"background-color: #FFF8F8\">selling</span> <span style=\"background-color: #FFF8F8\">across</span> <span style=\"background-color: #FEFEFF\">the</span> <span style=\"background-color: #FFFCFC\">company</span> <span style=\"background-color: #FFF2F2\">'</span> <span style=\"background-color: #FFF6F6\">s</span> <span style=\"background-color: #F8F8FF\">range</span> <span style=\"background-color: #FFFCFC\">of</span> <span style=\"background-color: #FFF8F8\">iv</span> <span style=\"background-color: #FFFAFA\">and</span> <span style=\"background-color: #FFFCFC\">infusion</span> <span style=\"background-color: #FFFCFC\">solutions</span> <span style=\"background-color: #FFF4F4\">portfolio</span> <span style=\"background-color: #FFF8F8\">selling</span> <span style=\"background-color: #FFF2F2\">into</span> <span style=\"background-color: #FFFAFA\">lead</span> <span style=\"background-color: #FFF4F4\">intensive</span> <span style=\"background-color: #FFF8F8\">care</span> <span style=\"background-color: #FFFEFE\">nurse</span> <span style=\"background-color: #FFF0F0\">specialists</span> <span style=\"background-color: #FFFAFA\">,</span> <span style=\"background-color: #FFF6F6\">ward</span> <span style=\"background-color: #FFF8F8\">managers</span> <span style=\"background-color: #FFFAFA\">,</span> <span style=\"background-color: #FFF8F8\">iv</span> <span style=\"background-color: #FFFEFE\">teams</span> <span style=\"background-color: #FFFAFA\">,</span> <span style=\"background-color: #FFFAFA\">infection</span> <span style=\"background-color: #FFFEFE\">control</span> <span style=\"background-color: #FFFEFE\">teams</span> <span style=\"background-color: #FFFAFA\">,</span> <span style=\"background-color: #FEFEFF\">procurement</span> <span style=\"background-color: #FEFEFF\">sales</span> <span style=\"background-color: #FFF8F8\">specialist</span> <span style=\"background-color: #FFF8F8\">iv</span> <span style=\"background-color: #FFFCFC\">access</span> <span style=\"background-color: #FFFAFA\">and</span> <span style=\"background-color: #FFFCFC\">infusion</span> <span style=\"background-color: #FFF8F8\">candidates</span> <span style=\"background-color: #FFFAFA\">must</span> <span style=\"background-color: #FFF6F6\">be</span> <span style=\"background-color: #FFF4F4\">eligible</span> <span style=\"background-color: #FFECEC\">to</span> <span style=\"background-color: #FFF2F2\">work</span> <span style=\"background-color: #FFFAFA\">and</span> <span style=\"background-color: #FFFAFA\">live</span> <span style=\"background-color: #FFF8F8\">in</span> <span style=\"background-color: #FEFEFF\">the</span> <span style=\"background-color: #FFEEEE\">uk</span> <span style=\"background-color: #FFF2F2\">.</span> <span style=\"background-color: #FFFAFA\">please</span> <span style=\"background-color: #FFFAFA\">contact</span> <span style=\"background-color: #FCFCFF\">allan</span> <span style=\"background-color: #FFFEFE\">waller</span> <span style=\"background-color: #FFF4F4\">on</span> <span style=\"background-color: #FFF0F0\">****</span> <span style=\"background-color: #FFF0F0\">****</span> <span style=\"background-color: #FFF0F0\">****</span> <span style=\"background-color: #FFF8F8\">or</span> <span style=\"background-color: #FFFAFA\">please</span> <span style=\"background-color: #FFF4F4\">hit</span> <span style=\"background-color: #FEFEFF\">the</span> <span style=\"background-color: #FFEEEE\">apply</span> <span style=\"background-color: #FFF8F8\">button</span> <span style=\"background-color: #FFF2F2\">.</span> <span style=\"background-color: #FFF8F8\">this</span> <span style=\"background-color: #FFF8F8\">job</span> <span style=\"background-color: #FFF8F8\">was</span> <span style=\"background-color: #FFF2F2\">originally</span> <span style=\"background-color: #FFF8F8\">posted</span> <span style=\"background-color: #FFF2F2\">as</span> <span style=\"background-color: #FFFCFC\">www</span> <span style=\"background-color: #FFF2F2\">.</span> <span style=\"background-color: #FFF8F8\">salestarget</span> <span style=\"background-color: #FFF2F2\">.</span> <span style=\"background-color: #FFF8F8\">co</span> <span style=\"background-color: #FFF2F2\">.</span> <span style=\"background-color: #FFEEEE\">uk</span> <span style=\"background-color: #FFFAFA\">/</span> <span style=\"background-color: #FFFEFE\">jobseeking</span> <span style=\"background-color: #FFFAFA\">/</span> <span style=\"background-color: #FFFEFE\">UNK</span> <span style=\"background-color: #FFF0F0\">****</span></p>"
            ]
          },
          "metadata": {}
        }
      ],
      "source": [
        "i = 36605\n",
        "tokens_and_weights = explain(model, data.loc[i], \"Title\")\n",
        "draw_html([(tok, weight * 5) for tok, weight in tokens_and_weights], font_style='font-size:20px;');\n",
        "\n",
        "tokens_and_weights = explain(model, data.loc[i], \"FullDescription\")\n",
        "draw_html([(tok, weight * 10) for tok, weight in tokens_and_weights]);"
      ]
    },
    {
      "cell_type": "code",
      "execution_count": 72,
      "metadata": {
        "id": "X5xTTvjvYmfo",
        "colab": {
          "base_uri": "https://localhost:8080/",
          "height": 95
        },
        "outputId": "5a037fe7-5f99-44b2-c0bc-706159a7ffb3"
      },
      "outputs": [
        {
          "output_type": "display_data",
          "data": {
            "text/html": [
              "<p style=\"font-size:20px;\"><span style=\"background-color: #FF5858\">cleaning</span> <span style=\"background-color: #FF5454\">operative</span></p>"
            ]
          },
          "metadata": {}
        },
        {
          "output_type": "display_data",
          "data": {
            "text/html": [
              "<p style=\"font-size:14px;\"><span style=\"background-color: #FFB0B0\">12</span> <span style=\"background-color: #FFBEBE\">.</span> <span style=\"background-color: #FFD3D3\">5</span> <span style=\"background-color: #FFB8B8\">hours</span> <span style=\"background-color: #FFB0B0\">per</span> <span style=\"background-color: #FFD8D8\">week</span> <span style=\"background-color: #FFBCBC\">monday</span> <span style=\"background-color: #FCFCFF\">friday</span> <span style=\"background-color: #FFDCDC\">9am</span> <span style=\"background-color: #FFFCFC\">11</span> <span style=\"background-color: #FFBEBE\">.</span> <span style=\"background-color: #FFF2F2\">30am</span> <span style=\"background-color: #FFCACA\">duties</span> <span style=\"background-color: #FFA2A2\">to</span> <span style=\"background-color: #FFDEDE\">include</span> <span style=\"background-color: #FFDEDE\">sweeping</span> <span style=\"background-color: #FFE8E8\">,</span> <span style=\"background-color: #F8F8FF\">mopping</span> <span style=\"background-color: #FFE8E8\">,</span> <span style=\"background-color: #FEFEFF\">vacuuming</span> <span style=\"background-color: #FFE8E8\">,</span> <span style=\"background-color: #FFD2D2\">buffing</span> <span style=\"background-color: #FFE8E8\">,</span> <span style=\"background-color: #FFB2B2\">cleaning</span> <span style=\"background-color: #FFFAFA\">staff</span> <span style=\"background-color: #FFDADA\">toilets</span> <span style=\"background-color: #FFE2E2\">and</span> <span style=\"background-color: #FFECEC\">rest</span> <span style=\"background-color: #FFC8C8\">room</span> <span style=\"background-color: #FFBEBE\">.</span> <span style=\"background-color: #FFE8E8\">must</span> <span style=\"background-color: #FFD3D3\">be</span> <span style=\"background-color: #FFD0D0\">able</span> <span style=\"background-color: #FFA2A2\">to</span> <span style=\"background-color: #FFE6E6\">read</span> <span style=\"background-color: #FFB8B8\">as</span> <span style=\"background-color: #FFEEEE\">they</span> <span style=\"background-color: #FFD8D8\">will</span> <span style=\"background-color: #FFD3D3\">be</span> <span style=\"background-color: #FFE6E6\">using</span> <span style=\"background-color: #FFFEFE\">UNK</span> <span style=\"background-color: #FEFEFF\">which</span> <span style=\"background-color: #FFCECE\">need</span> <span style=\"background-color: #FFFEFE\">UNK</span> <span style=\"background-color: #FFB8B8\">as</span> <span style=\"background-color: #FFB0B0\">per</span> <span style=\"background-color: #FFEEEE\">instructions</span> <span style=\"background-color: #FFC6C6\">on</span> <span style=\"background-color: #FAFAFF\">the</span> <span style=\"background-color: #FFAEAE\">containers</span> <span style=\"background-color: #FFBEBE\">.</span> <span style=\"background-color: #FF9898\">sucessfull</span> <span style=\"background-color: #FFBABA\">applicants</span> <span style=\"background-color: #FFD8D8\">will</span> <span style=\"background-color: #FFD3D3\">be</span> <span style=\"background-color: #F8F8FF\">trained</span> <span style=\"background-color: #FFC6C6\">on</span> <span style=\"background-color: #FFE0E0\">all</span> <span style=\"background-color: #FFB6B6\">electrical</span> <span style=\"background-color: #FFC2C2\">appliances</span> <span style=\"background-color: #FFE2E2\">and</span> <span style=\"background-color: #FFFEFE\">UNK</span> <span style=\"background-color: #FFF2F2\">of</span> <span style=\"background-color: #FFB2B2\">cleaning</span> <span style=\"background-color: #FFC6C6\">materials</span> <span style=\"background-color: #FFBEBE\">.</span></p>"
            ]
          },
          "metadata": {}
        }
      ],
      "source": [
        "i = 12077\n",
        "tokens_and_weights = explain(model, data.loc[i], \"Title\")\n",
        "draw_html([(tok, weight * 5) for tok, weight in tokens_and_weights], font_style='font-size:20px;');\n",
        "\n",
        "tokens_and_weights = explain(model, data.loc[i], \"FullDescription\")\n",
        "draw_html([(tok, weight * 10) for tok, weight in tokens_and_weights]);"
      ]
    },
    {
      "cell_type": "code",
      "execution_count": 73,
      "metadata": {
        "id": "TXw3hbNlYmfo",
        "colab": {
          "base_uri": "https://localhost:8080/",
          "height": 285
        },
        "outputId": "6922c6ba-96da-43dc-a791-0c197ffa75ed"
      },
      "outputs": [
        {
          "output_type": "stream",
          "name": "stdout",
          "text": [
            "Index: 101163\n",
            "Salary (gbp): tensor(30221.8574)\n"
          ]
        },
        {
          "output_type": "display_data",
          "data": {
            "text/html": [
              "<p style=\"font-size:20px;\"><span style=\"background-color: #FFF6F6\">commercial</span> <span style=\"background-color: #FF8A8A\">account</span> <span style=\"background-color: #8383FF\">handler</span></p>"
            ]
          },
          "metadata": {}
        },
        {
          "output_type": "display_data",
          "data": {
            "text/html": [
              "<p style=\"font-size:14px;\"><span style=\"background-color: #FFF8F8\">commercial</span> <span style=\"background-color: #FFFEFE\">account</span> <span style=\"background-color: #FFF4F4\">handler</span> <span style=\"background-color: #FFF6F6\">birmingham</span> <span style=\"background-color: #FFFAFA\">city</span> <span style=\"background-color: #FFF2F2\">centre</span> <span style=\"background-color: #FFEEEE\">****</span> <span style=\"background-color: #FFEEEE\">****</span> <span style=\"background-color: #FFFEFE\">depending</span> <span style=\"background-color: #FFF4F4\">on</span> <span style=\"background-color: #FFF6F6\">experience</span> <span style=\"background-color: #FFF0F0\">my</span> <span style=\"background-color: #FFF4F4\">client</span> <span style=\"background-color: #FFF8F8\">is</span> <span style=\"background-color: #FFF8F8\">a</span> <span style=\"background-color: #FFFCFC\">long</span> <span style=\"background-color: #FFECEC\">established</span> <span style=\"background-color: #FFFAFA\">and</span> <span style=\"background-color: #FEFEFF\">reputable</span> <span style=\"background-color: #FFF8F8\">independent</span> <span style=\"background-color: #FFFCFC\">insurance</span> <span style=\"background-color: #FFF2F2\">broker</span> <span style=\"background-color: #FEFEFF\">which</span> <span style=\"background-color: #FFF6F6\">prides</span> <span style=\"background-color: #FFFCFC\">itself</span> <span style=\"background-color: #FFF4F4\">on</span> <span style=\"background-color: #FFEEEE\">providing</span> <span style=\"background-color: #FFF8F8\">unbiased</span> <span style=\"background-color: #FFFAFA\">and</span> <span style=\"background-color: #FFF2F2\">honest</span> <span style=\"background-color: #FEFEFF\">advice</span> <span style=\"background-color: #FFEAEA\">to</span> <span style=\"background-color: #FFF2F2\">it</span> <span style=\"background-color: #FFF6F6\">s</span> <span style=\"background-color: #FFF2F2\">customers</span> <span style=\"background-color: #FFF6F6\">throughout</span> <span style=\"background-color: #FEFEFF\">the</span> <span style=\"background-color: #FFF4F4\">midlands</span> <span style=\"background-color: #FFF8F8\">area</span> <span style=\"background-color: #FFF2F2\">.</span> <span style=\"background-color: #FEFEFF\">the</span> <span style=\"background-color: #FFF4F4\">role</span> <span style=\"background-color: #FFF4F4\">you</span> <span style=\"background-color: #FFF6F6\">will</span> <span style=\"background-color: #FFF6F6\">be</span> <span style=\"background-color: #FFF6F6\">responsible</span> <span style=\"background-color: #FEFEFF\">for</span> <span style=\"background-color: #FFF6F6\">working</span> <span style=\"background-color: #FFFEFE\">closely</span> <span style=\"background-color: #FFF6F6\">with</span> <span style=\"background-color: #FEFEFF\">the</span> <span style=\"background-color: #FFF6F6\">md</span> <span style=\"background-color: #FFEAEA\">to</span> <span style=\"background-color: #FFF2F2\">deal</span> <span style=\"background-color: #FFF6F6\">with</span> <span style=\"background-color: #FEFEFF\">the</span> <span style=\"background-color: #FFFAFA\">day</span> <span style=\"background-color: #FFEAEA\">to</span> <span style=\"background-color: #FFFAFA\">day</span> <span style=\"background-color: #FEFEFF\">aspects</span> <span style=\"background-color: #FFFCFC\">of</span> <span style=\"background-color: #FFF8F8\">a</span> <span style=\"background-color: #FFF8F8\">commercial</span> <span style=\"background-color: #FFFEFE\">account</span> <span style=\"background-color: #FFF2F2\">.</span> <span style=\"background-color: #FFF8F8\">this</span> <span style=\"background-color: #FFF6F6\">will</span> <span style=\"background-color: #FFF8F8\">include</span> <span style=\"background-color: #FFFEFE\">dealing</span> <span style=\"background-color: #FFF6F6\">with</span> <span style=\"background-color: #FFF4F4\">any</span> <span style=\"background-color: #FFEEEE\">renewals</span> <span style=\"background-color: #FFFAFA\">,</span> <span style=\"background-color: #FAFAFF\">new</span> <span style=\"background-color: #FFFAFA\">business</span> <span style=\"background-color: #FFFAFA\">,</span> <span style=\"background-color: #FEFEFF\">adjustments</span> <span style=\"background-color: #FFFAFA\">,</span> <span style=\"background-color: #FFF4F4\">amendments</span> <span style=\"background-color: #FFFAFA\">,</span> <span style=\"background-color: #FFF4F4\">claims</span> <span style=\"background-color: #FFFAFA\">and</span> <span style=\"background-color: #FFFCFC\">queries</span> <span style=\"background-color: #FFF4F4\">on</span> <span style=\"background-color: #FFFEFE\">these</span> <span style=\"background-color: #FAFAFF\">accounts</span> <span style=\"background-color: #FFF2F2\">.</span> <span style=\"background-color: #FFF4F4\">you</span> <span style=\"background-color: #FFF6F6\">will</span> <span style=\"background-color: #FFFEFE\">also</span> <span style=\"background-color: #FFF6F6\">be</span> <span style=\"background-color: #FFF6F6\">responsible</span> <span style=\"background-color: #FEFEFF\">for</span> <span style=\"background-color: #FFFAFA\">managing</span> <span style=\"background-color: #FEFEFF\">the</span> <span style=\"background-color: #FFF4F4\">client</span> <span style=\"background-color: #FFFCFC\">relationship</span> <span style=\"background-color: #FEFEFF\">occasionally</span> <span style=\"background-color: #FFF8F8\">visiting</span> <span style=\"background-color: #FFF8F8\">their</span> <span style=\"background-color: #FFF2F2\">premises</span> <span style=\"background-color: #FFF6F6\">(</span> <span style=\"background-color: #FFFCFC\">eg</span> <span style=\"background-color: #FFF2F2\">.</span> <span style=\"background-color: #FFFAFA\">renewal</span> <span style=\"background-color: #FFF8F8\">meetings</span> <span style=\"background-color: #FFFAFA\">,</span> <span style=\"background-color: #FFF4F4\">claims</span> <span style=\"background-color: #FFF4F4\">etc</span> <span style=\"background-color: #FFFAFA\">)</span> <span style=\"background-color: #FFEAEA\">to</span> <span style=\"background-color: #FFF8F8\">maintain</span> <span style=\"background-color: #FFFAFA\">and</span> <span style=\"background-color: #FFFEFE\">strengthen</span> <span style=\"background-color: #FEFEFF\">the</span> <span style=\"background-color: #FFFCFC\">relationship</span> <span style=\"background-color: #FFF2F2\">.</span> <span style=\"background-color: #FEFEFF\">the</span> <span style=\"background-color: #FFF4F4\">book</span> <span style=\"background-color: #FFF8F8\">is</span> <span style=\"background-color: #FFF8F8\">a</span> <span style=\"background-color: #FFFCFC\">good</span> <span style=\"background-color: #FFFAFA\">mix</span> <span style=\"background-color: #FFFCFC\">of</span> <span style=\"background-color: #FFF8F8\">quality</span> <span style=\"background-color: #FFF8F8\">commercial</span> <span style=\"background-color: #FFFCFC\">risks</span> <span style=\"background-color: #FFFAFA\">,</span> <span style=\"background-color: #FFF6F6\">mainly</span> <span style=\"background-color: #FEFEFF\">at</span> <span style=\"background-color: #FFF6F6\">large</span> <span style=\"background-color: #FFF0F0\">sme</span> <span style=\"background-color: #FFFAFA\">and</span> <span style=\"background-color: #FFEAEA\">midmarket</span> <span style=\"background-color: #FFF8F8\">level</span> <span style=\"background-color: #FFF6F6\">with</span> <span style=\"background-color: #FFF6F6\">cases</span> <span style=\"background-color: #FFFCFC\">paying</span> <span style=\"background-color: #FFF8F8\">anything</span> <span style=\"background-color: #FFEEEE\">****</span> <span style=\"background-color: #FFEAEA\">to</span> <span style=\"background-color: #FFEEEE\">****</span> <span style=\"background-color: #FFF8F8\">this</span> <span style=\"background-color: #F8F8FF\">encompasses</span> <span style=\"background-color: #FCFCFF\">most</span> <span style=\"background-color: #FFF6F6\">major</span> <span style=\"background-color: #FFFCFC\">risks</span> <span style=\"background-color: #FFFCFC\">including</span> <span style=\"background-color: #FFF6F6\">property</span> <span style=\"background-color: #FFFAFA\">,</span> <span style=\"background-color: #FFFAFA\">liability</span> <span style=\"background-color: #FFFAFA\">,</span> <span style=\"background-color: #FFFCFC\">combined</span> <span style=\"background-color: #FFFAFA\">,</span> <span style=\"background-color: #FFF8F8\">package</span> <span style=\"background-color: #FFFAFA\">,</span> <span style=\"background-color: #FFF6F6\">property</span> <span style=\"background-color: #FFFEFE\">owners</span> <span style=\"background-color: #FFFAFA\">and</span> <span style=\"background-color: #FFF6F6\">financial</span> <span style=\"background-color: #FAFAFF\">lines</span> <span style=\"background-color: #FFEAEA\">to</span> <span style=\"background-color: #FFFAFA\">name</span> <span style=\"background-color: #FFF8F8\">a</span> <span style=\"background-color: #FFFAFA\">few</span> <span style=\"background-color: #FFF2F2\">.</span> <span style=\"background-color: #FEFEFF\">the</span> <span style=\"background-color: #FFF8F8\">person</span> <span style=\"background-color: #FFF4F4\">you</span> <span style=\"background-color: #FFF8F8\">should</span> <span style=\"background-color: #FFF2F2\">have</span> <span style=\"background-color: #FFF8F8\">a</span> <span style=\"background-color: #FFF4F4\">solid</span> <span style=\"background-color: #FAFAFF\">background</span> <span style=\"background-color: #FFF6F6\">working</span> <span style=\"background-color: #FFF0F0\">as</span> <span style=\"background-color: #FFF8F8\">a</span> <span style=\"background-color: #FFF8F8\">commercial</span> <span style=\"background-color: #FFFEFE\">account</span> <span style=\"background-color: #FFF4F4\">handler</span> <span style=\"background-color: #FFFAFA\">/</span> <span style=\"background-color: #FFF2F2\">broker</span> <span style=\"background-color: #FFFAFA\">and</span> <span style=\"background-color: #FFF2F2\">have</span> <span style=\"background-color: #FFF4F4\">dealt</span> <span style=\"background-color: #FFF6F6\">with</span> <span style=\"background-color: #FFF8F8\">a</span> <span style=\"background-color: #FFFCFC\">good</span> <span style=\"background-color: #F6F6FF\">range</span> <span style=\"background-color: #FFFCFC\">of</span> <span style=\"background-color: #FFFCFC\">risks</span> <span style=\"background-color: #FFFAFA\">and</span> <span style=\"background-color: #FCFCFF\">trades</span> <span style=\"background-color: #FFF2F2\">.</span> <span style=\"background-color: #FFF8F8\">this</span> <span style=\"background-color: #FFF8F8\">is</span> <span style=\"background-color: #FFF8F8\">an</span> <span style=\"background-color: #FFF2F2\">excellent</span> <span style=\"background-color: #FFFCFC\">opportunity</span> <span style=\"background-color: #FFEAEA\">to</span> <span style=\"background-color: #FFF8F8\">join</span> <span style=\"background-color: #FFF8F8\">a</span> <span style=\"background-color: #FFF8F8\">respected</span> <span style=\"background-color: #FFF2F2\">broker</span> <span style=\"background-color: #FFFCFC\">where</span> <span style=\"background-color: #FFF4F4\">you</span> <span style=\"background-color: #FFFCFC\">can</span> <span style=\"background-color: #FFECEC\">progress</span> <span style=\"background-color: #FFF4F4\">your</span> <span style=\"background-color: #FFF0F0\">career</span> <span style=\"background-color: #FFF2F2\">.</span> <span style=\"background-color: #FEFEFF\">for</span> <span style=\"background-color: #FFF8F8\">more</span> <span style=\"background-color: #FFF4F4\">information</span> <span style=\"background-color: #FFFAFA\">please</span> <span style=\"background-color: #FFFAFA\">contact</span> <span style=\"background-color: #FFFCFC\">richard</span> <span style=\"background-color: #FFF4F4\">martin</span> <span style=\"background-color: #FFF4F4\">on</span> <span style=\"background-color: #FFEEEE\">****</span> <span style=\"background-color: #FFEEEE\">****</span> <span style=\"background-color: #FFEEEE\">****</span> <span style=\"background-color: #FFF6F6\">or</span> <span style=\"background-color: #FFFCFC\">richard</span> <span style=\"background-color: #FFF2F2\">.</span> <span style=\"background-color: #FFFEFE\">UNK</span> <span style=\"background-color: #FFF2F2\">.</span> <span style=\"background-color: #FFF2F2\">com</span> <span style=\"background-color: #FFFAFA\">please</span> <span style=\"background-color: #FFF6F6\">visit</span> <span style=\"background-color: #FFFCFC\">www</span> <span style=\"background-color: #FFF2F2\">.</span> <span style=\"background-color: #FFFAFA\">idexconsulting</span> <span style=\"background-color: #FFF2F2\">.</span> <span style=\"background-color: #FFF2F2\">com</span> <span style=\"background-color: #FEFEFF\">for</span> <span style=\"background-color: #FFF2F2\">further</span> <span style=\"background-color: #FFF6F6\">opportunities</span> <span style=\"background-color: #FFF2F2\">.</span> <span style=\"background-color: #FFF8F8\">foot</span> <span style=\"background-color: #FFF8F8\">note</span> <span style=\"background-color: #FFF2F2\">:</span> <span style=\"background-color: #FFEEEE\">if</span> <span style=\"background-color: #FFF4F4\">your</span> <span style=\"background-color: #FFF0F0\">application</span> <span style=\"background-color: #FFF8F8\">is</span> <span style=\"background-color: #FFFCFC\">successful</span> <span style=\"background-color: #FFFEFE\">we</span> <span style=\"background-color: #FFF6F6\">will</span> <span style=\"background-color: #FFFAFA\">contact</span> <span style=\"background-color: #FFF4F4\">you</span> <span style=\"background-color: #FFEAEA\">to</span> <span style=\"background-color: #FFF8F8\">discuss</span> <span style=\"background-color: #FEFEFF\">the</span> <span style=\"background-color: #FFFCFC\">opportunity</span> <span style=\"background-color: #FFF8F8\">in</span> <span style=\"background-color: #FFF8F8\">more</span> <span style=\"background-color: #FFFEFE\">detail</span> <span style=\"background-color: #FFF6F6\">within</span> <span style=\"background-color: #FFEEEE\">****</span> <span style=\"background-color: #FFF0F0\">hours</span> <span style=\"background-color: #FFFCFC\">of</span> <span style=\"background-color: #FFEEEE\">receiving</span> <span style=\"background-color: #FFF4F4\">your</span> <span style=\"background-color: #FFF0F0\">application</span> <span style=\"background-color: #FFF2F2\">.</span> <span style=\"background-color: #FFEEEE\">if</span> <span style=\"background-color: #FFF4F4\">your</span> <span style=\"background-color: #FFF0F0\">application</span> <span style=\"background-color: #FFF8F8\">is</span> <span style=\"background-color: #FFF8F8\">unsuccessful</span> <span style=\"background-color: #FFFAFA\">,</span> <span style=\"background-color: #FEFEFF\">the</span> <span style=\"background-color: #FFF4F4\">information</span> <span style=\"background-color: #FFF8F8\">supplied</span> <span style=\"background-color: #FFF8F8\">may</span> <span style=\"background-color: #FFECEC\">still</span> <span style=\"background-color: #FFF6F6\">be</span> <span style=\"background-color: #FFF6F6\">retained</span> <span style=\"background-color: #FEFEFF\">for</span> <span style=\"background-color: #FFF8F8\">use</span> <span style=\"background-color: #FFF8F8\">in</span> <span style=\"background-color: #FFFEFE\">connection</span> <span style=\"background-color: #FFF6F6\">with</span> <span style=\"background-color: #FFF6F6\">future</span> <span style=\"background-color: #FFFAFA\">vacancies</span> <span style=\"background-color: #FFF2F2\">.</span> <span style=\"background-color: #FFF2F2\">due</span> <span style=\"background-color: #FFEAEA\">to</span> <span style=\"background-color: #FEFEFF\">the</span> <span style=\"background-color: #FFFAFA\">overwhelming</span> <span style=\"background-color: #FFF0F0\">application</span> <span style=\"background-color: #FFF4F4\">response</span> <span style=\"background-color: #FFFEFE\">we</span> <span style=\"background-color: #FFF6F6\">receive</span> <span style=\"background-color: #FFF2F2\">through</span> <span style=\"background-color: #FCFCFF\">various</span> <span style=\"background-color: #FFF6F6\">sources</span> <span style=\"background-color: #FFFAFA\">,</span> <span style=\"background-color: #FFF8F8\">should</span> <span style=\"background-color: #FFF4F4\">you</span> <span style=\"background-color: #FFF8F8\">not</span> <span style=\"background-color: #FFFCFC\">hear</span> <span style=\"background-color: #FFFCFC\">from</span> <span style=\"background-color: #FFFAFA\">us</span> <span style=\"background-color: #FFF6F6\">within</span> <span style=\"background-color: #FFF6F6\">one</span> <span style=\"background-color: #FFF6F6\">week</span> <span style=\"background-color: #FEFEFF\">then</span> <span style=\"background-color: #FFFAFA\">please</span> <span style=\"background-color: #FFF2F2\">assume</span> <span style=\"background-color: #FFF4F4\">your</span> <span style=\"background-color: #FFF0F0\">application</span> <span style=\"background-color: #FFF2F2\">has</span> <span style=\"background-color: #FFF0F0\">been</span> <span style=\"background-color: #FFF8F8\">unsuccessful</span> <span style=\"background-color: #FFF2F2\">.</span></p>"
            ]
          },
          "metadata": {}
        }
      ],
      "source": [
        "i = np.random.randint(len(data))\n",
        "print(\"Index:\", i)\n",
        "print(\"Salary (gbp):\", np.expm1(model(make_batch(data.iloc[i: i+1], device=device)).detach().cpu()))\n",
        "\n",
        "tokens_and_weights = explain(model, data.loc[i], \"Title\")\n",
        "draw_html([(tok, weight * 5) for tok, weight in tokens_and_weights], font_style='font-size:20px;');\n",
        "\n",
        "tokens_and_weights = explain(model, data.loc[i], \"FullDescription\")\n",
        "draw_html([(tok, weight * 10) for tok, weight in tokens_and_weights]);"
      ]
    },
    {
      "cell_type": "markdown",
      "metadata": {
        "id": "kbuK6LFHYmfo"
      },
      "source": [
        "__Terrible start-up idea #1962:__ make a tool that automaticaly rephrases your job description (or CV) to meet salary expectations :)"
      ]
    },
    {
      "cell_type": "code",
      "source": [
        "import gensim.downloader as api"
      ],
      "metadata": {
        "id": "dtiXVOKUPbGV"
      },
      "execution_count": 77,
      "outputs": []
    },
    {
      "cell_type": "code",
      "source": [
        "class SalaryPredictor(nn.Module):\n",
        "    def __init__(self, n_tokens=len(tokens), n_cat_features=len(categorical_vectorizer.vocabulary_), hid_size=100):\n",
        "        super().__init__()\n",
        "\n",
        "        emb_size = int(hid_size / 2)\n",
        "\n",
        "        word_vectors = api.load(\"glove-wiki-gigaword-50\")\n",
        "        embedding_matrix = torch.randn((len(tokens), 50))\n",
        "        for word, idx in token_to_id.items():\n",
        "            if word in word_vectors:\n",
        "                embedding_matrix[idx] = torch.tensor(word_vectors[word])\n",
        "\n",
        "        self.token_embedding = nn.Embedding.from_pretrained(embedding_matrix, freeze=False)\n",
        "        self.cat_embedding = nn.Embedding(num_embeddings=n_cat_features, embedding_dim=emb_size)\n",
        "\n",
        "        self.dropout = nn.Dropout(0.3)\n",
        "        self.batch_norm = nn.BatchNorm1d(emb_size * 3)\n",
        "\n",
        "        self.fc1 = nn.Linear(in_features=emb_size * 3, out_features=hid_size)\n",
        "        self.fc2 = nn.Linear(in_features=hid_size, out_features=1)\n",
        "\n",
        "    def forward(self, batch):\n",
        "        title_emb = self.token_embedding(batch[\"Title\"]).mean(dim=1)\n",
        "        desc_emb = self.token_embedding(batch[\"FullDescription\"]).mean(dim=1)\n",
        "        cat_emb = self.cat_embedding(batch[\"Categorical\"]).mean(dim=1)\n",
        "\n",
        "        features = self.dropout(self.batch_norm(torch.cat([title_emb, desc_emb, cat_emb], dim=1)))\n",
        "\n",
        "        hid = F.relu(self.fc1(features))\n",
        "        return self.fc2(hid).squeeze()"
      ],
      "metadata": {
        "id": "6eHzZb6Nftbl"
      },
      "execution_count": 79,
      "outputs": []
    },
    {
      "cell_type": "code",
      "source": [
        "model = SalaryPredictor()\n",
        "print(model)"
      ],
      "metadata": {
        "id": "gKdYI06FgrBj",
        "outputId": "5fc38987-67b6-4540-8e5e-029e8d8c6fca",
        "colab": {
          "base_uri": "https://localhost:8080/"
        }
      },
      "execution_count": 80,
      "outputs": [
        {
          "output_type": "stream",
          "name": "stdout",
          "text": [
            "SalaryPredictor(\n",
            "  (token_embedding): Embedding(34158, 50)\n",
            "  (cat_embedding): Embedding(3768, 50)\n",
            "  (dropout): Dropout(p=0.3, inplace=False)\n",
            "  (batch_norm): BatchNorm1d(150, eps=1e-05, momentum=0.1, affine=True, track_running_stats=True)\n",
            "  (fc1): Linear(in_features=150, out_features=100, bias=True)\n",
            "  (fc2): Linear(in_features=100, out_features=1, bias=True)\n",
            ")\n"
          ]
        }
      ]
    }
  ],
  "metadata": {
    "kernelspec": {
      "display_name": "Python 3",
      "name": "python3"
    },
    "language_info": {
      "name": "python"
    },
    "colab": {
      "provenance": []
    },
    "widgets": {
      "application/vnd.jupyter.widget-state+json": {
        "d1af3a1334e542db90224109dbea4ee8": {
          "model_module": "@jupyter-widgets/controls",
          "model_name": "HBoxModel",
          "model_module_version": "1.5.0",
          "state": {
            "_dom_classes": [],
            "_model_module": "@jupyter-widgets/controls",
            "_model_module_version": "1.5.0",
            "_model_name": "HBoxModel",
            "_view_count": null,
            "_view_module": "@jupyter-widgets/controls",
            "_view_module_version": "1.5.0",
            "_view_name": "HBoxView",
            "box_style": "",
            "children": [
              "IPY_MODEL_ec45cdae3d8c49a58896fd91215279c7",
              "IPY_MODEL_8bd2375d2092486fb77ec153153f0aa0",
              "IPY_MODEL_eb96e06479484e45b51a554cc871253e"
            ],
            "layout": "IPY_MODEL_130a70a6653847258fa7c34860347036"
          }
        },
        "ec45cdae3d8c49a58896fd91215279c7": {
          "model_module": "@jupyter-widgets/controls",
          "model_name": "HTMLModel",
          "model_module_version": "1.5.0",
          "state": {
            "_dom_classes": [],
            "_model_module": "@jupyter-widgets/controls",
            "_model_module_version": "1.5.0",
            "_model_name": "HTMLModel",
            "_view_count": null,
            "_view_module": "@jupyter-widgets/controls",
            "_view_module_version": "1.5.0",
            "_view_name": "HTMLView",
            "description": "",
            "description_tooltip": null,
            "layout": "IPY_MODEL_1a56204c66534acbb651618c01efd902",
            "placeholder": "​",
            "style": "IPY_MODEL_c82ce6c5cc7240298faebe4566e99dbe",
            "value": ""
          }
        },
        "8bd2375d2092486fb77ec153153f0aa0": {
          "model_module": "@jupyter-widgets/controls",
          "model_name": "FloatProgressModel",
          "model_module_version": "1.5.0",
          "state": {
            "_dom_classes": [],
            "_model_module": "@jupyter-widgets/controls",
            "_model_module_version": "1.5.0",
            "_model_name": "FloatProgressModel",
            "_view_count": null,
            "_view_module": "@jupyter-widgets/controls",
            "_view_module_version": "1.5.0",
            "_view_name": "ProgressView",
            "bar_style": "success",
            "description": "",
            "description_tooltip": null,
            "layout": "IPY_MODEL_d7e16845ee364203b159d4a28ed54a17",
            "max": 12238,
            "min": 0,
            "orientation": "horizontal",
            "style": "IPY_MODEL_7ddba6c3bd6a42588ee33c7657077579",
            "value": 12238
          }
        },
        "eb96e06479484e45b51a554cc871253e": {
          "model_module": "@jupyter-widgets/controls",
          "model_name": "HTMLModel",
          "model_module_version": "1.5.0",
          "state": {
            "_dom_classes": [],
            "_model_module": "@jupyter-widgets/controls",
            "_model_module_version": "1.5.0",
            "_model_name": "HTMLModel",
            "_view_count": null,
            "_view_module": "@jupyter-widgets/controls",
            "_view_module_version": "1.5.0",
            "_view_name": "HTMLView",
            "description": "",
            "description_tooltip": null,
            "layout": "IPY_MODEL_cc69c48d7d134ed6b9563a193d3b9a9c",
            "placeholder": "​",
            "style": "IPY_MODEL_87fe7f94219048218c586c9cd2158f0c",
            "value": " 12239/? [05:27&lt;00:00, 30.20it/s]"
          }
        },
        "130a70a6653847258fa7c34860347036": {
          "model_module": "@jupyter-widgets/base",
          "model_name": "LayoutModel",
          "model_module_version": "1.2.0",
          "state": {
            "_model_module": "@jupyter-widgets/base",
            "_model_module_version": "1.2.0",
            "_model_name": "LayoutModel",
            "_view_count": null,
            "_view_module": "@jupyter-widgets/base",
            "_view_module_version": "1.2.0",
            "_view_name": "LayoutView",
            "align_content": null,
            "align_items": null,
            "align_self": null,
            "border": null,
            "bottom": null,
            "display": null,
            "flex": null,
            "flex_flow": null,
            "grid_area": null,
            "grid_auto_columns": null,
            "grid_auto_flow": null,
            "grid_auto_rows": null,
            "grid_column": null,
            "grid_gap": null,
            "grid_row": null,
            "grid_template_areas": null,
            "grid_template_columns": null,
            "grid_template_rows": null,
            "height": null,
            "justify_content": null,
            "justify_items": null,
            "left": null,
            "margin": null,
            "max_height": null,
            "max_width": null,
            "min_height": null,
            "min_width": null,
            "object_fit": null,
            "object_position": null,
            "order": null,
            "overflow": null,
            "overflow_x": null,
            "overflow_y": null,
            "padding": null,
            "right": null,
            "top": null,
            "visibility": null,
            "width": null
          }
        },
        "1a56204c66534acbb651618c01efd902": {
          "model_module": "@jupyter-widgets/base",
          "model_name": "LayoutModel",
          "model_module_version": "1.2.0",
          "state": {
            "_model_module": "@jupyter-widgets/base",
            "_model_module_version": "1.2.0",
            "_model_name": "LayoutModel",
            "_view_count": null,
            "_view_module": "@jupyter-widgets/base",
            "_view_module_version": "1.2.0",
            "_view_name": "LayoutView",
            "align_content": null,
            "align_items": null,
            "align_self": null,
            "border": null,
            "bottom": null,
            "display": null,
            "flex": null,
            "flex_flow": null,
            "grid_area": null,
            "grid_auto_columns": null,
            "grid_auto_flow": null,
            "grid_auto_rows": null,
            "grid_column": null,
            "grid_gap": null,
            "grid_row": null,
            "grid_template_areas": null,
            "grid_template_columns": null,
            "grid_template_rows": null,
            "height": null,
            "justify_content": null,
            "justify_items": null,
            "left": null,
            "margin": null,
            "max_height": null,
            "max_width": null,
            "min_height": null,
            "min_width": null,
            "object_fit": null,
            "object_position": null,
            "order": null,
            "overflow": null,
            "overflow_x": null,
            "overflow_y": null,
            "padding": null,
            "right": null,
            "top": null,
            "visibility": null,
            "width": null
          }
        },
        "c82ce6c5cc7240298faebe4566e99dbe": {
          "model_module": "@jupyter-widgets/controls",
          "model_name": "DescriptionStyleModel",
          "model_module_version": "1.5.0",
          "state": {
            "_model_module": "@jupyter-widgets/controls",
            "_model_module_version": "1.5.0",
            "_model_name": "DescriptionStyleModel",
            "_view_count": null,
            "_view_module": "@jupyter-widgets/base",
            "_view_module_version": "1.2.0",
            "_view_name": "StyleView",
            "description_width": ""
          }
        },
        "d7e16845ee364203b159d4a28ed54a17": {
          "model_module": "@jupyter-widgets/base",
          "model_name": "LayoutModel",
          "model_module_version": "1.2.0",
          "state": {
            "_model_module": "@jupyter-widgets/base",
            "_model_module_version": "1.2.0",
            "_model_name": "LayoutModel",
            "_view_count": null,
            "_view_module": "@jupyter-widgets/base",
            "_view_module_version": "1.2.0",
            "_view_name": "LayoutView",
            "align_content": null,
            "align_items": null,
            "align_self": null,
            "border": null,
            "bottom": null,
            "display": null,
            "flex": null,
            "flex_flow": null,
            "grid_area": null,
            "grid_auto_columns": null,
            "grid_auto_flow": null,
            "grid_auto_rows": null,
            "grid_column": null,
            "grid_gap": null,
            "grid_row": null,
            "grid_template_areas": null,
            "grid_template_columns": null,
            "grid_template_rows": null,
            "height": null,
            "justify_content": null,
            "justify_items": null,
            "left": null,
            "margin": null,
            "max_height": null,
            "max_width": null,
            "min_height": null,
            "min_width": null,
            "object_fit": null,
            "object_position": null,
            "order": null,
            "overflow": null,
            "overflow_x": null,
            "overflow_y": null,
            "padding": null,
            "right": null,
            "top": null,
            "visibility": null,
            "width": null
          }
        },
        "7ddba6c3bd6a42588ee33c7657077579": {
          "model_module": "@jupyter-widgets/controls",
          "model_name": "ProgressStyleModel",
          "model_module_version": "1.5.0",
          "state": {
            "_model_module": "@jupyter-widgets/controls",
            "_model_module_version": "1.5.0",
            "_model_name": "ProgressStyleModel",
            "_view_count": null,
            "_view_module": "@jupyter-widgets/base",
            "_view_module_version": "1.2.0",
            "_view_name": "StyleView",
            "bar_color": null,
            "description_width": ""
          }
        },
        "cc69c48d7d134ed6b9563a193d3b9a9c": {
          "model_module": "@jupyter-widgets/base",
          "model_name": "LayoutModel",
          "model_module_version": "1.2.0",
          "state": {
            "_model_module": "@jupyter-widgets/base",
            "_model_module_version": "1.2.0",
            "_model_name": "LayoutModel",
            "_view_count": null,
            "_view_module": "@jupyter-widgets/base",
            "_view_module_version": "1.2.0",
            "_view_name": "LayoutView",
            "align_content": null,
            "align_items": null,
            "align_self": null,
            "border": null,
            "bottom": null,
            "display": null,
            "flex": null,
            "flex_flow": null,
            "grid_area": null,
            "grid_auto_columns": null,
            "grid_auto_flow": null,
            "grid_auto_rows": null,
            "grid_column": null,
            "grid_gap": null,
            "grid_row": null,
            "grid_template_areas": null,
            "grid_template_columns": null,
            "grid_template_rows": null,
            "height": null,
            "justify_content": null,
            "justify_items": null,
            "left": null,
            "margin": null,
            "max_height": null,
            "max_width": null,
            "min_height": null,
            "min_width": null,
            "object_fit": null,
            "object_position": null,
            "order": null,
            "overflow": null,
            "overflow_x": null,
            "overflow_y": null,
            "padding": null,
            "right": null,
            "top": null,
            "visibility": null,
            "width": null
          }
        },
        "87fe7f94219048218c586c9cd2158f0c": {
          "model_module": "@jupyter-widgets/controls",
          "model_name": "DescriptionStyleModel",
          "model_module_version": "1.5.0",
          "state": {
            "_model_module": "@jupyter-widgets/controls",
            "_model_module_version": "1.5.0",
            "_model_name": "DescriptionStyleModel",
            "_view_count": null,
            "_view_module": "@jupyter-widgets/base",
            "_view_module_version": "1.2.0",
            "_view_name": "StyleView",
            "description_width": ""
          }
        },
        "552701208cee462283946f7761b47789": {
          "model_module": "@jupyter-widgets/controls",
          "model_name": "HBoxModel",
          "model_module_version": "1.5.0",
          "state": {
            "_dom_classes": [],
            "_model_module": "@jupyter-widgets/controls",
            "_model_module_version": "1.5.0",
            "_model_name": "HBoxModel",
            "_view_count": null,
            "_view_module": "@jupyter-widgets/controls",
            "_view_module_version": "1.5.0",
            "_view_name": "HBoxView",
            "box_style": "",
            "children": [
              "IPY_MODEL_f7779859070f4879b5f6376b73d8ee1f",
              "IPY_MODEL_45cfb48bb9694ea5b7bcf729410241a9",
              "IPY_MODEL_b25ca0d73a8a4f69ad37ee3a29b7bcda"
            ],
            "layout": "IPY_MODEL_d4a45841b24a472a827a04b614dcbecc"
          }
        },
        "f7779859070f4879b5f6376b73d8ee1f": {
          "model_module": "@jupyter-widgets/controls",
          "model_name": "HTMLModel",
          "model_module_version": "1.5.0",
          "state": {
            "_dom_classes": [],
            "_model_module": "@jupyter-widgets/controls",
            "_model_module_version": "1.5.0",
            "_model_name": "HTMLModel",
            "_view_count": null,
            "_view_module": "@jupyter-widgets/controls",
            "_view_module_version": "1.5.0",
            "_view_name": "HTMLView",
            "description": "",
            "description_tooltip": null,
            "layout": "IPY_MODEL_280467a928734c5eafac229acb7fb965",
            "placeholder": "​",
            "style": "IPY_MODEL_67902509d1134c6caf626f8f2ef47770",
            "value": ""
          }
        },
        "45cfb48bb9694ea5b7bcf729410241a9": {
          "model_module": "@jupyter-widgets/controls",
          "model_name": "FloatProgressModel",
          "model_module_version": "1.5.0",
          "state": {
            "_dom_classes": [],
            "_model_module": "@jupyter-widgets/controls",
            "_model_module_version": "1.5.0",
            "_model_name": "FloatProgressModel",
            "_view_count": null,
            "_view_module": "@jupyter-widgets/controls",
            "_view_module_version": "1.5.0",
            "_view_name": "ProgressView",
            "bar_style": "success",
            "description": "",
            "description_tooltip": null,
            "layout": "IPY_MODEL_482fff399d394a9c907be55f4423b035",
            "max": 12238,
            "min": 0,
            "orientation": "horizontal",
            "style": "IPY_MODEL_25be6fc63fb2493fbb584bfbaa10798e",
            "value": 12238
          }
        },
        "b25ca0d73a8a4f69ad37ee3a29b7bcda": {
          "model_module": "@jupyter-widgets/controls",
          "model_name": "HTMLModel",
          "model_module_version": "1.5.0",
          "state": {
            "_dom_classes": [],
            "_model_module": "@jupyter-widgets/controls",
            "_model_module_version": "1.5.0",
            "_model_name": "HTMLModel",
            "_view_count": null,
            "_view_module": "@jupyter-widgets/controls",
            "_view_module_version": "1.5.0",
            "_view_name": "HTMLView",
            "description": "",
            "description_tooltip": null,
            "layout": "IPY_MODEL_3ebde65a23e84e7fbad7726c1b8ad28a",
            "placeholder": "​",
            "style": "IPY_MODEL_3804bcbbc8bf4434bef621219add3325",
            "value": " 12239/? [05:20&lt;00:00, 42.81it/s]"
          }
        },
        "d4a45841b24a472a827a04b614dcbecc": {
          "model_module": "@jupyter-widgets/base",
          "model_name": "LayoutModel",
          "model_module_version": "1.2.0",
          "state": {
            "_model_module": "@jupyter-widgets/base",
            "_model_module_version": "1.2.0",
            "_model_name": "LayoutModel",
            "_view_count": null,
            "_view_module": "@jupyter-widgets/base",
            "_view_module_version": "1.2.0",
            "_view_name": "LayoutView",
            "align_content": null,
            "align_items": null,
            "align_self": null,
            "border": null,
            "bottom": null,
            "display": null,
            "flex": null,
            "flex_flow": null,
            "grid_area": null,
            "grid_auto_columns": null,
            "grid_auto_flow": null,
            "grid_auto_rows": null,
            "grid_column": null,
            "grid_gap": null,
            "grid_row": null,
            "grid_template_areas": null,
            "grid_template_columns": null,
            "grid_template_rows": null,
            "height": null,
            "justify_content": null,
            "justify_items": null,
            "left": null,
            "margin": null,
            "max_height": null,
            "max_width": null,
            "min_height": null,
            "min_width": null,
            "object_fit": null,
            "object_position": null,
            "order": null,
            "overflow": null,
            "overflow_x": null,
            "overflow_y": null,
            "padding": null,
            "right": null,
            "top": null,
            "visibility": null,
            "width": null
          }
        },
        "280467a928734c5eafac229acb7fb965": {
          "model_module": "@jupyter-widgets/base",
          "model_name": "LayoutModel",
          "model_module_version": "1.2.0",
          "state": {
            "_model_module": "@jupyter-widgets/base",
            "_model_module_version": "1.2.0",
            "_model_name": "LayoutModel",
            "_view_count": null,
            "_view_module": "@jupyter-widgets/base",
            "_view_module_version": "1.2.0",
            "_view_name": "LayoutView",
            "align_content": null,
            "align_items": null,
            "align_self": null,
            "border": null,
            "bottom": null,
            "display": null,
            "flex": null,
            "flex_flow": null,
            "grid_area": null,
            "grid_auto_columns": null,
            "grid_auto_flow": null,
            "grid_auto_rows": null,
            "grid_column": null,
            "grid_gap": null,
            "grid_row": null,
            "grid_template_areas": null,
            "grid_template_columns": null,
            "grid_template_rows": null,
            "height": null,
            "justify_content": null,
            "justify_items": null,
            "left": null,
            "margin": null,
            "max_height": null,
            "max_width": null,
            "min_height": null,
            "min_width": null,
            "object_fit": null,
            "object_position": null,
            "order": null,
            "overflow": null,
            "overflow_x": null,
            "overflow_y": null,
            "padding": null,
            "right": null,
            "top": null,
            "visibility": null,
            "width": null
          }
        },
        "67902509d1134c6caf626f8f2ef47770": {
          "model_module": "@jupyter-widgets/controls",
          "model_name": "DescriptionStyleModel",
          "model_module_version": "1.5.0",
          "state": {
            "_model_module": "@jupyter-widgets/controls",
            "_model_module_version": "1.5.0",
            "_model_name": "DescriptionStyleModel",
            "_view_count": null,
            "_view_module": "@jupyter-widgets/base",
            "_view_module_version": "1.2.0",
            "_view_name": "StyleView",
            "description_width": ""
          }
        },
        "482fff399d394a9c907be55f4423b035": {
          "model_module": "@jupyter-widgets/base",
          "model_name": "LayoutModel",
          "model_module_version": "1.2.0",
          "state": {
            "_model_module": "@jupyter-widgets/base",
            "_model_module_version": "1.2.0",
            "_model_name": "LayoutModel",
            "_view_count": null,
            "_view_module": "@jupyter-widgets/base",
            "_view_module_version": "1.2.0",
            "_view_name": "LayoutView",
            "align_content": null,
            "align_items": null,
            "align_self": null,
            "border": null,
            "bottom": null,
            "display": null,
            "flex": null,
            "flex_flow": null,
            "grid_area": null,
            "grid_auto_columns": null,
            "grid_auto_flow": null,
            "grid_auto_rows": null,
            "grid_column": null,
            "grid_gap": null,
            "grid_row": null,
            "grid_template_areas": null,
            "grid_template_columns": null,
            "grid_template_rows": null,
            "height": null,
            "justify_content": null,
            "justify_items": null,
            "left": null,
            "margin": null,
            "max_height": null,
            "max_width": null,
            "min_height": null,
            "min_width": null,
            "object_fit": null,
            "object_position": null,
            "order": null,
            "overflow": null,
            "overflow_x": null,
            "overflow_y": null,
            "padding": null,
            "right": null,
            "top": null,
            "visibility": null,
            "width": null
          }
        },
        "25be6fc63fb2493fbb584bfbaa10798e": {
          "model_module": "@jupyter-widgets/controls",
          "model_name": "ProgressStyleModel",
          "model_module_version": "1.5.0",
          "state": {
            "_model_module": "@jupyter-widgets/controls",
            "_model_module_version": "1.5.0",
            "_model_name": "ProgressStyleModel",
            "_view_count": null,
            "_view_module": "@jupyter-widgets/base",
            "_view_module_version": "1.2.0",
            "_view_name": "StyleView",
            "bar_color": null,
            "description_width": ""
          }
        },
        "3ebde65a23e84e7fbad7726c1b8ad28a": {
          "model_module": "@jupyter-widgets/base",
          "model_name": "LayoutModel",
          "model_module_version": "1.2.0",
          "state": {
            "_model_module": "@jupyter-widgets/base",
            "_model_module_version": "1.2.0",
            "_model_name": "LayoutModel",
            "_view_count": null,
            "_view_module": "@jupyter-widgets/base",
            "_view_module_version": "1.2.0",
            "_view_name": "LayoutView",
            "align_content": null,
            "align_items": null,
            "align_self": null,
            "border": null,
            "bottom": null,
            "display": null,
            "flex": null,
            "flex_flow": null,
            "grid_area": null,
            "grid_auto_columns": null,
            "grid_auto_flow": null,
            "grid_auto_rows": null,
            "grid_column": null,
            "grid_gap": null,
            "grid_row": null,
            "grid_template_areas": null,
            "grid_template_columns": null,
            "grid_template_rows": null,
            "height": null,
            "justify_content": null,
            "justify_items": null,
            "left": null,
            "margin": null,
            "max_height": null,
            "max_width": null,
            "min_height": null,
            "min_width": null,
            "object_fit": null,
            "object_position": null,
            "order": null,
            "overflow": null,
            "overflow_x": null,
            "overflow_y": null,
            "padding": null,
            "right": null,
            "top": null,
            "visibility": null,
            "width": null
          }
        },
        "3804bcbbc8bf4434bef621219add3325": {
          "model_module": "@jupyter-widgets/controls",
          "model_name": "DescriptionStyleModel",
          "model_module_version": "1.5.0",
          "state": {
            "_model_module": "@jupyter-widgets/controls",
            "_model_module_version": "1.5.0",
            "_model_name": "DescriptionStyleModel",
            "_view_count": null,
            "_view_module": "@jupyter-widgets/base",
            "_view_module_version": "1.2.0",
            "_view_name": "StyleView",
            "description_width": ""
          }
        },
        "761b06ca82084389afb11167076ab5a9": {
          "model_module": "@jupyter-widgets/controls",
          "model_name": "HBoxModel",
          "model_module_version": "1.5.0",
          "state": {
            "_dom_classes": [],
            "_model_module": "@jupyter-widgets/controls",
            "_model_module_version": "1.5.0",
            "_model_name": "HBoxModel",
            "_view_count": null,
            "_view_module": "@jupyter-widgets/controls",
            "_view_module_version": "1.5.0",
            "_view_name": "HBoxView",
            "box_style": "",
            "children": [
              "IPY_MODEL_35787bb078a9427a8ecabb8abee4220f",
              "IPY_MODEL_f811e073ac894b2c997df7fe7b888945",
              "IPY_MODEL_cb1157a5c50240f6832684856b6da827"
            ],
            "layout": "IPY_MODEL_d701878864ed43f9bd0a786df097f8a8"
          }
        },
        "35787bb078a9427a8ecabb8abee4220f": {
          "model_module": "@jupyter-widgets/controls",
          "model_name": "HTMLModel",
          "model_module_version": "1.5.0",
          "state": {
            "_dom_classes": [],
            "_model_module": "@jupyter-widgets/controls",
            "_model_module_version": "1.5.0",
            "_model_name": "HTMLModel",
            "_view_count": null,
            "_view_module": "@jupyter-widgets/controls",
            "_view_module_version": "1.5.0",
            "_view_name": "HTMLView",
            "description": "",
            "description_tooltip": null,
            "layout": "IPY_MODEL_89b48da718af45fcbeab00f867217c80",
            "placeholder": "​",
            "style": "IPY_MODEL_69b31ffc967343cc9ef0902216f4df01",
            "value": ""
          }
        },
        "f811e073ac894b2c997df7fe7b888945": {
          "model_module": "@jupyter-widgets/controls",
          "model_name": "FloatProgressModel",
          "model_module_version": "1.5.0",
          "state": {
            "_dom_classes": [],
            "_model_module": "@jupyter-widgets/controls",
            "_model_module_version": "1.5.0",
            "_model_name": "FloatProgressModel",
            "_view_count": null,
            "_view_module": "@jupyter-widgets/controls",
            "_view_module_version": "1.5.0",
            "_view_name": "ProgressView",
            "bar_style": "success",
            "description": "",
            "description_tooltip": null,
            "layout": "IPY_MODEL_e13f7a272d724c0c8a96e230304f815d",
            "max": 12238,
            "min": 0,
            "orientation": "horizontal",
            "style": "IPY_MODEL_661ebe537c2643f197dedf98cb8cef76",
            "value": 12238
          }
        },
        "cb1157a5c50240f6832684856b6da827": {
          "model_module": "@jupyter-widgets/controls",
          "model_name": "HTMLModel",
          "model_module_version": "1.5.0",
          "state": {
            "_dom_classes": [],
            "_model_module": "@jupyter-widgets/controls",
            "_model_module_version": "1.5.0",
            "_model_name": "HTMLModel",
            "_view_count": null,
            "_view_module": "@jupyter-widgets/controls",
            "_view_module_version": "1.5.0",
            "_view_name": "HTMLView",
            "description": "",
            "description_tooltip": null,
            "layout": "IPY_MODEL_8ca560f912a84f63a71f77f66020d97f",
            "placeholder": "​",
            "style": "IPY_MODEL_d27b6a0ea6164b739524f9b30e0f6cf7",
            "value": " 12239/? [05:21&lt;00:00, 42.53it/s]"
          }
        },
        "d701878864ed43f9bd0a786df097f8a8": {
          "model_module": "@jupyter-widgets/base",
          "model_name": "LayoutModel",
          "model_module_version": "1.2.0",
          "state": {
            "_model_module": "@jupyter-widgets/base",
            "_model_module_version": "1.2.0",
            "_model_name": "LayoutModel",
            "_view_count": null,
            "_view_module": "@jupyter-widgets/base",
            "_view_module_version": "1.2.0",
            "_view_name": "LayoutView",
            "align_content": null,
            "align_items": null,
            "align_self": null,
            "border": null,
            "bottom": null,
            "display": null,
            "flex": null,
            "flex_flow": null,
            "grid_area": null,
            "grid_auto_columns": null,
            "grid_auto_flow": null,
            "grid_auto_rows": null,
            "grid_column": null,
            "grid_gap": null,
            "grid_row": null,
            "grid_template_areas": null,
            "grid_template_columns": null,
            "grid_template_rows": null,
            "height": null,
            "justify_content": null,
            "justify_items": null,
            "left": null,
            "margin": null,
            "max_height": null,
            "max_width": null,
            "min_height": null,
            "min_width": null,
            "object_fit": null,
            "object_position": null,
            "order": null,
            "overflow": null,
            "overflow_x": null,
            "overflow_y": null,
            "padding": null,
            "right": null,
            "top": null,
            "visibility": null,
            "width": null
          }
        },
        "89b48da718af45fcbeab00f867217c80": {
          "model_module": "@jupyter-widgets/base",
          "model_name": "LayoutModel",
          "model_module_version": "1.2.0",
          "state": {
            "_model_module": "@jupyter-widgets/base",
            "_model_module_version": "1.2.0",
            "_model_name": "LayoutModel",
            "_view_count": null,
            "_view_module": "@jupyter-widgets/base",
            "_view_module_version": "1.2.0",
            "_view_name": "LayoutView",
            "align_content": null,
            "align_items": null,
            "align_self": null,
            "border": null,
            "bottom": null,
            "display": null,
            "flex": null,
            "flex_flow": null,
            "grid_area": null,
            "grid_auto_columns": null,
            "grid_auto_flow": null,
            "grid_auto_rows": null,
            "grid_column": null,
            "grid_gap": null,
            "grid_row": null,
            "grid_template_areas": null,
            "grid_template_columns": null,
            "grid_template_rows": null,
            "height": null,
            "justify_content": null,
            "justify_items": null,
            "left": null,
            "margin": null,
            "max_height": null,
            "max_width": null,
            "min_height": null,
            "min_width": null,
            "object_fit": null,
            "object_position": null,
            "order": null,
            "overflow": null,
            "overflow_x": null,
            "overflow_y": null,
            "padding": null,
            "right": null,
            "top": null,
            "visibility": null,
            "width": null
          }
        },
        "69b31ffc967343cc9ef0902216f4df01": {
          "model_module": "@jupyter-widgets/controls",
          "model_name": "DescriptionStyleModel",
          "model_module_version": "1.5.0",
          "state": {
            "_model_module": "@jupyter-widgets/controls",
            "_model_module_version": "1.5.0",
            "_model_name": "DescriptionStyleModel",
            "_view_count": null,
            "_view_module": "@jupyter-widgets/base",
            "_view_module_version": "1.2.0",
            "_view_name": "StyleView",
            "description_width": ""
          }
        },
        "e13f7a272d724c0c8a96e230304f815d": {
          "model_module": "@jupyter-widgets/base",
          "model_name": "LayoutModel",
          "model_module_version": "1.2.0",
          "state": {
            "_model_module": "@jupyter-widgets/base",
            "_model_module_version": "1.2.0",
            "_model_name": "LayoutModel",
            "_view_count": null,
            "_view_module": "@jupyter-widgets/base",
            "_view_module_version": "1.2.0",
            "_view_name": "LayoutView",
            "align_content": null,
            "align_items": null,
            "align_self": null,
            "border": null,
            "bottom": null,
            "display": null,
            "flex": null,
            "flex_flow": null,
            "grid_area": null,
            "grid_auto_columns": null,
            "grid_auto_flow": null,
            "grid_auto_rows": null,
            "grid_column": null,
            "grid_gap": null,
            "grid_row": null,
            "grid_template_areas": null,
            "grid_template_columns": null,
            "grid_template_rows": null,
            "height": null,
            "justify_content": null,
            "justify_items": null,
            "left": null,
            "margin": null,
            "max_height": null,
            "max_width": null,
            "min_height": null,
            "min_width": null,
            "object_fit": null,
            "object_position": null,
            "order": null,
            "overflow": null,
            "overflow_x": null,
            "overflow_y": null,
            "padding": null,
            "right": null,
            "top": null,
            "visibility": null,
            "width": null
          }
        },
        "661ebe537c2643f197dedf98cb8cef76": {
          "model_module": "@jupyter-widgets/controls",
          "model_name": "ProgressStyleModel",
          "model_module_version": "1.5.0",
          "state": {
            "_model_module": "@jupyter-widgets/controls",
            "_model_module_version": "1.5.0",
            "_model_name": "ProgressStyleModel",
            "_view_count": null,
            "_view_module": "@jupyter-widgets/base",
            "_view_module_version": "1.2.0",
            "_view_name": "StyleView",
            "bar_color": null,
            "description_width": ""
          }
        },
        "8ca560f912a84f63a71f77f66020d97f": {
          "model_module": "@jupyter-widgets/base",
          "model_name": "LayoutModel",
          "model_module_version": "1.2.0",
          "state": {
            "_model_module": "@jupyter-widgets/base",
            "_model_module_version": "1.2.0",
            "_model_name": "LayoutModel",
            "_view_count": null,
            "_view_module": "@jupyter-widgets/base",
            "_view_module_version": "1.2.0",
            "_view_name": "LayoutView",
            "align_content": null,
            "align_items": null,
            "align_self": null,
            "border": null,
            "bottom": null,
            "display": null,
            "flex": null,
            "flex_flow": null,
            "grid_area": null,
            "grid_auto_columns": null,
            "grid_auto_flow": null,
            "grid_auto_rows": null,
            "grid_column": null,
            "grid_gap": null,
            "grid_row": null,
            "grid_template_areas": null,
            "grid_template_columns": null,
            "grid_template_rows": null,
            "height": null,
            "justify_content": null,
            "justify_items": null,
            "left": null,
            "margin": null,
            "max_height": null,
            "max_width": null,
            "min_height": null,
            "min_width": null,
            "object_fit": null,
            "object_position": null,
            "order": null,
            "overflow": null,
            "overflow_x": null,
            "overflow_y": null,
            "padding": null,
            "right": null,
            "top": null,
            "visibility": null,
            "width": null
          }
        },
        "d27b6a0ea6164b739524f9b30e0f6cf7": {
          "model_module": "@jupyter-widgets/controls",
          "model_name": "DescriptionStyleModel",
          "model_module_version": "1.5.0",
          "state": {
            "_model_module": "@jupyter-widgets/controls",
            "_model_module_version": "1.5.0",
            "_model_name": "DescriptionStyleModel",
            "_view_count": null,
            "_view_module": "@jupyter-widgets/base",
            "_view_module_version": "1.2.0",
            "_view_name": "StyleView",
            "description_width": ""
          }
        },
        "c60468d030a04071ac54b227c64c2bb9": {
          "model_module": "@jupyter-widgets/controls",
          "model_name": "HBoxModel",
          "model_module_version": "1.5.0",
          "state": {
            "_dom_classes": [],
            "_model_module": "@jupyter-widgets/controls",
            "_model_module_version": "1.5.0",
            "_model_name": "HBoxModel",
            "_view_count": null,
            "_view_module": "@jupyter-widgets/controls",
            "_view_module_version": "1.5.0",
            "_view_name": "HBoxView",
            "box_style": "",
            "children": [
              "IPY_MODEL_f2fe81df6d194117a254fe22f2804b24",
              "IPY_MODEL_c89883217a8c462984965b3964ca5286",
              "IPY_MODEL_6a9e2ea6afbe45a1b0e5880f0a28d8a2"
            ],
            "layout": "IPY_MODEL_a6f70bcb4885489f9f12377111557363"
          }
        },
        "f2fe81df6d194117a254fe22f2804b24": {
          "model_module": "@jupyter-widgets/controls",
          "model_name": "HTMLModel",
          "model_module_version": "1.5.0",
          "state": {
            "_dom_classes": [],
            "_model_module": "@jupyter-widgets/controls",
            "_model_module_version": "1.5.0",
            "_model_name": "HTMLModel",
            "_view_count": null,
            "_view_module": "@jupyter-widgets/controls",
            "_view_module_version": "1.5.0",
            "_view_name": "HTMLView",
            "description": "",
            "description_tooltip": null,
            "layout": "IPY_MODEL_63dbcf861cc6430bafa41db954859500",
            "placeholder": "​",
            "style": "IPY_MODEL_5750ede29d60416b80fbec2384857e80",
            "value": ""
          }
        },
        "c89883217a8c462984965b3964ca5286": {
          "model_module": "@jupyter-widgets/controls",
          "model_name": "FloatProgressModel",
          "model_module_version": "1.5.0",
          "state": {
            "_dom_classes": [],
            "_model_module": "@jupyter-widgets/controls",
            "_model_module_version": "1.5.0",
            "_model_name": "FloatProgressModel",
            "_view_count": null,
            "_view_module": "@jupyter-widgets/controls",
            "_view_module_version": "1.5.0",
            "_view_name": "ProgressView",
            "bar_style": "success",
            "description": "",
            "description_tooltip": null,
            "layout": "IPY_MODEL_1b64b87769254bba96364e7ae81ed23d",
            "max": 12238,
            "min": 0,
            "orientation": "horizontal",
            "style": "IPY_MODEL_b93e4c7409d4448393543c51db26e94b",
            "value": 12238
          }
        },
        "6a9e2ea6afbe45a1b0e5880f0a28d8a2": {
          "model_module": "@jupyter-widgets/controls",
          "model_name": "HTMLModel",
          "model_module_version": "1.5.0",
          "state": {
            "_dom_classes": [],
            "_model_module": "@jupyter-widgets/controls",
            "_model_module_version": "1.5.0",
            "_model_name": "HTMLModel",
            "_view_count": null,
            "_view_module": "@jupyter-widgets/controls",
            "_view_module_version": "1.5.0",
            "_view_name": "HTMLView",
            "description": "",
            "description_tooltip": null,
            "layout": "IPY_MODEL_f4c44766c66f431d99107325c9156874",
            "placeholder": "​",
            "style": "IPY_MODEL_3fa887a512fe4208a05e18b5288d73e5",
            "value": " 12239/? [05:21&lt;00:00, 26.57it/s]"
          }
        },
        "a6f70bcb4885489f9f12377111557363": {
          "model_module": "@jupyter-widgets/base",
          "model_name": "LayoutModel",
          "model_module_version": "1.2.0",
          "state": {
            "_model_module": "@jupyter-widgets/base",
            "_model_module_version": "1.2.0",
            "_model_name": "LayoutModel",
            "_view_count": null,
            "_view_module": "@jupyter-widgets/base",
            "_view_module_version": "1.2.0",
            "_view_name": "LayoutView",
            "align_content": null,
            "align_items": null,
            "align_self": null,
            "border": null,
            "bottom": null,
            "display": null,
            "flex": null,
            "flex_flow": null,
            "grid_area": null,
            "grid_auto_columns": null,
            "grid_auto_flow": null,
            "grid_auto_rows": null,
            "grid_column": null,
            "grid_gap": null,
            "grid_row": null,
            "grid_template_areas": null,
            "grid_template_columns": null,
            "grid_template_rows": null,
            "height": null,
            "justify_content": null,
            "justify_items": null,
            "left": null,
            "margin": null,
            "max_height": null,
            "max_width": null,
            "min_height": null,
            "min_width": null,
            "object_fit": null,
            "object_position": null,
            "order": null,
            "overflow": null,
            "overflow_x": null,
            "overflow_y": null,
            "padding": null,
            "right": null,
            "top": null,
            "visibility": null,
            "width": null
          }
        },
        "63dbcf861cc6430bafa41db954859500": {
          "model_module": "@jupyter-widgets/base",
          "model_name": "LayoutModel",
          "model_module_version": "1.2.0",
          "state": {
            "_model_module": "@jupyter-widgets/base",
            "_model_module_version": "1.2.0",
            "_model_name": "LayoutModel",
            "_view_count": null,
            "_view_module": "@jupyter-widgets/base",
            "_view_module_version": "1.2.0",
            "_view_name": "LayoutView",
            "align_content": null,
            "align_items": null,
            "align_self": null,
            "border": null,
            "bottom": null,
            "display": null,
            "flex": null,
            "flex_flow": null,
            "grid_area": null,
            "grid_auto_columns": null,
            "grid_auto_flow": null,
            "grid_auto_rows": null,
            "grid_column": null,
            "grid_gap": null,
            "grid_row": null,
            "grid_template_areas": null,
            "grid_template_columns": null,
            "grid_template_rows": null,
            "height": null,
            "justify_content": null,
            "justify_items": null,
            "left": null,
            "margin": null,
            "max_height": null,
            "max_width": null,
            "min_height": null,
            "min_width": null,
            "object_fit": null,
            "object_position": null,
            "order": null,
            "overflow": null,
            "overflow_x": null,
            "overflow_y": null,
            "padding": null,
            "right": null,
            "top": null,
            "visibility": null,
            "width": null
          }
        },
        "5750ede29d60416b80fbec2384857e80": {
          "model_module": "@jupyter-widgets/controls",
          "model_name": "DescriptionStyleModel",
          "model_module_version": "1.5.0",
          "state": {
            "_model_module": "@jupyter-widgets/controls",
            "_model_module_version": "1.5.0",
            "_model_name": "DescriptionStyleModel",
            "_view_count": null,
            "_view_module": "@jupyter-widgets/base",
            "_view_module_version": "1.2.0",
            "_view_name": "StyleView",
            "description_width": ""
          }
        },
        "1b64b87769254bba96364e7ae81ed23d": {
          "model_module": "@jupyter-widgets/base",
          "model_name": "LayoutModel",
          "model_module_version": "1.2.0",
          "state": {
            "_model_module": "@jupyter-widgets/base",
            "_model_module_version": "1.2.0",
            "_model_name": "LayoutModel",
            "_view_count": null,
            "_view_module": "@jupyter-widgets/base",
            "_view_module_version": "1.2.0",
            "_view_name": "LayoutView",
            "align_content": null,
            "align_items": null,
            "align_self": null,
            "border": null,
            "bottom": null,
            "display": null,
            "flex": null,
            "flex_flow": null,
            "grid_area": null,
            "grid_auto_columns": null,
            "grid_auto_flow": null,
            "grid_auto_rows": null,
            "grid_column": null,
            "grid_gap": null,
            "grid_row": null,
            "grid_template_areas": null,
            "grid_template_columns": null,
            "grid_template_rows": null,
            "height": null,
            "justify_content": null,
            "justify_items": null,
            "left": null,
            "margin": null,
            "max_height": null,
            "max_width": null,
            "min_height": null,
            "min_width": null,
            "object_fit": null,
            "object_position": null,
            "order": null,
            "overflow": null,
            "overflow_x": null,
            "overflow_y": null,
            "padding": null,
            "right": null,
            "top": null,
            "visibility": null,
            "width": null
          }
        },
        "b93e4c7409d4448393543c51db26e94b": {
          "model_module": "@jupyter-widgets/controls",
          "model_name": "ProgressStyleModel",
          "model_module_version": "1.5.0",
          "state": {
            "_model_module": "@jupyter-widgets/controls",
            "_model_module_version": "1.5.0",
            "_model_name": "ProgressStyleModel",
            "_view_count": null,
            "_view_module": "@jupyter-widgets/base",
            "_view_module_version": "1.2.0",
            "_view_name": "StyleView",
            "bar_color": null,
            "description_width": ""
          }
        },
        "f4c44766c66f431d99107325c9156874": {
          "model_module": "@jupyter-widgets/base",
          "model_name": "LayoutModel",
          "model_module_version": "1.2.0",
          "state": {
            "_model_module": "@jupyter-widgets/base",
            "_model_module_version": "1.2.0",
            "_model_name": "LayoutModel",
            "_view_count": null,
            "_view_module": "@jupyter-widgets/base",
            "_view_module_version": "1.2.0",
            "_view_name": "LayoutView",
            "align_content": null,
            "align_items": null,
            "align_self": null,
            "border": null,
            "bottom": null,
            "display": null,
            "flex": null,
            "flex_flow": null,
            "grid_area": null,
            "grid_auto_columns": null,
            "grid_auto_flow": null,
            "grid_auto_rows": null,
            "grid_column": null,
            "grid_gap": null,
            "grid_row": null,
            "grid_template_areas": null,
            "grid_template_columns": null,
            "grid_template_rows": null,
            "height": null,
            "justify_content": null,
            "justify_items": null,
            "left": null,
            "margin": null,
            "max_height": null,
            "max_width": null,
            "min_height": null,
            "min_width": null,
            "object_fit": null,
            "object_position": null,
            "order": null,
            "overflow": null,
            "overflow_x": null,
            "overflow_y": null,
            "padding": null,
            "right": null,
            "top": null,
            "visibility": null,
            "width": null
          }
        },
        "3fa887a512fe4208a05e18b5288d73e5": {
          "model_module": "@jupyter-widgets/controls",
          "model_name": "DescriptionStyleModel",
          "model_module_version": "1.5.0",
          "state": {
            "_model_module": "@jupyter-widgets/controls",
            "_model_module_version": "1.5.0",
            "_model_name": "DescriptionStyleModel",
            "_view_count": null,
            "_view_module": "@jupyter-widgets/base",
            "_view_module_version": "1.2.0",
            "_view_name": "StyleView",
            "description_width": ""
          }
        },
        "5790ac00154341429e83aeae904cf5f6": {
          "model_module": "@jupyter-widgets/controls",
          "model_name": "HBoxModel",
          "model_module_version": "1.5.0",
          "state": {
            "_dom_classes": [],
            "_model_module": "@jupyter-widgets/controls",
            "_model_module_version": "1.5.0",
            "_model_name": "HBoxModel",
            "_view_count": null,
            "_view_module": "@jupyter-widgets/controls",
            "_view_module_version": "1.5.0",
            "_view_name": "HBoxView",
            "box_style": "",
            "children": [
              "IPY_MODEL_b82881b9d72640d18ad3ede4596ae21a",
              "IPY_MODEL_e5919d46d616427b8c0aaa7568564bb9",
              "IPY_MODEL_872589b95a294f6a93324a06d02bc658"
            ],
            "layout": "IPY_MODEL_4ce7030d94a34df095d710f2adff74a4"
          }
        },
        "b82881b9d72640d18ad3ede4596ae21a": {
          "model_module": "@jupyter-widgets/controls",
          "model_name": "HTMLModel",
          "model_module_version": "1.5.0",
          "state": {
            "_dom_classes": [],
            "_model_module": "@jupyter-widgets/controls",
            "_model_module_version": "1.5.0",
            "_model_name": "HTMLModel",
            "_view_count": null,
            "_view_module": "@jupyter-widgets/controls",
            "_view_module_version": "1.5.0",
            "_view_name": "HTMLView",
            "description": "",
            "description_tooltip": null,
            "layout": "IPY_MODEL_628665e1e5e34cd992b4f4b0d3559846",
            "placeholder": "​",
            "style": "IPY_MODEL_cd3ec67198c04118b51b8e686c398b6c",
            "value": ""
          }
        },
        "e5919d46d616427b8c0aaa7568564bb9": {
          "model_module": "@jupyter-widgets/controls",
          "model_name": "FloatProgressModel",
          "model_module_version": "1.5.0",
          "state": {
            "_dom_classes": [],
            "_model_module": "@jupyter-widgets/controls",
            "_model_module_version": "1.5.0",
            "_model_name": "FloatProgressModel",
            "_view_count": null,
            "_view_module": "@jupyter-widgets/controls",
            "_view_module_version": "1.5.0",
            "_view_name": "ProgressView",
            "bar_style": "success",
            "description": "",
            "description_tooltip": null,
            "layout": "IPY_MODEL_979c4049c36a4c7db0fbbc6751aafdfd",
            "max": 12238,
            "min": 0,
            "orientation": "horizontal",
            "style": "IPY_MODEL_43e410cb5e084f98986e6f6eee29745f",
            "value": 12238
          }
        },
        "872589b95a294f6a93324a06d02bc658": {
          "model_module": "@jupyter-widgets/controls",
          "model_name": "HTMLModel",
          "model_module_version": "1.5.0",
          "state": {
            "_dom_classes": [],
            "_model_module": "@jupyter-widgets/controls",
            "_model_module_version": "1.5.0",
            "_model_name": "HTMLModel",
            "_view_count": null,
            "_view_module": "@jupyter-widgets/controls",
            "_view_module_version": "1.5.0",
            "_view_name": "HTMLView",
            "description": "",
            "description_tooltip": null,
            "layout": "IPY_MODEL_639559c0252544c69b1a7693c97c5e90",
            "placeholder": "​",
            "style": "IPY_MODEL_0b557b79dc304b4588438e1cb8582bfc",
            "value": " 12239/? [05:21&lt;00:00, 42.62it/s]"
          }
        },
        "4ce7030d94a34df095d710f2adff74a4": {
          "model_module": "@jupyter-widgets/base",
          "model_name": "LayoutModel",
          "model_module_version": "1.2.0",
          "state": {
            "_model_module": "@jupyter-widgets/base",
            "_model_module_version": "1.2.0",
            "_model_name": "LayoutModel",
            "_view_count": null,
            "_view_module": "@jupyter-widgets/base",
            "_view_module_version": "1.2.0",
            "_view_name": "LayoutView",
            "align_content": null,
            "align_items": null,
            "align_self": null,
            "border": null,
            "bottom": null,
            "display": null,
            "flex": null,
            "flex_flow": null,
            "grid_area": null,
            "grid_auto_columns": null,
            "grid_auto_flow": null,
            "grid_auto_rows": null,
            "grid_column": null,
            "grid_gap": null,
            "grid_row": null,
            "grid_template_areas": null,
            "grid_template_columns": null,
            "grid_template_rows": null,
            "height": null,
            "justify_content": null,
            "justify_items": null,
            "left": null,
            "margin": null,
            "max_height": null,
            "max_width": null,
            "min_height": null,
            "min_width": null,
            "object_fit": null,
            "object_position": null,
            "order": null,
            "overflow": null,
            "overflow_x": null,
            "overflow_y": null,
            "padding": null,
            "right": null,
            "top": null,
            "visibility": null,
            "width": null
          }
        },
        "628665e1e5e34cd992b4f4b0d3559846": {
          "model_module": "@jupyter-widgets/base",
          "model_name": "LayoutModel",
          "model_module_version": "1.2.0",
          "state": {
            "_model_module": "@jupyter-widgets/base",
            "_model_module_version": "1.2.0",
            "_model_name": "LayoutModel",
            "_view_count": null,
            "_view_module": "@jupyter-widgets/base",
            "_view_module_version": "1.2.0",
            "_view_name": "LayoutView",
            "align_content": null,
            "align_items": null,
            "align_self": null,
            "border": null,
            "bottom": null,
            "display": null,
            "flex": null,
            "flex_flow": null,
            "grid_area": null,
            "grid_auto_columns": null,
            "grid_auto_flow": null,
            "grid_auto_rows": null,
            "grid_column": null,
            "grid_gap": null,
            "grid_row": null,
            "grid_template_areas": null,
            "grid_template_columns": null,
            "grid_template_rows": null,
            "height": null,
            "justify_content": null,
            "justify_items": null,
            "left": null,
            "margin": null,
            "max_height": null,
            "max_width": null,
            "min_height": null,
            "min_width": null,
            "object_fit": null,
            "object_position": null,
            "order": null,
            "overflow": null,
            "overflow_x": null,
            "overflow_y": null,
            "padding": null,
            "right": null,
            "top": null,
            "visibility": null,
            "width": null
          }
        },
        "cd3ec67198c04118b51b8e686c398b6c": {
          "model_module": "@jupyter-widgets/controls",
          "model_name": "DescriptionStyleModel",
          "model_module_version": "1.5.0",
          "state": {
            "_model_module": "@jupyter-widgets/controls",
            "_model_module_version": "1.5.0",
            "_model_name": "DescriptionStyleModel",
            "_view_count": null,
            "_view_module": "@jupyter-widgets/base",
            "_view_module_version": "1.2.0",
            "_view_name": "StyleView",
            "description_width": ""
          }
        },
        "979c4049c36a4c7db0fbbc6751aafdfd": {
          "model_module": "@jupyter-widgets/base",
          "model_name": "LayoutModel",
          "model_module_version": "1.2.0",
          "state": {
            "_model_module": "@jupyter-widgets/base",
            "_model_module_version": "1.2.0",
            "_model_name": "LayoutModel",
            "_view_count": null,
            "_view_module": "@jupyter-widgets/base",
            "_view_module_version": "1.2.0",
            "_view_name": "LayoutView",
            "align_content": null,
            "align_items": null,
            "align_self": null,
            "border": null,
            "bottom": null,
            "display": null,
            "flex": null,
            "flex_flow": null,
            "grid_area": null,
            "grid_auto_columns": null,
            "grid_auto_flow": null,
            "grid_auto_rows": null,
            "grid_column": null,
            "grid_gap": null,
            "grid_row": null,
            "grid_template_areas": null,
            "grid_template_columns": null,
            "grid_template_rows": null,
            "height": null,
            "justify_content": null,
            "justify_items": null,
            "left": null,
            "margin": null,
            "max_height": null,
            "max_width": null,
            "min_height": null,
            "min_width": null,
            "object_fit": null,
            "object_position": null,
            "order": null,
            "overflow": null,
            "overflow_x": null,
            "overflow_y": null,
            "padding": null,
            "right": null,
            "top": null,
            "visibility": null,
            "width": null
          }
        },
        "43e410cb5e084f98986e6f6eee29745f": {
          "model_module": "@jupyter-widgets/controls",
          "model_name": "ProgressStyleModel",
          "model_module_version": "1.5.0",
          "state": {
            "_model_module": "@jupyter-widgets/controls",
            "_model_module_version": "1.5.0",
            "_model_name": "ProgressStyleModel",
            "_view_count": null,
            "_view_module": "@jupyter-widgets/base",
            "_view_module_version": "1.2.0",
            "_view_name": "StyleView",
            "bar_color": null,
            "description_width": ""
          }
        },
        "639559c0252544c69b1a7693c97c5e90": {
          "model_module": "@jupyter-widgets/base",
          "model_name": "LayoutModel",
          "model_module_version": "1.2.0",
          "state": {
            "_model_module": "@jupyter-widgets/base",
            "_model_module_version": "1.2.0",
            "_model_name": "LayoutModel",
            "_view_count": null,
            "_view_module": "@jupyter-widgets/base",
            "_view_module_version": "1.2.0",
            "_view_name": "LayoutView",
            "align_content": null,
            "align_items": null,
            "align_self": null,
            "border": null,
            "bottom": null,
            "display": null,
            "flex": null,
            "flex_flow": null,
            "grid_area": null,
            "grid_auto_columns": null,
            "grid_auto_flow": null,
            "grid_auto_rows": null,
            "grid_column": null,
            "grid_gap": null,
            "grid_row": null,
            "grid_template_areas": null,
            "grid_template_columns": null,
            "grid_template_rows": null,
            "height": null,
            "justify_content": null,
            "justify_items": null,
            "left": null,
            "margin": null,
            "max_height": null,
            "max_width": null,
            "min_height": null,
            "min_width": null,
            "object_fit": null,
            "object_position": null,
            "order": null,
            "overflow": null,
            "overflow_x": null,
            "overflow_y": null,
            "padding": null,
            "right": null,
            "top": null,
            "visibility": null,
            "width": null
          }
        },
        "0b557b79dc304b4588438e1cb8582bfc": {
          "model_module": "@jupyter-widgets/controls",
          "model_name": "DescriptionStyleModel",
          "model_module_version": "1.5.0",
          "state": {
            "_model_module": "@jupyter-widgets/controls",
            "_model_module_version": "1.5.0",
            "_model_name": "DescriptionStyleModel",
            "_view_count": null,
            "_view_module": "@jupyter-widgets/base",
            "_view_module_version": "1.2.0",
            "_view_name": "StyleView",
            "description_width": ""
          }
        }
      }
    }
  },
  "nbformat": 4,
  "nbformat_minor": 0
}