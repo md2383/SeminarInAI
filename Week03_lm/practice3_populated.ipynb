{
  "cells": [
    {
      "cell_type": "markdown",
      "metadata": {
        "cellId": "k1gpzj4guo8e1riwj3om1k",
        "id": "MNtlbQ7X91nw"
      },
      "source": [
        "### N-gram language models or how to write scientific papers (2 pts + Extra 2)\n",
        "\n",
        "We shall train our language model on a corpora of [ArXiv](http://arxiv.org/) articles and see if we can generate a new one!\n",
        "\n",
        "![img](https://media.npr.org/assets/img/2013/12/10/istock-18586699-monkey-computer_brick-16e5064d3378a14e0e4c2da08857efe03c04695e-s800-c85.jpg)\n",
        "\n",
        "_data by neelshah18 from [here](https://www.kaggle.com/neelshah18/arxivdataset/)_\n",
        "\n",
        "_Disclaimer: this has nothing to do with actual science. But it's fun, so who cares?!_"
      ]
    },
    {
      "cell_type": "code",
      "execution_count": null,
      "metadata": {
        "cellId": "u8jdaiy68oib3jvr4k01",
        "id": "oMbdc0BP91nx"
      },
      "outputs": [],
      "source": [
        "import numpy as np\n",
        "import pandas as pd\n",
        "import matplotlib.pyplot as plt\n",
        "%matplotlib inline"
      ]
    },
    {
      "cell_type": "code",
      "execution_count": null,
      "metadata": {
        "cellId": "0c76vnyl3zui9yhtkodgrlf",
        "id": "ihRqh1ry91ny",
        "outputId": "7b842957-1f30-40b6-d284-181713d93eee",
        "colab": {
          "base_uri": "https://localhost:8080/",
          "height": 833
        }
      },
      "outputs": [
        {
          "output_type": "stream",
          "name": "stdout",
          "text": [
            "--2025-01-29 00:18:51--  https://www.dropbox.com/s/99az9n1b57qkd9j/arxivData.json.tar.gz?dl=1\n",
            "Resolving www.dropbox.com (www.dropbox.com)... 162.125.65.18, 2620:100:6021:18::a27d:4112\n",
            "Connecting to www.dropbox.com (www.dropbox.com)|162.125.65.18|:443... connected.\n",
            "HTTP request sent, awaiting response... 302 Found\n",
            "Location: https://www.dropbox.com/scl/fi/0mulrothty5o8i8ud9gz2/arxivData.json.tar.gz?rlkey=n759u5qx2xpxxglmrl390vwvk&dl=1 [following]\n",
            "--2025-01-29 00:18:51--  https://www.dropbox.com/scl/fi/0mulrothty5o8i8ud9gz2/arxivData.json.tar.gz?rlkey=n759u5qx2xpxxglmrl390vwvk&dl=1\n",
            "Reusing existing connection to www.dropbox.com:443.\n",
            "HTTP request sent, awaiting response... 302 Found\n",
            "Location: https://uc617f823307510dc19ebde2f793.dl.dropboxusercontent.com/cd/0/inline/CjHVA5u9kxurUMxXxQ8C7jRQLU6O9rYPNmWHLHHMs6JYAmRSJyye1fe_EgkjDukS3nHbdeROpN20b_UVEQ05zN2Abk4jHf6g3gZL1HqMdsEYHdyaE8MzZYm2dsTRrc9r4Zk/file?dl=1# [following]\n",
            "--2025-01-29 00:18:52--  https://uc617f823307510dc19ebde2f793.dl.dropboxusercontent.com/cd/0/inline/CjHVA5u9kxurUMxXxQ8C7jRQLU6O9rYPNmWHLHHMs6JYAmRSJyye1fe_EgkjDukS3nHbdeROpN20b_UVEQ05zN2Abk4jHf6g3gZL1HqMdsEYHdyaE8MzZYm2dsTRrc9r4Zk/file?dl=1\n",
            "Resolving uc617f823307510dc19ebde2f793.dl.dropboxusercontent.com (uc617f823307510dc19ebde2f793.dl.dropboxusercontent.com)... 162.125.65.15, 2620:100:6021:15::a27d:410f\n",
            "Connecting to uc617f823307510dc19ebde2f793.dl.dropboxusercontent.com (uc617f823307510dc19ebde2f793.dl.dropboxusercontent.com)|162.125.65.15|:443... connected.\n",
            "HTTP request sent, awaiting response... 302 Found\n",
            "Location: /cd/0/inline2/CjEEUTTkPjSaBoWLyNZmHUKJs0au8Mr-3R8r4EIapwI5rDAx80GA0dGvmp8E8uFT3lXDbpudqZWZ22oknLP9CXa_71uSLD3piyU0FJ9cteXoxiBlQh58JlCVWcbzk9E44cFQyhDuwKacemEpWTIL4kNCifEZhP9eaDbdsD9bd5rRymdEOSPGWUkoJcJhAqTlSv4p2o5bNgENPTxzRECEboFbCr50MHbeZ5VqYNMRu1FtWVx-cbriY0MDnIU68KadtV4sOwMNtSf4K-I_TfMMn3Edg4VGybgfLGC9NU261fY-kEEoOJBl0UjhoCxc2fLKxmHhq5jlm-772hfZohvtG1WgsV16ZgFjmR3Xh1sG9RdEMg/file?dl=1 [following]\n",
            "--2025-01-29 00:18:53--  https://uc617f823307510dc19ebde2f793.dl.dropboxusercontent.com/cd/0/inline2/CjEEUTTkPjSaBoWLyNZmHUKJs0au8Mr-3R8r4EIapwI5rDAx80GA0dGvmp8E8uFT3lXDbpudqZWZ22oknLP9CXa_71uSLD3piyU0FJ9cteXoxiBlQh58JlCVWcbzk9E44cFQyhDuwKacemEpWTIL4kNCifEZhP9eaDbdsD9bd5rRymdEOSPGWUkoJcJhAqTlSv4p2o5bNgENPTxzRECEboFbCr50MHbeZ5VqYNMRu1FtWVx-cbriY0MDnIU68KadtV4sOwMNtSf4K-I_TfMMn3Edg4VGybgfLGC9NU261fY-kEEoOJBl0UjhoCxc2fLKxmHhq5jlm-772hfZohvtG1WgsV16ZgFjmR3Xh1sG9RdEMg/file?dl=1\n",
            "Reusing existing connection to uc617f823307510dc19ebde2f793.dl.dropboxusercontent.com:443.\n",
            "HTTP request sent, awaiting response... 200 OK\n",
            "Length: 18933283 (18M) [application/binary]\n",
            "Saving to: ‘arxivData.json.tar.gz’\n",
            "\n",
            "arxivData.json.tar. 100%[===================>]  18.06M  22.7MB/s    in 0.8s    \n",
            "\n",
            "2025-01-29 00:18:54 (22.7 MB/s) - ‘arxivData.json.tar.gz’ saved [18933283/18933283]\n",
            "\n",
            "arxivData.json\n"
          ]
        },
        {
          "output_type": "execute_result",
          "data": {
            "text/plain": [
              "                                                  author  day            id  \\\n",
              "4027   [{'name': 'Subhadip Basu'}, {'name': 'Nibaran ...    5   1203.0876v1   \n",
              "1509   [{'name': 'D. Kiela'}, {'name': 'E. Grave'}, {...    6  1802.02892v1   \n",
              "8219   [{'name': 'Harold Christopher Burger'}, {'name...    7   1211.1552v1   \n",
              "29804  [{'name': 'Xingchao Peng'}, {'name': 'Ben Usma...   18  1710.06924v2   \n",
              "9098   [{'name': 'Peter D. Turney'}, {'name': 'Michae...   23  cs/0508103v1   \n",
              "\n",
              "                                                    link  month  \\\n",
              "4027   [{'rel': 'alternate', 'href': 'http://arxiv.or...      3   \n",
              "1509   [{'rel': 'alternate', 'href': 'http://arxiv.or...      2   \n",
              "8219   [{'rel': 'alternate', 'href': 'http://arxiv.or...     11   \n",
              "29804  [{'rel': 'alternate', 'href': 'http://arxiv.or...     10   \n",
              "9098   [{'rel': 'alternate', 'href': 'http://arxiv.or...      8   \n",
              "\n",
              "                                                 summary  \\\n",
              "4027   The work presented here involves the design of...   \n",
              "1509   While the incipient internet was largely text-...   \n",
              "8219   Image denoising can be described as the proble...   \n",
              "29804  We present the 2017 Visual Domain Adaptation (...   \n",
              "9098   We present an algorithm for learning from unla...   \n",
              "\n",
              "                                                     tag  \\\n",
              "4027   [{'term': 'cs.CV', 'scheme': 'http://arxiv.org...   \n",
              "1509   [{'term': 'cs.CL', 'scheme': 'http://arxiv.org...   \n",
              "8219   [{'term': 'cs.CV', 'scheme': 'http://arxiv.org...   \n",
              "29804  [{'term': 'cs.CV', 'scheme': 'http://arxiv.org...   \n",
              "9098   [{'term': 'cs.LG', 'scheme': 'http://arxiv.org...   \n",
              "\n",
              "                                                   title  year  \n",
              "4027   An MLP based Approach for Recognition of Handw...  2012  \n",
              "1509    Efficient Large-Scale Multi-Modal Classification  2018  \n",
              "8219   Image denoising with multi-layer perceptrons, ...  2012  \n",
              "29804      VisDA: The Visual Domain Adaptation Challenge  2017  \n",
              "9098   Corpus-based Learning of Analogies and Semanti...  2005  "
            ],
            "text/html": [
              "\n",
              "  <div id=\"df-4ac1b665-6ae4-43b4-901c-80f6e8e10cae\" class=\"colab-df-container\">\n",
              "    <div>\n",
              "<style scoped>\n",
              "    .dataframe tbody tr th:only-of-type {\n",
              "        vertical-align: middle;\n",
              "    }\n",
              "\n",
              "    .dataframe tbody tr th {\n",
              "        vertical-align: top;\n",
              "    }\n",
              "\n",
              "    .dataframe thead th {\n",
              "        text-align: right;\n",
              "    }\n",
              "</style>\n",
              "<table border=\"1\" class=\"dataframe\">\n",
              "  <thead>\n",
              "    <tr style=\"text-align: right;\">\n",
              "      <th></th>\n",
              "      <th>author</th>\n",
              "      <th>day</th>\n",
              "      <th>id</th>\n",
              "      <th>link</th>\n",
              "      <th>month</th>\n",
              "      <th>summary</th>\n",
              "      <th>tag</th>\n",
              "      <th>title</th>\n",
              "      <th>year</th>\n",
              "    </tr>\n",
              "  </thead>\n",
              "  <tbody>\n",
              "    <tr>\n",
              "      <th>4027</th>\n",
              "      <td>[{'name': 'Subhadip Basu'}, {'name': 'Nibaran ...</td>\n",
              "      <td>5</td>\n",
              "      <td>1203.0876v1</td>\n",
              "      <td>[{'rel': 'alternate', 'href': 'http://arxiv.or...</td>\n",
              "      <td>3</td>\n",
              "      <td>The work presented here involves the design of...</td>\n",
              "      <td>[{'term': 'cs.CV', 'scheme': 'http://arxiv.org...</td>\n",
              "      <td>An MLP based Approach for Recognition of Handw...</td>\n",
              "      <td>2012</td>\n",
              "    </tr>\n",
              "    <tr>\n",
              "      <th>1509</th>\n",
              "      <td>[{'name': 'D. Kiela'}, {'name': 'E. Grave'}, {...</td>\n",
              "      <td>6</td>\n",
              "      <td>1802.02892v1</td>\n",
              "      <td>[{'rel': 'alternate', 'href': 'http://arxiv.or...</td>\n",
              "      <td>2</td>\n",
              "      <td>While the incipient internet was largely text-...</td>\n",
              "      <td>[{'term': 'cs.CL', 'scheme': 'http://arxiv.org...</td>\n",
              "      <td>Efficient Large-Scale Multi-Modal Classification</td>\n",
              "      <td>2018</td>\n",
              "    </tr>\n",
              "    <tr>\n",
              "      <th>8219</th>\n",
              "      <td>[{'name': 'Harold Christopher Burger'}, {'name...</td>\n",
              "      <td>7</td>\n",
              "      <td>1211.1552v1</td>\n",
              "      <td>[{'rel': 'alternate', 'href': 'http://arxiv.or...</td>\n",
              "      <td>11</td>\n",
              "      <td>Image denoising can be described as the proble...</td>\n",
              "      <td>[{'term': 'cs.CV', 'scheme': 'http://arxiv.org...</td>\n",
              "      <td>Image denoising with multi-layer perceptrons, ...</td>\n",
              "      <td>2012</td>\n",
              "    </tr>\n",
              "    <tr>\n",
              "      <th>29804</th>\n",
              "      <td>[{'name': 'Xingchao Peng'}, {'name': 'Ben Usma...</td>\n",
              "      <td>18</td>\n",
              "      <td>1710.06924v2</td>\n",
              "      <td>[{'rel': 'alternate', 'href': 'http://arxiv.or...</td>\n",
              "      <td>10</td>\n",
              "      <td>We present the 2017 Visual Domain Adaptation (...</td>\n",
              "      <td>[{'term': 'cs.CV', 'scheme': 'http://arxiv.org...</td>\n",
              "      <td>VisDA: The Visual Domain Adaptation Challenge</td>\n",
              "      <td>2017</td>\n",
              "    </tr>\n",
              "    <tr>\n",
              "      <th>9098</th>\n",
              "      <td>[{'name': 'Peter D. Turney'}, {'name': 'Michae...</td>\n",
              "      <td>23</td>\n",
              "      <td>cs/0508103v1</td>\n",
              "      <td>[{'rel': 'alternate', 'href': 'http://arxiv.or...</td>\n",
              "      <td>8</td>\n",
              "      <td>We present an algorithm for learning from unla...</td>\n",
              "      <td>[{'term': 'cs.LG', 'scheme': 'http://arxiv.org...</td>\n",
              "      <td>Corpus-based Learning of Analogies and Semanti...</td>\n",
              "      <td>2005</td>\n",
              "    </tr>\n",
              "  </tbody>\n",
              "</table>\n",
              "</div>\n",
              "    <div class=\"colab-df-buttons\">\n",
              "\n",
              "  <div class=\"colab-df-container\">\n",
              "    <button class=\"colab-df-convert\" onclick=\"convertToInteractive('df-4ac1b665-6ae4-43b4-901c-80f6e8e10cae')\"\n",
              "            title=\"Convert this dataframe to an interactive table.\"\n",
              "            style=\"display:none;\">\n",
              "\n",
              "  <svg xmlns=\"http://www.w3.org/2000/svg\" height=\"24px\" viewBox=\"0 -960 960 960\">\n",
              "    <path d=\"M120-120v-720h720v720H120Zm60-500h600v-160H180v160Zm220 220h160v-160H400v160Zm0 220h160v-160H400v160ZM180-400h160v-160H180v160Zm440 0h160v-160H620v160ZM180-180h160v-160H180v160Zm440 0h160v-160H620v160Z\"/>\n",
              "  </svg>\n",
              "    </button>\n",
              "\n",
              "  <style>\n",
              "    .colab-df-container {\n",
              "      display:flex;\n",
              "      gap: 12px;\n",
              "    }\n",
              "\n",
              "    .colab-df-convert {\n",
              "      background-color: #E8F0FE;\n",
              "      border: none;\n",
              "      border-radius: 50%;\n",
              "      cursor: pointer;\n",
              "      display: none;\n",
              "      fill: #1967D2;\n",
              "      height: 32px;\n",
              "      padding: 0 0 0 0;\n",
              "      width: 32px;\n",
              "    }\n",
              "\n",
              "    .colab-df-convert:hover {\n",
              "      background-color: #E2EBFA;\n",
              "      box-shadow: 0px 1px 2px rgba(60, 64, 67, 0.3), 0px 1px 3px 1px rgba(60, 64, 67, 0.15);\n",
              "      fill: #174EA6;\n",
              "    }\n",
              "\n",
              "    .colab-df-buttons div {\n",
              "      margin-bottom: 4px;\n",
              "    }\n",
              "\n",
              "    [theme=dark] .colab-df-convert {\n",
              "      background-color: #3B4455;\n",
              "      fill: #D2E3FC;\n",
              "    }\n",
              "\n",
              "    [theme=dark] .colab-df-convert:hover {\n",
              "      background-color: #434B5C;\n",
              "      box-shadow: 0px 1px 3px 1px rgba(0, 0, 0, 0.15);\n",
              "      filter: drop-shadow(0px 1px 2px rgba(0, 0, 0, 0.3));\n",
              "      fill: #FFFFFF;\n",
              "    }\n",
              "  </style>\n",
              "\n",
              "    <script>\n",
              "      const buttonEl =\n",
              "        document.querySelector('#df-4ac1b665-6ae4-43b4-901c-80f6e8e10cae button.colab-df-convert');\n",
              "      buttonEl.style.display =\n",
              "        google.colab.kernel.accessAllowed ? 'block' : 'none';\n",
              "\n",
              "      async function convertToInteractive(key) {\n",
              "        const element = document.querySelector('#df-4ac1b665-6ae4-43b4-901c-80f6e8e10cae');\n",
              "        const dataTable =\n",
              "          await google.colab.kernel.invokeFunction('convertToInteractive',\n",
              "                                                    [key], {});\n",
              "        if (!dataTable) return;\n",
              "\n",
              "        const docLinkHtml = 'Like what you see? Visit the ' +\n",
              "          '<a target=\"_blank\" href=https://colab.research.google.com/notebooks/data_table.ipynb>data table notebook</a>'\n",
              "          + ' to learn more about interactive tables.';\n",
              "        element.innerHTML = '';\n",
              "        dataTable['output_type'] = 'display_data';\n",
              "        await google.colab.output.renderOutput(dataTable, element);\n",
              "        const docLink = document.createElement('div');\n",
              "        docLink.innerHTML = docLinkHtml;\n",
              "        element.appendChild(docLink);\n",
              "      }\n",
              "    </script>\n",
              "  </div>\n",
              "\n",
              "\n",
              "<div id=\"df-fa1cd331-1f58-4257-9d32-f85ff63127be\">\n",
              "  <button class=\"colab-df-quickchart\" onclick=\"quickchart('df-fa1cd331-1f58-4257-9d32-f85ff63127be')\"\n",
              "            title=\"Suggest charts\"\n",
              "            style=\"display:none;\">\n",
              "\n",
              "<svg xmlns=\"http://www.w3.org/2000/svg\" height=\"24px\"viewBox=\"0 0 24 24\"\n",
              "     width=\"24px\">\n",
              "    <g>\n",
              "        <path d=\"M19 3H5c-1.1 0-2 .9-2 2v14c0 1.1.9 2 2 2h14c1.1 0 2-.9 2-2V5c0-1.1-.9-2-2-2zM9 17H7v-7h2v7zm4 0h-2V7h2v10zm4 0h-2v-4h2v4z\"/>\n",
              "    </g>\n",
              "</svg>\n",
              "  </button>\n",
              "\n",
              "<style>\n",
              "  .colab-df-quickchart {\n",
              "      --bg-color: #E8F0FE;\n",
              "      --fill-color: #1967D2;\n",
              "      --hover-bg-color: #E2EBFA;\n",
              "      --hover-fill-color: #174EA6;\n",
              "      --disabled-fill-color: #AAA;\n",
              "      --disabled-bg-color: #DDD;\n",
              "  }\n",
              "\n",
              "  [theme=dark] .colab-df-quickchart {\n",
              "      --bg-color: #3B4455;\n",
              "      --fill-color: #D2E3FC;\n",
              "      --hover-bg-color: #434B5C;\n",
              "      --hover-fill-color: #FFFFFF;\n",
              "      --disabled-bg-color: #3B4455;\n",
              "      --disabled-fill-color: #666;\n",
              "  }\n",
              "\n",
              "  .colab-df-quickchart {\n",
              "    background-color: var(--bg-color);\n",
              "    border: none;\n",
              "    border-radius: 50%;\n",
              "    cursor: pointer;\n",
              "    display: none;\n",
              "    fill: var(--fill-color);\n",
              "    height: 32px;\n",
              "    padding: 0;\n",
              "    width: 32px;\n",
              "  }\n",
              "\n",
              "  .colab-df-quickchart:hover {\n",
              "    background-color: var(--hover-bg-color);\n",
              "    box-shadow: 0 1px 2px rgba(60, 64, 67, 0.3), 0 1px 3px 1px rgba(60, 64, 67, 0.15);\n",
              "    fill: var(--button-hover-fill-color);\n",
              "  }\n",
              "\n",
              "  .colab-df-quickchart-complete:disabled,\n",
              "  .colab-df-quickchart-complete:disabled:hover {\n",
              "    background-color: var(--disabled-bg-color);\n",
              "    fill: var(--disabled-fill-color);\n",
              "    box-shadow: none;\n",
              "  }\n",
              "\n",
              "  .colab-df-spinner {\n",
              "    border: 2px solid var(--fill-color);\n",
              "    border-color: transparent;\n",
              "    border-bottom-color: var(--fill-color);\n",
              "    animation:\n",
              "      spin 1s steps(1) infinite;\n",
              "  }\n",
              "\n",
              "  @keyframes spin {\n",
              "    0% {\n",
              "      border-color: transparent;\n",
              "      border-bottom-color: var(--fill-color);\n",
              "      border-left-color: var(--fill-color);\n",
              "    }\n",
              "    20% {\n",
              "      border-color: transparent;\n",
              "      border-left-color: var(--fill-color);\n",
              "      border-top-color: var(--fill-color);\n",
              "    }\n",
              "    30% {\n",
              "      border-color: transparent;\n",
              "      border-left-color: var(--fill-color);\n",
              "      border-top-color: var(--fill-color);\n",
              "      border-right-color: var(--fill-color);\n",
              "    }\n",
              "    40% {\n",
              "      border-color: transparent;\n",
              "      border-right-color: var(--fill-color);\n",
              "      border-top-color: var(--fill-color);\n",
              "    }\n",
              "    60% {\n",
              "      border-color: transparent;\n",
              "      border-right-color: var(--fill-color);\n",
              "    }\n",
              "    80% {\n",
              "      border-color: transparent;\n",
              "      border-right-color: var(--fill-color);\n",
              "      border-bottom-color: var(--fill-color);\n",
              "    }\n",
              "    90% {\n",
              "      border-color: transparent;\n",
              "      border-bottom-color: var(--fill-color);\n",
              "    }\n",
              "  }\n",
              "</style>\n",
              "\n",
              "  <script>\n",
              "    async function quickchart(key) {\n",
              "      const quickchartButtonEl =\n",
              "        document.querySelector('#' + key + ' button');\n",
              "      quickchartButtonEl.disabled = true;  // To prevent multiple clicks.\n",
              "      quickchartButtonEl.classList.add('colab-df-spinner');\n",
              "      try {\n",
              "        const charts = await google.colab.kernel.invokeFunction(\n",
              "            'suggestCharts', [key], {});\n",
              "      } catch (error) {\n",
              "        console.error('Error during call to suggestCharts:', error);\n",
              "      }\n",
              "      quickchartButtonEl.classList.remove('colab-df-spinner');\n",
              "      quickchartButtonEl.classList.add('colab-df-quickchart-complete');\n",
              "    }\n",
              "    (() => {\n",
              "      let quickchartButtonEl =\n",
              "        document.querySelector('#df-fa1cd331-1f58-4257-9d32-f85ff63127be button');\n",
              "      quickchartButtonEl.style.display =\n",
              "        google.colab.kernel.accessAllowed ? 'block' : 'none';\n",
              "    })();\n",
              "  </script>\n",
              "</div>\n",
              "\n",
              "    </div>\n",
              "  </div>\n"
            ],
            "application/vnd.google.colaboratory.intrinsic+json": {
              "type": "dataframe",
              "summary": "{\n  \"name\": \"data\",\n  \"rows\": 5,\n  \"fields\": [\n    {\n      \"column\": \"author\",\n      \"properties\": {\n        \"dtype\": \"string\",\n        \"num_unique_values\": 5,\n        \"samples\": [\n          \"[{'name': 'D. Kiela'}, {'name': 'E. Grave'}, {'name': 'A. Joulin'}, {'name': 'T. Mikolov'}]\",\n          \"[{'name': 'Peter D. Turney'}, {'name': 'Michael L. Littman'}]\",\n          \"[{'name': 'Harold Christopher Burger'}, {'name': 'Christian J. Schuler'}, {'name': 'Stefan Harmeling'}]\"\n        ],\n        \"semantic_type\": \"\",\n        \"description\": \"\"\n      }\n    },\n    {\n      \"column\": \"day\",\n      \"properties\": {\n        \"dtype\": \"number\",\n        \"std\": 8,\n        \"min\": 5,\n        \"max\": 23,\n        \"num_unique_values\": 5,\n        \"samples\": [\n          6,\n          23,\n          7\n        ],\n        \"semantic_type\": \"\",\n        \"description\": \"\"\n      }\n    },\n    {\n      \"column\": \"id\",\n      \"properties\": {\n        \"dtype\": \"string\",\n        \"num_unique_values\": 5,\n        \"samples\": [\n          \"1802.02892v1\",\n          \"cs/0508103v1\",\n          \"1211.1552v1\"\n        ],\n        \"semantic_type\": \"\",\n        \"description\": \"\"\n      }\n    },\n    {\n      \"column\": \"link\",\n      \"properties\": {\n        \"dtype\": \"string\",\n        \"num_unique_values\": 5,\n        \"samples\": [\n          \"[{'rel': 'alternate', 'href': 'http://arxiv.org/abs/1802.02892v1', 'type': 'text/html'}, {'rel': 'related', 'href': 'http://arxiv.org/pdf/1802.02892v1', 'type': 'application/pdf', 'title': 'pdf'}]\",\n          \"[{'rel': 'alternate', 'href': 'http://arxiv.org/abs/cs/0508103v1', 'type': 'text/html'}, {'rel': 'related', 'href': 'http://arxiv.org/pdf/cs/0508103v1', 'type': 'application/pdf', 'title': 'pdf'}]\",\n          \"[{'rel': 'alternate', 'href': 'http://arxiv.org/abs/1211.1552v1', 'type': 'text/html'}, {'rel': 'related', 'href': 'http://arxiv.org/pdf/1211.1552v1', 'type': 'application/pdf', 'title': 'pdf'}]\"\n        ],\n        \"semantic_type\": \"\",\n        \"description\": \"\"\n      }\n    },\n    {\n      \"column\": \"month\",\n      \"properties\": {\n        \"dtype\": \"number\",\n        \"std\": 4,\n        \"min\": 2,\n        \"max\": 11,\n        \"num_unique_values\": 5,\n        \"samples\": [\n          2,\n          8,\n          11\n        ],\n        \"semantic_type\": \"\",\n        \"description\": \"\"\n      }\n    },\n    {\n      \"column\": \"summary\",\n      \"properties\": {\n        \"dtype\": \"string\",\n        \"num_unique_values\": 5,\n        \"samples\": [\n          \"While the incipient internet was largely text-based, the modern digital world\\nis becoming increasingly multi-modal. Here, we examine multi-modal\\nclassification where one modality is discrete, e.g. text, and the other is\\ncontinuous, e.g. visual representations transferred from a convolutional neural\\nnetwork. In particular, we focus on scenarios where we have to be able to\\nclassify large quantities of data quickly. We investigate various methods for\\nperforming multi-modal fusion and analyze their trade-offs in terms of\\nclassification accuracy and computational efficiency. Our findings indicate\\nthat the inclusion of continuous information improves performance over\\ntext-only on a range of multi-modal classification tasks, even with simple\\nfusion methods. In addition, we experiment with discretizing the continuous\\nfeatures in order to speed up and simplify the fusion process even further. Our\\nresults show that fusion with discretized features outperforms text-only\\nclassification, at a fraction of the computational cost of full multi-modal\\nfusion, with the additional benefit of improved interpretability.\",\n          \"We present an algorithm for learning from unlabeled text, based on the Vector\\nSpace Model (VSM) of information retrieval, that can solve verbal analogy\\nquestions of the kind found in the SAT college entrance exam. A verbal analogy\\nhas the form A:B::C:D, meaning \\\"A is to B as C is to D\\\"; for example,\\nmason:stone::carpenter:wood. SAT analogy questions provide a word pair, A:B,\\nand the problem is to select the most analogous word pair, C:D, from a set of\\nfive choices. The VSM algorithm correctly answers 47% of a collection of 374\\ncollege-level analogy questions (random guessing would yield 20% correct; the\\naverage college-bound senior high school student answers about 57% correctly).\\nWe motivate this research by applying it to a difficult problem in natural\\nlanguage processing, determining semantic relations in noun-modifier pairs. The\\nproblem is to classify a noun-modifier pair, such as \\\"laser printer\\\", according\\nto the semantic relation between the noun (printer) and the modifier (laser).\\nWe use a supervised nearest-neighbour algorithm that assigns a class to a given\\nnoun-modifier pair by finding the most analogous noun-modifier pair in the\\ntraining data. With 30 classes of semantic relations, on a collection of 600\\nlabeled noun-modifier pairs, the learning algorithm attains an F value of 26.5%\\n(random guessing: 3.3%). With 5 classes of semantic relations, the F value is\\n43.2% (random: 20%). The performance is state-of-the-art for both verbal\\nanalogies and noun-modifier relations.\",\n          \"Image denoising can be described as the problem of mapping from a noisy image\\nto a noise-free image. In another paper, we show that multi-layer perceptrons\\ncan achieve outstanding image denoising performance for various types of noise\\n(additive white Gaussian noise, mixed Poisson-Gaussian noise, JPEG artifacts,\\nsalt-and-pepper noise and noise resembling stripes). In this work we discuss in\\ndetail which trade-offs have to be considered during the training procedure. We\\nwill show how to achieve good results and which pitfalls to avoid. By analysing\\nthe activation patterns of the hidden units we are able to make observations\\nregarding the functioning principle of multi-layer perceptrons trained for\\nimage denoising.\"\n        ],\n        \"semantic_type\": \"\",\n        \"description\": \"\"\n      }\n    },\n    {\n      \"column\": \"tag\",\n      \"properties\": {\n        \"dtype\": \"string\",\n        \"num_unique_values\": 5,\n        \"samples\": [\n          \"[{'term': 'cs.CL', 'scheme': 'http://arxiv.org/schemas/atom', 'label': None}, {'term': 'cs.AI', 'scheme': 'http://arxiv.org/schemas/atom', 'label': None}, {'term': 'cs.CV', 'scheme': 'http://arxiv.org/schemas/atom', 'label': None}]\",\n          \"[{'term': 'cs.LG', 'scheme': 'http://arxiv.org/schemas/atom', 'label': None}, {'term': 'cs.CL', 'scheme': 'http://arxiv.org/schemas/atom', 'label': None}, {'term': 'cs.IR', 'scheme': 'http://arxiv.org/schemas/atom', 'label': None}, {'term': 'H.3.1; I.2.6; I.2.7', 'scheme': 'http://arxiv.org/schemas/atom', 'label': None}]\",\n          \"[{'term': 'cs.CV', 'scheme': 'http://arxiv.org/schemas/atom', 'label': None}, {'term': 'cs.LG', 'scheme': 'http://arxiv.org/schemas/atom', 'label': None}]\"\n        ],\n        \"semantic_type\": \"\",\n        \"description\": \"\"\n      }\n    },\n    {\n      \"column\": \"title\",\n      \"properties\": {\n        \"dtype\": \"string\",\n        \"num_unique_values\": 5,\n        \"samples\": [\n          \"Efficient Large-Scale Multi-Modal Classification\",\n          \"Corpus-based Learning of Analogies and Semantic Relations\",\n          \"Image denoising with multi-layer perceptrons, part 2: training\\n  trade-offs and analysis of their mechanisms\"\n        ],\n        \"semantic_type\": \"\",\n        \"description\": \"\"\n      }\n    },\n    {\n      \"column\": \"year\",\n      \"properties\": {\n        \"dtype\": \"number\",\n        \"std\": 5,\n        \"min\": 2005,\n        \"max\": 2018,\n        \"num_unique_values\": 4,\n        \"samples\": [\n          2018,\n          2005,\n          2012\n        ],\n        \"semantic_type\": \"\",\n        \"description\": \"\"\n      }\n    }\n  ]\n}"
            }
          },
          "metadata": {},
          "execution_count": 2
        }
      ],
      "source": [
        "# Alternative manual download link: https://yadi.sk/d/_nGyU2IajjR9-w\n",
        "!wget \"https://www.dropbox.com/s/99az9n1b57qkd9j/arxivData.json.tar.gz?dl=1\" -O arxivData.json.tar.gz\n",
        "!tar -xvzf arxivData.json.tar.gz\n",
        "data = pd.read_json(\"./arxivData.json\")\n",
        "data.sample(n=5)"
      ]
    },
    {
      "cell_type": "code",
      "execution_count": null,
      "metadata": {
        "cellId": "lbyqb5rx7j8jpo591r06ak",
        "id": "Ce-I_kK591ny",
        "outputId": "17e735bd-da63-462d-9d82-985ac8412e8d",
        "colab": {
          "base_uri": "https://localhost:8080/"
        }
      },
      "outputs": [
        {
          "output_type": "execute_result",
          "data": {
            "text/plain": [
              "['Differential Contrastive Divergence ; This paper has been retracted.',\n",
              " 'What Does Artificial Life Tell Us About Death? ; Short philosophical essay',\n",
              " 'P=NP ; We claim to resolve the P=?NP problem via a formal argument for P=NP.']"
            ]
          },
          "metadata": {},
          "execution_count": 3
        }
      ],
      "source": [
        "# assemble lines: concatenate title and description\n",
        "lines = data.apply(lambda row: row['title'] + ' ; ' + row['summary'].replace(\"\\n\", ' '), axis=1).tolist()\n",
        "\n",
        "sorted(lines, key=len)[:3]"
      ]
    },
    {
      "cell_type": "markdown",
      "metadata": {
        "cellId": "7u97m5s8ekl5zd5a43a1yc",
        "id": "8XP92wa891ny"
      },
      "source": [
        "### Tokenization\n",
        "\n",
        "You know the dril. The data is messy. Go clean the data. Use WordPunctTokenizer or something.\n"
      ]
    },
    {
      "cell_type": "code",
      "execution_count": null,
      "metadata": {
        "cellId": "u8rvfk719iek97t3rarwr",
        "id": "DbOnQi8Z91ny"
      },
      "outputs": [],
      "source": [
        "# Task: convert lines (in-place) into strings of space-separated tokens. Import & use WordPunctTokenizer\n",
        "from nltk.tokenize import WordPunctTokenizer\n",
        "tokenizer = WordPunctTokenizer()\n",
        "#<YOUR CODE>\n",
        "lines = [' '.join(tokenizer.tokenize(lines[idx])).lower() for idx in range(len(lines))] #<...>"
      ]
    },
    {
      "cell_type": "code",
      "execution_count": null,
      "metadata": {
        "cellId": "w88nddpp2k8edoeyyyjh0l",
        "id": "QtJF9Bee91ny"
      },
      "outputs": [],
      "source": [
        "assert sorted(lines, key=len)[0] == \\\n",
        "    'differential contrastive divergence ; this paper has been retracted .'\n",
        "assert sorted(lines, key=len)[2] == \\\n",
        "    'p = np ; we claim to resolve the p =? np problem via a formal argument for p = np .'"
      ]
    },
    {
      "cell_type": "markdown",
      "metadata": {
        "cellId": "qb6h3hxmr095egzv8rlzul",
        "id": "sj8MtJL691nz"
      },
      "source": [
        "### N-Gram Language Model (1point)\n",
        "\n",
        "A language model is a probabilistic model that estimates text probability: the joint probability of all tokens $w_t$ in text $X$: $P(X) = P(w_1, \\dots, w_T)$.\n",
        "\n",
        "It can do so by following the chain rule:\n",
        "$$P(w_1, \\dots, w_T) = P(w_1)P(w_2 \\mid w_1)\\dots P(w_T \\mid w_1, \\dots, w_{T-1}).$$\n",
        "\n",
        "The problem with such approach is that the final term $P(w_T \\mid w_1, \\dots, w_{T-1})$ depends on $n-1$ previous words. This probability is impractical to estimate for long texts, e.g. $T = 1000$.\n",
        "\n",
        "One popular approximation is to assume that next word only depends on a finite amount of previous words:\n",
        "\n",
        "$$P(w_t \\mid w_1, \\dots, w_{t - 1}) = P(w_t \\mid w_{t - n + 1}, \\dots, w_{t - 1})$$\n",
        "\n",
        "Such model is called __n-gram language model__ where n is a parameter. For example, in 3-gram language model, each word only depends on 2 previous words.\n",
        "\n",
        "$$\n",
        "    P(w_1, \\dots, w_n) = \\prod_t P(w_t \\mid w_{t - n + 1}, \\dots, w_{t - 1}).\n",
        "$$\n",
        "\n",
        "You can also sometimes see such approximation under the name of _n-th order markov assumption_."
      ]
    },
    {
      "cell_type": "markdown",
      "metadata": {
        "cellId": "u68wydbiioqlp5gl96mhd",
        "id": "SYJzB6Bp91nz"
      },
      "source": [
        "The first stage to building such a model is counting all word occurences given N-1 previous words"
      ]
    },
    {
      "cell_type": "code",
      "execution_count": null,
      "metadata": {
        "cellId": "og84gjipnumsakhiiu9ap",
        "id": "qhKbfib491nz"
      },
      "outputs": [],
      "source": [
        "from tqdm import tqdm\n",
        "from collections import defaultdict, Counter\n",
        "\n",
        "# special tokens:\n",
        "# - `UNK` represents absent tokens,\n",
        "# - `EOS` is a special token after the end of sequence\n",
        "\n",
        "UNK, EOS = \"_UNK_\", \"_EOS_\"\n",
        "\n",
        "def count_ngrams(lines, n):\n",
        "    \"\"\"\n",
        "    Count how many times each word occured after (n - 1) previous words\n",
        "    :param lines: an iterable of strings with space-separated tokens\n",
        "    :returns: a dictionary { tuple(prefix_tokens): {next_token_1: count_1, next_token_2: count_2}}\n",
        "\n",
        "    When building counts, please consider the following two edge cases:\n",
        "    - if prefix is shorter than (n - 1) tokens, it should be padded with UNK. For n=3,\n",
        "      empty prefix: \"\" -> (UNK, UNK)\n",
        "      short prefix: \"the\" -> (UNK, the)\n",
        "      long prefix: \"the new approach\" -> (new, approach)\n",
        "    - you should add a special token, EOS, at the end of each sequence\n",
        "      \"... with deep neural networks .\" -> (..., with, deep, neural, networks, ., EOS)\n",
        "      count the probability of this token just like all others.\n",
        "    \"\"\"\n",
        "    counts = defaultdict(Counter)\n",
        "    # counts[(word1, word2)][word3] = how many times word3 occured after (word1, word2)\n",
        "\n",
        "    for line in tqdm(lines, desc=\"Processing lines\"):\n",
        "        # Tokenize the line and add EOS at the end\n",
        "        tokens = line.split() + [EOS]\n",
        "\n",
        "        # Pad the sequence with UNK for shorter prefixes\n",
        "        padded_tokens = [UNK] * (n - 1) + tokens\n",
        "\n",
        "        # Iterate through the tokens and count n-grams\n",
        "        for i in range(len(tokens)):  # Only go up to the last token (which includes EOS)\n",
        "            prefix = tuple(padded_tokens[i:i + n - 1])\n",
        "            next_token = tokens[i]\n",
        "            counts[prefix][next_token] += 1\n",
        "    #<YOUR CODE>\n",
        "\n",
        "    return counts\n"
      ]
    },
    {
      "cell_type": "code",
      "execution_count": null,
      "metadata": {
        "cellId": "xyf2he6lak9mmqarl3nck",
        "id": "0MDYU0m991nz",
        "outputId": "fcfc98bb-e0e2-4c49-ae9c-ecf9a8b97a16",
        "colab": {
          "base_uri": "https://localhost:8080/"
        }
      },
      "outputs": [
        {
          "output_type": "stream",
          "name": "stderr",
          "text": [
            "Processing lines: 100%|██████████| 100/100 [00:00<00:00, 11233.64it/s]\n"
          ]
        }
      ],
      "source": [
        "# let's test it\n",
        "dummy_lines = sorted(lines, key=len)[:100]\n",
        "dummy_counts = count_ngrams(dummy_lines, n=3)\n",
        "assert set(map(len, dummy_counts.keys())) == {2}, \"please only count {n-1}-grams\"\n",
        "assert len(dummy_counts[('_UNK_', '_UNK_')]) == 78\n",
        "assert dummy_counts['_UNK_', 'a']['note'] == 3\n",
        "assert dummy_counts['p', '=']['np'] == 2\n",
        "assert dummy_counts['author', '.']['_EOS_'] == 1"
      ]
    },
    {
      "cell_type": "markdown",
      "metadata": {
        "cellId": "4j620npeqvj0k8ak8xqx8xk",
        "id": "WAro3ZLv91nz"
      },
      "source": [
        "Once we can count N-grams, we can build a probabilistic language model.\n",
        "The simplest way to compute probabilities is in proporiton to counts:\n",
        "\n",
        "$$ P(w_t | prefix) = { Count(prefix, w_t) \\over \\sum_{\\hat w} Count(prefix, \\hat w) } $$"
      ]
    },
    {
      "cell_type": "code",
      "execution_count": null,
      "metadata": {
        "cellId": "c7cm76wmzlaa12bctznzei",
        "id": "USn6CLAa91nz"
      },
      "outputs": [],
      "source": [
        "class NGramLanguageModel:\n",
        "    def __init__(self, lines, n):\n",
        "        \"\"\"\n",
        "        Train a simple count-based language model:\n",
        "        compute probabilities P(w_t | prefix) given ngram counts\n",
        "\n",
        "        :param n: computes probability of next token given (n - 1) previous words\n",
        "        :param lines: an iterable of strings with space-separated tokens\n",
        "        \"\"\"\n",
        "        assert n >= 1\n",
        "        self.n = n\n",
        "\n",
        "        counts = count_ngrams(lines, self.n)\n",
        "\n",
        "        # compute token proabilities given counts\n",
        "        self.probs = defaultdict(Counter)\n",
        "        # probs[(word1, word2)][word3] = P(word3 | word1, word2)\n",
        "\n",
        "        # populate self.probs with actual probabilities\n",
        "        #<YOUR CODE>\n",
        "        for prefix, next_token_counts in counts.items():\n",
        "            total_count = sum(next_token_counts.values())\n",
        "            self.probs[prefix] = {token: count / total_count for token, count in next_token_counts.items()}\n",
        "\n",
        "    def get_possible_next_tokens(self, prefix):\n",
        "        \"\"\"\n",
        "        :param prefix: string with space-separated prefix tokens\n",
        "        :returns: a dictionary {token : it's probability} for all tokens with positive probabilities\n",
        "        \"\"\"\n",
        "        prefix = prefix.split()\n",
        "        prefix = prefix[max(0, len(prefix) - self.n + 1):]\n",
        "        prefix = [ UNK ] * (self.n - 1 - len(prefix)) + prefix\n",
        "        return self.probs[tuple(prefix)]\n",
        "\n",
        "    def get_next_token_prob(self, prefix, next_token):\n",
        "        \"\"\"\n",
        "        :param prefix: string with space-separated prefix tokens\n",
        "        :param next_token: the next token to predict probability for\n",
        "        :returns: P(next_token|prefix) a single number, 0 <= P <= 1\n",
        "        \"\"\"\n",
        "        return self.get_possible_next_tokens(prefix).get(next_token, 0)"
      ]
    },
    {
      "cell_type": "markdown",
      "metadata": {
        "cellId": "0ftnn4nmuzrup6c0vvhb8q",
        "id": "kl26qNB791nz"
      },
      "source": [
        "Let's test it!"
      ]
    },
    {
      "cell_type": "code",
      "execution_count": null,
      "metadata": {
        "cellId": "a7zajcnvhqupvcrmacvkur",
        "id": "BCWNSQqA91nz",
        "outputId": "596440d2-fde6-47e0-debc-180f798f5f8b",
        "colab": {
          "base_uri": "https://localhost:8080/"
        }
      },
      "outputs": [
        {
          "output_type": "stream",
          "name": "stderr",
          "text": [
            "Processing lines: 100%|██████████| 100/100 [00:00<00:00, 17146.20it/s]\n"
          ]
        }
      ],
      "source": [
        "dummy_lm = NGramLanguageModel(dummy_lines, n=3)\n",
        "\n",
        "p_initial = dummy_lm.get_possible_next_tokens('') # '' -> ['_UNK_', '_UNK_']\n",
        "assert np.allclose(p_initial['learning'], 0.02)\n",
        "assert np.allclose(p_initial['a'], 0.13)\n",
        "assert np.allclose(p_initial.get('meow', 0), 0)\n",
        "assert np.allclose(sum(p_initial.values()), 1)\n",
        "\n",
        "p_a = dummy_lm.get_possible_next_tokens('a') # '' -> ['_UNK_', 'a']\n",
        "assert np.allclose(p_a['machine'], 0.15384615)\n",
        "assert np.allclose(p_a['note'], 0.23076923)\n",
        "assert np.allclose(p_a.get('the', 0), 0)\n",
        "assert np.allclose(sum(p_a.values()), 1)\n",
        "\n",
        "assert np.allclose(dummy_lm.get_possible_next_tokens('a note')['on'], 1)\n",
        "assert dummy_lm.get_possible_next_tokens('a machine') == \\\n",
        "    dummy_lm.get_possible_next_tokens(\"there have always been ghosts in a machine\"), \\\n",
        "    \"your 3-gram model should only depend on 2 previous words\""
      ]
    },
    {
      "cell_type": "markdown",
      "metadata": {
        "cellId": "oh8r9a41kuk4r51wra9",
        "id": "xcQB_FPi91nz"
      },
      "source": [
        "Now that you've got a working n-gram language model, let's see what sequences it can generate. But first, let's train it on the whole dataset."
      ]
    },
    {
      "cell_type": "code",
      "execution_count": null,
      "metadata": {
        "cellId": "f17xoejjppmooo2nopw4xo",
        "id": "7SgyuNBz91nz",
        "outputId": "73f4ae24-fc35-4e5e-d155-4441a7312a78",
        "colab": {
          "base_uri": "https://localhost:8080/"
        }
      },
      "outputs": [
        {
          "output_type": "stream",
          "name": "stderr",
          "text": [
            "Processing lines: 100%|██████████| 41000/41000 [00:23<00:00, 1731.04it/s]\n"
          ]
        }
      ],
      "source": [
        "lm = NGramLanguageModel(lines, n=3)"
      ]
    },
    {
      "cell_type": "code",
      "source": [
        "lm.get_possible_next_tokens('the gnn')"
      ],
      "metadata": {
        "id": "Qk70J-kIRP1j",
        "outputId": "7a288c1d-05a1-45e8-ca33-1f27594aeea2",
        "colab": {
          "base_uri": "https://localhost:8080/"
        }
      },
      "execution_count": null,
      "outputs": [
        {
          "output_type": "execute_result",
          "data": {
            "text/plain": [
              "{'is': 1.0}"
            ]
          },
          "metadata": {},
          "execution_count": 11
        }
      ]
    },
    {
      "cell_type": "markdown",
      "metadata": {
        "cellId": "2kd9glwnkr470qc4bt7f1e",
        "id": "qWApeSTy91nz"
      },
      "source": [
        "The process of generating sequences is... well, it's sequential. You maintain a list of tokens and iteratively add next token by sampling with probabilities.\n",
        "\n",
        "$ X = [] $\n",
        "\n",
        "__forever:__\n",
        "* $w_{next} \\sim P(w_{next} | X)$\n",
        "* $X = concat(X, w_{next})$\n",
        "\n",
        "\n",
        "Instead of sampling with probabilities, one can also try always taking most likely token, sampling among top-K most likely tokens or sampling with temperature. In the latter case (temperature), one samples from\n",
        "\n",
        "$$w_{next} \\sim {P(w_{next} | X) ^ {1 / \\tau} \\over \\sum_{\\hat w} P(\\hat w | X) ^ {1 / \\tau}}$$\n",
        "\n",
        "In sofmax, when the probability of class $k$ is proportional to $e^{a_k(x)},$ it takes the following form: $\\dfrac{e^{a_k/\\tau}}{\\sum_s e^{a_s/\\tau}}.$\n",
        "\n",
        "Where $\\tau > 0$ is model temperature. If $\\tau << 1$, more likely tokens will be sampled with even higher probability while less likely tokens will vanish."
      ]
    },
    {
      "cell_type": "code",
      "execution_count": null,
      "metadata": {
        "cellId": "sgbatlm9vzb4z889fho7",
        "id": "Y60I3Ug991nz"
      },
      "outputs": [],
      "source": [
        "def get_next_token(lm, prefix, temperature=1.0):\n",
        "    \"\"\"\n",
        "    return next token after prefix;\n",
        "    :param temperature: samples proportionally to lm probabilities ^ (1 / temperature)\n",
        "        if temperature == 0, always takes most likely token. Break ties arbitrarily.\n",
        "    \"\"\"\n",
        "    #<YOUR CODE>\n",
        "    # Get possible next tokens and their probabilities\n",
        "    possible_next_tokens = lm.get_possible_next_tokens(prefix)\n",
        "\n",
        "    if not possible_next_tokens:\n",
        "        return \"_UNK_\"  # If no next tokens, return UNK\n",
        "\n",
        "    # Extract tokens and probabilities\n",
        "    tokens = list(possible_next_tokens.keys())\n",
        "    probabilities = np.array(list(possible_next_tokens.values()))\n",
        "\n",
        "    if temperature == 0:\n",
        "        # Deterministic case: choose the most frequent token\n",
        "        return tokens[np.argmax(probabilities)]\n",
        "\n",
        "    # Apply temperature scaling\n",
        "    scaled_probs = np.power(probabilities, 1 / temperature)\n",
        "    scaled_probs /= scaled_probs.sum()  # Normalize to make a valid distribution\n",
        "\n",
        "    # Sample the next token based on the adjusted probabilities\n",
        "    return np.random.choice(tokens, p=scaled_probs)"
      ]
    },
    {
      "cell_type": "code",
      "execution_count": null,
      "metadata": {
        "cellId": "98l40131wjtd5xbdm5b2nr",
        "id": "9p-pRBOz91n0",
        "outputId": "8b2669b8-4851-4a4f-94aa-f78b7d63239c",
        "colab": {
          "base_uri": "https://localhost:8080/"
        }
      },
      "outputs": [
        {
          "output_type": "stream",
          "name": "stdout",
          "text": [
            "Looks nice!\n"
          ]
        }
      ],
      "source": [
        "from collections import Counter\n",
        "test_freqs = Counter([get_next_token(lm, 'there have') for _ in range(10000)])\n",
        "assert 250 < test_freqs['not'] < 450\n",
        "assert 8500 < test_freqs['been'] < 9500\n",
        "assert 1 < test_freqs['lately'] < 200\n",
        "\n",
        "test_freqs = Counter([get_next_token(lm, 'deep', temperature=1.0) for _ in range(10000)])\n",
        "assert 1500 < test_freqs['learning'] < 3000\n",
        "test_freqs = Counter([get_next_token(lm, 'deep', temperature=0.5) for _ in range(10000)])\n",
        "assert 8000 < test_freqs['learning'] < 9000\n",
        "test_freqs = Counter([get_next_token(lm, 'deep', temperature=0.0) for _ in range(10000)])\n",
        "assert test_freqs['learning'] == 10000\n",
        "\n",
        "print(\"Looks nice!\")"
      ]
    },
    {
      "cell_type": "markdown",
      "metadata": {
        "cellId": "ux4n8iq523n4s3ftrelhxj",
        "id": "XcBVGTCi91n0"
      },
      "source": [
        "Let's have fun with this model"
      ]
    },
    {
      "cell_type": "code",
      "execution_count": null,
      "metadata": {
        "cellId": "1nnnycga61rijt6nd8zai",
        "id": "6sq66fLt91n0",
        "outputId": "bccd0018-f259-479a-8e43-7c959c8a84fd",
        "colab": {
          "base_uri": "https://localhost:8080/"
        }
      },
      "outputs": [
        {
          "output_type": "stream",
          "name": "stdout",
          "text": [
            "artificial immune systems ( frbs ). on the number of applications reaches from medium to the task of action detection tasks from a dataset and a coreference model obtains ( near ) index , the other agent ' s visual preference and importance mixing ( i . e ., explicit and interpretable generative model to understand how controversy interplays with emotional robots ; unsupervised learning ; many man - machine educational applications . this paper provides an alternative non - linear acquisition of abbreviations ; this paper , we use these quality assessment algorithm , as a specialized set of head\n"
          ]
        }
      ],
      "source": [
        "prefix = 'artificial' # <- your ideas :)\n",
        "\n",
        "for i in range(100):\n",
        "    prefix += ' ' + get_next_token(lm, prefix)\n",
        "    if prefix.endswith(EOS) or len(lm.get_possible_next_tokens(prefix)) == 0:\n",
        "        break\n",
        "\n",
        "print(prefix)"
      ]
    },
    {
      "cell_type": "code",
      "execution_count": null,
      "metadata": {
        "cellId": "pxyjsv3b7r8thdfxlgitl",
        "id": "fKjnTZty91n0",
        "outputId": "d0a84cff-130c-45d6-e7c2-06447fba58a0",
        "colab": {
          "base_uri": "https://localhost:8080/"
        }
      },
      "outputs": [
        {
          "output_type": "stream",
          "name": "stdout",
          "text": [
            "bridging the gap between the two - stage framework for the estimation of the proposed method is based on the one hand , preserve a low - rank matrix recovery and concrete applications , particularly in the case of no - regret learning ; in this paper , we propose a new method to automatically generate the final results . this paper , we design an efficient implementation of the proposed algorithm is applied to the objects . the proposed approach can be used as a result , the analysis of the proposed algorithms are proposed to solve the problems of entailment\n"
          ]
        }
      ],
      "source": [
        "prefix = 'bridging the' # <- more of your ideas\n",
        "\n",
        "for i in range(100):\n",
        "    prefix += ' ' + get_next_token(lm, prefix, temperature=0.5)\n",
        "    if prefix.endswith(EOS) or len(lm.get_possible_next_tokens(prefix)) == 0:\n",
        "        break\n",
        "\n",
        "print(prefix)"
      ]
    },
    {
      "cell_type": "markdown",
      "metadata": {
        "cellId": "2n90bscmzfko0qnctp7ysc",
        "id": "gReWUMMG91n0"
      },
      "source": [
        "__More in the homework:__ nucleus sampling, top-k sampling, beam search(not for the faint of heart)."
      ]
    },
    {
      "cell_type": "markdown",
      "metadata": {
        "cellId": "3gdmey7g8at5n5c5x4gayh",
        "id": "8vBdFWUj91n0"
      },
      "source": [
        "### Evaluating language models: perplexity (2 points)\n",
        "\n",
        "There are three definitions of perplexity:\n",
        "\n",
        "- perplexity of a random variable $X$:\n",
        "$$PP(X) = 2^{H(p)}=2^{-\\sum p_i\\log_2 p_i}\\quad \\text{or}\\quad e^{H(p)}=e^{-\\sum p_i\\ln p_i}$$\n",
        "\n",
        "- perplexity of an ML model that predicts probability $q(x_i)$:\n",
        "$$2^{-\\frac{1}{N}\\sum\\log_2 q(x_i)}\\quad \\text{or}\\quad e^{-\\frac{1}{N}\\sum\\ln q(x_i)} = e^{H(\\tilde{p},q)},$$\n",
        "where $H(\\tilde{p},q)$ is the crossentropy loss and $\\tilde{p}$ is the empirical distribution. Note that $H(\\tilde{p})\\leq H(\\tilde{p},q)$.\n",
        "\n",
        "- (per word) perplexity of a LM:\n",
        "$$2^{-\\log_2 \\mathbb{P}(w_1,\\ldots,w_N)}=2^{-\\frac{1}{N} \\log_2 P(w_1,\\ldots,w_N)}$$\n",
        "or\n",
        "$$e^{-\\ln \\mathbb{P}(w_1,\\ldots,w_N)}=e^{-\\frac{1}{N} \\ln P(w_1,\\ldots,w_N)}$$\n",
        "\n",
        "Perplexity is a measure of how well your model approximates the true probability distribution behind the data. __Smaller perplexity = better model__.\n",
        "\n",
        "To compute perplexity on one sentence, use:\n",
        "$$\n",
        "    {\\mathbb{P}}(w_1 \\dots w_N) = P(w_1, \\dots, w_N)^{-\\frac1N} = \\left( \\prod_t P(w_t \\mid w_{t - n}, \\dots, w_{t - 1})\\right)^{-\\frac1N},\n",
        "$$\n",
        "\n",
        "\n",
        "On the corpora level, perplexity is a product of probabilities of all tokens in all sentences to the power of $1/N$, where $N$ is __total length (in tokens) of all sentences__ in corpora.\n",
        "\n",
        "This number can quickly get too small for float32/float64 precision, so we recommend you to first compute log-perplexity (from log-probabilities) and then take the exponent."
      ]
    },
    {
      "cell_type": "code",
      "execution_count": null,
      "metadata": {
        "cellId": "5hp010xyzzb4vqewo1bhny",
        "id": "QyOvA0Px91n0"
      },
      "outputs": [],
      "source": [
        "def perplexity(lm, lines, min_logprob=np.log(10 ** -50.)):\n",
        "    \"\"\"\n",
        "    :param lines: a list of strings with space-separated tokens\n",
        "    :param min_logprob: if log(P(w | ...)) is smaller than min_logprop, set it equal to min_logrob\n",
        "    :returns: corpora-level perplexity - a single scalar number from the formula above\n",
        "\n",
        "    Note: do not forget to compute P(w_first | empty) and P(eos | full_sequence)\n",
        "\n",
        "    PLEASE USE lm.get_next_token_prob and NOT lm.get_possible_next_tokens\n",
        "    \"\"\"\n",
        "    # <YOUR CODE>\n",
        "\n",
        "\n",
        "    return perplexity"
      ]
    },
    {
      "cell_type": "code",
      "execution_count": null,
      "metadata": {
        "cellId": "8b689bobhkey04x7pabupj",
        "id": "qneWdHu191n0"
      },
      "outputs": [],
      "source": [
        "lm1 = NGramLanguageModel(dummy_lines, n=1)\n",
        "lm3 = NGramLanguageModel(dummy_lines, n=3)\n",
        "lm10 = NGramLanguageModel(dummy_lines, n=10)\n",
        "\n",
        "ppx1 = perplexity(lm1, dummy_lines)\n",
        "ppx3 = perplexity(lm3, dummy_lines)\n",
        "ppx10 = perplexity(lm10, dummy_lines)\n",
        "ppx_missing = perplexity(lm3, ['the jabberwock , with eyes of flame , '])  # thanks, L. Carrol\n",
        "\n",
        "print(\"Perplexities: ppx1=%.3f ppx3=%.3f ppx10=%.3f\" % (ppx1, ppx3, ppx10))\n",
        "\n",
        "assert all(0 < ppx < 500 for ppx in (ppx1, ppx3, ppx10)), \"perplexity should be non-negative and reasonably small\"\n",
        "assert ppx1 > ppx3 > ppx10, \"higher N models should overfit and \"\n",
        "assert np.isfinite(ppx_missing) and ppx_missing > 10 ** 6, \"missing words should have large but finite perplexity. \" \\\n",
        "    \" Make sure you use min_logprob right\"\n",
        "assert np.allclose([ppx1, ppx3, ppx10], (318.2132342216302, 1.5199996213739575, 1.1838145037901249))"
      ]
    },
    {
      "cell_type": "markdown",
      "metadata": {
        "cellId": "ypc4lks4vs1li908fqi8",
        "id": "y5b8D2DT91n0"
      },
      "source": [
        "Now let's measure the actual perplexity: we'll split the data into train and test and score model on test data only."
      ]
    },
    {
      "cell_type": "code",
      "execution_count": null,
      "metadata": {
        "cellId": "tjnehsem2lmijkg2lto4w",
        "id": "pW2CfdvE91n0"
      },
      "outputs": [],
      "source": [
        "from sklearn.model_selection import train_test_split\n",
        "train_lines, test_lines = train_test_split(lines, test_size=0.25, random_state=42)\n",
        "\n",
        "for n in (1, 2, 3):\n",
        "    lm = NGramLanguageModel(n=n, lines=train_lines)\n",
        "    ppx = perplexity(lm, test_lines)\n",
        "    print(\"N = %i, Perplexity = %.5f\" % (n, ppx))\n"
      ]
    },
    {
      "cell_type": "code",
      "execution_count": null,
      "metadata": {
        "cellId": "38nfbfkpzgfxik8kccyt1l",
        "id": "CNtdoavf91n0"
      },
      "outputs": [],
      "source": [
        "# whoops, it just blew up :)"
      ]
    },
    {
      "cell_type": "markdown",
      "metadata": {
        "cellId": "oopn2o57wxm9vbxzycytce",
        "id": "lC1jn5_i91n0"
      },
      "source": [
        "### LM Smoothing\n",
        "\n",
        "The problem with our simple language model is that whenever it encounters an n-gram it has never seen before, it assigns it with the probabilitiy of 0. Every time this happens, perplexity explodes.\n",
        "\n",
        "To battle this issue, there's a technique called __smoothing__. The core idea is to modify counts in a way that prevents probabilities from getting too low. The simplest algorithm here is Additive smoothing (aka [Lapace smoothing](https://en.wikipedia.org/wiki/Additive_smoothing)):\n",
        "\n",
        "$$ P(w_t | prefix) = { Count(prefix, w_t) + \\delta \\over \\sum_{\\hat w} (Count(prefix, \\hat w) + \\delta) } $$\n",
        "\n",
        "If counts for a given prefix are low, additive smoothing will adjust probabilities to a more uniform distribution. Not that the summation in the denominator goes over _all words in the vocabulary_.\n",
        "\n",
        "Here's an example code we've implemented for you:"
      ]
    },
    {
      "cell_type": "code",
      "execution_count": null,
      "metadata": {
        "cellId": "ioh26rlov6g8l2ssj1c8pm",
        "id": "dsE9koTr91n0"
      },
      "outputs": [],
      "source": [
        "class LaplaceLanguageModel(NGramLanguageModel):\n",
        "    \"\"\" this code is an example, no need to change anything \"\"\"\n",
        "    def __init__(self, lines, n, delta=1.0):\n",
        "        self.n = n\n",
        "        counts = count_ngrams(lines, self.n)\n",
        "        self.vocab = set(token for token_counts in counts.values() for token in token_counts)\n",
        "        self.probs = defaultdict(Counter)\n",
        "\n",
        "        for prefix in counts:\n",
        "            token_counts = counts[prefix]\n",
        "            total_count = sum(token_counts.values()) + delta * len(self.vocab)\n",
        "            self.probs[prefix] = {token: (token_counts[token] + delta) / total_count\n",
        "                                          for token in token_counts}\n",
        "    def get_possible_next_tokens(self, prefix):\n",
        "        token_probs = super().get_possible_next_tokens(prefix)\n",
        "        missing_prob_total = 1.0 - sum(token_probs.values())\n",
        "        missing_prob = missing_prob_total / max(1, len(self.vocab) - len(token_probs))\n",
        "        return {token: token_probs.get(token, missing_prob) for token in self.vocab}\n",
        "\n",
        "    def get_next_token_prob(self, prefix, next_token):\n",
        "        token_probs = super().get_possible_next_tokens(prefix)\n",
        "        if next_token in token_probs:\n",
        "            return token_probs[next_token]\n",
        "        else:\n",
        "            missing_prob_total = 1.0 - sum(token_probs.values())\n",
        "            missing_prob_total = max(0, missing_prob_total) # prevent rounding errors\n",
        "            return missing_prob_total / max(1, len(self.vocab) - len(token_probs))\n"
      ]
    },
    {
      "cell_type": "markdown",
      "metadata": {
        "cellId": "90vsann3920ie05r2blbmi",
        "execution_id": "3868303d-0bb9-42c6-a9a8-dcf485c8220c",
        "id": "M6p6WLtI91n0"
      },
      "source": [
        "**Disclaimer**: the implementation above assumes all words unknown within a given context to be equally likely, *as well as the words outside of vocabulary*. Therefore, its' perplexity will be lower than it should when encountering such words. Therefore, comparing it with a model with fewer unknown words will not be fair. When implementing your own smoothing, you may handle this by adding a virtual `UNK` token of non-zero probability. Technically, this will result in a model where probabilities do not add up to $1$, but it is close enough for a practice excercise."
      ]
    },
    {
      "cell_type": "code",
      "execution_count": null,
      "metadata": {
        "cellId": "3xvxkdxcmfqucruyt66mdc",
        "id": "uOje7EiW91n0"
      },
      "outputs": [],
      "source": [
        "#test that it's a valid probability model\n",
        "for n in (1, 2, 3):\n",
        "    dummy_lm = LaplaceLanguageModel(dummy_lines, n=n)\n",
        "    assert np.allclose(sum([dummy_lm.get_next_token_prob('a', w_i) for w_i in dummy_lm.vocab]), 1), \"I told you not to break anything! :)\""
      ]
    },
    {
      "cell_type": "code",
      "execution_count": null,
      "metadata": {
        "cellId": "j6zqa50koitjjri9ipd8ec",
        "id": "sNL7yZMc91n0"
      },
      "outputs": [],
      "source": [
        "for n in (1, 2, 3):\n",
        "    lm = LaplaceLanguageModel(train_lines, n=n, delta=0.1)\n",
        "    ppx = perplexity(lm, test_lines)\n",
        "    print(\"N = %i, Perplexity = %.5f\" % (n, ppx))"
      ]
    },
    {
      "cell_type": "code",
      "execution_count": null,
      "metadata": {
        "cellId": "pjuqt30jcerwbz1ym9zv1",
        "id": "Cltcsxiu91n0"
      },
      "outputs": [],
      "source": [
        "# optional: try to sample tokens from such a model"
      ]
    },
    {
      "cell_type": "markdown",
      "metadata": {
        "cellId": "3b8s1y9uls4fosu3yp28gg",
        "id": "7uQNZvEE91n0"
      },
      "source": [
        "### Kneser-Ney smoothing (Extra 2 points)\n",
        "\n",
        "Additive smoothing is simple, reasonably good but definitely not a State of The Art algorithm.\n",
        "\n",
        "\n",
        "Your final task in this notebook is to implement [Kneser-Ney](https://en.wikipedia.org/wiki/Kneser%E2%80%93Ney_smoothing) smoothing.\n",
        "\n",
        "It can be computed recurrently, for n>1:\n",
        "\n",
        "$$P_{kn}(w_t | prefix_{n-1}) = { \\max(0, Count(prefix_{n-1}, w_t) - \\delta) \\over \\sum_{\\hat w} Count(prefix_{n-1}, \\hat w)} + \\lambda_{prefix_{n-1}} \\cdot P_{kn}(w_t | prefix_{n-2})$$\n",
        "\n",
        "where\n",
        "- $prefix_{n-1}$ is a tuple of {n-1} previous tokens\n",
        "- $lambda_{prefix_{n-1}}$ is a normalization constant chosen so that probabilities add up to 1\n",
        "- Unigram $P_{kn}(w_t | prefix_{n-2})$ corresponds to Kneser Ney smoothing for {N-1}-gram language model.\n",
        "- Unigram $P_{kn}(w_t)$ is a special case: how likely it is to see x_t in an unfamiliar context\n",
        "\n",
        "See lecture slides or wiki for more detailed formulae.\n",
        "\n",
        "__Your task__ is to\n",
        "- implement `KneserNeyLanguageModel` class,\n",
        "- test it on 1-3 gram language models\n",
        "- find optimal (within reason) smoothing delta for 3-gram language model with Kneser-Ney smoothing"
      ]
    },
    {
      "cell_type": "code",
      "execution_count": null,
      "metadata": {
        "cellId": "2ix7kzw02v30oye55322all",
        "id": "kBdf9owv91n1"
      },
      "outputs": [],
      "source": [
        "class KneserNeyLanguageModel(NGramLanguageModel):\n",
        "    \"\"\" A template for Kneser-Ney language model. Default delta may be suboptimal. \"\"\"\n",
        "    def __init__(self, lines, n, delta=1.0):\n",
        "        self.n = n\n",
        "        <YOUR CODE>\n",
        "\n",
        "    def get_possible_next_tokens(self, prefix):\n",
        "        < YOUR CODE >\n",
        "\n",
        "    def get_next_token_prob(self, prefix, next_token):\n",
        "        <YOUR CODE>"
      ]
    },
    {
      "cell_type": "code",
      "execution_count": null,
      "metadata": {
        "cellId": "lsk91832qbmdt7x1q0a8z4",
        "id": "3Ddb0YGM91n1"
      },
      "outputs": [],
      "source": [
        "#test that it's a valid probability model\n",
        "for n in (1, 2, 3):\n",
        "    dummy_lm = KneserNeyLanguageModel(dummy_lines, n=n)\n",
        "    assert np.allclose(sum([dummy_lm.get_next_token_prob('a', w_i) for w_i in dummy_lm.vocab]), 1), \"I told you not to break anything! :)\""
      ]
    },
    {
      "cell_type": "code",
      "execution_count": null,
      "metadata": {
        "cellId": "pp3jtkk9annp1qkou58x1b",
        "id": "q-NWmM6c91n4"
      },
      "outputs": [],
      "source": [
        "for n in (1, 2, 3):\n",
        "    lm = KneserNeyLanguageModel(train_lines, n=n, smoothing=<...>)\n",
        "    ppx = perplexity(lm, test_lines)\n",
        "    print(\"N = %i, Perplexity = %.5f\" % (n, ppx))"
      ]
    }
  ],
  "metadata": {
    "kernelspec": {
      "display_name": "Python 3 (ipykernel)",
      "language": "python",
      "name": "python3"
    },
    "language_info": {
      "codemirror_mode": {
        "name": "ipython",
        "version": 3
      },
      "file_extension": ".py",
      "mimetype": "text/x-python",
      "name": "python",
      "nbconvert_exporter": "python",
      "pygments_lexer": "ipython3",
      "version": "3.11.0"
    },
    "notebookId": "53997d2d-afb8-4477-8874-b6d46299f06c",
    "notebookPath": "seminar.ipynb",
    "colab": {
      "provenance": []
    }
  },
  "nbformat": 4,
  "nbformat_minor": 0
}